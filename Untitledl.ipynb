{
 "cells": [
  {
   "cell_type": "code",
   "execution_count": 2,
   "metadata": {},
   "outputs": [
    {
     "name": "stdout",
     "output_type": "stream",
     "text": [
      "Reinitialized existing Git repository in /output/.git/\n",
      "fatal: remote origin already exists.\n",
      "Fetching origin\n",
      "Branch master set up to track remote branch master from origin.\n",
      "Already on 'master'\n"
     ]
    }
   ],
   "source": [
    "!git init\n",
    "!git remote add origin https://RWMostert:N0ne\\ of\\ that.@github.com/RWMostert/Merton-Jump-Diffusion-Calibration-Tests.git\n",
    "!git fetch --all --prune\n",
    "!git checkout master\n",
    "!git config --global user.email \"rwmmostert@gmail.com\"\n",
    "!git config --global user.name \"RWMostert\"\n",
    "!git config --global user.password \"N0ne of that.\""
   ]
  },
  {
   "cell_type": "code",
   "execution_count": null,
   "metadata": {
    "collapsed": true
   },
   "outputs": [],
   "source": []
  }
 ],
 "metadata": {
  "kernelspec": {
   "display_name": "Python 3",
   "language": "python",
   "name": "python3"
  },
  "language_info": {
   "codemirror_mode": {
    "name": "ipython",
    "version": 3
   },
   "file_extension": ".py",
   "mimetype": "text/x-python",
   "name": "python",
   "nbconvert_exporter": "python",
   "pygments_lexer": "ipython3",
   "version": "3.5.3"
  }
 },
 "nbformat": 4,
 "nbformat_minor": 2
}
