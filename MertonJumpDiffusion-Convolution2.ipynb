{
 "cells": [
  {
   "cell_type": "code",
   "execution_count": 1,
   "metadata": {
    "nbpresent": {
     "id": "8c3434cb-5b10-4db7-82d7-07da2b331554"
    }
   },
   "outputs": [
    {
     "name": "stdout",
     "output_type": "stream",
     "text": [
      "Collecting statsmodels\n",
      "  Downloading statsmodels-0.8.0-cp35-cp35m-manylinux1_x86_64.whl (6.2MB)\n",
      "\u001b[K    100% |████████████████████████████████| 6.2MB 252kB/s eta 0:00:01\n",
      "\u001b[?25hCollecting patsy (from statsmodels)\n",
      "  Downloading patsy-0.4.1-py2.py3-none-any.whl (233kB)\n",
      "\u001b[K    100% |████████████████████████████████| 235kB 5.5MB/s eta 0:00:01\n",
      "\u001b[?25hRequirement already satisfied: scipy in /usr/local/lib/python3.5/site-packages (from statsmodels)\n",
      "Requirement already satisfied: pandas in /usr/local/lib/python3.5/site-packages (from statsmodels)\n",
      "Requirement already satisfied: six in /usr/local/lib/python3.5/site-packages (from patsy->statsmodels)\n",
      "Requirement already satisfied: numpy in /usr/local/lib/python3.5/site-packages (from patsy->statsmodels)\n",
      "Requirement already satisfied: pytz>=2011k in /usr/local/lib/python3.5/site-packages (from pandas->statsmodels)\n",
      "Requirement already satisfied: python-dateutil>=2 in /usr/local/lib/python3.5/site-packages (from pandas->statsmodels)\n",
      "Installing collected packages: patsy, statsmodels\n",
      "Successfully installed patsy-0.4.1 statsmodels-0.8.0\n"
     ]
    }
   ],
   "source": [
    "# Install Keras\n",
    "!pip install statsmodels"
   ]
  },
  {
   "cell_type": "code",
   "execution_count": 2,
   "metadata": {
    "nbpresent": {
     "id": "5defece0-7b7f-465c-a5dd-fa5a57b726cc"
    }
   },
   "outputs": [
    {
     "name": "stderr",
     "output_type": "stream",
     "text": [
      "/usr/local/lib/python3.5/site-packages/statsmodels/compat/pandas.py:56: FutureWarning: The pandas.core.datetools module is deprecated and will be removed in a future version. Please use the pandas.tseries module instead.\n",
      "  from pandas.core import datetools\n"
     ]
    }
   ],
   "source": [
    "import tensorflow as tf\n",
    "import pandas as pd\n",
    "import math\n",
    "import numpy\n",
    "import random\n",
    "import decimal\n",
    "import scipy.linalg\n",
    "import statsmodels.api as sm\n",
    "from scipy import stats\n",
    "import numpy as np\n",
    "import numpy.random as nrand\n",
    "import matplotlib.pyplot as plt\n",
    "from sklearn import svm\n",
    "import itertools\n",
    "import sklearn\n",
    "from sklearn.metrics import r2_score\n",
    "%matplotlib inline"
   ]
  },
  {
   "cell_type": "code",
   "execution_count": 3,
   "metadata": {
    "nbpresent": {
     "id": "8815fd14-3654-4045-84ce-cd72de4620c9"
    }
   },
   "outputs": [
    {
     "name": "stderr",
     "output_type": "stream",
     "text": [
      "Using TensorFlow backend.\n"
     ]
    }
   ],
   "source": [
    "import keras\n",
    "from keras.models import Sequential, model_from_json, load_model, Model\n",
    "from keras.layers import Dense, Dropout, Activation, Flatten, LSTM, BatchNormalization\n",
    "from keras.layers import Convolution2D, MaxPooling2D, Convolution1D, MaxPooling1D, Conv2D, Input\n",
    "from keras.optimizers import SGD, Adam, RMSprop\n",
    "from keras.utils import np_utils\n",
    "from keras import backend as K\n",
    "from sklearn.preprocessing import MinMaxScaler\n",
    "from sklearn.metrics import mean_squared_error\n",
    "from keras.layers.core import Reshape"
   ]
  },
  {
   "cell_type": "code",
   "execution_count": 4,
   "metadata": {
    "collapsed": true,
    "nbpresent": {
     "id": "60177b25-bb89-4d37-9de6-f33bcbef2b92"
    }
   },
   "outputs": [],
   "source": [
    "class ModelParameters:\n",
    "    \"\"\"\n",
    "    Encapsulates model parameters\n",
    "    \"\"\"\n",
    "    \n",
    "    def __init__(self,\n",
    "                 all_time, all_delta, all_sigma, gbm_mu,\n",
    "                 jumps_lamda=0.0, jumps_sigma=0.0, jumps_mu=0.0):\n",
    "        \n",
    "        # This is the amount of time to simulate for\n",
    "        self.all_time = all_time\n",
    "        \n",
    "        # This is the delta, the rate of time e.g. 1/252 = daily, 1/12 = monthly\n",
    "        self.all_delta = all_delta\n",
    "        \n",
    "        # This is the volatility of the stochastic processes\n",
    "        # 0.001,1\n",
    "        self.all_sigma = all_sigma\n",
    "        \n",
    "        # This is the annual drift factor for geometric brownian motion\n",
    "        # -1,1\n",
    "        self.gbm_mu = gbm_mu\n",
    "        \n",
    "        # This is the probability of a jump happening at each point in time\n",
    "        #  0.0003,0.025\n",
    "        self.lamda = jumps_lamda\n",
    "        \n",
    "        # This is the volatility of the jump size\n",
    "        #   0.001, 1\n",
    "        self.jumps_sigma = jumps_sigma\n",
    "        \n",
    "        # This is the average jump size\n",
    "        # -0.1,0.1\n",
    "        self.jumps_mu = jumps_mu\n",
    "        \n",
    "\n",
    "def random_model_params():\n",
    "    \n",
    "    return ModelParameters(\n",
    "        # Fixed Parameters\n",
    "        all_time=2000,\n",
    "        all_delta=0.00396825396,\n",
    "        \n",
    "        # Random Parameters\n",
    "        \n",
    "        ### TODO: REDUCED SIGMA #######################\n",
    "        all_sigma = nrand.uniform(0.001,0.2),\n",
    "        ##############################################\n",
    "        \n",
    "        gbm_mu = nrand.uniform(-1,1),\n",
    "        jumps_lamda=nrand.uniform(0.0001,0.025),\n",
    "        jumps_sigma=nrand.uniform(0.001, 0.2),\n",
    "        jumps_mu=nrand.uniform(-0.5,0.5),\n",
    "    )"
   ]
  },
  {
   "cell_type": "code",
   "execution_count": 5,
   "metadata": {
    "collapsed": true,
    "nbpresent": {
     "id": "b3987838-5816-4f81-acbb-1be3612ce115"
    }
   },
   "outputs": [],
   "source": [
    "def plot_stochastic_processes(processes, title):\n",
    "    \"\"\"\n",
    "    This method plots a list of stochastic processes with a specified title\n",
    "    :return: plots the graph of the two\n",
    "    \"\"\"\n",
    "    plt.style.use(['bmh'])\n",
    "    fig, ax = plt.subplots(1)\n",
    "    fig.suptitle(title, fontsize=16)\n",
    "    ax.set_xlabel('Time, t')\n",
    "    ax.set_ylabel('Simulated Asset Price')\n",
    "    x_axis = numpy.arange(0, len(processes[0]), 1)\n",
    "    for i in range(len(processes)):\n",
    "        plt.plot(x_axis, processes[i])\n",
    "    plt.show()"
   ]
  },
  {
   "cell_type": "code",
   "execution_count": 6,
   "metadata": {
    "collapsed": true,
    "nbpresent": {
     "id": "729ba020-4b53-457f-adb1-a05d66955ebb"
    }
   },
   "outputs": [],
   "source": [
    "def brownian_motion_log_returns(param):\n",
    "    \"\"\"\n",
    "    This method returns a Wiener process. The Wiener process is also called Brownian motion. For more information\n",
    "    about the Wiener process check out the Wikipedia page: http://en.wikipedia.org/wiki/Wiener_process\n",
    "    :param param: the model parameters object\n",
    "    :return: brownian motion log returns\n",
    "    \"\"\"\n",
    "    sqrt_delta_sigma = math.sqrt(param.all_delta) * param.all_sigma\n",
    "    return nrand.normal(loc=0, scale=sqrt_delta_sigma, size=param.all_time)\n",
    "\n",
    "def geometric_brownian_motion_log_returns(param):\n",
    "    \"\"\"\n",
    "    This method constructs a sequence of log returns which, when exponentiated, produce a random Geometric Brownian\n",
    "    Motion (GBM). GBM is the stochastic process underlying the Black Scholes options pricing formula.\n",
    "    :param param: model parameters object\n",
    "    :return: returns the log returns of a geometric brownian motion process\n",
    "    \"\"\"\n",
    "    assert isinstance(param, ModelParameters)\n",
    "    wiener_process = numpy.array(brownian_motion_log_returns(param))\n",
    "    sigma_pow_mu_delta = (param.gbm_mu - 0.5 * math.pow(param.all_sigma, 2.0)) * param.all_delta\n",
    "    return wiener_process + sigma_pow_mu_delta\n",
    "\n",
    "def jump_diffusion_process(param):\n",
    "    \"\"\"\n",
    "    This method produces a sequence of Jump Sizes which represent a jump diffusion process. These jumps are combined\n",
    "    with a geometric brownian motion (log returns) to produce the Merton model.\n",
    "    :param param: the model parameters object\n",
    "    :return: jump sizes for each point in time (mostly zeroes if jumps are infrequent)\n",
    "    \"\"\"\n",
    "    assert isinstance(param, ModelParameters)\n",
    "    s_n = time = 0\n",
    "    small_lamda = -(1.0 / param.lamda)\n",
    "    jump_sizes = np.zeros(param.all_time)\n",
    "    while s_n < param.all_time:\n",
    "        s_n += small_lamda * math.log(random.uniform(0, 1))\n",
    "        for j in range(0, param.all_time):\n",
    "            if time * param.all_delta <= s_n * param.all_delta <= (j + 1) * param.all_delta:\n",
    "                jump_sizes[j] += random.normalvariate(param.jumps_mu, param.jumps_sigma)\n",
    "                break\n",
    "        time += 1\n",
    "    return jump_sizes\n",
    "\n",
    "def geometric_brownian_motion_jump_diffusion_log_returns(param):\n",
    "    \"\"\"\n",
    "    This method constructs combines a geometric brownian motion process (log returns) with a jump diffusion process\n",
    "    (log returns) to produce a sequence of gbm jump returns.\n",
    "    :param param: model parameters object\n",
    "    :return: returns a GBM process with jumps in it\n",
    "    \"\"\"\n",
    "    assert isinstance(param, ModelParameters)\n",
    "    jump_diffusion = jump_diffusion_process(param)\n",
    "    geometric_brownian_motion = geometric_brownian_motion_log_returns(param)\n",
    "    return numpy.add(jump_diffusion, geometric_brownian_motion)"
   ]
  },
  {
   "cell_type": "markdown",
   "metadata": {},
   "source": [
    "# Metrics"
   ]
  },
  {
   "cell_type": "markdown",
   "metadata": {},
   "source": [
    "### R Squared"
   ]
  },
  {
   "cell_type": "code",
   "execution_count": 7,
   "metadata": {
    "collapsed": true
   },
   "outputs": [],
   "source": [
    "def r2(y_true, y_pred):\n",
    "    SSE = K.sum(K.square(y_true-y_pred))\n",
    "    SST = K.sum(K.square(y_true-K.mean(y_true)))\n",
    "    return 1-SSE/SST"
   ]
  },
  {
   "cell_type": "markdown",
   "metadata": {},
   "source": [
    "### Average absolute percentage error"
   ]
  },
  {
   "cell_type": "code",
   "execution_count": 8,
   "metadata": {
    "collapsed": true
   },
   "outputs": [],
   "source": [
    "def aape(y_true, y_pred):\n",
    "    MSE = K.mean(K.abs((y_true-y_pred)/y_true))\n",
    "    return 100*MSE"
   ]
  },
  {
   "cell_type": "markdown",
   "metadata": {
    "nbpresent": {
     "id": "2719ae90-dedf-4007-9bd7-016f9e69f102"
    }
   },
   "source": [
    "# Feedforward (using Moments & ACF)"
   ]
  },
  {
   "cell_type": "code",
   "execution_count": 41,
   "metadata": {
    "collapsed": true,
    "nbpresent": {
     "id": "48049aa6-0db6-4ece-8201-9d92967b221e"
    }
   },
   "outputs": [],
   "source": [
    "feedforward = Sequential()\n",
    "feedforward.add(Dense(2014, input_dim = 60, activation='elu'))\n",
    "feedforward.add(Dense(1024, activation='elu'))\n",
    "feedforward.add(Dense(512, activation='elu'))\n",
    "feedforward.add(Dense(256, activation='elu'))\n",
    "feedforward.add(Dense(128, activation='elu'))\n",
    "feedforward.add(Dense(64, activation='elu'))\n",
    "feedforward.add(Dense(32, activation='elu'))\n",
    "feedforward.add(Dense(16, activation='elu'))\n",
    "feedforward.add(Dense(5))"
   ]
  },
  {
   "cell_type": "code",
   "execution_count": 42,
   "metadata": {
    "collapsed": true,
    "nbpresent": {
     "id": "5d841c52-db93-4aff-8e32-20190ba48949"
    }
   },
   "outputs": [],
   "source": [
    "# Compile model\n",
    "feedforward.compile(loss='mse', optimizer='adam', metrics=[r2])"
   ]
  },
  {
   "cell_type": "markdown",
   "metadata": {
    "nbpresent": {
     "id": "73777b08-64ab-42e8-a076-713766ce1df7"
    }
   },
   "source": [
    "I didn't normalise the training data. It took more than 60 epochs to train this network originally."
   ]
  },
  {
   "cell_type": "code",
   "execution_count": 43,
   "metadata": {
    "nbpresent": {
     "id": "7c311ada-91dd-4287-a60c-d8474a3095da"
    }
   },
   "outputs": [
    {
     "ename": "OSError",
     "evalue": "Unable to open file (Unable to open file: name = 'feedforward_running.h5', errno = 2, error message = 'no such file or directory', flags = 0, o_flags = 0)",
     "output_type": "error",
     "traceback": [
      "\u001b[0;31m---------------------------------------------------------------------------\u001b[0m",
      "\u001b[0;31mOSError\u001b[0m                                   Traceback (most recent call last)",
      "\u001b[0;32m<ipython-input-43-a7d98d09bfa6>\u001b[0m in \u001b[0;36m<module>\u001b[0;34m()\u001b[0m\n\u001b[1;32m      1\u001b[0m \u001b[0;31m#feedforward.save(\"feedforward.h5\")\u001b[0m\u001b[0;34m\u001b[0m\u001b[0;34m\u001b[0m\u001b[0m\n\u001b[0;32m----> 2\u001b[0;31m \u001b[0mfeedforward\u001b[0m \u001b[0;34m=\u001b[0m \u001b[0mload_model\u001b[0m\u001b[0;34m(\u001b[0m\u001b[0;34m\"feedforward_running.h5\"\u001b[0m\u001b[0;34m)\u001b[0m\u001b[0;34m\u001b[0m\u001b[0m\n\u001b[0m",
      "\u001b[0;32m/usr/local/lib/python3.5/site-packages/keras/models.py\u001b[0m in \u001b[0;36mload_model\u001b[0;34m(filepath, custom_objects)\u001b[0m\n\u001b[1;32m    231\u001b[0m         \u001b[0;32mreturn\u001b[0m \u001b[0mobj\u001b[0m\u001b[0;34m\u001b[0m\u001b[0m\n\u001b[1;32m    232\u001b[0m \u001b[0;34m\u001b[0m\u001b[0m\n\u001b[0;32m--> 233\u001b[0;31m     \u001b[0mf\u001b[0m \u001b[0;34m=\u001b[0m \u001b[0mh5py\u001b[0m\u001b[0;34m.\u001b[0m\u001b[0mFile\u001b[0m\u001b[0;34m(\u001b[0m\u001b[0mfilepath\u001b[0m\u001b[0;34m,\u001b[0m \u001b[0mmode\u001b[0m\u001b[0;34m=\u001b[0m\u001b[0;34m'r'\u001b[0m\u001b[0;34m)\u001b[0m\u001b[0;34m\u001b[0m\u001b[0m\n\u001b[0m\u001b[1;32m    234\u001b[0m \u001b[0;34m\u001b[0m\u001b[0m\n\u001b[1;32m    235\u001b[0m     \u001b[0;31m# instantiate model\u001b[0m\u001b[0;34m\u001b[0m\u001b[0;34m\u001b[0m\u001b[0m\n",
      "\u001b[0;32m/usr/local/lib/python3.5/site-packages/h5py/_hl/files.py\u001b[0m in \u001b[0;36m__init__\u001b[0;34m(self, name, mode, driver, libver, userblock_size, swmr, **kwds)\u001b[0m\n\u001b[1;32m    269\u001b[0m \u001b[0;34m\u001b[0m\u001b[0m\n\u001b[1;32m    270\u001b[0m                 \u001b[0mfapl\u001b[0m \u001b[0;34m=\u001b[0m \u001b[0mmake_fapl\u001b[0m\u001b[0;34m(\u001b[0m\u001b[0mdriver\u001b[0m\u001b[0;34m,\u001b[0m \u001b[0mlibver\u001b[0m\u001b[0;34m,\u001b[0m \u001b[0;34m**\u001b[0m\u001b[0mkwds\u001b[0m\u001b[0;34m)\u001b[0m\u001b[0;34m\u001b[0m\u001b[0m\n\u001b[0;32m--> 271\u001b[0;31m                 \u001b[0mfid\u001b[0m \u001b[0;34m=\u001b[0m \u001b[0mmake_fid\u001b[0m\u001b[0;34m(\u001b[0m\u001b[0mname\u001b[0m\u001b[0;34m,\u001b[0m \u001b[0mmode\u001b[0m\u001b[0;34m,\u001b[0m \u001b[0muserblock_size\u001b[0m\u001b[0;34m,\u001b[0m \u001b[0mfapl\u001b[0m\u001b[0;34m,\u001b[0m \u001b[0mswmr\u001b[0m\u001b[0;34m=\u001b[0m\u001b[0mswmr\u001b[0m\u001b[0;34m)\u001b[0m\u001b[0;34m\u001b[0m\u001b[0m\n\u001b[0m\u001b[1;32m    272\u001b[0m \u001b[0;34m\u001b[0m\u001b[0m\n\u001b[1;32m    273\u001b[0m                 \u001b[0;32mif\u001b[0m \u001b[0mswmr_support\u001b[0m\u001b[0;34m:\u001b[0m\u001b[0;34m\u001b[0m\u001b[0m\n",
      "\u001b[0;32m/usr/local/lib/python3.5/site-packages/h5py/_hl/files.py\u001b[0m in \u001b[0;36mmake_fid\u001b[0;34m(name, mode, userblock_size, fapl, fcpl, swmr)\u001b[0m\n\u001b[1;32m     99\u001b[0m         \u001b[0;32mif\u001b[0m \u001b[0mswmr\u001b[0m \u001b[0;32mand\u001b[0m \u001b[0mswmr_support\u001b[0m\u001b[0;34m:\u001b[0m\u001b[0;34m\u001b[0m\u001b[0m\n\u001b[1;32m    100\u001b[0m             \u001b[0mflags\u001b[0m \u001b[0;34m|=\u001b[0m \u001b[0mh5f\u001b[0m\u001b[0;34m.\u001b[0m\u001b[0mACC_SWMR_READ\u001b[0m\u001b[0;34m\u001b[0m\u001b[0m\n\u001b[0;32m--> 101\u001b[0;31m         \u001b[0mfid\u001b[0m \u001b[0;34m=\u001b[0m \u001b[0mh5f\u001b[0m\u001b[0;34m.\u001b[0m\u001b[0mopen\u001b[0m\u001b[0;34m(\u001b[0m\u001b[0mname\u001b[0m\u001b[0;34m,\u001b[0m \u001b[0mflags\u001b[0m\u001b[0;34m,\u001b[0m \u001b[0mfapl\u001b[0m\u001b[0;34m=\u001b[0m\u001b[0mfapl\u001b[0m\u001b[0;34m)\u001b[0m\u001b[0;34m\u001b[0m\u001b[0m\n\u001b[0m\u001b[1;32m    102\u001b[0m     \u001b[0;32melif\u001b[0m \u001b[0mmode\u001b[0m \u001b[0;34m==\u001b[0m \u001b[0;34m'r+'\u001b[0m\u001b[0;34m:\u001b[0m\u001b[0;34m\u001b[0m\u001b[0m\n\u001b[1;32m    103\u001b[0m         \u001b[0mfid\u001b[0m \u001b[0;34m=\u001b[0m \u001b[0mh5f\u001b[0m\u001b[0;34m.\u001b[0m\u001b[0mopen\u001b[0m\u001b[0;34m(\u001b[0m\u001b[0mname\u001b[0m\u001b[0;34m,\u001b[0m \u001b[0mh5f\u001b[0m\u001b[0;34m.\u001b[0m\u001b[0mACC_RDWR\u001b[0m\u001b[0;34m,\u001b[0m \u001b[0mfapl\u001b[0m\u001b[0;34m=\u001b[0m\u001b[0mfapl\u001b[0m\u001b[0;34m)\u001b[0m\u001b[0;34m\u001b[0m\u001b[0m\n",
      "\u001b[0;32mh5py/_objects.pyx\u001b[0m in \u001b[0;36mh5py._objects.with_phil.wrapper (/tmp/pip-huypgcah-build/h5py/_objects.c:2840)\u001b[0;34m()\u001b[0m\n",
      "\u001b[0;32mh5py/_objects.pyx\u001b[0m in \u001b[0;36mh5py._objects.with_phil.wrapper (/tmp/pip-huypgcah-build/h5py/_objects.c:2798)\u001b[0;34m()\u001b[0m\n",
      "\u001b[0;32mh5py/h5f.pyx\u001b[0m in \u001b[0;36mh5py.h5f.open (/tmp/pip-huypgcah-build/h5py/h5f.c:2117)\u001b[0;34m()\u001b[0m\n",
      "\u001b[0;31mOSError\u001b[0m: Unable to open file (Unable to open file: name = 'feedforward_running.h5', errno = 2, error message = 'no such file or directory', flags = 0, o_flags = 0)"
     ]
    }
   ],
   "source": [
    "#feedforward.save(\"feedforward.h5\")\n",
    "feedforward = load_model(\"feedforward_running.h5\")"
   ]
  },
  {
   "cell_type": "code",
   "execution_count": 44,
   "metadata": {
    "collapsed": true
   },
   "outputs": [],
   "source": [
    "def batch_generator(all_time = 2000, paramset_size = 32, paths_p_paramset = 5):\n",
    "    while True:\n",
    "        RETURNS_ = []\n",
    "        PARAMS_ = []\n",
    "        \n",
    "        for i in range(paramset_size):\n",
    "            mp = random_model_params()\n",
    "            mp.all_time = all_time\n",
    "            \n",
    "            for j in range(paths_p_paramset):\n",
    "                PARAMS_.append(mp)\n",
    "                RETURNS_.append(geometric_brownian_motion_jump_diffusion_log_returns(mp))\n",
    "        \n",
    "        train_targets = np.array([[mp.all_sigma, mp.gbm_mu, mp.jumps_sigma, mp.jumps_mu, mp.lamda] for mp in PARAMS_])\n",
    "        \n",
    "        train_moments = [np.append(stats.moment(example, moment = range(2,20)), np.mean(example)) for example in RETURNS_]\n",
    "\n",
    "        train_statistics = np.array([np.append(train_moments[i], \n",
    "                              sm.tsa.stattools.acf(RETURNS_[i])) \n",
    "                    for i in range(len(RETURNS_))])\n",
    "\n",
    "        yield train_statistics, train_targets"
   ]
  },
  {
   "cell_type": "code",
   "execution_count": 45,
   "metadata": {
    "collapsed": true
   },
   "outputs": [],
   "source": [
    "train_gen = batch_generator(paramset_size=10, paths_p_paramset=1)\n"
   ]
  },
  {
   "cell_type": "code",
   "execution_count": 47,
   "metadata": {
    "collapsed": true
   },
   "outputs": [],
   "source": [
    "histories = []"
   ]
  },
  {
   "cell_type": "code",
   "execution_count": 50,
   "metadata": {
    "nbpresent": {
     "id": "a27578b2-14d5-4e94-b807-c597a9b5c597"
    },
    "scrolled": true
   },
   "outputs": [
    {
     "name": "stdout",
     "output_type": "stream",
     "text": [
      "0\n",
      "Epoch 1/1\n",
      "50/50 [==============================] - 6s - loss: 0.0526 - r2: 0.3298     \n",
      "1\n",
      "Epoch 1/1\n",
      "50/50 [==============================] - 6s - loss: 0.0557 - r2: 0.3405     \n",
      "2\n",
      "Epoch 1/1\n",
      "50/50 [==============================] - 6s - loss: 0.0549 - r2: 0.3347     \n",
      "3\n",
      "Epoch 1/1\n",
      "50/50 [==============================] - 6s - loss: 0.0584 - r2: 0.3042     \n",
      "4\n",
      "Epoch 1/1\n",
      "19/50 [==========>...................] - ETA: 3s - loss: 0.0563 - r2: 0.2700"
     ]
    },
    {
     "ename": "KeyboardInterrupt",
     "evalue": "",
     "output_type": "error",
     "traceback": [
      "\u001b[0;31m---------------------------------------------------------------------------\u001b[0m",
      "\u001b[0;31mKeyboardInterrupt\u001b[0m                         Traceback (most recent call last)",
      "\u001b[0;32m<ipython-input-50-a7dfbbe1b51a>\u001b[0m in \u001b[0;36m<module>\u001b[0;34m()\u001b[0m\n\u001b[1;32m      1\u001b[0m \u001b[0;32mfor\u001b[0m \u001b[0mi\u001b[0m \u001b[0;32min\u001b[0m \u001b[0mrange\u001b[0m\u001b[0;34m(\u001b[0m\u001b[0;36m150\u001b[0m\u001b[0;34m)\u001b[0m\u001b[0;34m:\u001b[0m\u001b[0;34m\u001b[0m\u001b[0m\n\u001b[1;32m      2\u001b[0m     \u001b[0mprint\u001b[0m\u001b[0;34m(\u001b[0m\u001b[0mstr\u001b[0m\u001b[0;34m(\u001b[0m\u001b[0mi\u001b[0m\u001b[0;34m%\u001b[0m\u001b[0;36m9\u001b[0m\u001b[0;34m)\u001b[0m\u001b[0;34m)\u001b[0m\u001b[0;34m\u001b[0m\u001b[0m\n\u001b[0;32m----> 3\u001b[0;31m     \u001b[0mhistory\u001b[0m \u001b[0;34m=\u001b[0m \u001b[0mfeedforward\u001b[0m\u001b[0;34m.\u001b[0m\u001b[0mfit_generator\u001b[0m\u001b[0;34m(\u001b[0m\u001b[0mtrain_gen\u001b[0m\u001b[0;34m,\u001b[0m \u001b[0msteps_per_epoch\u001b[0m \u001b[0;34m=\u001b[0m \u001b[0;36m50\u001b[0m\u001b[0;34m,\u001b[0m \u001b[0mepochs\u001b[0m \u001b[0;34m=\u001b[0m \u001b[0;36m1\u001b[0m\u001b[0;34m)\u001b[0m\u001b[0;34m\u001b[0m\u001b[0m\n\u001b[0m\u001b[1;32m      4\u001b[0m     \u001b[0mhistories\u001b[0m\u001b[0;34m.\u001b[0m\u001b[0mappend\u001b[0m\u001b[0;34m(\u001b[0m\u001b[0mhistory\u001b[0m\u001b[0;34m.\u001b[0m\u001b[0mhistory\u001b[0m\u001b[0;34m)\u001b[0m\u001b[0;34m\u001b[0m\u001b[0m\n\u001b[1;32m      5\u001b[0m     \u001b[0mfeedforward\u001b[0m\u001b[0;34m.\u001b[0m\u001b[0msave\u001b[0m\u001b[0;34m(\u001b[0m\u001b[0;34m\"feedforward_running_gen.h5\"\u001b[0m\u001b[0;34m)\u001b[0m\u001b[0;34m\u001b[0m\u001b[0m\n",
      "\u001b[0;32m/usr/local/lib/python3.5/site-packages/keras/legacy/interfaces.py\u001b[0m in \u001b[0;36mwrapper\u001b[0;34m(*args, **kwargs)\u001b[0m\n\u001b[1;32m     86\u001b[0m                 warnings.warn('Update your `' + object_name +\n\u001b[1;32m     87\u001b[0m                               '` call to the Keras 2 API: ' + signature, stacklevel=2)\n\u001b[0;32m---> 88\u001b[0;31m             \u001b[0;32mreturn\u001b[0m \u001b[0mfunc\u001b[0m\u001b[0;34m(\u001b[0m\u001b[0;34m*\u001b[0m\u001b[0margs\u001b[0m\u001b[0;34m,\u001b[0m \u001b[0;34m**\u001b[0m\u001b[0mkwargs\u001b[0m\u001b[0;34m)\u001b[0m\u001b[0;34m\u001b[0m\u001b[0m\n\u001b[0m\u001b[1;32m     89\u001b[0m         \u001b[0mwrapper\u001b[0m\u001b[0;34m.\u001b[0m\u001b[0m_legacy_support_signature\u001b[0m \u001b[0;34m=\u001b[0m \u001b[0minspect\u001b[0m\u001b[0;34m.\u001b[0m\u001b[0mgetargspec\u001b[0m\u001b[0;34m(\u001b[0m\u001b[0mfunc\u001b[0m\u001b[0;34m)\u001b[0m\u001b[0;34m\u001b[0m\u001b[0m\n\u001b[1;32m     90\u001b[0m         \u001b[0;32mreturn\u001b[0m \u001b[0mwrapper\u001b[0m\u001b[0;34m\u001b[0m\u001b[0m\n",
      "\u001b[0;32m/usr/local/lib/python3.5/site-packages/keras/models.py\u001b[0m in \u001b[0;36mfit_generator\u001b[0;34m(self, generator, steps_per_epoch, epochs, verbose, callbacks, validation_data, validation_steps, class_weight, max_q_size, workers, pickle_safe, initial_epoch)\u001b[0m\n\u001b[1;32m   1108\u001b[0m                                         \u001b[0mworkers\u001b[0m\u001b[0;34m=\u001b[0m\u001b[0mworkers\u001b[0m\u001b[0;34m,\u001b[0m\u001b[0;34m\u001b[0m\u001b[0m\n\u001b[1;32m   1109\u001b[0m                                         \u001b[0mpickle_safe\u001b[0m\u001b[0;34m=\u001b[0m\u001b[0mpickle_safe\u001b[0m\u001b[0;34m,\u001b[0m\u001b[0;34m\u001b[0m\u001b[0m\n\u001b[0;32m-> 1110\u001b[0;31m                                         initial_epoch=initial_epoch)\n\u001b[0m\u001b[1;32m   1111\u001b[0m \u001b[0;34m\u001b[0m\u001b[0m\n\u001b[1;32m   1112\u001b[0m     \u001b[0;34m@\u001b[0m\u001b[0minterfaces\u001b[0m\u001b[0;34m.\u001b[0m\u001b[0mlegacy_generator_methods_support\u001b[0m\u001b[0;34m\u001b[0m\u001b[0m\n",
      "\u001b[0;32m/usr/local/lib/python3.5/site-packages/keras/legacy/interfaces.py\u001b[0m in \u001b[0;36mwrapper\u001b[0;34m(*args, **kwargs)\u001b[0m\n\u001b[1;32m     86\u001b[0m                 warnings.warn('Update your `' + object_name +\n\u001b[1;32m     87\u001b[0m                               '` call to the Keras 2 API: ' + signature, stacklevel=2)\n\u001b[0;32m---> 88\u001b[0;31m             \u001b[0;32mreturn\u001b[0m \u001b[0mfunc\u001b[0m\u001b[0;34m(\u001b[0m\u001b[0;34m*\u001b[0m\u001b[0margs\u001b[0m\u001b[0;34m,\u001b[0m \u001b[0;34m**\u001b[0m\u001b[0mkwargs\u001b[0m\u001b[0;34m)\u001b[0m\u001b[0;34m\u001b[0m\u001b[0m\n\u001b[0m\u001b[1;32m     89\u001b[0m         \u001b[0mwrapper\u001b[0m\u001b[0;34m.\u001b[0m\u001b[0m_legacy_support_signature\u001b[0m \u001b[0;34m=\u001b[0m \u001b[0minspect\u001b[0m\u001b[0;34m.\u001b[0m\u001b[0mgetargspec\u001b[0m\u001b[0;34m(\u001b[0m\u001b[0mfunc\u001b[0m\u001b[0;34m)\u001b[0m\u001b[0;34m\u001b[0m\u001b[0m\n\u001b[1;32m     90\u001b[0m         \u001b[0;32mreturn\u001b[0m \u001b[0mwrapper\u001b[0m\u001b[0;34m\u001b[0m\u001b[0m\n",
      "\u001b[0;32m/usr/local/lib/python3.5/site-packages/keras/engine/training.py\u001b[0m in \u001b[0;36mfit_generator\u001b[0;34m(self, generator, steps_per_epoch, epochs, verbose, callbacks, validation_data, validation_steps, class_weight, max_q_size, workers, pickle_safe, initial_epoch)\u001b[0m\n\u001b[1;32m   1857\u001b[0m                             \u001b[0;32mbreak\u001b[0m\u001b[0;34m\u001b[0m\u001b[0m\n\u001b[1;32m   1858\u001b[0m                         \u001b[0;32melse\u001b[0m\u001b[0;34m:\u001b[0m\u001b[0;34m\u001b[0m\u001b[0m\n\u001b[0;32m-> 1859\u001b[0;31m                             \u001b[0mtime\u001b[0m\u001b[0;34m.\u001b[0m\u001b[0msleep\u001b[0m\u001b[0;34m(\u001b[0m\u001b[0mwait_time\u001b[0m\u001b[0;34m)\u001b[0m\u001b[0;34m\u001b[0m\u001b[0m\n\u001b[0m\u001b[1;32m   1860\u001b[0m \u001b[0;34m\u001b[0m\u001b[0m\n\u001b[1;32m   1861\u001b[0m                     \u001b[0;32mif\u001b[0m \u001b[0;32mnot\u001b[0m \u001b[0mhasattr\u001b[0m\u001b[0;34m(\u001b[0m\u001b[0mgenerator_output\u001b[0m\u001b[0;34m,\u001b[0m \u001b[0;34m'__len__'\u001b[0m\u001b[0;34m)\u001b[0m\u001b[0;34m:\u001b[0m\u001b[0;34m\u001b[0m\u001b[0m\n",
      "\u001b[0;31mKeyboardInterrupt\u001b[0m: "
     ]
    }
   ],
   "source": [
    "for i in range(150):\n",
    "    print(str(i%9))\n",
    "    history = feedforward.fit_generator(train_gen, steps_per_epoch = 50, epochs = 1)\n",
    "    histories.append(history.history)\n",
    "    feedforward.save(\"feedforward_running_gen.h5\")"
   ]
  },
  {
   "cell_type": "markdown",
   "metadata": {},
   "source": [
    "# Feedforward 2"
   ]
  },
  {
   "cell_type": "code",
   "execution_count": 9,
   "metadata": {
    "collapsed": true
   },
   "outputs": [],
   "source": [
    "input_1 = Input(batch_shape = (None, 60))\n",
    "\n",
    "layer1 = Dense(2048, activation='elu')(input_1)\n",
    "layer2 = Dense(1024, activation='elu')(layer1)\n",
    "\n",
    "layer3 = Dense(512, activation='elu')(layer2)\n",
    "layer4 = Dense(256, activation='elu')(layer3)\n",
    "\n",
    "layer5 = Dense(128, activation='elu')(layer4)\n",
    "layer6 = Dense(64, activation='elu')(layer5)\n",
    "\n",
    "layer7 = Dense(32, activation='elu')(layer5)\n",
    "last_layer = Dense(16, activation='elu')(layer7)\n",
    "\n",
    "output1 = Dense(1, name=\"sigma\")(last_layer)\n",
    "output2 = Dense(1, name=\"mu\")(last_layer)\n",
    "output3 = Dense(1, name=\"jump_sigma\")(last_layer)\n",
    "output4 = Dense(1, name=\"jump_mu\")(last_layer)\n",
    "output5 = Dense(1, name=\"lambda\")(last_layer)"
   ]
  },
  {
   "cell_type": "code",
   "execution_count": 10,
   "metadata": {},
   "outputs": [
    {
     "name": "stderr",
     "output_type": "stream",
     "text": [
      "/usr/local/lib/python3.5/site-packages/ipykernel_launcher.py:1: UserWarning: Update your `Model` call to the Keras 2 API: `Model(inputs=Tensor(\"in..., outputs=[<tf.Tenso...)`\n",
      "  \"\"\"Entry point for launching an IPython kernel.\n"
     ]
    }
   ],
   "source": [
    "feedforward = Model(input = input_1, output=[output1, output2, output3, output4, output5])"
   ]
  },
  {
   "cell_type": "code",
   "execution_count": 11,
   "metadata": {
    "collapsed": true
   },
   "outputs": [],
   "source": [
    "# Compile model\n",
    "feedforward.compile(loss='mean_squared_error', optimizer='adam', metrics=[r2, 'mean_absolute_percentage_error'])"
   ]
  },
  {
   "cell_type": "code",
   "execution_count": 12,
   "metadata": {
    "collapsed": true
   },
   "outputs": [],
   "source": [
    "feedforward_CallBack = keras.callbacks.TensorBoard(log_dir='./feedforward', histogram_freq=0, write_graph=True, write_images=True)"
   ]
  },
  {
   "cell_type": "code",
   "execution_count": 13,
   "metadata": {
    "collapsed": true
   },
   "outputs": [],
   "source": [
    "def batch_generator(all_time = 2000, paramset_size = 32, paths_p_paramset = 5):\n",
    "    while True:\n",
    "        RETURNS_ = []\n",
    "        PARAMS_ = []\n",
    "        \n",
    "        for i in range(paramset_size):\n",
    "            mp = random_model_params()\n",
    "            mp.all_time = all_time\n",
    "            \n",
    "            for j in range(paths_p_paramset):\n",
    "                PARAMS_.append(mp)\n",
    "                RETURNS_.append(geometric_brownian_motion_jump_diffusion_log_returns(mp))\n",
    "        \n",
    "        train_moments = [np.append(stats.moment(example, moment = range(2,20)), np.mean(example)) for example in RETURNS_]\n",
    "\n",
    "        train_statistics = np.array([np.append(train_moments[i], \n",
    "                              sm.tsa.stattools.acf(RETURNS_[i])) \n",
    "                    for i in range(len(RETURNS_))])\n",
    "        \n",
    "        sigmas = np.array([[mp.all_sigma] for mp in PARAMS_])\n",
    "        mus = np.array([[mp.gbm_mu] for mp in PARAMS_])\n",
    "        jump_sigmas = np.array([[mp.jumps_sigma] for mp in PARAMS_])\n",
    "        jump_mus = np.array([[mp.jumps_mu] for mp in PARAMS_])\n",
    "        lambdas = np.array([[mp.lamda] for mp in PARAMS_])\n",
    "        \n",
    "        yield train_statistics, [sigmas, mus, jump_sigmas, jump_mus, lambdas]\n",
    "\n",
    "train_gen = batch_generator(paramset_size=750, paths_p_paramset=1)"
   ]
  },
  {
   "cell_type": "code",
   "execution_count": 14,
   "metadata": {
    "collapsed": true
   },
   "outputs": [],
   "source": [
    "feedforward.load_weights(\"feedforward_running_gen_2.h5\")"
   ]
  },
  {
   "cell_type": "code",
   "execution_count": 15,
   "metadata": {},
   "outputs": [
    {
     "name": "stdout",
     "output_type": "stream",
     "text": [
      "0\n",
      "100\n",
      "200\n",
      "300\n",
      "400\n",
      "500\n",
      "600\n",
      "700\n",
      "800\n",
      "900\n"
     ]
    }
   ],
   "source": [
    "#mp.all_sigma, mp.gbm_mu, mp.jumps_sigma, mp.jumps_mu, mp.lamda\n",
    "mp = ModelParameters(\n",
    "        # Fixed Parameters\n",
    "        all_time=2000,\n",
    "        all_delta=0.00396825396,\n",
    "        \n",
    "        # Random Parameters\n",
    "        \n",
    "        ### TODO: REDUCED SIGMA #######################\n",
    "        all_sigma = 0.1,\n",
    "        ##############################################\n",
    "        \n",
    "        gbm_mu = 0.05,\n",
    "        jumps_sigma=0.07,\n",
    "        jumps_mu=0.05,\n",
    "        jumps_lamda=0.02,\n",
    "    )\n",
    "test_set = []\n",
    "for i in range(1000):\n",
    "    if (i%100 == 0):\n",
    "        print(i)\n",
    "    test_set.append(geometric_brownian_motion_jump_diffusion_log_returns(mp))"
   ]
  },
  {
   "cell_type": "code",
   "execution_count": 16,
   "metadata": {
    "collapsed": true
   },
   "outputs": [],
   "source": [
    "train_moments = [np.append(stats.moment(example, moment = range(2,20)), np.mean(example)) for example in test_set]\n",
    "\n",
    "train_statistics2 = np.array([np.append(train_moments[i], \n",
    "                              sm.tsa.stattools.acf(test_set[i])) \n",
    "                    for i in range(len(test_set))])"
   ]
  },
  {
   "cell_type": "code",
   "execution_count": null,
   "metadata": {
    "collapsed": true
   },
   "outputs": [],
   "source": [
    "histories2 = np.load(\"feedforward_mo_histories.npy\").tolist()\n",
    "ff_predicts = np.load(\"ff_predicts.npy\").tolist()\n",
    "#histories2 = []\n",
    "#ff_predicts = []"
   ]
  },
  {
   "cell_type": "code",
   "execution_count": null,
   "metadata": {},
   "outputs": [
    {
     "name": "stdout",
     "output_type": "stream",
     "text": [
      "Epoch 1/1\n",
      "5/5 [==============================] - 45s - loss: 0.2402 - sigma_loss: 0.0051 - mu_loss: 0.1662 - jump_sigma_loss: 0.0068 - jump_mu_loss: 0.0574 - lambda_loss: 0.0048 - sigma_r2: -0.4974 - sigma_mean_absolute_percentage_error: 215.4744 - mu_r2: 0.5058 - mu_mean_absolute_percentage_error: 449.4896 - jump_sigma_r2: -1.0620 - jump_sigma_mean_absolute_percentage_error: 228.1421 - jump_mu_r2: 0.2984 - jump_mu_mean_absolute_percentage_error: 383.7338 - lambda_r2: -90.4068 - lambda_mean_absolute_percentage_error: 1418.2112    \n",
      "[master 219d800] updated history, predictions and model\n",
      " 6 files changed, 70 insertions(+)\n",
      " create mode 100644 .ipynb_checkpoints/Untitled3-checkpoint.ipynb\n",
      " create mode 100644 Untitled3.ipynb\n",
      " create mode 100644 command.sh\n",
      " rewrite feedforward_mo_histories.npy (93%)\n",
      "Counting objects: 8, done.\n",
      "Delta compression using up to 4 threads.\n",
      "Compressing objects: 100% (8/8), done.\n",
      "Writing objects: 100% (8/8), 10.40 MiB | 8.55 MiB/s, done.\n",
      "Total 8 (delta 4), reused 0 (delta 0)\n",
      "remote: Resolving deltas: 100% (4/4), completed with 4 local objects.\u001b[K\n",
      "To https://RWMostert:N0ne of that.@github.com/RWMostert/Merton-Jump-Diffusion-Calibration-Tests.git\n",
      "   f2b2869..219d800  master -> master\n",
      "Branch master set up to track remote branch master from origin.\n",
      "Epoch 1/1\n",
      "5/5 [==============================] - 44s - loss: 0.1384 - sigma_loss: 0.0036 - mu_loss: 0.0974 - jump_sigma_loss: 0.0044 - jump_mu_loss: 0.0303 - lambda_loss: 0.0026 - sigma_r2: -0.1094 - sigma_mean_absolute_percentage_error: 190.8159 - mu_r2: 0.7049 - mu_mean_absolute_percentage_error: 545.2871 - jump_sigma_r2: -0.3347 - jump_sigma_mean_absolute_percentage_error: 182.9594 - jump_mu_r2: 0.6374 - jump_mu_mean_absolute_percentage_error: 228.6031 - lambda_r2: -49.5647 - lambda_mean_absolute_percentage_error: 991.3097     \n",
      "[master f9daf2c] updated history, predictions and model\n",
      " 4 files changed, 22 insertions(+), 361 deletions(-)\n",
      "Counting objects: 6, done.\n",
      "Delta compression using up to 4 threads.\n",
      "Compressing objects: 100% (6/6), done.\n",
      "Writing objects: 100% (6/6), 10.35 MiB | 16.51 MiB/s, done.\n",
      "Total 6 (delta 4), reused 0 (delta 0)\n",
      "remote: Resolving deltas: 100% (4/4), completed with 4 local objects.\u001b[K\n",
      "To https://RWMostert:N0ne of that.@github.com/RWMostert/Merton-Jump-Diffusion-Calibration-Tests.git\n",
      "   219d800..f9daf2c  master -> master\n",
      "Branch master set up to track remote branch master from origin.\n",
      "Epoch 1/1\n",
      "5/5 [==============================] - 44s - loss: 0.1142 - sigma_loss: 0.0038 - mu_loss: 0.0723 - jump_sigma_loss: 0.0058 - jump_mu_loss: 0.0296 - lambda_loss: 0.0027 - sigma_r2: -0.1482 - sigma_mean_absolute_percentage_error: 189.5822 - mu_r2: 0.7812 - mu_mean_absolute_percentage_error: 276.4731 - jump_sigma_r2: -0.7454 - jump_sigma_mean_absolute_percentage_error: 121.0456 - jump_mu_r2: 0.6401 - jump_mu_mean_absolute_percentage_error: 410.0511 - lambda_r2: -52.3979 - lambda_mean_absolute_percentage_error: 810.6679    \n",
      "[master 3744e45] updated history, predictions and model\n",
      " 3 files changed, 0 insertions(+), 0 deletions(-)\n",
      "Counting objects: 5, done.\n",
      "Delta compression using up to 4 threads.\n",
      "Compressing objects: 100% (5/5), done.\n",
      "Writing objects: 100% (5/5), 10.35 MiB | 6.17 MiB/s, done.\n",
      "Total 5 (delta 3), reused 0 (delta 0)\n",
      "remote: Resolving deltas: 100% (3/3), completed with 3 local objects.\u001b[K\n",
      "To https://RWMostert:N0ne of that.@github.com/RWMostert/Merton-Jump-Diffusion-Calibration-Tests.git\n",
      "   f9daf2c..3744e45  master -> master\n",
      "Branch master set up to track remote branch master from origin.\n",
      "Epoch 1/1\n",
      "5/5 [==============================] - 45s - loss: 0.0847 - sigma_loss: 0.0036 - mu_loss: 0.0529 - jump_sigma_loss: 0.0043 - jump_mu_loss: 0.0215 - lambda_loss: 0.0025 - sigma_r2: -0.0972 - sigma_mean_absolute_percentage_error: 196.5659 - mu_r2: 0.8431 - mu_mean_absolute_percentage_error: 158.0267 - jump_sigma_r2: -0.2822 - jump_sigma_mean_absolute_percentage_error: 239.7997 - jump_mu_r2: 0.7488 - jump_mu_mean_absolute_percentage_error: 580.5811 - lambda_r2: -47.2174 - lambda_mean_absolute_percentage_error: 1075.1549   \n",
      "[master 342fbea] updated history, predictions and model\n",
      " 3 files changed, 0 insertions(+), 0 deletions(-)\n",
      "Counting objects: 5, done.\n",
      "Delta compression using up to 4 threads.\n",
      "Compressing objects: 100% (5/5), done.\n",
      "Writing objects: 100% (5/5), 10.35 MiB | 13.01 MiB/s, done.\n",
      "Total 5 (delta 3), reused 0 (delta 0)\n",
      "remote: Resolving deltas: 100% (3/3), completed with 3 local objects.\u001b[K\n",
      "To https://RWMostert:N0ne of that.@github.com/RWMostert/Merton-Jump-Diffusion-Calibration-Tests.git\n",
      "   3744e45..342fbea  master -> master\n",
      "Branch master set up to track remote branch master from origin.\n",
      "Epoch 1/1\n",
      "5/5 [==============================] - 45s - loss: 0.0707 - sigma_loss: 0.0036 - mu_loss: 0.0444 - jump_sigma_loss: 0.0040 - jump_mu_loss: 0.0171 - lambda_loss: 0.0018 - sigma_r2: -0.0654 - sigma_mean_absolute_percentage_error: 193.7158 - mu_r2: 0.8677 - mu_mean_absolute_percentage_error: 374.3821 - jump_sigma_r2: -0.1624 - jump_sigma_mean_absolute_percentage_error: 230.7549 - jump_mu_r2: 0.7941 - jump_mu_mean_absolute_percentage_error: 21030.1517 - lambda_r2: -33.0220 - lambda_mean_absolute_percentage_error: 806.6282    \n",
      "[master 4e48ad1] updated history, predictions and model\n",
      " 4 files changed, 40 insertions(+), 1 deletion(-)\n",
      "Counting objects: 6, done.\n",
      "Delta compression using up to 4 threads.\n",
      "Compressing objects: 100% (6/6), done.\n",
      "Writing objects: 100% (6/6), 10.35 MiB | 9.65 MiB/s, done.\n",
      "Total 6 (delta 4), reused 0 (delta 0)\n",
      "remote: Resolving deltas: 100% (4/4), completed with 4 local objects.\u001b[K\n",
      "To https://RWMostert:N0ne of that.@github.com/RWMostert/Merton-Jump-Diffusion-Calibration-Tests.git\n",
      "   342fbea..4e48ad1  master -> master\n",
      "Branch master set up to track remote branch master from origin.\n",
      "Epoch 1/1\n",
      "5/5 [==============================] - 44s - loss: 0.0549 - sigma_loss: 0.0034 - mu_loss: 0.0343 - jump_sigma_loss: 0.0037 - jump_mu_loss: 0.0128 - lambda_loss: 8.2750e-04 - sigma_r2: -0.0427 - sigma_mean_absolute_percentage_error: 193.3778 - mu_r2: 0.8978 - mu_mean_absolute_percentage_error: 256.9273 - jump_sigma_r2: -0.1193 - jump_sigma_mean_absolute_percentage_error: 212.6089 - jump_mu_r2: 0.8454 - jump_mu_mean_absolute_percentage_error: 99.7820 - lambda_r2: -15.3978 - lambda_mean_absolute_percentage_error: 522.3426    \n",
      "[master a6e2260] updated history, predictions and model\n",
      " 3 files changed, 0 insertions(+), 0 deletions(-)\n",
      "Counting objects: 5, done.\n",
      "Delta compression using up to 4 threads.\n",
      "Compressing objects: 100% (5/5), done.\n",
      "Writing objects: 100% (5/5), 10.35 MiB | 10.57 MiB/s, done.\n",
      "Total 5 (delta 3), reused 0 (delta 0)\n",
      "remote: Resolving deltas: 100% (3/3), completed with 3 local objects.\u001b[K\n",
      "To https://RWMostert:N0ne of that.@github.com/RWMostert/Merton-Jump-Diffusion-Calibration-Tests.git\n",
      "   4e48ad1..a6e2260  master -> master\n",
      "Branch master set up to track remote branch master from origin.\n",
      "Epoch 1/1\n",
      "5/5 [==============================] - 44s - loss: 0.0544 - sigma_loss: 0.0045 - mu_loss: 0.0341 - jump_sigma_loss: 0.0041 - jump_mu_loss: 0.0108 - lambda_loss: 8.9495e-04 - sigma_r2: -0.3433 - sigma_mean_absolute_percentage_error: 196.6238 - mu_r2: 0.8974 - mu_mean_absolute_percentage_error: 243.0979 - jump_sigma_r2: -0.2070 - jump_sigma_mean_absolute_percentage_error: 203.2702 - jump_mu_r2: 0.8678 - jump_mu_mean_absolute_percentage_error: 105.3268 - lambda_r2: -16.8527 - lambda_mean_absolute_percentage_error: 354.8316       \n",
      "[master 857782a] updated history, predictions and model\n",
      " 3 files changed, 0 insertions(+), 0 deletions(-)\n",
      "Counting objects: 5, done.\n",
      "Delta compression using up to 4 threads.\n",
      "Compressing objects: 100% (5/5), done.\n",
      "Writing objects: 100% (5/5), 10.35 MiB | 12.38 MiB/s, done.\n",
      "Total 5 (delta 3), reused 0 (delta 0)\n",
      "remote: Resolving deltas: 100% (3/3), completed with 3 local objects.\u001b[K\n",
      "To https://RWMostert:N0ne of that.@github.com/RWMostert/Merton-Jump-Diffusion-Calibration-Tests.git\n",
      "   a6e2260..857782a  master -> master\n",
      "Branch master set up to track remote branch master from origin.\n",
      "Epoch 1/1\n"
     ]
    },
    {
     "name": "stdout",
     "output_type": "stream",
     "text": [
      "5/5 [==============================] - 44s - loss: 0.0474 - sigma_loss: 0.0033 - mu_loss: 0.0288 - jump_sigma_loss: 0.0035 - jump_mu_loss: 0.0114 - lambda_loss: 3.6506e-04 - sigma_r2: -0.0178 - sigma_mean_absolute_percentage_error: 211.2720 - mu_r2: 0.9146 - mu_mean_absolute_percentage_error: 109.0445 - jump_sigma_r2: -0.0699 - jump_sigma_mean_absolute_percentage_error: 174.1441 - jump_mu_r2: 0.8643 - jump_mu_mean_absolute_percentage_error: 97.3711 - lambda_r2: -6.1172 - lambda_mean_absolute_percentage_error: 283.6939    \n",
      "[master 1200918] updated history, predictions and model\n",
      " 3 files changed, 0 insertions(+), 0 deletions(-)\n",
      "Counting objects: 5, done.\n",
      "Delta compression using up to 4 threads.\n",
      "Compressing objects: 100% (5/5), done.\n",
      "Writing objects: 100% (5/5), 10.35 MiB | 10.03 MiB/s, done.\n",
      "Total 5 (delta 3), reused 0 (delta 0)\n",
      "remote: Resolving deltas: 100% (3/3), completed with 3 local objects.\u001b[K\n",
      "To https://RWMostert:N0ne of that.@github.com/RWMostert/Merton-Jump-Diffusion-Calibration-Tests.git\n",
      "   857782a..1200918  master -> master\n",
      "Branch master set up to track remote branch master from origin.\n",
      "Epoch 1/1\n",
      "5/5 [==============================] - 44s - loss: 0.0412 - sigma_loss: 0.0033 - mu_loss: 0.0239 - jump_sigma_loss: 0.0032 - jump_mu_loss: 0.0102 - lambda_loss: 5.3436e-04 - sigma_r2: 0.0028 - sigma_mean_absolute_percentage_error: 208.9039 - mu_r2: 0.9283 - mu_mean_absolute_percentage_error: 253.2085 - jump_sigma_r2: 0.0180 - jump_sigma_mean_absolute_percentage_error: 178.6507 - jump_mu_r2: 0.8758 - jump_mu_mean_absolute_percentage_error: 93.7426 - lambda_r2: -9.5779 - lambda_mean_absolute_percentage_error: 308.2661        \n",
      "[master 5037c86] updated history, predictions and model\n",
      " 3 files changed, 0 insertions(+), 0 deletions(-)\n",
      "Counting objects: 5, done.\n",
      "Delta compression using up to 4 threads.\n",
      "Compressing objects: 100% (5/5), done.\n",
      "Writing objects: 100% (5/5), 10.35 MiB | 13.34 MiB/s, done.\n",
      "Total 5 (delta 3), reused 0 (delta 0)\n",
      "remote: Resolving deltas: 100% (3/3), completed with 3 local objects.\u001b[K\n",
      "To https://RWMostert:N0ne of that.@github.com/RWMostert/Merton-Jump-Diffusion-Calibration-Tests.git\n",
      "   1200918..5037c86  master -> master\n",
      "Branch master set up to track remote branch master from origin.\n",
      "Epoch 1/1\n",
      "5/5 [==============================] - 44s - loss: 0.0399 - sigma_loss: 0.0033 - mu_loss: 0.0233 - jump_sigma_loss: 0.0031 - jump_mu_loss: 0.0098 - lambda_loss: 5.4704e-04 - sigma_r2: 0.0135 - sigma_mean_absolute_percentage_error: 208.8899 - mu_r2: 0.9297 - mu_mean_absolute_percentage_error: 116.1583 - jump_sigma_r2: 0.0512 - jump_sigma_mean_absolute_percentage_error: 171.9385 - jump_mu_r2: 0.8827 - jump_mu_mean_absolute_percentage_error: 117.3083 - lambda_r2: -9.8515 - lambda_mean_absolute_percentage_error: 293.9974     \n",
      "[master 0f3be72] updated history, predictions and model\n",
      " 4 files changed, 65 insertions(+), 1 deletion(-)\n",
      "Counting objects: 6, done.\n",
      "Delta compression using up to 4 threads.\n",
      "Compressing objects: 100% (6/6), done.\n",
      "Writing objects: 100% (6/6), 10.35 MiB | 12.31 MiB/s, done.\n",
      "Total 6 (delta 4), reused 0 (delta 0)\n",
      "remote: Resolving deltas: 100% (4/4), completed with 4 local objects.\u001b[K\n",
      "To https://RWMostert:N0ne of that.@github.com/RWMostert/Merton-Jump-Diffusion-Calibration-Tests.git\n",
      "   5037c86..0f3be72  master -> master\n",
      "Branch master set up to track remote branch master from origin.\n",
      "Epoch 1/1\n",
      "5/5 [==============================] - 44s - loss: 0.0420 - sigma_loss: 0.0036 - mu_loss: 0.0213 - jump_sigma_loss: 0.0037 - jump_mu_loss: 0.0128 - lambda_loss: 6.0324e-04 - sigma_r2: -0.0681 - sigma_mean_absolute_percentage_error: 217.4245 - mu_r2: 0.9354 - mu_mean_absolute_percentage_error: 155.6594 - jump_sigma_r2: -0.1111 - jump_sigma_mean_absolute_percentage_error: 179.1402 - jump_mu_r2: 0.8478 - jump_mu_mean_absolute_percentage_error: 95.2851 - lambda_r2: -10.6110 - lambda_mean_absolute_percentage_error: 293.4983    \n",
      "[master e91bf51] updated history, predictions and model\n",
      " 3 files changed, 0 insertions(+), 0 deletions(-)\n",
      "Counting objects: 5, done.\n",
      "Delta compression using up to 4 threads.\n",
      "Compressing objects: 100% (5/5), done.\n",
      "Writing objects: 100% (5/5), 10.35 MiB | 9.72 MiB/s, done.\n",
      "Total 5 (delta 3), reused 0 (delta 0)\n",
      "remote: Resolving deltas: 100% (3/3), completed with 3 local objects.\u001b[K\n",
      "To https://RWMostert:N0ne of that.@github.com/RWMostert/Merton-Jump-Diffusion-Calibration-Tests.git\n",
      "   0f3be72..e91bf51  master -> master\n",
      "Branch master set up to track remote branch master from origin.\n",
      "Epoch 1/1\n",
      "5/5 [==============================] - 44s - loss: 0.0368 - sigma_loss: 0.0032 - mu_loss: 0.0206 - jump_sigma_loss: 0.0032 - jump_mu_loss: 0.0095 - lambda_loss: 3.2938e-04 - sigma_r2: 0.0080 - sigma_mean_absolute_percentage_error: 207.1966 - mu_r2: 0.9386 - mu_mean_absolute_percentage_error: 129.6491 - jump_sigma_r2: 0.0566 - jump_sigma_mean_absolute_percentage_error: 188.2752 - jump_mu_r2: 0.8854 - jump_mu_mean_absolute_percentage_error: 71.6965 - lambda_r2: -5.4358 - lambda_mean_absolute_percentage_error: 242.1026    \n",
      "[master 268f215] updated history, predictions and model\n",
      " 5 files changed, 50 insertions(+), 11 deletions(-)\n",
      "Counting objects: 7, done.\n",
      "Delta compression using up to 4 threads.\n",
      "Compressing objects: 100% (7/7), done.\n",
      "Writing objects: 100% (7/7), 10.35 MiB | 8.09 MiB/s, done.\n",
      "Total 7 (delta 4), reused 0 (delta 0)\n",
      "remote: Resolving deltas: 100% (4/4), completed with 4 local objects.\u001b[K\n",
      "To https://RWMostert:N0ne of that.@github.com/RWMostert/Merton-Jump-Diffusion-Calibration-Tests.git\n",
      "   e91bf51..268f215  master -> master\n",
      "Branch master set up to track remote branch master from origin.\n",
      "Epoch 1/1\n",
      "5/5 [==============================] - 44s - loss: 0.0373 - sigma_loss: 0.0034 - mu_loss: 0.0211 - jump_sigma_loss: 0.0030 - jump_mu_loss: 0.0095 - lambda_loss: 2.9073e-04 - sigma_r2: 5.3070e-04 - sigma_mean_absolute_percentage_error: 192.8222 - mu_r2: 0.9370 - mu_mean_absolute_percentage_error: 339.4731 - jump_sigma_r2: 0.0824 - jump_sigma_mean_absolute_percentage_error: 200.4607 - jump_mu_r2: 0.8851 - jump_mu_mean_absolute_percentage_error: 197.6992 - lambda_r2: -4.4995 - lambda_mean_absolute_percentage_error: 242.6360\n",
      "[master 94d46eb] updated history, predictions and model\n",
      " 5 files changed, 106 deletions(-)\n",
      " delete mode 100644 .ipynb_checkpoints/Untitled3-checkpoint.ipynb\n",
      " delete mode 100644 Untitled3.ipynb\n",
      "Counting objects: 6, done.\n",
      "Delta compression using up to 4 threads.\n",
      "Compressing objects: 100% (6/6), done.\n",
      "Writing objects: 100% (6/6), 10.35 MiB | 10.83 MiB/s, done.\n",
      "Total 6 (delta 4), reused 0 (delta 0)\n",
      "remote: Resolving deltas: 100% (4/4), completed with 4 local objects.\u001b[K\n",
      "To https://RWMostert:N0ne of that.@github.com/RWMostert/Merton-Jump-Diffusion-Calibration-Tests.git\n",
      "   268f215..94d46eb  master -> master\n",
      "Branch master set up to track remote branch master from origin.\n",
      "Epoch 1/1\n",
      "2/5 [===========>..................] - ETA: 25s - loss: 0.0359 - sigma_loss: 0.0033 - mu_loss: 0.0197 - jump_sigma_loss: 0.0030 - jump_mu_loss: 0.0096 - lambda_loss: 2.7549e-04 - sigma_r2: 0.0111 - sigma_mean_absolute_percentage_error: 211.1187 - mu_r2: 0.9434 - mu_mean_absolute_percentage_error: 81.9088 - jump_sigma_r2: 0.0787 - jump_sigma_mean_absolute_percentage_error: 197.0425 - jump_mu_r2: 0.8858 - jump_mu_mean_absolute_percentage_error: 202.2796 - lambda_r2: -4.3264 - lambda_mean_absolute_percentage_error: 260.4171"
     ]
    }
   ],
   "source": [
    "for i in range(1000):\n",
    "    history = feedforward.fit_generator(train_gen, steps_per_epoch = 5, epochs = 1)\n",
    "    histories2.append(history.history)\n",
    "    ff_predicts.append(feedforward.predict(train_statistics2))\n",
    "    feedforward.save_weights(\"feedforward_running_gen_2.h5\")\n",
    "    \n",
    "    np.save(\"feedforward_mo_histories.npy\", histories2)\n",
    "    np.save(\"ff_predicts.npy\", ff_predicts)\n",
    "    \n",
    "    !git add --all\n",
    "    !git commit -am \"updated history, predictions and model\"\n",
    "    !git push -u origin master"
   ]
  },
  {
   "cell_type": "code",
   "execution_count": 156,
   "metadata": {
    "collapsed": true
   },
   "outputs": [],
   "source": [
    "np.save(\"feedforward_mo_histories.npy\", histories2)"
   ]
  },
  {
   "cell_type": "code",
   "execution_count": 19,
   "metadata": {
    "collapsed": true
   },
   "outputs": [],
   "source": [
    "sigma_mean_absolute_percentage_error = []\n",
    "lambda_mean_absolute_percentage_error = []\n",
    "jump_sigma_mean_absolute_percentage_error = []\n",
    "jump_mu_mean_absolute_percentage_error = []\n",
    "mu_mean_absolute_percentage_error = []\n",
    "\n",
    "sigma_r2 = []\n",
    "lambda_r2 = []\n",
    "jump_sigma_r2 = []\n",
    "mu_r2 = []\n",
    "jump_mu_r2 = []\n",
    "\n",
    "jump_mu_loss = []\n",
    "lambda_loss = []\n",
    "sigma_loss = []\n",
    "mu_loss = []\n",
    "jump_sigma_loss = []\n",
    "\n",
    "loss = []\n",
    "\n",
    "for history in histories2:\n",
    "    sigma_mean_absolute_percentage_error.append(history['sigma_mean_absolute_percentage_error'])\n",
    "    lambda_mean_absolute_percentage_error.append(history['lambda_mean_absolute_percentage_error'])\n",
    "    jump_sigma_mean_absolute_percentage_error.append(history['jump_sigma_mean_absolute_percentage_error'])\n",
    "    jump_mu_mean_absolute_percentage_error.append(history['jump_mu_mean_absolute_percentage_error'])\n",
    "    mu_mean_absolute_percentage_error.append(history['mu_mean_absolute_percentage_error'])\n",
    "    \n",
    "    sigma_r2.append(history['sigma_r2'])\n",
    "    lambda_r2.append(history['lambda_r2'])\n",
    "    jump_sigma_r2.append(history['jump_sigma_r2'])\n",
    "    mu_r2.append(history['mu_r2'])\n",
    "    jump_mu_r2.append(history['jump_mu_r2'])\n",
    "    \n",
    "    jump_mu_loss.append(history['jump_mu_loss'])\n",
    "    lambda_loss.append(history['lambda_loss'])\n",
    "    sigma_loss.append(history['sigma_loss'])\n",
    "    mu_loss.append(history['mu_loss'])\n",
    "    jump_sigma_loss.append(history['jump_sigma_loss'])\n",
    "    \n",
    "    loss.append(history['loss'])"
   ]
  },
  {
   "cell_type": "code",
   "execution_count": 20,
   "metadata": {},
   "outputs": [
    {
     "data": {
      "image/png": "[encoded data removed]",
      "text/plain": [
       "<matplotlib.figure.Figure at 0x7f5b3d4414a8>"
      ]
     },
     "metadata": {},
     "output_type": "display_data"
    }
   ],
   "source": [
    "plt.plot(mu_mean_absolute_percentage_error, label=\"Mu\")\n",
    "plt.plot(sigma_mean_absolute_percentage_error, label=\"Sigma\")\n",
    "plt.ylabel(\"Average Absolute Percentage Error (AAPE)\")\n",
    "plt.xlabel(\"Epochs\")\n",
    "plt.yscale('log')\n",
    "plt.legend(bbox_to_anchor=(1.05, 1), loc=2, borderaxespad=0.)\n",
    "plt.show()"
   ]
  },
  {
   "cell_type": "code",
   "execution_count": 21,
   "metadata": {},
   "outputs": [
    {
     "data": {
      "image/png": "[encoded data removed]",
      "text/plain": [
       "<matplotlib.figure.Figure at 0x7f5b3d45fa90>"
      ]
     },
     "metadata": {},
     "output_type": "display_data"
    }
   ],
   "source": [
    "plt.plot(lambda_mean_absolute_percentage_error, label=\"Lambda\")\n",
    "plt.plot(jump_sigma_mean_absolute_percentage_error, label=\"Jumps - Sigma\")\n",
    "\n",
    "plt.ylabel(\"Average Absolute Percentage Error (AAPE)\")\n",
    "plt.xlabel(\"Epochs\")\n",
    "plt.legend(bbox_to_anchor=(1.05, 1), loc=2, borderaxespad=0.)\n",
    "plt.show()"
   ]
  },
  {
   "cell_type": "code",
   "execution_count": 22,
   "metadata": {},
   "outputs": [
    {
     "data": {
      "image/png": "[encoded data removed]",
      "text/plain": [
       "<matplotlib.figure.Figure at 0x7f5b3d258128>"
      ]
     },
     "metadata": {},
     "output_type": "display_data"
    }
   ],
   "source": [
    "plt.plot(jump_mu_mean_absolute_percentage_error, label=\"Jumps - Mu\")\n",
    "\n",
    "plt.ylabel(\"Average Absolute Percentage Error (AAPE)\")\n",
    "plt.xlabel(\"Epochs\")\n",
    "plt.yscale('log')\n",
    "plt.legend(bbox_to_anchor=(1.05, 1), loc=2, borderaxespad=0.)\n",
    "plt.show()"
   ]
  },
  {
   "cell_type": "code",
   "execution_count": 23,
   "metadata": {},
   "outputs": [
    {
     "data": {
      "image/png": "[encoded data removed]",
      "text/plain": [
       "<matplotlib.figure.Figure at 0x7f5b14253160>"
      ]
     },
     "metadata": {},
     "output_type": "display_data"
    }
   ],
   "source": [
    "plt.figure()\n",
    "plt.plot(mu_r2, label=\"Mu\")\n",
    "plt.plot(sigma_r2, label=\"Sigma\")\n",
    "plt.ylabel(\"R Squared\")\n",
    "plt.xlabel(\"Epochs\")\n",
    "plt.ylim([-1, 1])\n",
    "plt.legend(bbox_to_anchor=(1.05, 1), loc=2, borderaxespad=0.)\n",
    "plt.show()"
   ]
  },
  {
   "cell_type": "code",
   "execution_count": 24,
   "metadata": {},
   "outputs": [
    {
     "data": {
      "image/png": "[encoded data removed]",
      "text/plain": [
       "<matplotlib.figure.Figure at 0x7f5b3d375048>"
      ]
     },
     "metadata": {},
     "output_type": "display_data"
    }
   ],
   "source": [
    "plt.figure()\n",
    "plt.plot(lambda_r2, label=\"Lambda\")\n",
    "plt.plot(jump_sigma_r2, label=\"Jumps - Sigma\")\n",
    "plt.plot(jump_mu_r2, label=\"Jumps - Mu\")\n",
    "plt.ylabel(\"R Squared\")\n",
    "plt.xlabel(\"Epochs\")\n",
    "plt.ylim([-2, 1])\n",
    "plt.legend(bbox_to_anchor=(1.05, 1), loc=2, borderaxespad=0.)\n",
    "plt.show()"
   ]
  },
  {
   "cell_type": "code",
   "execution_count": 25,
   "metadata": {},
   "outputs": [
    {
     "data": {
      "image/png": "[encoded data removed]",
      "text/plain": [
       "<matplotlib.figure.Figure at 0x7f5b14081e48>"
      ]
     },
     "metadata": {},
     "output_type": "display_data"
    }
   ],
   "source": [
    "plt.plot(mu_loss, label=\"Mu\")\n",
    "plt.plot(sigma_loss, label=\"Sigma\")\n",
    "plt.plot(lambda_loss, label=\"Lambda\")\n",
    "plt.plot(jump_sigma_loss, label=\"Jumps - Sigma\")\n",
    "plt.plot(jump_mu_loss, label=\"Jumps - Mu\")\n",
    "plt.ylabel(\"Mean Squared Error (MSE)\")\n",
    "plt.xlabel(\"Epochs\")\n",
    "plt.legend(bbox_to_anchor=(1.05, 1), loc=2, borderaxespad=0.)\n",
    "plt.yscale('log')\n",
    "plt.show()"
   ]
  },
  {
   "cell_type": "markdown",
   "metadata": {},
   "source": [
    "# Feedforward  RELU"
   ]
  },
  {
   "cell_type": "code",
   "execution_count": 8,
   "metadata": {
    "collapsed": true
   },
   "outputs": [],
   "source": [
    "input_1 = Input(batch_shape = (None, 60))\n",
    "\n",
    "layer1 = Dense(2048, activation='relu')(input_1)\n",
    "layer2 = Dense(1024, activation='relu')(layer1)\n",
    "\n",
    "layer3 = Dense(512, activation='relu')(layer2)\n",
    "layer4 = Dense(256, activation='relu')(layer3)\n",
    "\n",
    "layer5 = Dense(128, activation='relu')(layer4)\n",
    "layer6 = Dense(64, activation='relu')(layer5)\n",
    "\n",
    "layer7 = Dense(32, activation='relu')(layer5)\n",
    "last_layer = Dense(16, activation='relu')(layer7)\n",
    "\n",
    "output1 = Dense(1, name=\"sigma\")(last_layer)\n",
    "output2 = Dense(1, name=\"mu\")(last_layer)\n",
    "output3 = Dense(1, name=\"jump_sigma\")(last_layer)\n",
    "output4 = Dense(1, name=\"jump_mu\")(last_layer)\n",
    "output5 = Dense(1, name=\"lambda\")(last_layer)"
   ]
  },
  {
   "cell_type": "code",
   "execution_count": 9,
   "metadata": {},
   "outputs": [
    {
     "name": "stderr",
     "output_type": "stream",
     "text": [
      "/usr/local/lib/python3.5/site-packages/ipykernel_launcher.py:1: UserWarning: Update your `Model` call to the Keras 2 API: `Model(inputs=Tensor(\"in..., outputs=[<tf.Tenso...)`\n",
      "  \"\"\"Entry point for launching an IPython kernel.\n"
     ]
    }
   ],
   "source": [
    "feedforward = Model(input = input_1, output=[output1, output2, output3, output4, output5])"
   ]
  },
  {
   "cell_type": "code",
   "execution_count": 10,
   "metadata": {
    "collapsed": true
   },
   "outputs": [],
   "source": [
    "# Compile model\n",
    "feedforward.compile(loss='mean_squared_error', optimizer='adam', metrics=[r2, 'mean_absolute_percentage_error'])"
   ]
  },
  {
   "cell_type": "code",
   "execution_count": 11,
   "metadata": {
    "collapsed": true
   },
   "outputs": [],
   "source": [
    "feedforward_CallBack = keras.callbacks.TensorBoard(log_dir='./feedforward', histogram_freq=0, write_graph=True, write_images=True)"
   ]
  },
  {
   "cell_type": "code",
   "execution_count": 12,
   "metadata": {
    "collapsed": true
   },
   "outputs": [],
   "source": [
    "def batch_generator(all_time = 2000, paramset_size = 32, paths_p_paramset = 5):\n",
    "    while True:\n",
    "        RETURNS_ = []\n",
    "        PARAMS_ = []\n",
    "        \n",
    "        for i in range(paramset_size):\n",
    "            mp = random_model_params()\n",
    "            mp.all_time = all_time\n",
    "            \n",
    "            for j in range(paths_p_paramset):\n",
    "                PARAMS_.append(mp)\n",
    "                RETURNS_.append(geometric_brownian_motion_jump_diffusion_log_returns(mp))\n",
    "        \n",
    "        train_moments = [np.append(stats.moment(example, moment = range(2,20)), np.mean(example)) for example in RETURNS_]\n",
    "\n",
    "        train_statistics = np.array([np.append(train_moments[i], \n",
    "                              sm.tsa.stattools.acf(RETURNS_[i])) \n",
    "                    for i in range(len(RETURNS_))])\n",
    "        \n",
    "        sigmas = np.array([[mp.all_sigma] for mp in PARAMS_])\n",
    "        mus = np.array([[mp.gbm_mu] for mp in PARAMS_])\n",
    "        jump_sigmas = np.array([[mp.jumps_sigma] for mp in PARAMS_])\n",
    "        jump_mus = np.array([[mp.jumps_mu] for mp in PARAMS_])\n",
    "        lambdas = np.array([[mp.lamda] for mp in PARAMS_])\n",
    "        \n",
    "        yield train_statistics, [sigmas, mus, jump_sigmas, jump_mus, lambdas]\n",
    "\n",
    "train_gen = batch_generator(paramset_size=250, paths_p_paramset=1)"
   ]
  },
  {
   "cell_type": "code",
   "execution_count": 13,
   "metadata": {
    "collapsed": true
   },
   "outputs": [],
   "source": [
    "feedforward.load_weights(\"feedforward_running_gen_2_relu.h5\")"
   ]
  },
  {
   "cell_type": "code",
   "execution_count": 14,
   "metadata": {},
   "outputs": [
    {
     "name": "stdout",
     "output_type": "stream",
     "text": [
      "0\n",
      "100\n",
      "200\n",
      "300\n",
      "400\n",
      "500\n",
      "600\n",
      "700\n",
      "800\n",
      "900\n"
     ]
    }
   ],
   "source": [
    "#mp.all_sigma, mp.gbm_mu, mp.jumps_sigma, mp.jumps_mu, mp.lamda\n",
    "mp = ModelParameters(\n",
    "        # Fixed Parameters\n",
    "        all_time=2000,\n",
    "        all_delta=0.00396825396,\n",
    "        \n",
    "        # Random Parameters\n",
    "        \n",
    "        ### TODO: REDUCED SIGMA #######################\n",
    "        all_sigma = 0.1,\n",
    "        ##############################################\n",
    "        \n",
    "        gbm_mu = 0.05,\n",
    "        jumps_sigma=0.07,\n",
    "        jumps_mu=0.05,\n",
    "        jumps_lamda=0.02,\n",
    "    )\n",
    "test_set = []\n",
    "for i in range(1000):\n",
    "    if (i%100 == 0):\n",
    "        print(i)\n",
    "    test_set.append(geometric_brownian_motion_jump_diffusion_log_returns(mp))"
   ]
  },
  {
   "cell_type": "code",
   "execution_count": 15,
   "metadata": {
    "collapsed": true
   },
   "outputs": [],
   "source": [
    "train_moments = [np.append(stats.moment(example, moment = range(2,20)), np.mean(example)) for example in test_set]\n",
    "\n",
    "train_statistics2 = np.array([np.append(train_moments[i], \n",
    "                              sm.tsa.stattools.acf(test_set[i])) \n",
    "                    for i in range(len(test_set))])"
   ]
  },
  {
   "cell_type": "code",
   "execution_count": null,
   "metadata": {
    "collapsed": true
   },
   "outputs": [],
   "source": [
    "histories2_relu = np.load(\"feedforward_mo_histories_relu.npy\").tolist()\n",
    "ff_predicts_relu = np.load(\"ff_predicts_relu.npy\").tolist()\n",
    "#histories2_relu = []\n",
    "#ff_predicts_relu = []"
   ]
  },
  {
   "cell_type": "code",
   "execution_count": null,
   "metadata": {},
   "outputs": [
    {
     "name": "stdout",
     "output_type": "stream",
     "text": [
      "Epoch 1/1\n",
      "50/50 [==============================] - 150s - loss: 0.0818 - sigma_loss: 0.0033 - mu_loss: 0.0574 - jump_sigma_loss: 0.0032 - jump_mu_loss: 0.0178 - lambda_loss: 1.1165e-04 - sigma_r2: -0.0200 - sigma_mean_absolute_percentage_error: 185.6119 - mu_r2: 0.8263 - mu_mean_absolute_percentage_error: 178.4586 - jump_sigma_r2: 0.0198 - jump_sigma_mean_absolute_percentage_error: 186.9658 - jump_mu_r2: 0.7857 - jump_mu_mean_absolute_percentage_error: 273.3667 - lambda_r2: -1.1934 - lambda_mean_absolute_percentage_error: 198.8911   \n",
      "[master 3b8205e] updated history, predictions and model\n",
      " 7 files changed, 94 insertions(+), 175 deletions(-)\n",
      " create mode 100644 .ipynb_checkpoints/Untitledl-checkpoint.ipynb\n",
      " create mode 100644 Untitledl.ipynb\n",
      " create mode 100644 command.sh\n",
      " rewrite feedforward_mo_histories_relu.npy (94%)\n",
      "Counting objects: 9, done.\n",
      "Delta compression using up to 4 threads.\n",
      "Compressing objects: 100% (9/9), done.\n",
      "Writing objects: 100% (9/9), 811.99 KiB | 0 bytes/s, done.\n",
      "Total 9 (delta 6), reused 0 (delta 0)\n",
      "remote: Resolving deltas: 100% (6/6), completed with 6 local objects.\u001b[K\n",
      "To https://RWMostert:N0ne of that.@github.com/RWMostert/Merton-Jump-Diffusion-Calibration-Tests.git\n",
      "   9c10a4e..3b8205e  master -> master\n",
      "Branch master set up to track remote branch master from origin.\n",
      "Epoch 1/1\n",
      "50/50 [==============================] - 149s - loss: 0.0386 - sigma_loss: 0.0032 - mu_loss: 0.0225 - jump_sigma_loss: 0.0028 - jump_mu_loss: 0.0100 - lambda_loss: 4.8760e-05 - sigma_r2: 0.0319 - sigma_mean_absolute_percentage_error: 199.6240 - mu_r2: 0.9323 - mu_mean_absolute_percentage_error: 113.2293 - jump_sigma_r2: 0.1290 - jump_sigma_mean_absolute_percentage_error: 175.1586 - jump_mu_r2: 0.8813 - jump_mu_mean_absolute_percentage_error: 339.3039 - lambda_r2: 0.0644 - lambda_mean_absolute_percentage_error: 136.4461   \n",
      "[master 26c69f0] updated history, predictions and model\n",
      " 3 files changed, 0 insertions(+), 0 deletions(-)\n",
      "Counting objects: 5, done.\n",
      "Delta compression using up to 4 threads.\n",
      "Compressing objects: 100% (5/5), done.\n",
      "Writing objects: 100% (5/5), 812.96 KiB | 0 bytes/s, done.\n",
      "Total 5 (delta 4), reused 0 (delta 0)\n",
      "remote: Resolving deltas: 100% (4/4), completed with 4 local objects.\u001b[K\n",
      "To https://RWMostert:N0ne of that.@github.com/RWMostert/Merton-Jump-Diffusion-Calibration-Tests.git\n",
      "   3b8205e..26c69f0  master -> master\n",
      "Branch master set up to track remote branch master from origin.\n",
      "Epoch 1/1\n",
      "50/50 [==============================] - 148s - loss: 0.0366 - sigma_loss: 0.0032 - mu_loss: 0.0216 - jump_sigma_loss: 0.0028 - jump_mu_loss: 0.0089 - lambda_loss: 4.8336e-05 - sigma_r2: 0.0377 - sigma_mean_absolute_percentage_error: 194.9755 - mu_r2: 0.9330 - mu_mean_absolute_percentage_error: 106.5677 - jump_sigma_r2: 0.1344 - jump_sigma_mean_absolute_percentage_error: 180.6387 - jump_mu_r2: 0.8913 - jump_mu_mean_absolute_percentage_error: 107.0626 - lambda_r2: 0.0496 - lambda_mean_absolute_percentage_error: 120.8635   \n",
      "[master 7251c55] updated history, predictions and model\n",
      " 4 files changed, 31 insertions(+), 1 deletion(-)\n",
      "Counting objects: 6, done.\n",
      "Delta compression using up to 4 threads.\n",
      "Compressing objects: 100% (6/6), done.\n",
      "Writing objects: 100% (6/6), 879.31 KiB | 0 bytes/s, done.\n",
      "Total 6 (delta 5), reused 0 (delta 0)\n",
      "remote: Resolving deltas: 100% (5/5), completed with 5 local objects.\u001b[K\n",
      "To https://RWMostert:N0ne of that.@github.com/RWMostert/Merton-Jump-Diffusion-Calibration-Tests.git\n",
      "   26c69f0..7251c55  master -> master\n",
      "Branch master set up to track remote branch master from origin.\n",
      "Epoch 1/1\n",
      "50/50 [==============================] - 148s - loss: 0.0381 - sigma_loss: 0.0031 - mu_loss: 0.0226 - jump_sigma_loss: 0.0028 - jump_mu_loss: 0.0095 - lambda_loss: 4.9848e-05 - sigma_r2: 0.0393 - sigma_mean_absolute_percentage_error: 189.5620 - mu_r2: 0.9318 - mu_mean_absolute_percentage_error: 129.7897 - jump_sigma_r2: 0.1506 - jump_sigma_mean_absolute_percentage_error: 182.7076 - jump_mu_r2: 0.8851 - jump_mu_mean_absolute_percentage_error: 121.6318 - lambda_r2: 0.0327 - lambda_mean_absolute_percentage_error: 123.9877   \n",
      "[master b1df74b] updated history, predictions and model\n",
      " 3 files changed, 0 insertions(+), 0 deletions(-)\n",
      "Counting objects: 5, done.\n",
      "Delta compression using up to 4 threads.\n",
      "Compressing objects: 100% (5/5), done.\n",
      "Writing objects: 100% (5/5), 873.42 KiB | 0 bytes/s, done.\n",
      "Total 5 (delta 4), reused 0 (delta 0)\n",
      "remote: Resolving deltas: 100% (4/4), completed with 4 local objects.\u001b[K\n",
      "To https://RWMostert:N0ne of that.@github.com/RWMostert/Merton-Jump-Diffusion-Calibration-Tests.git\n",
      "   7251c55..b1df74b  master -> master\n",
      "Branch master set up to track remote branch master from origin.\n",
      "Epoch 1/1\n",
      "50/50 [==============================] - 148s - loss: 0.0392 - sigma_loss: 0.0032 - mu_loss: 0.0234 - jump_sigma_loss: 0.0027 - jump_mu_loss: 0.0098 - lambda_loss: 4.4794e-05 - sigma_r2: 0.0347 - sigma_mean_absolute_percentage_error: 185.2893 - mu_r2: 0.9291 - mu_mean_absolute_percentage_error: 132.2194 - jump_sigma_r2: 0.1540 - jump_sigma_mean_absolute_percentage_error: 169.8507 - jump_mu_r2: 0.8806 - jump_mu_mean_absolute_percentage_error: 128.8677 - lambda_r2: 0.1108 - lambda_mean_absolute_percentage_error: 108.2909   \n",
      "[master 3a29aaa] updated history, predictions and model\n",
      " 3 files changed, 0 insertions(+), 0 deletions(-)\n",
      "Counting objects: 5, done.\n",
      "Delta compression using up to 4 threads.\n",
      "Compressing objects: 100% (5/5), done.\n",
      "Writing objects: 100% (5/5), 870.58 KiB | 0 bytes/s, done.\n",
      "Total 5 (delta 4), reused 0 (delta 0)\n",
      "remote: Resolving deltas: 100% (4/4), completed with 4 local objects.\u001b[K\n",
      "To https://RWMostert:N0ne of that.@github.com/RWMostert/Merton-Jump-Diffusion-Calibration-Tests.git\n",
      "   b1df74b..3a29aaa  master -> master\n",
      "Branch master set up to track remote branch master from origin.\n",
      "Epoch 1/1\n",
      "50/50 [==============================] - 149s - loss: 0.0392 - sigma_loss: 0.0032 - mu_loss: 0.0233 - jump_sigma_loss: 0.0028 - jump_mu_loss: 0.0098 - lambda_loss: 4.7589e-05 - sigma_r2: 0.0340 - sigma_mean_absolute_percentage_error: 195.9416 - mu_r2: 0.9299 - mu_mean_absolute_percentage_error: 153.5679 - jump_sigma_r2: 0.1423 - jump_sigma_mean_absolute_percentage_error: 179.0052 - jump_mu_r2: 0.8806 - jump_mu_mean_absolute_percentage_error: 143.9585 - lambda_r2: 0.0748 - lambda_mean_absolute_percentage_error: 116.8936   \n",
      "[master 1054e54] updated history, predictions and model\n",
      " 4 files changed, 27 insertions(+), 1 deletion(-)\n",
      "Counting objects: 6, done.\n",
      "Delta compression using up to 4 threads.\n",
      "Compressing objects: 100% (6/6), done.\n",
      "Writing objects: 100% (6/6), 846.18 KiB | 0 bytes/s, done.\n",
      "Total 6 (delta 5), reused 0 (delta 0)\n",
      "remote: Resolving deltas: 100% (5/5), completed with 5 local objects.\u001b[K\n",
      "To https://RWMostert:N0ne of that.@github.com/RWMostert/Merton-Jump-Diffusion-Calibration-Tests.git\n",
      "   3a29aaa..1054e54  master -> master\n",
      "Branch master set up to track remote branch master from origin.\n",
      "Epoch 1/1\n",
      "50/50 [==============================] - 148s - loss: 0.0483 - sigma_loss: 0.0032 - mu_loss: 0.0296 - jump_sigma_loss: 0.0029 - jump_mu_loss: 0.0125 - lambda_loss: 5.2479e-05 - sigma_r2: 0.0279 - sigma_mean_absolute_percentage_error: 195.2677 - mu_r2: 0.9100 - mu_mean_absolute_percentage_error: 352.4571 - jump_sigma_r2: 0.1152 - jump_sigma_mean_absolute_percentage_error: 177.4836 - jump_mu_r2: 0.8484 - jump_mu_mean_absolute_percentage_error: 209.2975 - lambda_r2: -0.0207 - lambda_mean_absolute_percentage_error: 130.2938   \n",
      "[master b3a783a] updated history, predictions and model\n",
      " 3 files changed, 0 insertions(+), 0 deletions(-)\n",
      "Counting objects: 5, done.\n",
      "Delta compression using up to 4 threads.\n",
      "Compressing objects: 100% (5/5), done.\n",
      "Writing objects: 100% (5/5), 811.93 KiB | 0 bytes/s, done.\n",
      "Total 5 (delta 4), reused 0 (delta 0)\n",
      "remote: Resolving deltas: 100% (4/4), completed with 4 local objects.\u001b[K\n",
      "To https://RWMostert:N0ne of that.@github.com/RWMostert/Merton-Jump-Diffusion-Calibration-Tests.git\n",
      "   1054e54..b3a783a  master -> master\n",
      "Branch master set up to track remote branch master from origin.\n",
      "Epoch 1/1\n",
      "50/50 [==============================] - 148s - loss: 0.0377 - sigma_loss: 0.0031 - mu_loss: 0.0221 - jump_sigma_loss: 0.0028 - jump_mu_loss: 0.0096 - lambda_loss: 4.3940e-05 - sigma_r2: 0.0355 - sigma_mean_absolute_percentage_error: 189.4399 - mu_r2: 0.9332 - mu_mean_absolute_percentage_error: 118.5885 - jump_sigma_r2: 0.1498 - jump_sigma_mean_absolute_percentage_error: 187.9799 - jump_mu_r2: 0.8824 - jump_mu_mean_absolute_percentage_error: 114.3428 - lambda_r2: 0.1347 - lambda_mean_absolute_percentage_error: 122.4098   \n",
      "[master 409256d] updated history, predictions and model\n",
      " 4 files changed, 46 insertions(+), 1 deletion(-)\n",
      "Counting objects: 6, done.\n",
      "Delta compression using up to 4 threads.\n",
      "Compressing objects: 100% (6/6), done.\n",
      "Writing objects: 100% (6/6), 821.23 KiB | 0 bytes/s, done.\n",
      "Total 6 (delta 5), reused 0 (delta 0)\n",
      "remote: Resolving deltas: 100% (5/5), completed with 5 local objects.\u001b[K\n",
      "To https://RWMostert:N0ne of that.@github.com/RWMostert/Merton-Jump-Diffusion-Calibration-Tests.git\n",
      "   b3a783a..409256d  master -> master\n",
      "Branch master set up to track remote branch master from origin.\n",
      "Epoch 1/1\n",
      "50/50 [==============================] - 148s - loss: 0.0434 - sigma_loss: 0.0032 - mu_loss: 0.0271 - jump_sigma_loss: 0.0028 - jump_mu_loss: 0.0103 - lambda_loss: 4.7095e-05 - sigma_r2: 0.0363 - sigma_mean_absolute_percentage_error: 195.4821 - mu_r2: 0.9190 - mu_mean_absolute_percentage_error: 113.9046 - jump_sigma_r2: 0.1435 - jump_sigma_mean_absolute_percentage_error: 175.1412 - jump_mu_r2: 0.8751 - jump_mu_mean_absolute_percentage_error: 140.4267 - lambda_r2: 0.0811 - lambda_mean_absolute_percentage_error: 115.9559   \n",
      "[master bcf606b] updated history, predictions and model\n",
      " 3 files changed, 0 insertions(+), 0 deletions(-)\n",
      "Counting objects: 5, done.\n",
      "Delta compression using up to 4 threads.\n",
      "Compressing objects: 100% (5/5), done.\n",
      "Writing objects: 100% (5/5), 812.67 KiB | 0 bytes/s, done.\n",
      "Total 5 (delta 4), reused 0 (delta 0)\n",
      "remote: Resolving deltas: 100% (4/4), completed with 4 local objects.\u001b[K\n",
      "To https://RWMostert:N0ne of that.@github.com/RWMostert/Merton-Jump-Diffusion-Calibration-Tests.git\n",
      "   409256d..bcf606b  master -> master\n",
      "Branch master set up to track remote branch master from origin.\n",
      "Epoch 1/1\n",
      "50/50 [==============================] - 148s - loss: 0.0399 - sigma_loss: 0.0032 - mu_loss: 0.0241 - jump_sigma_loss: 0.0028 - jump_mu_loss: 0.0098 - lambda_loss: 4.4285e-05 - sigma_r2: 0.0324 - sigma_mean_absolute_percentage_error: 194.0903 - mu_r2: 0.9264 - mu_mean_absolute_percentage_error: 217.7684 - jump_sigma_r2: 0.1507 - jump_sigma_mean_absolute_percentage_error: 170.8662 - jump_mu_r2: 0.8826 - jump_mu_mean_absolute_percentage_error: 120.1114 - lambda_r2: 0.1415 - lambda_mean_absolute_percentage_error: 121.3273   \n",
      "[master 2f7b648] updated history, predictions and model\n",
      " 3 files changed, 0 insertions(+), 0 deletions(-)\n",
      "Counting objects: 5, done.\n",
      "Delta compression using up to 4 threads.\n",
      "Compressing objects: 100% (5/5), done.\n",
      "Writing objects: 100% (5/5), 811.91 KiB | 0 bytes/s, done.\n",
      "Total 5 (delta 4), reused 0 (delta 0)\n",
      "remote: Resolving deltas: 100% (4/4), completed with 4 local objects.\u001b[K\n",
      "To https://RWMostert:N0ne of that.@github.com/RWMostert/Merton-Jump-Diffusion-Calibration-Tests.git\n",
      "   bcf606b..2f7b648  master -> master\n",
      "Branch master set up to track remote branch master from origin.\n",
      "Epoch 1/1\n",
      "50/50 [==============================] - 148s - loss: 0.0384 - sigma_loss: 0.0031 - mu_loss: 0.0232 - jump_sigma_loss: 0.0028 - jump_mu_loss: 0.0092 - lambda_loss: 4.4396e-05 - sigma_r2: 0.0466 - sigma_mean_absolute_percentage_error: 190.8359 - mu_r2: 0.9299 - mu_mean_absolute_percentage_error: 138.4464 - jump_sigma_r2: 0.1481 - jump_sigma_mean_absolute_percentage_error: 179.9331 - jump_mu_r2: 0.8870 - jump_mu_mean_absolute_percentage_error: 143.2871 - lambda_r2: 0.1400 - lambda_mean_absolute_percentage_error: 112.1342   \n",
      "[master 30f1215] updated history, predictions and model\n",
      " 4 files changed, 40 insertions(+), 1 deletion(-)\n",
      "Counting objects: 6, done.\n",
      "Delta compression using up to 4 threads.\n",
      "Compressing objects: 100% (6/6), done.\n",
      "Writing objects: 100% (6/6), 887.18 KiB | 0 bytes/s, done.\n",
      "Total 6 (delta 5), reused 0 (delta 0)\n",
      "remote: Resolving deltas: 100% (5/5), completed with 5 local objects.\u001b[K\n",
      "To https://RWMostert:N0ne of that.@github.com/RWMostert/Merton-Jump-Diffusion-Calibration-Tests.git\n",
      "   2f7b648..30f1215  master -> master\n",
      "Branch master set up to track remote branch master from origin.\n",
      "Epoch 1/1\n",
      "50/50 [==============================] - 148s - loss: 0.0373 - sigma_loss: 0.0031 - mu_loss: 0.0223 - jump_sigma_loss: 0.0028 - jump_mu_loss: 0.0090 - lambda_loss: 4.4166e-05 - sigma_r2: 0.0369 - sigma_mean_absolute_percentage_error: 200.8597 - mu_r2: 0.9317 - mu_mean_absolute_percentage_error: 414.1113 - jump_sigma_r2: 0.1531 - jump_sigma_mean_absolute_percentage_error: 176.9177 - jump_mu_r2: 0.8888 - jump_mu_mean_absolute_percentage_error: 101.0728 - lambda_r2: 0.1379 - lambda_mean_absolute_percentage_error: 112.3359   \n",
      "[master 1c33d5e] updated history, predictions and model\n",
      " 3 files changed, 0 insertions(+), 0 deletions(-)\n",
      "Counting objects: 5, done.\n",
      "Delta compression using up to 4 threads.\n",
      "Compressing objects: 100% (5/5), done.\n",
      "Writing objects: 100% (5/5), 884.77 KiB | 0 bytes/s, done.\n",
      "Total 5 (delta 4), reused 0 (delta 0)\n",
      "remote: Resolving deltas: 100% (4/4), completed with 4 local objects.\u001b[K\n",
      "To https://RWMostert:N0ne of that.@github.com/RWMostert/Merton-Jump-Diffusion-Calibration-Tests.git\n",
      "   30f1215..1c33d5e  master -> master\n",
      "Branch master set up to track remote branch master from origin.\n",
      "Epoch 1/1\n",
      "50/50 [==============================] - 149s - loss: 0.0389 - sigma_loss: 0.0032 - mu_loss: 0.0234 - jump_sigma_loss: 0.0028 - jump_mu_loss: 0.0095 - lambda_loss: 4.5121e-05 - sigma_r2: 0.0333 - sigma_mean_absolute_percentage_error: 190.1818 - mu_r2: 0.9297 - mu_mean_absolute_percentage_error: 120.5852 - jump_sigma_r2: 0.1453 - jump_sigma_mean_absolute_percentage_error: 174.9634 - jump_mu_r2: 0.8862 - jump_mu_mean_absolute_percentage_error: 127.1455 - lambda_r2: 0.1235 - lambda_mean_absolute_percentage_error: 120.6911   \n",
      "[master c59c423] updated history, predictions and model\n",
      " 3 files changed, 0 insertions(+), 0 deletions(-)\n",
      "Counting objects: 5, done.\n",
      "Delta compression using up to 4 threads.\n",
      "Compressing objects: 100% (5/5), done.\n",
      "Writing objects: 100% (5/5), 886.37 KiB | 0 bytes/s, done.\n",
      "Total 5 (delta 4), reused 0 (delta 0)\n",
      "remote: Resolving deltas: 100% (4/4), completed with 4 local objects.\u001b[K\n",
      "To https://RWMostert:N0ne of that.@github.com/RWMostert/Merton-Jump-Diffusion-Calibration-Tests.git\n",
      "   1c33d5e..c59c423  master -> master\n",
      "Branch master set up to track remote branch master from origin.\n",
      "Epoch 1/1\n",
      "50/50 [==============================] - 148s - loss: 0.0363 - sigma_loss: 0.0032 - mu_loss: 0.0206 - jump_sigma_loss: 0.0028 - jump_mu_loss: 0.0097 - lambda_loss: 4.2096e-05 - sigma_r2: 0.0273 - sigma_mean_absolute_percentage_error: 197.0659 - mu_r2: 0.9380 - mu_mean_absolute_percentage_error: 154.4995 - jump_sigma_r2: 0.1583 - jump_sigma_mean_absolute_percentage_error: 179.8468 - jump_mu_r2: 0.8809 - jump_mu_mean_absolute_percentage_error: 347.8144 - lambda_r2: 0.1749 - lambda_mean_absolute_percentage_error: 101.5495   \n",
      "[master 08ff665] updated history, predictions and model\n",
      " 4 files changed, 40 insertions(+), 1 deletion(-)\n",
      "Counting objects: 6, done.\n",
      "Delta compression using up to 4 threads.\n",
      "Compressing objects: 100% (6/6), done.\n",
      "Writing objects: 100% (6/6), 874.97 KiB | 0 bytes/s, done.\n",
      "Total 6 (delta 5), reused 0 (delta 0)\n",
      "remote: Resolving deltas: 100% (5/5), completed with 5 local objects.\u001b[K\n",
      "To https://RWMostert:N0ne of that.@github.com/RWMostert/Merton-Jump-Diffusion-Calibration-Tests.git\n",
      "   c59c423..08ff665  master -> master\n",
      "Branch master set up to track remote branch master from origin.\n",
      "Epoch 1/1\n"
     ]
    },
    {
     "name": "stdout",
     "output_type": "stream",
     "text": [
      "50/50 [==============================] - 147s - loss: 0.0357 - sigma_loss: 0.0031 - mu_loss: 0.0203 - jump_sigma_loss: 0.0028 - jump_mu_loss: 0.0094 - lambda_loss: 3.9940e-05 - sigma_r2: 0.0429 - sigma_mean_absolute_percentage_error: 184.8669 - mu_r2: 0.9384 - mu_mean_absolute_percentage_error: 255.2699 - jump_sigma_r2: 0.1620 - jump_sigma_mean_absolute_percentage_error: 182.3789 - jump_mu_r2: 0.8860 - jump_mu_mean_absolute_percentage_error: 130.0641 - lambda_r2: 0.2219 - lambda_mean_absolute_percentage_error: 110.2740   \n",
      "[master 2c713b2] updated history, predictions and model\n",
      " 3 files changed, 0 insertions(+), 0 deletions(-)\n",
      "Counting objects: 5, done.\n",
      "Delta compression using up to 4 threads.\n",
      "Compressing objects: 100% (5/5), done.\n",
      "Writing objects: 100% (5/5), 834.73 KiB | 0 bytes/s, done.\n",
      "Total 5 (delta 4), reused 0 (delta 0)\n",
      "remote: Resolving deltas: 100% (4/4), completed with 4 local objects.\u001b[K\n",
      "To https://RWMostert:N0ne of that.@github.com/RWMostert/Merton-Jump-Diffusion-Calibration-Tests.git\n",
      "   08ff665..2c713b2  master -> master\n",
      "Branch master set up to track remote branch master from origin.\n",
      "Epoch 1/1\n",
      "50/50 [==============================] - 148s - loss: 0.0377 - sigma_loss: 0.0031 - mu_loss: 0.0221 - jump_sigma_loss: 0.0028 - jump_mu_loss: 0.0096 - lambda_loss: 3.9834e-05 - sigma_r2: 0.0414 - sigma_mean_absolute_percentage_error: 193.0651 - mu_r2: 0.9326 - mu_mean_absolute_percentage_error: 321.4884 - jump_sigma_r2: 0.1568 - jump_sigma_mean_absolute_percentage_error: 172.9569 - jump_mu_r2: 0.8836 - jump_mu_mean_absolute_percentage_error: 242.3384 - lambda_r2: 0.2320 - lambda_mean_absolute_percentage_error: 110.7739   \n",
      "[master 92aab3d] updated history, predictions and model\n",
      " 3 files changed, 0 insertions(+), 0 deletions(-)\n",
      "Counting objects: 5, done.\n",
      "Delta compression using up to 4 threads.\n",
      "Compressing objects: 100% (5/5), done.\n",
      "Writing objects: 100% (5/5), 816.05 KiB | 0 bytes/s, done.\n",
      "Total 5 (delta 4), reused 0 (delta 0)\n",
      "remote: Resolving deltas: 100% (4/4), completed with 4 local objects.\u001b[K\n",
      "To https://RWMostert:N0ne of that.@github.com/RWMostert/Merton-Jump-Diffusion-Calibration-Tests.git\n",
      "   2c713b2..92aab3d  master -> master\n",
      "Branch master set up to track remote branch master from origin.\n",
      "Epoch 1/1\n",
      "48/50 [===========================>..] - ETA: 5s - loss: 0.0397 - sigma_loss: 0.0032 - mu_loss: 0.0232 - jump_sigma_loss: 0.0030 - jump_mu_loss: 0.0102 - lambda_loss: 5.3249e-05 - sigma_r2: 0.0309 - sigma_mean_absolute_percentage_error: 197.7526 - mu_r2: 0.9295 - mu_mean_absolute_percentage_error: 2240.8637 - jump_sigma_r2: 0.0936 - jump_sigma_mean_absolute_percentage_error: 176.2218 - jump_mu_r2: 0.8774 - jump_mu_mean_absolute_percentage_error: 296.1448 - lambda_r2: -0.0310 - lambda_mean_absolute_percentage_error: 114.9859"
     ]
    }
   ],
   "source": [
    "for i in range(1000):\n",
    "    history = feedforward.fit_generator(train_gen, steps_per_epoch = 50, epochs = 1)\n",
    "    histories2_relu.append(history.history)\n",
    "    ff_predicts_relu.append(feedforward.predict(train_statistics2))\n",
    "    feedforward.save_weights(\"feedforward_running_gen_2_relu.h5\")\n",
    "    \n",
    "    np.save(\"feedforward_mo_histories_relu.npy\", histories2_relu)\n",
    "    np.save(\"ff_predicts_relu.npy\", ff_predicts_relu)\n",
    "    \n",
    "    !git add --all\n",
    "    !git commit -am \"updated history, predictions and model\"\n",
    "    #!git remote add origin https://RWMostert:N0ne\\ of\\ that.@github.com/RWMostert/Merton-Jump-Diffusion-Calibration-Tests.git\n",
    "    !git push -u origin master"
   ]
  },
  {
   "cell_type": "code",
   "execution_count": 156,
   "metadata": {
    "collapsed": true
   },
   "outputs": [],
   "source": [
    "np.save(\"feedforward_mo_histories.npy\", histories2)"
   ]
  },
  {
   "cell_type": "code",
   "execution_count": 157,
   "metadata": {
    "collapsed": true
   },
   "outputs": [],
   "source": [
    "sigma_mean_absolute_percentage_error = []\n",
    "lambda_mean_absolute_percentage_error = []\n",
    "jump_sigma_mean_absolute_percentage_error = []\n",
    "jump_mu_mean_absolute_percentage_error = []\n",
    "mu_mean_absolute_percentage_error = []\n",
    "\n",
    "sigma_r2 = []\n",
    "lambda_r2 = []\n",
    "jump_sigma_r2 = []\n",
    "mu_r2 = []\n",
    "jump_mu_r2 = []\n",
    "\n",
    "jump_mu_loss = []\n",
    "lambda_loss = []\n",
    "sigma_loss = []\n",
    "mu_loss = []\n",
    "jump_sigma_loss = []\n",
    "\n",
    "loss = []\n",
    "\n",
    "for history in histories2:\n",
    "    sigma_mean_absolute_percentage_error.append(history['sigma_mean_absolute_percentage_error'])\n",
    "    lambda_mean_absolute_percentage_error.append(history['lambda_mean_absolute_percentage_error'])\n",
    "    jump_sigma_mean_absolute_percentage_error.append(history['jump_sigma_mean_absolute_percentage_error'])\n",
    "    jump_mu_mean_absolute_percentage_error.append(history['jump_mu_mean_absolute_percentage_error'])\n",
    "    mu_mean_absolute_percentage_error.append(history['mu_mean_absolute_percentage_error'])\n",
    "    \n",
    "    sigma_r2.append(history['sigma_r2'])\n",
    "    lambda_r2.append(history['lambda_r2'])\n",
    "    jump_sigma_r2.append(history['jump_sigma_r2'])\n",
    "    mu_r2.append(history['mu_r2'])\n",
    "    jump_mu_r2.append(history['jump_mu_r2'])\n",
    "    \n",
    "    jump_mu_loss.append(history['jump_mu_loss'])\n",
    "    lambda_loss.append(history['lambda_loss'])\n",
    "    sigma_loss.append(history['sigma_loss'])\n",
    "    mu_loss.append(history['mu_loss'])\n",
    "    jump_sigma_loss.append(history['jump_sigma_loss'])\n",
    "    \n",
    "    loss.append(history['loss'])"
   ]
  },
  {
   "cell_type": "code",
   "execution_count": 158,
   "metadata": {},
   "outputs": [
    {
     "data": {
      "image/png": "[encoded data removed]",
      "text/plain": [
       "<matplotlib.figure.Figure at 0x7f5890eda390>"
      ]
     },
     "metadata": {},
     "output_type": "display_data"
    }
   ],
   "source": [
    "plt.plot(mu_mean_absolute_percentage_error, label=\"Mu\")\n",
    "plt.plot(sigma_mean_absolute_percentage_error, label=\"Sigma\")\n",
    "plt.ylabel(\"Average Absolute Percentage Error (AAPE)\")\n",
    "plt.xlabel(\"Epochs\")\n",
    "plt.yscale('log')\n",
    "plt.legend(bbox_to_anchor=(1.05, 1), loc=2, borderaxespad=0.)\n",
    "plt.show()"
   ]
  },
  {
   "cell_type": "code",
   "execution_count": 159,
   "metadata": {},
   "outputs": [
    {
     "data": {
      "image/png": "[encoded data removed]",
      "text/plain": [
       "<matplotlib.figure.Figure at 0x7f5890f4d630>"
      ]
     },
     "metadata": {},
     "output_type": "display_data"
    }
   ],
   "source": [
    "plt.plot(lambda_mean_absolute_percentage_error, label=\"Lambda\")\n",
    "plt.plot(jump_sigma_mean_absolute_percentage_error, label=\"Jumps - Sigma\")\n",
    "\n",
    "plt.ylabel(\"Average Absolute Percentage Error (AAPE)\")\n",
    "plt.xlabel(\"Epochs\")\n",
    "plt.legend(bbox_to_anchor=(1.05, 1), loc=2, borderaxespad=0.)\n",
    "plt.show()"
   ]
  },
  {
   "cell_type": "code",
   "execution_count": 160,
   "metadata": {},
   "outputs": [
    {
     "data": {
      "image/png": "[encoded data removed]",
      "text/plain": [
       "<matplotlib.figure.Figure at 0x7f589107c860>"
      ]
     },
     "metadata": {},
     "output_type": "display_data"
    }
   ],
   "source": [
    "plt.plot(jump_mu_mean_absolute_percentage_error, label=\"Jumps - Mu\")\n",
    "\n",
    "plt.ylabel(\"Average Absolute Percentage Error (AAPE)\")\n",
    "plt.xlabel(\"Epochs\")\n",
    "plt.yscale('log')\n",
    "plt.legend(bbox_to_anchor=(1.05, 1), loc=2, borderaxespad=0.)\n",
    "plt.show()"
   ]
  },
  {
   "cell_type": "code",
   "execution_count": 161,
   "metadata": {},
   "outputs": [
    {
     "data": {
      "image/png": "[encoded data removed]",
      "text/plain": [
       "<matplotlib.figure.Figure at 0x7f58910b8438>"
      ]
     },
     "metadata": {},
     "output_type": "display_data"
    }
   ],
   "source": [
    "plt.figure()\n",
    "plt.plot(mu_r2, label=\"Mu\")\n",
    "plt.plot(sigma_r2, label=\"Sigma\")\n",
    "plt.ylabel(\"R Squared\")\n",
    "plt.xlabel(\"Epochs\")\n",
    "plt.ylim([-1, 1])\n",
    "plt.legend(bbox_to_anchor=(1.05, 1), loc=2, borderaxespad=0.)\n",
    "plt.show()"
   ]
  },
  {
   "cell_type": "code",
   "execution_count": 162,
   "metadata": {},
   "outputs": [
    {
     "data": {
      "image/png": "[encoded data removed]",
      "text/plain": [
       "<matplotlib.figure.Figure at 0x7f58911a1c18>"
      ]
     },
     "metadata": {},
     "output_type": "display_data"
    }
   ],
   "source": [
    "plt.figure()\n",
    "plt.plot(lambda_r2, label=\"Lambda\")\n",
    "plt.plot(jump_sigma_r2, label=\"Jumps - Sigma\")\n",
    "plt.plot(jump_mu_r2, label=\"Jumps - Mu\")\n",
    "plt.ylabel(\"R Squared\")\n",
    "plt.xlabel(\"Epochs\")\n",
    "plt.ylim([-2, 1])\n",
    "plt.legend(bbox_to_anchor=(1.05, 1), loc=2, borderaxespad=0.)\n",
    "plt.show()"
   ]
  },
  {
   "cell_type": "code",
   "execution_count": 163,
   "metadata": {},
   "outputs": [
    {
     "data": {
      "image/png": "[encoded data removed]",
      "text/plain": [
       "<matplotlib.figure.Figure at 0x7f5890e14080>"
      ]
     },
     "metadata": {},
     "output_type": "display_data"
    }
   ],
   "source": [
    "plt.plot(mu_loss, label=\"Mu\")\n",
    "plt.plot(sigma_loss, label=\"Sigma\")\n",
    "plt.plot(lambda_loss, label=\"Lambda\")\n",
    "plt.plot(jump_sigma_loss, label=\"Jumps - Sigma\")\n",
    "plt.plot(jump_mu_loss, label=\"Jumps - Mu\")\n",
    "plt.ylabel(\"Mean Squared Error (MSE)\")\n",
    "plt.xlabel(\"Epochs\")\n",
    "plt.legend(bbox_to_anchor=(1.05, 1), loc=2, borderaxespad=0.)\n",
    "plt.yscale('log')\n",
    "plt.show()"
   ]
  },
  {
   "cell_type": "markdown",
   "metadata": {},
   "source": [
    "# Feedforward Single Paramter - MU"
   ]
  },
  {
   "cell_type": "code",
   "execution_count": 113,
   "metadata": {},
   "outputs": [
    {
     "name": "stderr",
     "output_type": "stream",
     "text": [
      "/usr/local/lib/python3.5/site-packages/ipykernel_launcher.py:23: UserWarning: Update your `Model` call to the Keras 2 API: `Model(inputs=Tensor(\"in..., outputs=[<tf.Tenso...)`\n"
     ]
    }
   ],
   "source": [
    "input_1 = Input(batch_shape = (None, 60))\n",
    "\n",
    "layer1 = Dense(2048, activation='relu')(input_1)\n",
    "layer2 = Dense(1024, activation='relu')(layer1)\n",
    "\n",
    "dropout1 = Dropout(0.2)(layer2)\n",
    "\n",
    "layer3 = Dense(512, activation='relu')(dropout1)\n",
    "layer4 = Dense(256, activation='relu')(layer3)\n",
    "\n",
    "dropout2 = Dropout(0.2)(layer4)\n",
    "\n",
    "layer5 = Dense(128, activation='relu')(dropout2)\n",
    "layer6 = Dense(64, activation='relu')(layer5)\n",
    "\n",
    "dropout3 = Dropout(0.2)(layer6)\n",
    "\n",
    "layer7 = Dense(32, activation='relu')(dropout3)\n",
    "last_layer = Dense(16, activation='relu')(layer7)\n",
    "\n",
    "output2 = Dense(1, name=\"mu\")(last_layer)\n",
    "\n",
    "feedforward_mu = Model(input = input_1, output=[output2])\n",
    "# Compile model\n",
    "feedforward_mu.compile(loss='mean_squared_error', optimizer='adam', metrics=[r2, 'mean_absolute_percentage_error'])\n",
    "\n",
    "feedforward_mu_CallBack = keras.callbacks.TensorBoard(log_dir='./feedforward_mu', histogram_freq=0, write_graph=True, write_images=True)\n"
   ]
  },
  {
   "cell_type": "code",
   "execution_count": 120,
   "metadata": {
    "collapsed": true
   },
   "outputs": [],
   "source": [
    "def batch_generator(all_time = 2000, paramset_size = 32, paths_p_paramset = 5):\n",
    "    while True:\n",
    "        RETURNS_ = []\n",
    "        PARAMS_ = []\n",
    "        \n",
    "        for i in range(paramset_size):\n",
    "            mp = random_model_params()\n",
    "            mp.all_time = all_time\n",
    "            \n",
    "            for j in range(paths_p_paramset):\n",
    "                PARAMS_.append(mp)\n",
    "                RETURNS_.append(geometric_brownian_motion_jump_diffusion_log_returns(mp))\n",
    "        \n",
    "        train_moments = [np.append(stats.moment(example, moment = range(2,20)), np.mean(example)) for example in RETURNS_]\n",
    "\n",
    "        train_statistics = np.array([np.append(train_moments[i], \n",
    "                              sm.tsa.stattools.acf(RETURNS_[i])) \n",
    "                    for i in range(len(RETURNS_))])\n",
    "        \n",
    "        mus = np.array([[mp.gbm_mu] for mp in PARAMS_])\n",
    "        \n",
    "        yield train_statistics, [mus]\n",
    "\n",
    "train_gen = batch_generator(paramset_size=10, paths_p_paramset=1)"
   ]
  },
  {
   "cell_type": "code",
   "execution_count": 118,
   "metadata": {
    "collapsed": true
   },
   "outputs": [],
   "source": [
    "histories_mu = []"
   ]
  },
  {
   "cell_type": "code",
   "execution_count": 121,
   "metadata": {},
   "outputs": [
    {
     "name": "stdout",
     "output_type": "stream",
     "text": [
      "Epoch 1/1\n",
      "250/250 [==============================] - 30s - loss: 0.3351 - r2: -0.1198 - mean_absolute_percentage_error: 118.2604    \n",
      "Epoch 1/1\n",
      "250/250 [==============================] - 30s - loss: 0.3354 - r2: -0.2125 - mean_absolute_percentage_error: 105.5254    \n",
      "Epoch 1/1\n",
      "250/250 [==============================] - 31s - loss: 0.3371 - r2: -0.1570 - mean_absolute_percentage_error: 105.2617    \n",
      "Epoch 1/1\n",
      "250/250 [==============================] - 30s - loss: 0.3381 - r2: -0.1641 - mean_absolute_percentage_error: 106.5378    \n",
      "Epoch 1/1\n",
      "250/250 [==============================] - 31s - loss: 0.3303 - r2: -0.1283 - mean_absolute_percentage_error: 112.9082    \n",
      "Epoch 1/1\n",
      "250/250 [==============================] - 30s - loss: 0.3319 - r2: -0.1316 - mean_absolute_percentage_error: 107.2835     ETA: 0s - loss: 0.3327 - r2: -0.1321 - mean_absolute_percentage_error\n",
      "Epoch 1/1\n",
      "250/250 [==============================] - 30s - loss: 0.3329 - r2: -0.1331 - mean_absolute_percentage_error: 112.5001    \n",
      "Epoch 1/1\n",
      "250/250 [==============================] - 30s - loss: 0.3255 - r2: -0.1285 - mean_absolute_percentage_error: 102.7444    \n",
      "Epoch 1/1\n",
      "250/250 [==============================] - 31s - loss: 0.3249 - r2: -0.1430 - mean_absolute_percentage_error: 109.8661    \n",
      "Epoch 1/1\n",
      "250/250 [==============================] - 31s - loss: 0.3348 - r2: -0.1665 - mean_absolute_percentage_error: 108.6637    \n",
      "Epoch 1/1\n",
      "250/250 [==============================] - 30s - loss: 0.3402 - r2: -0.1184 - mean_absolute_percentage_error: 143.8876    \n",
      "Epoch 1/1\n",
      "250/250 [==============================] - 31s - loss: 0.3333 - r2: -0.1896 - mean_absolute_percentage_error: 102.0386    \n",
      "Epoch 1/1\n",
      "250/250 [==============================] - 31s - loss: 0.3467 - r2: -0.1427 - mean_absolute_percentage_error: 107.6614    \n",
      "Epoch 1/1\n",
      "250/250 [==============================] - 30s - loss: 0.3188 - r2: -0.1701 - mean_absolute_percentage_error: 102.4205    \n",
      "Epoch 1/1\n",
      "250/250 [==============================] - 30s - loss: 0.3333 - r2: -0.1422 - mean_absolute_percentage_error: 100.8053    \n",
      "Epoch 1/1\n",
      "250/250 [==============================] - 30s - loss: 0.3325 - r2: -0.1714 - mean_absolute_percentage_error: 103.0367    \n",
      "Epoch 1/1\n",
      "250/250 [==============================] - 31s - loss: 0.3311 - r2: -0.1397 - mean_absolute_percentage_error: 104.8614    \n",
      "Epoch 1/1\n",
      "250/250 [==============================] - 30s - loss: 0.3364 - r2: -0.2068 - mean_absolute_percentage_error: 121.5115    \n",
      "Epoch 1/1\n",
      "250/250 [==============================] - 30s - loss: 0.3324 - r2: -0.1713 - mean_absolute_percentage_error: 106.2340    \n",
      "Epoch 1/1\n",
      "250/250 [==============================] - 30s - loss: 0.3379 - r2: -0.1301 - mean_absolute_percentage_error: 100.5825    \n",
      "Epoch 1/1\n",
      "250/250 [==============================] - 31s - loss: 0.3350 - r2: -0.1703 - mean_absolute_percentage_error: 110.1131    \n",
      "Epoch 1/1\n",
      "250/250 [==============================] - 30s - loss: 0.3360 - r2: -0.1424 - mean_absolute_percentage_error: 100.7775    \n",
      "Epoch 1/1\n",
      "250/250 [==============================] - 30s - loss: 0.3345 - r2: -0.1704 - mean_absolute_percentage_error: 104.8786     - ETA: 26s - loss: 0.3408 - r2: -0.2202 - \n",
      "Epoch 1/1\n",
      "250/250 [==============================] - 31s - loss: 0.3266 - r2: -0.1219 - mean_absolute_percentage_error: 103.7016    \n",
      "Epoch 1/1\n",
      "250/250 [==============================] - 31s - loss: 0.3332 - r2: -0.1581 - mean_absolute_percentage_error: 414.3484     ETA: 9s - loss:\n",
      "Epoch 1/1\n",
      "250/250 [==============================] - 30s - loss: 0.3237 - r2: -0.1283 - mean_absolute_percentage_error: 104.9105    \n",
      "Epoch 1/1\n",
      "250/250 [==============================] - 30s - loss: 0.3304 - r2: -0.1592 - mean_absolute_percentage_error: 100.6937    \n",
      "Epoch 1/1\n",
      "250/250 [==============================] - 30s - loss: 0.3261 - r2: -0.1455 - mean_absolute_percentage_error: 111.2068    \n",
      "Epoch 1/1\n",
      "236/250 [===========================>..] - ETA: 1s - loss: 0.3245 - r2: -0.1534 - mean_absolute_percentage_error: 107.7017"
     ]
    },
    {
     "ename": "KeyboardInterrupt",
     "evalue": "",
     "output_type": "error",
     "traceback": [
      "\u001b[0;31m---------------------------------------------------------------------------\u001b[0m",
      "\u001b[0;31mKeyboardInterrupt\u001b[0m                         Traceback (most recent call last)",
      "\u001b[0;32m<ipython-input-121-7638d70b8e9d>\u001b[0m in \u001b[0;36m<module>\u001b[0;34m()\u001b[0m\n\u001b[1;32m      1\u001b[0m \u001b[0;32mfor\u001b[0m \u001b[0mi\u001b[0m \u001b[0;32min\u001b[0m \u001b[0mrange\u001b[0m\u001b[0;34m(\u001b[0m\u001b[0;36m1000\u001b[0m\u001b[0;34m)\u001b[0m\u001b[0;34m:\u001b[0m\u001b[0;34m\u001b[0m\u001b[0m\n\u001b[0;32m----> 2\u001b[0;31m     \u001b[0mhistory\u001b[0m \u001b[0;34m=\u001b[0m \u001b[0mfeedforward_mu\u001b[0m\u001b[0;34m.\u001b[0m\u001b[0mfit_generator\u001b[0m\u001b[0;34m(\u001b[0m\u001b[0mtrain_gen\u001b[0m\u001b[0;34m,\u001b[0m \u001b[0msteps_per_epoch\u001b[0m \u001b[0;34m=\u001b[0m \u001b[0;36m250\u001b[0m\u001b[0;34m,\u001b[0m \u001b[0mepochs\u001b[0m \u001b[0;34m=\u001b[0m \u001b[0;36m1\u001b[0m\u001b[0;34m)\u001b[0m\u001b[0;34m\u001b[0m\u001b[0m\n\u001b[0m\u001b[1;32m      3\u001b[0m     \u001b[0mhistories_mu\u001b[0m\u001b[0;34m.\u001b[0m\u001b[0mappend\u001b[0m\u001b[0;34m(\u001b[0m\u001b[0mhistory\u001b[0m\u001b[0;34m.\u001b[0m\u001b[0mhistory\u001b[0m\u001b[0;34m)\u001b[0m\u001b[0;34m\u001b[0m\u001b[0m\n\u001b[1;32m      4\u001b[0m     \u001b[0mfeedforward_mu\u001b[0m\u001b[0;34m.\u001b[0m\u001b[0msave_weights\u001b[0m\u001b[0;34m(\u001b[0m\u001b[0;34m\"feedforward_mu.h5\"\u001b[0m\u001b[0;34m)\u001b[0m\u001b[0;34m\u001b[0m\u001b[0m\n",
      "\u001b[0;32m/usr/local/lib/python3.5/site-packages/keras/legacy/interfaces.py\u001b[0m in \u001b[0;36mwrapper\u001b[0;34m(*args, **kwargs)\u001b[0m\n\u001b[1;32m     86\u001b[0m                 warnings.warn('Update your `' + object_name +\n\u001b[1;32m     87\u001b[0m                               '` call to the Keras 2 API: ' + signature, stacklevel=2)\n\u001b[0;32m---> 88\u001b[0;31m             \u001b[0;32mreturn\u001b[0m \u001b[0mfunc\u001b[0m\u001b[0;34m(\u001b[0m\u001b[0;34m*\u001b[0m\u001b[0margs\u001b[0m\u001b[0;34m,\u001b[0m \u001b[0;34m**\u001b[0m\u001b[0mkwargs\u001b[0m\u001b[0;34m)\u001b[0m\u001b[0;34m\u001b[0m\u001b[0m\n\u001b[0m\u001b[1;32m     89\u001b[0m         \u001b[0mwrapper\u001b[0m\u001b[0;34m.\u001b[0m\u001b[0m_legacy_support_signature\u001b[0m \u001b[0;34m=\u001b[0m \u001b[0minspect\u001b[0m\u001b[0;34m.\u001b[0m\u001b[0mgetargspec\u001b[0m\u001b[0;34m(\u001b[0m\u001b[0mfunc\u001b[0m\u001b[0;34m)\u001b[0m\u001b[0;34m\u001b[0m\u001b[0m\n\u001b[1;32m     90\u001b[0m         \u001b[0;32mreturn\u001b[0m \u001b[0mwrapper\u001b[0m\u001b[0;34m\u001b[0m\u001b[0m\n",
      "\u001b[0;32m/usr/local/lib/python3.5/site-packages/keras/engine/training.py\u001b[0m in \u001b[0;36mfit_generator\u001b[0;34m(self, generator, steps_per_epoch, epochs, verbose, callbacks, validation_data, validation_steps, class_weight, max_q_size, workers, pickle_safe, initial_epoch)\u001b[0m\n\u001b[1;32m   1857\u001b[0m                             \u001b[0;32mbreak\u001b[0m\u001b[0;34m\u001b[0m\u001b[0m\n\u001b[1;32m   1858\u001b[0m                         \u001b[0;32melse\u001b[0m\u001b[0;34m:\u001b[0m\u001b[0;34m\u001b[0m\u001b[0m\n\u001b[0;32m-> 1859\u001b[0;31m                             \u001b[0mtime\u001b[0m\u001b[0;34m.\u001b[0m\u001b[0msleep\u001b[0m\u001b[0;34m(\u001b[0m\u001b[0mwait_time\u001b[0m\u001b[0;34m)\u001b[0m\u001b[0;34m\u001b[0m\u001b[0m\n\u001b[0m\u001b[1;32m   1860\u001b[0m \u001b[0;34m\u001b[0m\u001b[0m\n\u001b[1;32m   1861\u001b[0m                     \u001b[0;32mif\u001b[0m \u001b[0;32mnot\u001b[0m \u001b[0mhasattr\u001b[0m\u001b[0;34m(\u001b[0m\u001b[0mgenerator_output\u001b[0m\u001b[0;34m,\u001b[0m \u001b[0;34m'__len__'\u001b[0m\u001b[0;34m)\u001b[0m\u001b[0;34m:\u001b[0m\u001b[0;34m\u001b[0m\u001b[0m\n",
      "\u001b[0;31mKeyboardInterrupt\u001b[0m: "
     ]
    }
   ],
   "source": [
    "for i in range(1000):\n",
    "    history = feedforward_mu.fit_generator(train_gen, steps_per_epoch = 250, epochs = 1)\n",
    "    histories_mu.append(history.history)\n",
    "    feedforward_mu.save_weights(\"feedforward_mu.h5\")"
   ]
  },
  {
   "cell_type": "markdown",
   "metadata": {},
   "source": [
    "# Feedforward with ReLu's"
   ]
  },
  {
   "cell_type": "code",
   "execution_count": 59,
   "metadata": {
    "collapsed": true
   },
   "outputs": [],
   "source": [
    "feedforward = Sequential()\n",
    "feedforward.add(Dense(4096, input_dim = 60, activation='relu'))\n",
    "feedforward.add(Dense(1024, activation='relu'))\n",
    "feedforward.add(Dense(256, activation='relu'))\n",
    "feedforward.add(Dense(5))"
   ]
  },
  {
   "cell_type": "code",
   "execution_count": 60,
   "metadata": {
    "collapsed": true
   },
   "outputs": [],
   "source": [
    "# Compile model\n",
    "feedforward.compile(loss='mean_absolute_percentage_error', optimizer='adam', metrics=[r2])"
   ]
  },
  {
   "cell_type": "code",
   "execution_count": 61,
   "metadata": {},
   "outputs": [
    {
     "name": "stdout",
     "output_type": "stream",
     "text": [
      "0\n",
      "Train on 80000 samples, validate on 20000 samples\n",
      "Epoch 1/1\n",
      "80000/80000 [==============================] - 13s - loss: 9505966.6943 - r2: -885683585150.6067 - val_loss: 5439914.2673 - val_r2: -960474192033.1541\n",
      "1\n",
      "Train on 80000 samples, validate on 20000 samples\n",
      "Epoch 1/1\n",
      "80000/80000 [==============================] - 13s - loss: 14306311.1634 - r2: -2248202695329.9482 - val_loss: 688596.2476 - val_r2: -849288935.4370\n",
      "2\n",
      "Train on 80000 samples, validate on 20000 samples\n",
      "Epoch 1/1\n",
      "80000/80000 [==============================] - 13s - loss: 270136.1424 - r2: -3779888320.1694 - val_loss: 91.8446 - val_r2: -0.0777\n",
      "3\n",
      "Train on 80000 samples, validate on 20000 samples\n",
      "Epoch 1/1\n",
      "80000/80000 [==============================] - 13s - loss: 101.8298 - r2: -0.1094 - val_loss: 46244.4008 - val_r2: -10094375.7593\n",
      "4\n",
      "Train on 80000 samples, validate on 20000 samples\n",
      "Epoch 1/1\n",
      "80000/80000 [==============================] - 13s - loss: 14523.6408 - r2: -5899982.5200 - val_loss: 93.2509 - val_r2: -0.0701\n",
      "5\n",
      "Train on 80000 samples, validate on 20000 samples\n",
      "Epoch 1/1\n",
      "80000/80000 [==============================] - 13s - loss: 129.4700 - r2: -0.0672 - val_loss: 114.8521 - val_r2: -0.0620\n",
      "6\n",
      "Train on 80000 samples, validate on 20000 samples\n",
      "Epoch 1/1\n",
      "80000/80000 [==============================] - 13s - loss: 99.4443 - r2: -0.0449 - val_loss: 104.0237 - val_r2: -0.0577\n",
      "7\n",
      "Train on 80000 samples, validate on 20000 samples\n",
      "Epoch 1/1\n",
      "80000/80000 [==============================] - 13s - loss: 98.0229 - r2: -0.0449 - val_loss: 92.6346 - val_r2: -0.0607\n",
      "8\n",
      "Train on 80000 samples, validate on 20000 samples\n",
      "Epoch 1/1\n",
      "80000/80000 [==============================] - 13s - loss: 93.5860 - r2: -0.0372 - val_loss: 91.8364 - val_r2: -0.0255\n",
      "0\n",
      "Train on 80000 samples, validate on 20000 samples\n",
      "Epoch 1/1\n",
      "80000/80000 [==============================] - 13s - loss: 92.1513 - r2: -0.0332 - val_loss: 92.2172 - val_r2: -0.0538\n",
      "1\n",
      "Train on 80000 samples, validate on 20000 samples\n",
      "Epoch 1/1\n",
      "80000/80000 [==============================] - 13s - loss: 94.5351 - r2: -0.0371 - val_loss: 92.1408 - val_r2: -0.0492\n",
      "2\n",
      "Train on 80000 samples, validate on 20000 samples\n",
      "Epoch 1/1\n",
      "80000/80000 [==============================] - 13s - loss: 91.2918 - r2: -0.0085 - val_loss: 89.7520 - val_r2: -4.6639e-04\n",
      "3\n",
      "Train on 80000 samples, validate on 20000 samples\n",
      "Epoch 1/1\n",
      "80000/80000 [==============================] - 13s - loss: 102.0408 - r2: -0.0214 - val_loss: 91.5900 - val_r2: -0.0548\n",
      "4\n",
      "Train on 80000 samples, validate on 20000 samples\n",
      "Epoch 1/1\n",
      "80000/80000 [==============================] - 13s - loss: 90.4029 - r2: -0.0122 - val_loss: 89.4364 - val_r2: 9.0456e-04\n",
      "5\n",
      "Train on 80000 samples, validate on 20000 samples\n",
      "Epoch 1/1\n",
      "80000/80000 [==============================] - 13s - loss: 440.0025 - r2: -3312.0964 - val_loss: 140.7648 - val_r2: -0.0656\n",
      "6\n",
      "Train on 80000 samples, validate on 20000 samples\n",
      "Epoch 1/1\n",
      "80000/80000 [==============================] - 13s - loss: 98.2303 - r2: -0.0584 - val_loss: 91.7718 - val_r2: -0.0700\n",
      "7\n",
      "Train on 80000 samples, validate on 20000 samples\n",
      "Epoch 1/1\n",
      "80000/80000 [==============================] - 13s - loss: 101.0806 - r2: -0.0648 - val_loss: 92.9488 - val_r2: -0.0789\n",
      "8\n",
      "Train on 80000 samples, validate on 20000 samples\n",
      "Epoch 1/1\n",
      "80000/80000 [==============================] - 13s - loss: 94.8424 - r2: -0.0488 - val_loss: 89.6754 - val_r2: -0.0642\n",
      "0\n",
      "Train on 80000 samples, validate on 20000 samples\n",
      "Epoch 1/1\n",
      "80000/80000 [==============================] - 13s - loss: 90.1132 - r2: -0.0490 - val_loss: 91.7021 - val_r2: -0.0577\n",
      "1\n",
      "Train on 80000 samples, validate on 20000 samples\n",
      "Epoch 1/1\n",
      "80000/80000 [==============================] - 13s - loss: 93.2100 - r2: -0.0549 - val_loss: 88.9757 - val_r2: -0.0676\n",
      "2\n",
      "Train on 80000 samples, validate on 20000 samples\n",
      "Epoch 1/1\n",
      "80000/80000 [==============================] - 13s - loss: 127.4041 - r2: -61.1700 - val_loss: 89.6557 - val_r2: -0.0638\n",
      "3\n",
      "Train on 80000 samples, validate on 20000 samples\n",
      "Epoch 1/1\n",
      "80000/80000 [==============================] - 13s - loss: 5918.5029 - r2: -13233851.0491 - val_loss: 115.0187 - val_r2: -0.0596\n",
      "4\n"
     ]
    },
    {
     "ename": "KeyboardInterrupt",
     "evalue": "",
     "output_type": "error",
     "traceback": [
      "\u001b[0;31m---------------------------------------------------------------------------\u001b[0m",
      "\u001b[0;31mKeyboardInterrupt\u001b[0m                         Traceback (most recent call last)",
      "\u001b[0;32m<ipython-input-61-6c37f827305a>\u001b[0m in \u001b[0;36m<module>\u001b[0;34m()\u001b[0m\n\u001b[1;32m      1\u001b[0m \u001b[0;32mfor\u001b[0m \u001b[0mi\u001b[0m \u001b[0;32min\u001b[0m \u001b[0mrange\u001b[0m\u001b[0;34m(\u001b[0m\u001b[0;36m150\u001b[0m\u001b[0;34m)\u001b[0m\u001b[0;34m:\u001b[0m\u001b[0;34m\u001b[0m\u001b[0m\n\u001b[1;32m      2\u001b[0m     \u001b[0mprint\u001b[0m\u001b[0;34m(\u001b[0m\u001b[0mstr\u001b[0m\u001b[0;34m(\u001b[0m\u001b[0mi\u001b[0m\u001b[0;34m%\u001b[0m\u001b[0;36m9\u001b[0m\u001b[0;34m)\u001b[0m\u001b[0;34m)\u001b[0m\u001b[0;34m\u001b[0m\u001b[0m\n\u001b[0;32m----> 3\u001b[0;31m     \u001b[0mtrain_statistics\u001b[0m \u001b[0;34m=\u001b[0m \u001b[0mnp\u001b[0m\u001b[0;34m.\u001b[0m\u001b[0mload\u001b[0m\u001b[0;34m(\u001b[0m\u001b[0;34m\"FF_Statistics_\"\u001b[0m\u001b[0;34m+\u001b[0m\u001b[0mstr\u001b[0m\u001b[0;34m(\u001b[0m\u001b[0mi\u001b[0m\u001b[0;34m%\u001b[0m\u001b[0;36m9\u001b[0m\u001b[0;34m)\u001b[0m\u001b[0;34m+\u001b[0m\u001b[0;34m\".npy\"\u001b[0m\u001b[0;34m)\u001b[0m\u001b[0;34m\u001b[0m\u001b[0m\n\u001b[0m\u001b[1;32m      4\u001b[0m     \u001b[0mtrain_targets\u001b[0m \u001b[0;34m=\u001b[0m \u001b[0mnp\u001b[0m\u001b[0;34m.\u001b[0m\u001b[0mload\u001b[0m\u001b[0;34m(\u001b[0m\u001b[0;34m\"FF_Targets_\"\u001b[0m\u001b[0;34m+\u001b[0m\u001b[0mstr\u001b[0m\u001b[0;34m(\u001b[0m\u001b[0mi\u001b[0m\u001b[0;34m%\u001b[0m\u001b[0;36m9\u001b[0m\u001b[0;34m)\u001b[0m\u001b[0;34m+\u001b[0m\u001b[0;34m\".npy\"\u001b[0m\u001b[0;34m)\u001b[0m\u001b[0;34m\u001b[0m\u001b[0m\n\u001b[1;32m      5\u001b[0m \u001b[0;34m\u001b[0m\u001b[0m\n",
      "\u001b[0;32m/home/carnd/anaconda3/envs/carnd-term1/lib/python3.5/site-packages/numpy/lib/npyio.py\u001b[0m in \u001b[0;36mload\u001b[0;34m(file, mmap_mode, allow_pickle, fix_imports, encoding)\u001b[0m\n\u001b[1;32m    417\u001b[0m             \u001b[0;32melse\u001b[0m\u001b[0;34m:\u001b[0m\u001b[0;34m\u001b[0m\u001b[0m\n\u001b[1;32m    418\u001b[0m                 return format.read_array(fid, allow_pickle=allow_pickle,\n\u001b[0;32m--> 419\u001b[0;31m                                          pickle_kwargs=pickle_kwargs)\n\u001b[0m\u001b[1;32m    420\u001b[0m         \u001b[0;32melse\u001b[0m\u001b[0;34m:\u001b[0m\u001b[0;34m\u001b[0m\u001b[0m\n\u001b[1;32m    421\u001b[0m             \u001b[0;31m# Try a pickle\u001b[0m\u001b[0;34m\u001b[0m\u001b[0;34m\u001b[0m\u001b[0m\n",
      "\u001b[0;32m/home/carnd/anaconda3/envs/carnd-term1/lib/python3.5/site-packages/numpy/lib/format.py\u001b[0m in \u001b[0;36mread_array\u001b[0;34m(fp, allow_pickle, pickle_kwargs)\u001b[0m\n\u001b[1;32m    649\u001b[0m         \u001b[0;32mif\u001b[0m \u001b[0misfileobj\u001b[0m\u001b[0;34m(\u001b[0m\u001b[0mfp\u001b[0m\u001b[0;34m)\u001b[0m\u001b[0;34m:\u001b[0m\u001b[0;34m\u001b[0m\u001b[0m\n\u001b[1;32m    650\u001b[0m             \u001b[0;31m# We can use the fast fromfile() function.\u001b[0m\u001b[0;34m\u001b[0m\u001b[0;34m\u001b[0m\u001b[0m\n\u001b[0;32m--> 651\u001b[0;31m             \u001b[0marray\u001b[0m \u001b[0;34m=\u001b[0m \u001b[0mnumpy\u001b[0m\u001b[0;34m.\u001b[0m\u001b[0mfromfile\u001b[0m\u001b[0;34m(\u001b[0m\u001b[0mfp\u001b[0m\u001b[0;34m,\u001b[0m \u001b[0mdtype\u001b[0m\u001b[0;34m=\u001b[0m\u001b[0mdtype\u001b[0m\u001b[0;34m,\u001b[0m \u001b[0mcount\u001b[0m\u001b[0;34m=\u001b[0m\u001b[0mcount\u001b[0m\u001b[0;34m)\u001b[0m\u001b[0;34m\u001b[0m\u001b[0m\n\u001b[0m\u001b[1;32m    652\u001b[0m         \u001b[0;32melse\u001b[0m\u001b[0;34m:\u001b[0m\u001b[0;34m\u001b[0m\u001b[0m\n\u001b[1;32m    653\u001b[0m             \u001b[0;31m# This is not a real file. We have to read it the\u001b[0m\u001b[0;34m\u001b[0m\u001b[0;34m\u001b[0m\u001b[0m\n",
      "\u001b[0;31mKeyboardInterrupt\u001b[0m: "
     ]
    }
   ],
   "source": [
    "for i in range(150):\n",
    "    print(str(i%9))\n",
    "    train_statistics = np.load(\"FF_Statistics_\"+str(i%9)+\".npy\")\n",
    "    train_targets = np.load(\"FF_Targets_\"+str(i%9)+\".npy\")\n",
    "    \n",
    "    feedforward.fit(np.array(train_statistics[:80000]), np.array(train_targets[:80000]), nb_epoch=1, batch_size=100, validation_data=(train_statistics[80000:], train_targets[80000:]))\n",
    "    feedforward.save_weights(\"feedforward_running_weights.h5\")"
   ]
  },
  {
   "cell_type": "markdown",
   "metadata": {},
   "source": [
    "# Feedforward with eLu's"
   ]
  },
  {
   "cell_type": "code",
   "execution_count": 62,
   "metadata": {
    "collapsed": true
   },
   "outputs": [],
   "source": [
    "feedforward = Sequential()\n",
    "feedforward.add(Dense(2014, input_dim = 60, activation='tanh'))\n",
    "feedforward.add(Dense(1024, activation='tanh'))\n",
    "feedforward.add(Dense(512, activation='tanh'))\n",
    "feedforward.add(Dense(256, activation='tanh'))\n",
    "feedforward.add(Dense(128, activation='tanh'))\n",
    "feedforward.add(Dense(64, activation='tanh'))\n",
    "feedforward.add(Dense(32, activation='tanh'))\n",
    "feedforward.add(Dense(16, activation='tanh'))\n",
    "feedforward.add(Dense(5))"
   ]
  },
  {
   "cell_type": "code",
   "execution_count": 63,
   "metadata": {
    "collapsed": true
   },
   "outputs": [],
   "source": [
    "# Compile model\n",
    "feedforward.compile(loss=\"mean_squared_error\", optimizer='adam', metrics=[r2])"
   ]
  },
  {
   "cell_type": "code",
   "execution_count": 64,
   "metadata": {},
   "outputs": [
    {
     "name": "stdout",
     "output_type": "stream",
     "text": [
      "0\n",
      "Train on 80000 samples, validate on 20000 samples\n",
      "Epoch 1/1\n",
      "80000/80000 [==============================] - 11s - loss: 0.0624 - r2: 0.4875 - val_loss: 0.0336 - val_r2: 0.7227\n",
      "1\n",
      "Train on 80000 samples, validate on 20000 samples\n",
      "Epoch 1/1\n",
      "80000/80000 [==============================] - 11s - loss: 0.0315 - r2: 0.7392 - val_loss: 0.0318 - val_r2: 0.7361\n",
      "2\n",
      "Train on 80000 samples, validate on 20000 samples\n",
      "Epoch 1/1\n",
      "80000/80000 [==============================] - 11s - loss: 0.0305 - r2: 0.7492 - val_loss: 0.0299 - val_r2: 0.7508\n",
      "3\n",
      "Train on 80000 samples, validate on 20000 samples\n",
      "Epoch 1/1\n",
      "80000/80000 [==============================] - 11s - loss: 0.0288 - r2: 0.7639 - val_loss: 0.0285 - val_r2: 0.7670\n",
      "4\n",
      "Train on 80000 samples, validate on 20000 samples\n",
      "Epoch 1/1\n",
      "80000/80000 [==============================] - 11s - loss: 0.0283 - r2: 0.7667 - val_loss: 0.0308 - val_r2: 0.7481\n",
      "5\n",
      "Train on 80000 samples, validate on 20000 samples\n",
      "Epoch 1/1\n",
      "80000/80000 [==============================] - 11s - loss: 0.0280 - r2: 0.7687 - val_loss: 0.0266 - val_r2: 0.7787\n",
      "6\n",
      "Train on 80000 samples, validate on 20000 samples\n",
      "Epoch 1/1\n",
      "80000/80000 [==============================] - 11s - loss: 0.0276 - r2: 0.7722 - val_loss: 0.0288 - val_r2: 0.7626\n",
      "7\n",
      "Train on 80000 samples, validate on 20000 samples\n",
      "Epoch 1/1\n",
      "80000/80000 [==============================] - 11s - loss: 0.0279 - r2: 0.7724 - val_loss: 0.0267 - val_r2: 0.7780\n",
      "0\n",
      "Train on 80000 samples, validate on 20000 samples\n",
      "Epoch 1/1\n",
      "80000/80000 [==============================] - 11s - loss: 0.0275 - r2: 0.7742 - val_loss: 0.0280 - val_r2: 0.7688\n",
      "1\n",
      "Train on 80000 samples, validate on 20000 samples\n",
      "Epoch 1/1\n",
      "80000/80000 [==============================] - 11s - loss: 0.0268 - r2: 0.7784 - val_loss: 0.0265 - val_r2: 0.7805\n",
      "2\n",
      "Train on 80000 samples, validate on 20000 samples\n",
      "Epoch 1/1\n",
      "80000/80000 [==============================] - 11s - loss: 0.0272 - r2: 0.7760 - val_loss: 0.0255 - val_r2: 0.7873\n",
      "3\n",
      "Train on 80000 samples, validate on 20000 samples\n",
      "Epoch 1/1\n",
      "80000/80000 [==============================] - 11s - loss: 0.0260 - r2: 0.7867 - val_loss: 0.0250 - val_r2: 0.7964\n",
      "4\n",
      "Train on 80000 samples, validate on 20000 samples\n",
      "Epoch 1/1\n",
      "80000/80000 [==============================] - 11s - loss: 0.0262 - r2: 0.7844 - val_loss: 0.0263 - val_r2: 0.7845\n",
      "5\n",
      "Train on 80000 samples, validate on 20000 samples\n",
      "Epoch 1/1\n",
      "80000/80000 [==============================] - 11s - loss: 0.0261 - r2: 0.7847 - val_loss: 0.0250 - val_r2: 0.7911\n",
      "6\n",
      "Train on 80000 samples, validate on 20000 samples\n",
      "Epoch 1/1\n",
      "35700/80000 [============>.................] - ETA: 6s - loss: 0.0258 - r2: 0.7876"
     ]
    },
    {
     "ename": "KeyboardInterrupt",
     "evalue": "",
     "output_type": "error",
     "traceback": [
      "\u001b[0;31m---------------------------------------------------------------------------\u001b[0m",
      "\u001b[0;31mKeyboardInterrupt\u001b[0m                         Traceback (most recent call last)",
      "\u001b[0;32m<ipython-input-64-8cbb36bc7193>\u001b[0m in \u001b[0;36m<module>\u001b[0;34m()\u001b[0m\n\u001b[1;32m      4\u001b[0m     \u001b[0mtrain_targets\u001b[0m \u001b[0;34m=\u001b[0m \u001b[0mnp\u001b[0m\u001b[0;34m.\u001b[0m\u001b[0mload\u001b[0m\u001b[0;34m(\u001b[0m\u001b[0;34m\"FF_Targets_\"\u001b[0m\u001b[0;34m+\u001b[0m\u001b[0mstr\u001b[0m\u001b[0;34m(\u001b[0m\u001b[0mi\u001b[0m\u001b[0;34m%\u001b[0m\u001b[0;36m8\u001b[0m\u001b[0;34m)\u001b[0m\u001b[0;34m+\u001b[0m\u001b[0;34m\".npy\"\u001b[0m\u001b[0;34m)\u001b[0m\u001b[0;34m\u001b[0m\u001b[0m\n\u001b[1;32m      5\u001b[0m \u001b[0;34m\u001b[0m\u001b[0m\n\u001b[0;32m----> 6\u001b[0;31m     \u001b[0mfeedforward\u001b[0m\u001b[0;34m.\u001b[0m\u001b[0mfit\u001b[0m\u001b[0;34m(\u001b[0m\u001b[0mnp\u001b[0m\u001b[0;34m.\u001b[0m\u001b[0marray\u001b[0m\u001b[0;34m(\u001b[0m\u001b[0mtrain_statistics\u001b[0m\u001b[0;34m[\u001b[0m\u001b[0;34m:\u001b[0m\u001b[0;36m80000\u001b[0m\u001b[0;34m]\u001b[0m\u001b[0;34m)\u001b[0m\u001b[0;34m,\u001b[0m \u001b[0mnp\u001b[0m\u001b[0;34m.\u001b[0m\u001b[0marray\u001b[0m\u001b[0;34m(\u001b[0m\u001b[0mtrain_targets\u001b[0m\u001b[0;34m[\u001b[0m\u001b[0;34m:\u001b[0m\u001b[0;36m80000\u001b[0m\u001b[0;34m]\u001b[0m\u001b[0;34m)\u001b[0m\u001b[0;34m,\u001b[0m \u001b[0mnb_epoch\u001b[0m\u001b[0;34m=\u001b[0m\u001b[0;36m1\u001b[0m\u001b[0;34m,\u001b[0m \u001b[0mbatch_size\u001b[0m\u001b[0;34m=\u001b[0m\u001b[0;36m100\u001b[0m\u001b[0;34m,\u001b[0m \u001b[0mvalidation_data\u001b[0m\u001b[0;34m=\u001b[0m\u001b[0;34m(\u001b[0m\u001b[0mtrain_statistics\u001b[0m\u001b[0;34m[\u001b[0m\u001b[0;36m80000\u001b[0m\u001b[0;34m:\u001b[0m\u001b[0;34m]\u001b[0m\u001b[0;34m,\u001b[0m \u001b[0mtrain_targets\u001b[0m\u001b[0;34m[\u001b[0m\u001b[0;36m80000\u001b[0m\u001b[0;34m:\u001b[0m\u001b[0;34m]\u001b[0m\u001b[0;34m)\u001b[0m\u001b[0;34m)\u001b[0m\u001b[0;34m\u001b[0m\u001b[0m\n\u001b[0m\u001b[1;32m      7\u001b[0m     \u001b[0mfeedforward\u001b[0m\u001b[0;34m.\u001b[0m\u001b[0msave_weights\u001b[0m\u001b[0;34m(\u001b[0m\u001b[0;34m\"feedforward_running_weights_elu_mape.h5\"\u001b[0m\u001b[0;34m)\u001b[0m\u001b[0;34m\u001b[0m\u001b[0m\n",
      "\u001b[0;32m/home/carnd/anaconda3/envs/carnd-term1/lib/python3.5/site-packages/keras/models.py\u001b[0m in \u001b[0;36mfit\u001b[0;34m(self, x, y, batch_size, nb_epoch, verbose, callbacks, validation_split, validation_data, shuffle, class_weight, sample_weight, initial_epoch, **kwargs)\u001b[0m\n\u001b[1;32m    670\u001b[0m                               \u001b[0mclass_weight\u001b[0m\u001b[0;34m=\u001b[0m\u001b[0mclass_weight\u001b[0m\u001b[0;34m,\u001b[0m\u001b[0;34m\u001b[0m\u001b[0m\n\u001b[1;32m    671\u001b[0m                               \u001b[0msample_weight\u001b[0m\u001b[0;34m=\u001b[0m\u001b[0msample_weight\u001b[0m\u001b[0;34m,\u001b[0m\u001b[0;34m\u001b[0m\u001b[0m\n\u001b[0;32m--> 672\u001b[0;31m                               initial_epoch=initial_epoch)\n\u001b[0m\u001b[1;32m    673\u001b[0m \u001b[0;34m\u001b[0m\u001b[0m\n\u001b[1;32m    674\u001b[0m     def evaluate(self, x, y, batch_size=32, verbose=1,\n",
      "\u001b[0;32m/home/carnd/anaconda3/envs/carnd-term1/lib/python3.5/site-packages/keras/engine/training.py\u001b[0m in \u001b[0;36mfit\u001b[0;34m(self, x, y, batch_size, nb_epoch, verbose, callbacks, validation_split, validation_data, shuffle, class_weight, sample_weight, initial_epoch)\u001b[0m\n\u001b[1;32m   1190\u001b[0m                               \u001b[0mval_f\u001b[0m\u001b[0;34m=\u001b[0m\u001b[0mval_f\u001b[0m\u001b[0;34m,\u001b[0m \u001b[0mval_ins\u001b[0m\u001b[0;34m=\u001b[0m\u001b[0mval_ins\u001b[0m\u001b[0;34m,\u001b[0m \u001b[0mshuffle\u001b[0m\u001b[0;34m=\u001b[0m\u001b[0mshuffle\u001b[0m\u001b[0;34m,\u001b[0m\u001b[0;34m\u001b[0m\u001b[0m\n\u001b[1;32m   1191\u001b[0m                               \u001b[0mcallback_metrics\u001b[0m\u001b[0;34m=\u001b[0m\u001b[0mcallback_metrics\u001b[0m\u001b[0;34m,\u001b[0m\u001b[0;34m\u001b[0m\u001b[0m\n\u001b[0;32m-> 1192\u001b[0;31m                               initial_epoch=initial_epoch)\n\u001b[0m\u001b[1;32m   1193\u001b[0m \u001b[0;34m\u001b[0m\u001b[0m\n\u001b[1;32m   1194\u001b[0m     \u001b[0;32mdef\u001b[0m \u001b[0mevaluate\u001b[0m\u001b[0;34m(\u001b[0m\u001b[0mself\u001b[0m\u001b[0;34m,\u001b[0m \u001b[0mx\u001b[0m\u001b[0;34m,\u001b[0m \u001b[0my\u001b[0m\u001b[0;34m,\u001b[0m \u001b[0mbatch_size\u001b[0m\u001b[0;34m=\u001b[0m\u001b[0;36m32\u001b[0m\u001b[0;34m,\u001b[0m \u001b[0mverbose\u001b[0m\u001b[0;34m=\u001b[0m\u001b[0;36m1\u001b[0m\u001b[0;34m,\u001b[0m \u001b[0msample_weight\u001b[0m\u001b[0;34m=\u001b[0m\u001b[0;32mNone\u001b[0m\u001b[0;34m)\u001b[0m\u001b[0;34m:\u001b[0m\u001b[0;34m\u001b[0m\u001b[0m\n",
      "\u001b[0;32m/home/carnd/anaconda3/envs/carnd-term1/lib/python3.5/site-packages/keras/engine/training.py\u001b[0m in \u001b[0;36m_fit_loop\u001b[0;34m(self, f, ins, out_labels, batch_size, nb_epoch, verbose, callbacks, val_f, val_ins, shuffle, callback_metrics, initial_epoch)\u001b[0m\n\u001b[1;32m    890\u001b[0m                 \u001b[0mbatch_logs\u001b[0m\u001b[0;34m[\u001b[0m\u001b[0;34m'size'\u001b[0m\u001b[0;34m]\u001b[0m \u001b[0;34m=\u001b[0m \u001b[0mlen\u001b[0m\u001b[0;34m(\u001b[0m\u001b[0mbatch_ids\u001b[0m\u001b[0;34m)\u001b[0m\u001b[0;34m\u001b[0m\u001b[0m\n\u001b[1;32m    891\u001b[0m                 \u001b[0mcallbacks\u001b[0m\u001b[0;34m.\u001b[0m\u001b[0mon_batch_begin\u001b[0m\u001b[0;34m(\u001b[0m\u001b[0mbatch_index\u001b[0m\u001b[0;34m,\u001b[0m \u001b[0mbatch_logs\u001b[0m\u001b[0;34m)\u001b[0m\u001b[0;34m\u001b[0m\u001b[0m\n\u001b[0;32m--> 892\u001b[0;31m                 \u001b[0mouts\u001b[0m \u001b[0;34m=\u001b[0m \u001b[0mf\u001b[0m\u001b[0;34m(\u001b[0m\u001b[0mins_batch\u001b[0m\u001b[0;34m)\u001b[0m\u001b[0;34m\u001b[0m\u001b[0m\n\u001b[0m\u001b[1;32m    893\u001b[0m                 \u001b[0;32mif\u001b[0m \u001b[0;32mnot\u001b[0m \u001b[0misinstance\u001b[0m\u001b[0;34m(\u001b[0m\u001b[0mouts\u001b[0m\u001b[0;34m,\u001b[0m \u001b[0mlist\u001b[0m\u001b[0;34m)\u001b[0m\u001b[0;34m:\u001b[0m\u001b[0;34m\u001b[0m\u001b[0m\n\u001b[1;32m    894\u001b[0m                     \u001b[0mouts\u001b[0m \u001b[0;34m=\u001b[0m \u001b[0;34m[\u001b[0m\u001b[0mouts\u001b[0m\u001b[0;34m]\u001b[0m\u001b[0;34m\u001b[0m\u001b[0m\n",
      "\u001b[0;32m/home/carnd/anaconda3/envs/carnd-term1/lib/python3.5/site-packages/keras/backend/tensorflow_backend.py\u001b[0m in \u001b[0;36m__call__\u001b[0;34m(self, inputs)\u001b[0m\n\u001b[1;32m   1898\u001b[0m         \u001b[0msession\u001b[0m \u001b[0;34m=\u001b[0m \u001b[0mget_session\u001b[0m\u001b[0;34m(\u001b[0m\u001b[0;34m)\u001b[0m\u001b[0;34m\u001b[0m\u001b[0m\n\u001b[1;32m   1899\u001b[0m         updated = session.run(self.outputs + [self.updates_op],\n\u001b[0;32m-> 1900\u001b[0;31m                               feed_dict=feed_dict)\n\u001b[0m\u001b[1;32m   1901\u001b[0m         \u001b[0;32mreturn\u001b[0m \u001b[0mupdated\u001b[0m\u001b[0;34m[\u001b[0m\u001b[0;34m:\u001b[0m\u001b[0mlen\u001b[0m\u001b[0;34m(\u001b[0m\u001b[0mself\u001b[0m\u001b[0;34m.\u001b[0m\u001b[0moutputs\u001b[0m\u001b[0;34m)\u001b[0m\u001b[0;34m]\u001b[0m\u001b[0;34m\u001b[0m\u001b[0m\n\u001b[1;32m   1902\u001b[0m \u001b[0;34m\u001b[0m\u001b[0m\n",
      "\u001b[0;32m/home/carnd/anaconda3/envs/carnd-term1/lib/python3.5/site-packages/tensorflow/python/client/session.py\u001b[0m in \u001b[0;36mrun\u001b[0;34m(self, fetches, feed_dict, options, run_metadata)\u001b[0m\n\u001b[1;32m    764\u001b[0m     \u001b[0;32mtry\u001b[0m\u001b[0;34m:\u001b[0m\u001b[0;34m\u001b[0m\u001b[0m\n\u001b[1;32m    765\u001b[0m       result = self._run(None, fetches, feed_dict, options_ptr,\n\u001b[0;32m--> 766\u001b[0;31m                          run_metadata_ptr)\n\u001b[0m\u001b[1;32m    767\u001b[0m       \u001b[0;32mif\u001b[0m \u001b[0mrun_metadata\u001b[0m\u001b[0;34m:\u001b[0m\u001b[0;34m\u001b[0m\u001b[0m\n\u001b[1;32m    768\u001b[0m         \u001b[0mproto_data\u001b[0m \u001b[0;34m=\u001b[0m \u001b[0mtf_session\u001b[0m\u001b[0;34m.\u001b[0m\u001b[0mTF_GetBuffer\u001b[0m\u001b[0;34m(\u001b[0m\u001b[0mrun_metadata_ptr\u001b[0m\u001b[0;34m)\u001b[0m\u001b[0;34m\u001b[0m\u001b[0m\n",
      "\u001b[0;32m/home/carnd/anaconda3/envs/carnd-term1/lib/python3.5/site-packages/tensorflow/python/client/session.py\u001b[0m in \u001b[0;36m_run\u001b[0;34m(self, handle, fetches, feed_dict, options, run_metadata)\u001b[0m\n\u001b[1;32m    962\u001b[0m     \u001b[0;32mif\u001b[0m \u001b[0mfinal_fetches\u001b[0m \u001b[0;32mor\u001b[0m \u001b[0mfinal_targets\u001b[0m\u001b[0;34m:\u001b[0m\u001b[0;34m\u001b[0m\u001b[0m\n\u001b[1;32m    963\u001b[0m       results = self._do_run(handle, final_targets, final_fetches,\n\u001b[0;32m--> 964\u001b[0;31m                              feed_dict_string, options, run_metadata)\n\u001b[0m\u001b[1;32m    965\u001b[0m     \u001b[0;32melse\u001b[0m\u001b[0;34m:\u001b[0m\u001b[0;34m\u001b[0m\u001b[0m\n\u001b[1;32m    966\u001b[0m       \u001b[0mresults\u001b[0m \u001b[0;34m=\u001b[0m \u001b[0;34m[\u001b[0m\u001b[0;34m]\u001b[0m\u001b[0;34m\u001b[0m\u001b[0m\n",
      "\u001b[0;32m/home/carnd/anaconda3/envs/carnd-term1/lib/python3.5/site-packages/tensorflow/python/client/session.py\u001b[0m in \u001b[0;36m_do_run\u001b[0;34m(self, handle, target_list, fetch_list, feed_dict, options, run_metadata)\u001b[0m\n\u001b[1;32m   1012\u001b[0m     \u001b[0;32mif\u001b[0m \u001b[0mhandle\u001b[0m \u001b[0;32mis\u001b[0m \u001b[0;32mNone\u001b[0m\u001b[0;34m:\u001b[0m\u001b[0;34m\u001b[0m\u001b[0m\n\u001b[1;32m   1013\u001b[0m       return self._do_call(_run_fn, self._session, feed_dict, fetch_list,\n\u001b[0;32m-> 1014\u001b[0;31m                            target_list, options, run_metadata)\n\u001b[0m\u001b[1;32m   1015\u001b[0m     \u001b[0;32melse\u001b[0m\u001b[0;34m:\u001b[0m\u001b[0;34m\u001b[0m\u001b[0m\n\u001b[1;32m   1016\u001b[0m       return self._do_call(_prun_fn, self._session, handle, feed_dict,\n",
      "\u001b[0;32m/home/carnd/anaconda3/envs/carnd-term1/lib/python3.5/site-packages/tensorflow/python/client/session.py\u001b[0m in \u001b[0;36m_do_call\u001b[0;34m(self, fn, *args)\u001b[0m\n\u001b[1;32m   1019\u001b[0m   \u001b[0;32mdef\u001b[0m \u001b[0m_do_call\u001b[0m\u001b[0;34m(\u001b[0m\u001b[0mself\u001b[0m\u001b[0;34m,\u001b[0m \u001b[0mfn\u001b[0m\u001b[0;34m,\u001b[0m \u001b[0;34m*\u001b[0m\u001b[0margs\u001b[0m\u001b[0;34m)\u001b[0m\u001b[0;34m:\u001b[0m\u001b[0;34m\u001b[0m\u001b[0m\n\u001b[1;32m   1020\u001b[0m     \u001b[0;32mtry\u001b[0m\u001b[0;34m:\u001b[0m\u001b[0;34m\u001b[0m\u001b[0m\n\u001b[0;32m-> 1021\u001b[0;31m       \u001b[0;32mreturn\u001b[0m \u001b[0mfn\u001b[0m\u001b[0;34m(\u001b[0m\u001b[0;34m*\u001b[0m\u001b[0margs\u001b[0m\u001b[0;34m)\u001b[0m\u001b[0;34m\u001b[0m\u001b[0m\n\u001b[0m\u001b[1;32m   1022\u001b[0m     \u001b[0;32mexcept\u001b[0m \u001b[0merrors\u001b[0m\u001b[0;34m.\u001b[0m\u001b[0mOpError\u001b[0m \u001b[0;32mas\u001b[0m \u001b[0me\u001b[0m\u001b[0;34m:\u001b[0m\u001b[0;34m\u001b[0m\u001b[0m\n\u001b[1;32m   1023\u001b[0m       \u001b[0mmessage\u001b[0m \u001b[0;34m=\u001b[0m \u001b[0mcompat\u001b[0m\u001b[0;34m.\u001b[0m\u001b[0mas_text\u001b[0m\u001b[0;34m(\u001b[0m\u001b[0me\u001b[0m\u001b[0;34m.\u001b[0m\u001b[0mmessage\u001b[0m\u001b[0;34m)\u001b[0m\u001b[0;34m\u001b[0m\u001b[0m\n",
      "\u001b[0;32m/home/carnd/anaconda3/envs/carnd-term1/lib/python3.5/site-packages/tensorflow/python/client/session.py\u001b[0m in \u001b[0;36m_run_fn\u001b[0;34m(session, feed_dict, fetch_list, target_list, options, run_metadata)\u001b[0m\n\u001b[1;32m   1001\u001b[0m         return tf_session.TF_Run(session, options,\n\u001b[1;32m   1002\u001b[0m                                  \u001b[0mfeed_dict\u001b[0m\u001b[0;34m,\u001b[0m \u001b[0mfetch_list\u001b[0m\u001b[0;34m,\u001b[0m \u001b[0mtarget_list\u001b[0m\u001b[0;34m,\u001b[0m\u001b[0;34m\u001b[0m\u001b[0m\n\u001b[0;32m-> 1003\u001b[0;31m                                  status, run_metadata)\n\u001b[0m\u001b[1;32m   1004\u001b[0m \u001b[0;34m\u001b[0m\u001b[0m\n\u001b[1;32m   1005\u001b[0m     \u001b[0;32mdef\u001b[0m \u001b[0m_prun_fn\u001b[0m\u001b[0;34m(\u001b[0m\u001b[0msession\u001b[0m\u001b[0;34m,\u001b[0m \u001b[0mhandle\u001b[0m\u001b[0;34m,\u001b[0m \u001b[0mfeed_dict\u001b[0m\u001b[0;34m,\u001b[0m \u001b[0mfetch_list\u001b[0m\u001b[0;34m)\u001b[0m\u001b[0;34m:\u001b[0m\u001b[0;34m\u001b[0m\u001b[0m\n",
      "\u001b[0;31mKeyboardInterrupt\u001b[0m: "
     ]
    }
   ],
   "source": [
    "for i in range(150):\n",
    "    print(str(i%8))\n",
    "    train_statistics = np.load(\"FF_Statistics_\"+str(i%8)+\".npy\")\n",
    "    train_targets = np.load(\"FF_Targets_\"+str(i%8)+\".npy\")\n",
    "    \n",
    "    feedforward.fit(np.array(train_statistics[:80000]), np.array(train_targets[:80000]), nb_epoch=1, batch_size=100, validation_data=(train_statistics[80000:], train_targets[80000:]))\n",
    "    feedforward.save_weights(\"feedforward_running_weights_elu_mape.h5\")"
   ]
  },
  {
   "cell_type": "markdown",
   "metadata": {
    "nbpresent": {
     "id": "23080745-c31e-462b-8e27-67b34eec54c9"
    }
   },
   "source": [
    "# 2D Convolutional Neural Network"
   ]
  },
  {
   "cell_type": "code",
   "execution_count": 8,
   "metadata": {
    "nbpresent": {
     "id": "1bef3e04-640c-490d-8e92-f6a7368b971d"
    }
   },
   "outputs": [
    {
     "name": "stderr",
     "output_type": "stream",
     "text": [
      "/home/carnd/anaconda3/envs/carnd-term1/lib/python3.5/site-packages/ipykernel_launcher.py:2: UserWarning: Update your `Conv2D` call to the Keras 2 API: `Conv2D(40, (3, 3), activation=\"tanh\", input_shape=(40, 50, 1..., padding=\"same\")`\n",
      "  \n",
      "/home/carnd/anaconda3/envs/carnd-term1/lib/python3.5/site-packages/ipykernel_launcher.py:3: UserWarning: Update your `Conv2D` call to the Keras 2 API: `Conv2D(40, (3, 3), activation=\"tanh\", padding=\"same\")`\n",
      "  This is separate from the ipykernel package so we can avoid doing imports until\n",
      "/home/carnd/anaconda3/envs/carnd-term1/lib/python3.5/site-packages/ipykernel_launcher.py:6: UserWarning: Update your `Conv2D` call to the Keras 2 API: `Conv2D(64, (3, 3), activation=\"tanh\", padding=\"same\")`\n",
      "  \n",
      "/home/carnd/anaconda3/envs/carnd-term1/lib/python3.5/site-packages/ipykernel_launcher.py:7: UserWarning: Update your `Conv2D` call to the Keras 2 API: `Conv2D(64, (3, 3), activation=\"tanh\", padding=\"same\")`\n",
      "  import sys\n",
      "/home/carnd/anaconda3/envs/carnd-term1/lib/python3.5/site-packages/ipykernel_launcher.py:10: UserWarning: Update your `Conv2D` call to the Keras 2 API: `Conv2D(128, (3, 3), activation=\"tanh\", padding=\"same\")`\n",
      "  # Remove the CWD from sys.path while we load stuff.\n",
      "/home/carnd/anaconda3/envs/carnd-term1/lib/python3.5/site-packages/ipykernel_launcher.py:11: UserWarning: Update your `Conv2D` call to the Keras 2 API: `Conv2D(128, (3, 3), activation=\"tanh\", padding=\"same\")`\n",
      "  # This is added back by InteractiveShellApp.init_path()\n"
     ]
    }
   ],
   "source": [
    "covnet = Sequential()\n",
    "covnet.add(Convolution2D(40, 3, 3, input_shape=(40, 50, 1), border_mode='same', activation='tanh'))\n",
    "covnet.add(Convolution2D(40, 3, 3, activation='tanh', border_mode='same'))\n",
    "covnet.add(MaxPooling2D(pool_size=(2,2)))\n",
    "\n",
    "covnet.add(Convolution2D(64, 3, 3, border_mode='same', activation='tanh'))\n",
    "covnet.add(Convolution2D(64, 3, 3, activation='tanh', border_mode='same'))\n",
    "covnet.add(MaxPooling2D(pool_size=(2,2)))\n",
    "\n",
    "covnet.add(Convolution2D(128, 3, 3, border_mode='same', activation='tanh'))\n",
    "covnet.add(Convolution2D(128, 3, 3, activation='tanh', border_mode='same'))\n",
    "covnet.add(MaxPooling2D(pool_size=(2,2)))\n",
    "\n",
    "covnet.add(Flatten())\n",
    "covnet.add(Dense(1024, activation='tanh'))\n",
    "covnet.add(Dense(512, activation='tanh'))\n",
    "covnet.add(Dense(5))"
   ]
  },
  {
   "cell_type": "code",
   "execution_count": 10,
   "metadata": {
    "nbpresent": {
     "id": "9f42cc64-3251-43ca-b9a1-5f4ece25fbe3"
    }
   },
   "outputs": [
    {
     "name": "stdout",
     "output_type": "stream",
     "text": [
      "_________________________________________________________________\n",
      "Layer (type)                 Output Shape              Param #   \n",
      "=================================================================\n",
      "conv2d_1 (Conv2D)            (None, 40, 50, 40)        400       \n",
      "_________________________________________________________________\n",
      "conv2d_2 (Conv2D)            (None, 40, 50, 40)        14440     \n",
      "_________________________________________________________________\n",
      "max_pooling2d_1 (MaxPooling2 (None, 20, 25, 40)        0         \n",
      "_________________________________________________________________\n",
      "conv2d_3 (Conv2D)            (None, 20, 25, 64)        23104     \n",
      "_________________________________________________________________\n",
      "conv2d_4 (Conv2D)            (None, 20, 25, 64)        36928     \n",
      "_________________________________________________________________\n",
      "max_pooling2d_2 (MaxPooling2 (None, 10, 12, 64)        0         \n",
      "_________________________________________________________________\n",
      "conv2d_5 (Conv2D)            (None, 10, 12, 128)       73856     \n",
      "_________________________________________________________________\n",
      "conv2d_6 (Conv2D)            (None, 10, 12, 128)       147584    \n",
      "_________________________________________________________________\n",
      "max_pooling2d_3 (MaxPooling2 (None, 5, 6, 128)         0         \n",
      "_________________________________________________________________\n",
      "flatten_1 (Flatten)          (None, 3840)              0         \n",
      "_________________________________________________________________\n",
      "dense_1 (Dense)              (None, 1024)              3933184   \n",
      "_________________________________________________________________\n",
      "dense_2 (Dense)              (None, 512)               524800    \n",
      "_________________________________________________________________\n",
      "dense_3 (Dense)              (None, 5)                 2565      \n",
      "=================================================================\n",
      "Total params: 4,756,861\n",
      "Trainable params: 4,756,861\n",
      "Non-trainable params: 0\n",
      "_________________________________________________________________\n"
     ]
    }
   ],
   "source": [
    "covnet.compile('adam', 'mean_squared_error', metrics=[r2, \"mean_absolute_percentage_error\"])\n",
    "#covnet.load_weights(\"covnet_mape_running.h5\")\n",
    "covnet.summary()"
   ]
  },
  {
   "cell_type": "code",
   "execution_count": null,
   "metadata": {
    "collapsed": true,
    "nbpresent": {
     "id": "d9c79c54-36e2-4d61-ab91-0998258c57c3"
    }
   },
   "outputs": [],
   "source": [
    "covnet.load_weights(\"covnet_mse_tanh_running.h5\")"
   ]
  },
  {
   "cell_type": "code",
   "execution_count": null,
   "metadata": {
    "collapsed": true
   },
   "outputs": [],
   "source": [
    "covnet.save(\"covnet_y.h5\")"
   ]
  },
  {
   "cell_type": "code",
   "execution_count": null,
   "metadata": {
    "collapsed": true,
    "nbpresent": {
     "id": "61720834-ecd5-406d-8024-7adc686f62bc"
    }
   },
   "outputs": [],
   "source": [
    "#RETURNS_, PARAMS_ = get_returns(2000)\n",
    "RETURNS_ = np.load(\"MertonReturns_2000_0.npy\")\n",
    "PARAMS_ = np.load(\"ModelParameters_2000_0.npy\")\n",
    "train_data = np.reshape(np.array(RETURNS_), (100000, 40, 50, 1))\n",
    "train_targets = np.array([[mp.all_sigma, mp.gbm_mu, mp.jumps_sigma, mp.jumps_mu, mp.lamda] for mp in PARAMS_])"
   ]
  },
  {
   "cell_type": "code",
   "execution_count": null,
   "metadata": {
    "collapsed": true,
    "nbpresent": {
     "id": "00d088ee-de8c-47f5-a97d-560265ba9351"
    }
   },
   "outputs": [],
   "source": [
    "random_permute = np.random.permutation(len(train_data))\n",
    "train_data = train_data[random_permute]\n",
    "train_targets = train_targets[random_permute]"
   ]
  },
  {
   "cell_type": "code",
   "execution_count": 49,
   "metadata": {
    "nbpresent": {
     "id": "af8000f3-742a-4a82-ba61-f46e4ca45edc"
    },
    "scrolled": true
   },
   "outputs": [
    {
     "name": "stderr",
     "output_type": "stream",
     "text": [
      "/home/carnd/anaconda3/envs/carnd-term1/lib/python3.5/site-packages/keras/models.py:851: UserWarning: The `nb_epoch` argument in `fit` has been renamed `epochs`.\n",
      "  warnings.warn('The `nb_epoch` argument in `fit` '\n"
     ]
    },
    {
     "name": "stdout",
     "output_type": "stream",
     "text": [
      "Train on 80000 samples, validate on 20000 samples\n",
      "Epoch 1/1\n",
      "80000/80000 [==============================] - 147s - loss: 0.0041 - r2: 0.9665 - val_loss: 0.0038 - val_r2: 0.9680\n",
      "Train on 80000 samples, validate on 20000 samples\n",
      "Epoch 1/1\n",
      "80000/80000 [==============================] - 145s - loss: 0.0040 - r2: 0.9670 - val_loss: 0.0039 - val_r2: 0.9672\n",
      "Train on 80000 samples, validate on 20000 samples\n",
      "Epoch 1/1\n",
      "14000/80000 [====>.........................] - ETA: 112s - loss: 0.0040 - r2: 0.9670"
     ]
    },
    {
     "ename": "KeyboardInterrupt",
     "evalue": "",
     "output_type": "error",
     "traceback": [
      "\u001b[0;31m---------------------------------------------------------------------------\u001b[0m",
      "\u001b[0;31mKeyboardInterrupt\u001b[0m                         Traceback (most recent call last)",
      "\u001b[0;32m<ipython-input-49-fa6452ebc0c0>\u001b[0m in \u001b[0;36m<module>\u001b[0;34m()\u001b[0m\n\u001b[1;32m      5\u001b[0m     \u001b[0mtrain_targets\u001b[0m \u001b[0;34m=\u001b[0m \u001b[0mnp\u001b[0m\u001b[0;34m.\u001b[0m\u001b[0marray\u001b[0m\u001b[0;34m(\u001b[0m\u001b[0;34m[\u001b[0m\u001b[0;34m[\u001b[0m\u001b[0mmp\u001b[0m\u001b[0;34m.\u001b[0m\u001b[0mall_sigma\u001b[0m\u001b[0;34m,\u001b[0m \u001b[0mmp\u001b[0m\u001b[0;34m.\u001b[0m\u001b[0mgbm_mu\u001b[0m\u001b[0;34m,\u001b[0m \u001b[0mmp\u001b[0m\u001b[0;34m.\u001b[0m\u001b[0mjumps_sigma\u001b[0m\u001b[0;34m,\u001b[0m \u001b[0mmp\u001b[0m\u001b[0;34m.\u001b[0m\u001b[0mjumps_mu\u001b[0m\u001b[0;34m,\u001b[0m \u001b[0mmp\u001b[0m\u001b[0;34m.\u001b[0m\u001b[0mlamda\u001b[0m\u001b[0;34m]\u001b[0m \u001b[0;32mfor\u001b[0m \u001b[0mmp\u001b[0m \u001b[0;32min\u001b[0m \u001b[0mPARAMS_\u001b[0m\u001b[0;34m]\u001b[0m\u001b[0;34m)\u001b[0m\u001b[0;34m\u001b[0m\u001b[0m\n\u001b[1;32m      6\u001b[0m \u001b[0;34m\u001b[0m\u001b[0m\n\u001b[0;32m----> 7\u001b[0;31m     \u001b[0mhistory\u001b[0m \u001b[0;34m=\u001b[0m \u001b[0mcovnet\u001b[0m\u001b[0;34m.\u001b[0m\u001b[0mfit\u001b[0m\u001b[0;34m(\u001b[0m\u001b[0mnp\u001b[0m\u001b[0;34m.\u001b[0m\u001b[0marray\u001b[0m\u001b[0;34m(\u001b[0m\u001b[0mtrain_data\u001b[0m\u001b[0;34m[\u001b[0m\u001b[0;34m:\u001b[0m\u001b[0;36m80000\u001b[0m\u001b[0;34m]\u001b[0m\u001b[0;34m)\u001b[0m\u001b[0;34m,\u001b[0m \u001b[0mnp\u001b[0m\u001b[0;34m.\u001b[0m\u001b[0marray\u001b[0m\u001b[0;34m(\u001b[0m\u001b[0mtrain_targets\u001b[0m\u001b[0;34m[\u001b[0m\u001b[0;34m:\u001b[0m\u001b[0;36m80000\u001b[0m\u001b[0;34m]\u001b[0m\u001b[0;34m)\u001b[0m\u001b[0;34m,\u001b[0m \u001b[0mnb_epoch\u001b[0m\u001b[0;34m=\u001b[0m\u001b[0;36m1\u001b[0m\u001b[0;34m,\u001b[0m \u001b[0mbatch_size\u001b[0m\u001b[0;34m=\u001b[0m\u001b[0;36m100\u001b[0m\u001b[0;34m,\u001b[0m \u001b[0mvalidation_data\u001b[0m\u001b[0;34m=\u001b[0m\u001b[0;34m(\u001b[0m\u001b[0mtrain_data\u001b[0m\u001b[0;34m[\u001b[0m\u001b[0;36m80000\u001b[0m\u001b[0;34m:\u001b[0m\u001b[0;34m]\u001b[0m\u001b[0;34m,\u001b[0m \u001b[0mtrain_targets\u001b[0m\u001b[0;34m[\u001b[0m\u001b[0;36m80000\u001b[0m\u001b[0;34m:\u001b[0m\u001b[0;34m]\u001b[0m\u001b[0;34m)\u001b[0m\u001b[0;34m)\u001b[0m\u001b[0;34m\u001b[0m\u001b[0m\n\u001b[0m\u001b[1;32m      8\u001b[0m     \u001b[0mcovnet\u001b[0m\u001b[0;34m.\u001b[0m\u001b[0msave_weights\u001b[0m\u001b[0;34m(\u001b[0m\u001b[0;34m\"covnet_mse_tanh.h5\"\u001b[0m\u001b[0;34m)\u001b[0m\u001b[0;34m\u001b[0m\u001b[0m\n",
      "\u001b[0;32m/home/carnd/anaconda3/envs/carnd-term1/lib/python3.5/site-packages/keras/models.py\u001b[0m in \u001b[0;36mfit\u001b[0;34m(self, x, y, batch_size, epochs, verbose, callbacks, validation_split, validation_data, shuffle, class_weight, sample_weight, initial_epoch, **kwargs)\u001b[0m\n\u001b[1;32m    868\u001b[0m                               \u001b[0mclass_weight\u001b[0m\u001b[0;34m=\u001b[0m\u001b[0mclass_weight\u001b[0m\u001b[0;34m,\u001b[0m\u001b[0;34m\u001b[0m\u001b[0m\n\u001b[1;32m    869\u001b[0m                               \u001b[0msample_weight\u001b[0m\u001b[0;34m=\u001b[0m\u001b[0msample_weight\u001b[0m\u001b[0;34m,\u001b[0m\u001b[0;34m\u001b[0m\u001b[0m\n\u001b[0;32m--> 870\u001b[0;31m                               initial_epoch=initial_epoch)\n\u001b[0m\u001b[1;32m    871\u001b[0m \u001b[0;34m\u001b[0m\u001b[0m\n\u001b[1;32m    872\u001b[0m     def evaluate(self, x, y, batch_size=32, verbose=1,\n",
      "\u001b[0;32m/home/carnd/anaconda3/envs/carnd-term1/lib/python3.5/site-packages/keras/engine/training.py\u001b[0m in \u001b[0;36mfit\u001b[0;34m(self, x, y, batch_size, epochs, verbose, callbacks, validation_split, validation_data, shuffle, class_weight, sample_weight, initial_epoch, **kwargs)\u001b[0m\n\u001b[1;32m   1505\u001b[0m                               \u001b[0mval_f\u001b[0m\u001b[0;34m=\u001b[0m\u001b[0mval_f\u001b[0m\u001b[0;34m,\u001b[0m \u001b[0mval_ins\u001b[0m\u001b[0;34m=\u001b[0m\u001b[0mval_ins\u001b[0m\u001b[0;34m,\u001b[0m \u001b[0mshuffle\u001b[0m\u001b[0;34m=\u001b[0m\u001b[0mshuffle\u001b[0m\u001b[0;34m,\u001b[0m\u001b[0;34m\u001b[0m\u001b[0m\n\u001b[1;32m   1506\u001b[0m                               \u001b[0mcallback_metrics\u001b[0m\u001b[0;34m=\u001b[0m\u001b[0mcallback_metrics\u001b[0m\u001b[0;34m,\u001b[0m\u001b[0;34m\u001b[0m\u001b[0m\n\u001b[0;32m-> 1507\u001b[0;31m                               initial_epoch=initial_epoch)\n\u001b[0m\u001b[1;32m   1508\u001b[0m \u001b[0;34m\u001b[0m\u001b[0m\n\u001b[1;32m   1509\u001b[0m     \u001b[0;32mdef\u001b[0m \u001b[0mevaluate\u001b[0m\u001b[0;34m(\u001b[0m\u001b[0mself\u001b[0m\u001b[0;34m,\u001b[0m \u001b[0mx\u001b[0m\u001b[0;34m,\u001b[0m \u001b[0my\u001b[0m\u001b[0;34m,\u001b[0m \u001b[0mbatch_size\u001b[0m\u001b[0;34m=\u001b[0m\u001b[0;36m32\u001b[0m\u001b[0;34m,\u001b[0m \u001b[0mverbose\u001b[0m\u001b[0;34m=\u001b[0m\u001b[0;36m1\u001b[0m\u001b[0;34m,\u001b[0m \u001b[0msample_weight\u001b[0m\u001b[0;34m=\u001b[0m\u001b[0;32mNone\u001b[0m\u001b[0;34m)\u001b[0m\u001b[0;34m:\u001b[0m\u001b[0;34m\u001b[0m\u001b[0m\n",
      "\u001b[0;32m/home/carnd/anaconda3/envs/carnd-term1/lib/python3.5/site-packages/keras/engine/training.py\u001b[0m in \u001b[0;36m_fit_loop\u001b[0;34m(self, f, ins, out_labels, batch_size, epochs, verbose, callbacks, val_f, val_ins, shuffle, callback_metrics, initial_epoch)\u001b[0m\n\u001b[1;32m   1154\u001b[0m                 \u001b[0mbatch_logs\u001b[0m\u001b[0;34m[\u001b[0m\u001b[0;34m'size'\u001b[0m\u001b[0;34m]\u001b[0m \u001b[0;34m=\u001b[0m \u001b[0mlen\u001b[0m\u001b[0;34m(\u001b[0m\u001b[0mbatch_ids\u001b[0m\u001b[0;34m)\u001b[0m\u001b[0;34m\u001b[0m\u001b[0m\n\u001b[1;32m   1155\u001b[0m                 \u001b[0mcallbacks\u001b[0m\u001b[0;34m.\u001b[0m\u001b[0mon_batch_begin\u001b[0m\u001b[0;34m(\u001b[0m\u001b[0mbatch_index\u001b[0m\u001b[0;34m,\u001b[0m \u001b[0mbatch_logs\u001b[0m\u001b[0;34m)\u001b[0m\u001b[0;34m\u001b[0m\u001b[0m\n\u001b[0;32m-> 1156\u001b[0;31m                 \u001b[0mouts\u001b[0m \u001b[0;34m=\u001b[0m \u001b[0mf\u001b[0m\u001b[0;34m(\u001b[0m\u001b[0mins_batch\u001b[0m\u001b[0;34m)\u001b[0m\u001b[0;34m\u001b[0m\u001b[0m\n\u001b[0m\u001b[1;32m   1157\u001b[0m                 \u001b[0;32mif\u001b[0m \u001b[0;32mnot\u001b[0m \u001b[0misinstance\u001b[0m\u001b[0;34m(\u001b[0m\u001b[0mouts\u001b[0m\u001b[0;34m,\u001b[0m \u001b[0mlist\u001b[0m\u001b[0;34m)\u001b[0m\u001b[0;34m:\u001b[0m\u001b[0;34m\u001b[0m\u001b[0m\n\u001b[1;32m   1158\u001b[0m                     \u001b[0mouts\u001b[0m \u001b[0;34m=\u001b[0m \u001b[0;34m[\u001b[0m\u001b[0mouts\u001b[0m\u001b[0;34m]\u001b[0m\u001b[0;34m\u001b[0m\u001b[0m\n",
      "\u001b[0;32m/home/carnd/anaconda3/envs/carnd-term1/lib/python3.5/site-packages/keras/backend/tensorflow_backend.py\u001b[0m in \u001b[0;36m__call__\u001b[0;34m(self, inputs)\u001b[0m\n\u001b[1;32m   2267\u001b[0m         updated = session.run(self.outputs + [self.updates_op],\n\u001b[1;32m   2268\u001b[0m                               \u001b[0mfeed_dict\u001b[0m\u001b[0;34m=\u001b[0m\u001b[0mfeed_dict\u001b[0m\u001b[0;34m,\u001b[0m\u001b[0;34m\u001b[0m\u001b[0m\n\u001b[0;32m-> 2269\u001b[0;31m                               **self.session_kwargs)\n\u001b[0m\u001b[1;32m   2270\u001b[0m         \u001b[0;32mreturn\u001b[0m \u001b[0mupdated\u001b[0m\u001b[0;34m[\u001b[0m\u001b[0;34m:\u001b[0m\u001b[0mlen\u001b[0m\u001b[0;34m(\u001b[0m\u001b[0mself\u001b[0m\u001b[0;34m.\u001b[0m\u001b[0moutputs\u001b[0m\u001b[0;34m)\u001b[0m\u001b[0;34m]\u001b[0m\u001b[0;34m\u001b[0m\u001b[0m\n\u001b[1;32m   2271\u001b[0m \u001b[0;34m\u001b[0m\u001b[0m\n",
      "\u001b[0;32m/home/carnd/anaconda3/envs/carnd-term1/lib/python3.5/site-packages/tensorflow/python/client/session.py\u001b[0m in \u001b[0;36mrun\u001b[0;34m(self, fetches, feed_dict, options, run_metadata)\u001b[0m\n\u001b[1;32m    764\u001b[0m     \u001b[0;32mtry\u001b[0m\u001b[0;34m:\u001b[0m\u001b[0;34m\u001b[0m\u001b[0m\n\u001b[1;32m    765\u001b[0m       result = self._run(None, fetches, feed_dict, options_ptr,\n\u001b[0;32m--> 766\u001b[0;31m                          run_metadata_ptr)\n\u001b[0m\u001b[1;32m    767\u001b[0m       \u001b[0;32mif\u001b[0m \u001b[0mrun_metadata\u001b[0m\u001b[0;34m:\u001b[0m\u001b[0;34m\u001b[0m\u001b[0m\n\u001b[1;32m    768\u001b[0m         \u001b[0mproto_data\u001b[0m \u001b[0;34m=\u001b[0m \u001b[0mtf_session\u001b[0m\u001b[0;34m.\u001b[0m\u001b[0mTF_GetBuffer\u001b[0m\u001b[0;34m(\u001b[0m\u001b[0mrun_metadata_ptr\u001b[0m\u001b[0;34m)\u001b[0m\u001b[0;34m\u001b[0m\u001b[0m\n",
      "\u001b[0;32m/home/carnd/anaconda3/envs/carnd-term1/lib/python3.5/site-packages/tensorflow/python/client/session.py\u001b[0m in \u001b[0;36m_run\u001b[0;34m(self, handle, fetches, feed_dict, options, run_metadata)\u001b[0m\n\u001b[1;32m    962\u001b[0m     \u001b[0;32mif\u001b[0m \u001b[0mfinal_fetches\u001b[0m \u001b[0;32mor\u001b[0m \u001b[0mfinal_targets\u001b[0m\u001b[0;34m:\u001b[0m\u001b[0;34m\u001b[0m\u001b[0m\n\u001b[1;32m    963\u001b[0m       results = self._do_run(handle, final_targets, final_fetches,\n\u001b[0;32m--> 964\u001b[0;31m                              feed_dict_string, options, run_metadata)\n\u001b[0m\u001b[1;32m    965\u001b[0m     \u001b[0;32melse\u001b[0m\u001b[0;34m:\u001b[0m\u001b[0;34m\u001b[0m\u001b[0m\n\u001b[1;32m    966\u001b[0m       \u001b[0mresults\u001b[0m \u001b[0;34m=\u001b[0m \u001b[0;34m[\u001b[0m\u001b[0;34m]\u001b[0m\u001b[0;34m\u001b[0m\u001b[0m\n",
      "\u001b[0;32m/home/carnd/anaconda3/envs/carnd-term1/lib/python3.5/site-packages/tensorflow/python/client/session.py\u001b[0m in \u001b[0;36m_do_run\u001b[0;34m(self, handle, target_list, fetch_list, feed_dict, options, run_metadata)\u001b[0m\n\u001b[1;32m   1012\u001b[0m     \u001b[0;32mif\u001b[0m \u001b[0mhandle\u001b[0m \u001b[0;32mis\u001b[0m \u001b[0;32mNone\u001b[0m\u001b[0;34m:\u001b[0m\u001b[0;34m\u001b[0m\u001b[0m\n\u001b[1;32m   1013\u001b[0m       return self._do_call(_run_fn, self._session, feed_dict, fetch_list,\n\u001b[0;32m-> 1014\u001b[0;31m                            target_list, options, run_metadata)\n\u001b[0m\u001b[1;32m   1015\u001b[0m     \u001b[0;32melse\u001b[0m\u001b[0;34m:\u001b[0m\u001b[0;34m\u001b[0m\u001b[0m\n\u001b[1;32m   1016\u001b[0m       return self._do_call(_prun_fn, self._session, handle, feed_dict,\n",
      "\u001b[0;32m/home/carnd/anaconda3/envs/carnd-term1/lib/python3.5/site-packages/tensorflow/python/client/session.py\u001b[0m in \u001b[0;36m_do_call\u001b[0;34m(self, fn, *args)\u001b[0m\n\u001b[1;32m   1019\u001b[0m   \u001b[0;32mdef\u001b[0m \u001b[0m_do_call\u001b[0m\u001b[0;34m(\u001b[0m\u001b[0mself\u001b[0m\u001b[0;34m,\u001b[0m \u001b[0mfn\u001b[0m\u001b[0;34m,\u001b[0m \u001b[0;34m*\u001b[0m\u001b[0margs\u001b[0m\u001b[0;34m)\u001b[0m\u001b[0;34m:\u001b[0m\u001b[0;34m\u001b[0m\u001b[0m\n\u001b[1;32m   1020\u001b[0m     \u001b[0;32mtry\u001b[0m\u001b[0;34m:\u001b[0m\u001b[0;34m\u001b[0m\u001b[0m\n\u001b[0;32m-> 1021\u001b[0;31m       \u001b[0;32mreturn\u001b[0m \u001b[0mfn\u001b[0m\u001b[0;34m(\u001b[0m\u001b[0;34m*\u001b[0m\u001b[0margs\u001b[0m\u001b[0;34m)\u001b[0m\u001b[0;34m\u001b[0m\u001b[0m\n\u001b[0m\u001b[1;32m   1022\u001b[0m     \u001b[0;32mexcept\u001b[0m \u001b[0merrors\u001b[0m\u001b[0;34m.\u001b[0m\u001b[0mOpError\u001b[0m \u001b[0;32mas\u001b[0m \u001b[0me\u001b[0m\u001b[0;34m:\u001b[0m\u001b[0;34m\u001b[0m\u001b[0m\n\u001b[1;32m   1023\u001b[0m       \u001b[0mmessage\u001b[0m \u001b[0;34m=\u001b[0m \u001b[0mcompat\u001b[0m\u001b[0;34m.\u001b[0m\u001b[0mas_text\u001b[0m\u001b[0;34m(\u001b[0m\u001b[0me\u001b[0m\u001b[0;34m.\u001b[0m\u001b[0mmessage\u001b[0m\u001b[0;34m)\u001b[0m\u001b[0;34m\u001b[0m\u001b[0m\n",
      "\u001b[0;32m/home/carnd/anaconda3/envs/carnd-term1/lib/python3.5/site-packages/tensorflow/python/client/session.py\u001b[0m in \u001b[0;36m_run_fn\u001b[0;34m(session, feed_dict, fetch_list, target_list, options, run_metadata)\u001b[0m\n\u001b[1;32m   1001\u001b[0m         return tf_session.TF_Run(session, options,\n\u001b[1;32m   1002\u001b[0m                                  \u001b[0mfeed_dict\u001b[0m\u001b[0;34m,\u001b[0m \u001b[0mfetch_list\u001b[0m\u001b[0;34m,\u001b[0m \u001b[0mtarget_list\u001b[0m\u001b[0;34m,\u001b[0m\u001b[0;34m\u001b[0m\u001b[0m\n\u001b[0;32m-> 1003\u001b[0;31m                                  status, run_metadata)\n\u001b[0m\u001b[1;32m   1004\u001b[0m \u001b[0;34m\u001b[0m\u001b[0m\n\u001b[1;32m   1005\u001b[0m     \u001b[0;32mdef\u001b[0m \u001b[0m_prun_fn\u001b[0m\u001b[0;34m(\u001b[0m\u001b[0msession\u001b[0m\u001b[0;34m,\u001b[0m \u001b[0mhandle\u001b[0m\u001b[0;34m,\u001b[0m \u001b[0mfeed_dict\u001b[0m\u001b[0;34m,\u001b[0m \u001b[0mfetch_list\u001b[0m\u001b[0;34m)\u001b[0m\u001b[0;34m:\u001b[0m\u001b[0;34m\u001b[0m\u001b[0m\n",
      "\u001b[0;31mKeyboardInterrupt\u001b[0m: "
     ]
    }
   ],
   "source": [
    "for i in range(150):\n",
    "    RETURNS_ = np.load(\"MertonReturns_2000_\"+str(7-i%8)+\".npy\")\n",
    "    PARAMS_ = np.load(\"ModelParameters_2000_\"+str(7-i%8)+\".npy\")\n",
    "    train_data = np.reshape(np.array(RETURNS_), (100000, 40, 50, 1))\n",
    "    train_targets = np.array([[mp.all_sigma, mp.gbm_mu, mp.jumps_sigma, mp.jumps_mu, mp.lamda] for mp in PARAMS_])\n",
    "\n",
    "    history = covnet.fit(np.array(train_data[:80000]), np.array(train_targets[:80000]), nb_epoch=1, batch_size=100, validation_data=(train_data[80000:], train_targets[80000:]))\n",
    "    covnet.save_weights(\"covnet_mse_tanh.h5\")"
   ]
  },
  {
   "cell_type": "code",
   "execution_count": 50,
   "metadata": {
    "collapsed": true
   },
   "outputs": [],
   "source": [
    "mp = random_model_params()\n",
    "mp.all_time = 2000\n",
    "\n",
    "mp.all_sigma = 0.1\n",
    "mp.gbm_mu = 0.05\n",
    "mp.jumps_sigma = 0.07\n",
    "mp.jumps_mu = 0.05\n",
    "mp.jumps_lamda = 0.02\n",
    "RETURNS_ = [geometric_brownian_motion_jump_diffusion_log_returns(mp) for i in range(1000)]"
   ]
  },
  {
   "cell_type": "code",
   "execution_count": 51,
   "metadata": {
    "collapsed": true
   },
   "outputs": [],
   "source": [
    "dataset = np.reshape(np.array(RETURNS_), (1000, 40, 50, 1))"
   ]
  },
  {
   "cell_type": "code",
   "execution_count": 52,
   "metadata": {
    "collapsed": true
   },
   "outputs": [],
   "source": [
    "predictions = covnet.predict(dataset)"
   ]
  },
  {
   "cell_type": "code",
   "execution_count": 53,
   "metadata": {},
   "outputs": [
    {
     "data": {
      "text/plain": [
       "array([ 0.10189126,  0.07225901,  0.15462418,  0.01607091,  0.00367117], dtype=float32)"
      ]
     },
     "execution_count": 53,
     "metadata": {},
     "output_type": "execute_result"
    }
   ],
   "source": [
    "np.mean(predictions, axis = 0)"
   ]
  },
  {
   "cell_type": "code",
   "execution_count": 54,
   "metadata": {},
   "outputs": [
    {
     "data": {
      "text/plain": [
       "array([ 0.09461667, -0.00590691,  0.0690387 , -0.0049278 ,  0.00051485], dtype=float32)"
      ]
     },
     "execution_count": 54,
     "metadata": {},
     "output_type": "execute_result"
    }
   ],
   "source": [
    "np.mean(predictions, axis = 0)-1.96*np.std(predictions, axis=0)"
   ]
  },
  {
   "cell_type": "code",
   "execution_count": 42,
   "metadata": {
    "collapsed": true
   },
   "outputs": [],
   "source": [
    "def batch_generator(all_time = 2000, paramset_size = 32, paths_p_paramset = 5):\n",
    "    while True:\n",
    "        RETURNS_ = []\n",
    "        PARAMS_ = []\n",
    "        \n",
    "        for i in range(paramset_size):\n",
    "            mp = random_model_params()\n",
    "            mp.all_time = all_time\n",
    "            \n",
    "            for j in range(paths_p_paramset):\n",
    "                PARAMS_.append(mp)\n",
    "                RETURNS_.append(geometric_brownian_motion_jump_diffusion_log_returns(mp))\n",
    "        \n",
    "        train_data = np.reshape(np.array(RETURNS_), (paramset_size*paths_p_paramset, 40, 50, 1))\n",
    "        train_targets = np.array([[mp.all_sigma, mp.gbm_mu, mp.jumps_sigma, mp.jumps_mu, mp.lamda] for mp in PARAMS_])\n",
    "\n",
    "        yield train_data, train_targets"
   ]
  },
  {
   "cell_type": "code",
   "execution_count": 43,
   "metadata": {
    "collapsed": true
   },
   "outputs": [],
   "source": [
    "train_gen = batch_generator(paramset_size=1, paths_p_paramset=10)\n",
    "valid_gen = batch_generator(paramset_size=1, paths_p_paramset=1)"
   ]
  },
  {
   "cell_type": "code",
   "execution_count": 20,
   "metadata": {},
   "outputs": [
    {
     "ename": "NameError",
     "evalue": "name 'covnet' is not defined",
     "output_type": "error",
     "traceback": [
      "\u001b[0;31m---------------------------------------------------------------------------\u001b[0m",
      "\u001b[0;31mNameError\u001b[0m                                 Traceback (most recent call last)",
      "\u001b[0;32m<ipython-input-20-daa2f8a215f3>\u001b[0m in \u001b[0;36m<module>\u001b[0;34m()\u001b[0m\n\u001b[1;32m      1\u001b[0m \u001b[0;32mfor\u001b[0m \u001b[0mi\u001b[0m \u001b[0;32min\u001b[0m \u001b[0mrange\u001b[0m\u001b[0;34m(\u001b[0m\u001b[0;36m150\u001b[0m\u001b[0;34m)\u001b[0m\u001b[0;34m:\u001b[0m\u001b[0;34m\u001b[0m\u001b[0m\n\u001b[1;32m      2\u001b[0m     \u001b[0;31m#history = covnet.fit(np.array(train_data[:80000]), np.array(train_targets[:80000]), batch_size=100, nb_epoch=1, validation_data=(train_data[80000:], train_targets[80000:]))\u001b[0m\u001b[0;34m\u001b[0m\u001b[0;34m\u001b[0m\u001b[0m\n\u001b[0;32m----> 3\u001b[0;31m     \u001b[0mhistory\u001b[0m \u001b[0;34m=\u001b[0m \u001b[0mcovnet\u001b[0m\u001b[0;34m.\u001b[0m\u001b[0mfit_generator\u001b[0m\u001b[0;34m(\u001b[0m\u001b[0mtrain_gen\u001b[0m\u001b[0;34m,\u001b[0m \u001b[0msamples_per_epoch\u001b[0m \u001b[0;34m=\u001b[0m \u001b[0;36m1000\u001b[0m\u001b[0;34m,\u001b[0m \u001b[0mnb_epoch\u001b[0m \u001b[0;34m=\u001b[0m \u001b[0;36m30\u001b[0m\u001b[0;34m)\u001b[0m\u001b[0;34m\u001b[0m\u001b[0m\n\u001b[0m\u001b[1;32m      4\u001b[0m     \u001b[0mcovnet\u001b[0m\u001b[0;34m.\u001b[0m\u001b[0msave\u001b[0m\u001b[0;34m(\u001b[0m\u001b[0;34m\"2dCovnet_.h5\"\u001b[0m\u001b[0;34m)\u001b[0m\u001b[0;34m\u001b[0m\u001b[0m\n",
      "\u001b[0;31mNameError\u001b[0m: name 'covnet' is not defined"
     ]
    }
   ],
   "source": [
    "for i in range(150):\n",
    "    #history = covnet.fit(np.array(train_data[:80000]), np.array(train_targets[:80000]), batch_size=100, nb_epoch=1, validation_data=(train_data[80000:], train_targets[80000:]))\n",
    "    history = covnet.fit_generator(train_gen, samples_per_epoch = 1000, nb_epoch = 30)\n",
    "    covnet.save(\"2dCovnet_.h5\")"
   ]
  },
  {
   "cell_type": "code",
   "execution_count": null,
   "metadata": {
    "collapsed": true,
    "nbpresent": {
     "id": "b977080c-be8d-446e-b87f-f429e8b88338"
    }
   },
   "outputs": [],
   "source": [
    "covnet.save(\"covnet.h5\")"
   ]
  },
  {
   "cell_type": "code",
   "execution_count": 22,
   "metadata": {
    "collapsed": true,
    "nbpresent": {
     "id": "b03bcfcc-15dc-4f4f-9aef-1fbe7f71d791"
    }
   },
   "outputs": [],
   "source": [
    "predictions = covnet_mo.predict(train_data[80000:])"
   ]
  },
  {
   "cell_type": "code",
   "execution_count": null,
   "metadata": {
    "collapsed": true,
    "nbpresent": {
     "id": "3ff38326-7cf8-4796-a6fd-f05827ad612d"
    }
   },
   "outputs": [],
   "source": [
    "parameter_MSEs = []\n",
    "for p in range(train_targets.shape[1]):\n",
    "    prediction_set = predictions[:,p]\n",
    "    actual_values = np.array(train_targets)[80000:,p]\n",
    "    error = prediction_set - actual_values\n",
    "    squared_error = np.square(error)\n",
    "    parameter_MSEs.append(np.average(squared_error))"
   ]
  },
  {
   "cell_type": "code",
   "execution_count": null,
   "metadata": {
    "collapsed": true,
    "nbpresent": {
     "id": "1c8753ad-2820-4eae-b627-6b7738b6dda2"
    }
   },
   "outputs": [],
   "source": [
    " mp = ModelParameters(\n",
    "        all_time=2000,\n",
    "        all_delta=0.00396825396,                   \n",
    "        all_sigma = 0.2,\n",
    "        gbm_mu = 0.05,\n",
    "        jumps_lamda=0.07,\n",
    "        jumps_sigma=0.03,\n",
    "        jumps_mu=0.005,\n",
    "    )\n",
    "#mp = random_model_params()\n",
    "\n",
    "target = np.array([mp.all_sigma, mp.gbm_mu, mp.jumps_sigma, mp.jumps_mu, mp.lamda])\n",
    "\n",
    "returns_0 = geometric_brownian_motion_jump_diffusion_log_returns(mp)\n",
    "ret = np.reshape(np.array(returns_0), (40, 50, 1))\n",
    "\n",
    "prediction_0 = covnet.predict(np.array([ret]))\n",
    "print(\"Parameters:        sigma,    mu,  sigma_j, mu_j, lambda_j\")\n",
    "print(\"True Value:       \", np.round(target, decimals=4))\n",
    "print(\"-----------\")\n",
    "print(\"Predicted:        \", np.round(prediction_0[0], decimals=4))\n",
    "print(\"Upper confidence: \", np.round(target+1.96*np.sqrt(parameter_MSEs), decimals=4))\n",
    "print(\"Lower confidence: \", np.round(target-1.96*np.sqrt(parameter_MSEs), decimals=4))\n",
    "print(\"::::::::::::::::::::::::::::::::::::::::::::::::::::::::::::::::\\n\")"
   ]
  },
  {
   "cell_type": "code",
   "execution_count": null,
   "metadata": {
    "collapsed": true,
    "nbpresent": {
     "id": "e6aa3f35-f861-4052-b7ae-1e0fa2305615"
    }
   },
   "outputs": [],
   "source": [
    "import pandas as pd\n",
    "d = {'True Values:' : target,\n",
    "     'Predicted:' : prediction_0[0],\n",
    "    'Upper 95% Confidence:' : target+1.96*np.sqrt(parameter_MSEs),\n",
    "    'Lower 95% Confidence:' : target-1.96*np.sqrt(parameter_MSEs)}\n",
    "\n",
    "df = pd.DataFrame(d, index=['sigma', 'mu', 'jumps_sigma', 'jumps_mu', 'jumps_lambda'])\n",
    "df"
   ]
  },
  {
   "cell_type": "markdown",
   "metadata": {},
   "source": [
    "# JUAN SE CONVNET"
   ]
  },
  {
   "cell_type": "code",
   "execution_count": 30,
   "metadata": {},
   "outputs": [
    {
     "ename": "ValueError",
     "evalue": "No model found in config file.",
     "output_type": "error",
     "traceback": [
      "\u001b[0;31m---------------------------------------------------------------------------\u001b[0m",
      "\u001b[0;31mValueError\u001b[0m                                Traceback (most recent call last)",
      "\u001b[0;32m<ipython-input-30-469d2877c23c>\u001b[0m in \u001b[0;36m<module>\u001b[0;34m()\u001b[0m\n\u001b[0;32m----> 1\u001b[0;31m \u001b[0mjuan_covnet\u001b[0m \u001b[0;34m=\u001b[0m \u001b[0mload_model\u001b[0m\u001b[0;34m(\u001b[0m\u001b[0;34m\"convnet_2D.h5\"\u001b[0m\u001b[0;34m)\u001b[0m\u001b[0;34m\u001b[0m\u001b[0m\n\u001b[0m",
      "\u001b[0;32m/home/carnd/anaconda3/envs/carnd-term1/lib/python3.5/site-packages/keras/models.py\u001b[0m in \u001b[0;36mload_model\u001b[0;34m(filepath, custom_objects, compile)\u001b[0m\n\u001b[1;32m    242\u001b[0m         \u001b[0mmodel_config\u001b[0m \u001b[0;34m=\u001b[0m \u001b[0mf\u001b[0m\u001b[0;34m.\u001b[0m\u001b[0mattrs\u001b[0m\u001b[0;34m.\u001b[0m\u001b[0mget\u001b[0m\u001b[0;34m(\u001b[0m\u001b[0;34m'model_config'\u001b[0m\u001b[0;34m)\u001b[0m\u001b[0;34m\u001b[0m\u001b[0m\n\u001b[1;32m    243\u001b[0m         \u001b[0;32mif\u001b[0m \u001b[0mmodel_config\u001b[0m \u001b[0;32mis\u001b[0m \u001b[0;32mNone\u001b[0m\u001b[0;34m:\u001b[0m\u001b[0;34m\u001b[0m\u001b[0m\n\u001b[0;32m--> 244\u001b[0;31m             \u001b[0;32mraise\u001b[0m \u001b[0mValueError\u001b[0m\u001b[0;34m(\u001b[0m\u001b[0;34m'No model found in config file.'\u001b[0m\u001b[0;34m)\u001b[0m\u001b[0;34m\u001b[0m\u001b[0m\n\u001b[0m\u001b[1;32m    245\u001b[0m         \u001b[0mmodel_config\u001b[0m \u001b[0;34m=\u001b[0m \u001b[0mjson\u001b[0m\u001b[0;34m.\u001b[0m\u001b[0mloads\u001b[0m\u001b[0;34m(\u001b[0m\u001b[0mmodel_config\u001b[0m\u001b[0;34m.\u001b[0m\u001b[0mdecode\u001b[0m\u001b[0;34m(\u001b[0m\u001b[0;34m'utf-8'\u001b[0m\u001b[0;34m)\u001b[0m\u001b[0;34m)\u001b[0m\u001b[0;34m\u001b[0m\u001b[0m\n\u001b[1;32m    246\u001b[0m         \u001b[0mmodel\u001b[0m \u001b[0;34m=\u001b[0m \u001b[0mmodel_from_config\u001b[0m\u001b[0;34m(\u001b[0m\u001b[0mmodel_config\u001b[0m\u001b[0;34m,\u001b[0m \u001b[0mcustom_objects\u001b[0m\u001b[0;34m=\u001b[0m\u001b[0mcustom_objects\u001b[0m\u001b[0;34m)\u001b[0m\u001b[0;34m\u001b[0m\u001b[0m\n",
      "\u001b[0;31mValueError\u001b[0m: No model found in config file."
     ]
    }
   ],
   "source": [
    "juan_covnet = load_model(\"convnet_2D.h5\")\n"
   ]
  },
  {
   "cell_type": "code",
   "execution_count": 18,
   "metadata": {},
   "outputs": [
    {
     "name": "stderr",
     "output_type": "stream",
     "text": [
      "/home/carnd/anaconda3/envs/carnd-term1/lib/python3.5/site-packages/keras/models.py:851: UserWarning: The `nb_epoch` argument in `fit` has been renamed `epochs`.\n",
      "  warnings.warn('The `nb_epoch` argument in `fit` '\n"
     ]
    },
    {
     "name": "stdout",
     "output_type": "stream",
     "text": [
      "Train on 80000 samples, validate on 20000 samples\n",
      "Epoch 1/1\n",
      "80000/80000 [==============================] - 182s - loss: 0.0059 - acc: 0.9001 - mean_squared_error: 0.0059 - val_loss: 0.0512 - val_acc: 0.7255 - val_mean_squared_error: 0.0512\n",
      "Train on 80000 samples, validate on 20000 samples\n",
      "Epoch 1/1\n",
      "80000/80000 [==============================] - 182s - loss: 0.0056 - acc: 0.8998 - mean_squared_error: 0.0056 - val_loss: 0.0555 - val_acc: 0.6036 - val_mean_squared_error: 0.0555\n",
      "Train on 80000 samples, validate on 20000 samples\n",
      "Epoch 1/1\n",
      "80000/80000 [==============================] - 182s - loss: 0.0054 - acc: 0.9021 - mean_squared_error: 0.0054 - val_loss: 0.0535 - val_acc: 0.6265 - val_mean_squared_error: 0.0535\n",
      "Train on 80000 samples, validate on 20000 samples\n",
      "Epoch 1/1\n",
      "80000/80000 [==============================] - 182s - loss: 0.0052 - acc: 0.9048 - mean_squared_error: 0.0052 - val_loss: 0.0551 - val_acc: 0.6185 - val_mean_squared_error: 0.0551\n",
      "Train on 80000 samples, validate on 20000 samples\n",
      "Epoch 1/1\n",
      " 3100/80000 [>.............................] - ETA: 165s - loss: 0.0051 - acc: 0.9055 - mean_squared_error: 0.0051"
     ]
    },
    {
     "ename": "KeyboardInterrupt",
     "evalue": "",
     "output_type": "error",
     "traceback": [
      "\u001b[0;31m---------------------------------------------------------------------------\u001b[0m",
      "\u001b[0;31mKeyboardInterrupt\u001b[0m                         Traceback (most recent call last)",
      "\u001b[0;32m<ipython-input-18-42d34922481f>\u001b[0m in \u001b[0;36m<module>\u001b[0;34m()\u001b[0m\n\u001b[1;32m      5\u001b[0m     \u001b[0mtrain_targets\u001b[0m \u001b[0;34m=\u001b[0m \u001b[0mnp\u001b[0m\u001b[0;34m.\u001b[0m\u001b[0marray\u001b[0m\u001b[0;34m(\u001b[0m\u001b[0;34m[\u001b[0m\u001b[0;34m[\u001b[0m\u001b[0mmp\u001b[0m\u001b[0;34m.\u001b[0m\u001b[0mall_sigma\u001b[0m\u001b[0;34m,\u001b[0m \u001b[0mmp\u001b[0m\u001b[0;34m.\u001b[0m\u001b[0mgbm_mu\u001b[0m\u001b[0;34m,\u001b[0m \u001b[0mmp\u001b[0m\u001b[0;34m.\u001b[0m\u001b[0mjumps_sigma\u001b[0m\u001b[0;34m,\u001b[0m \u001b[0mmp\u001b[0m\u001b[0;34m.\u001b[0m\u001b[0mjumps_mu\u001b[0m\u001b[0;34m,\u001b[0m \u001b[0mmp\u001b[0m\u001b[0;34m.\u001b[0m\u001b[0mlamda\u001b[0m\u001b[0;34m]\u001b[0m \u001b[0;32mfor\u001b[0m \u001b[0mmp\u001b[0m \u001b[0;32min\u001b[0m \u001b[0mPARAMS_\u001b[0m\u001b[0;34m]\u001b[0m\u001b[0;34m)\u001b[0m\u001b[0;34m\u001b[0m\u001b[0m\n\u001b[1;32m      6\u001b[0m \u001b[0;34m\u001b[0m\u001b[0m\n\u001b[0;32m----> 7\u001b[0;31m     \u001b[0mhistory\u001b[0m \u001b[0;34m=\u001b[0m \u001b[0mcovnet\u001b[0m\u001b[0;34m.\u001b[0m\u001b[0mfit\u001b[0m\u001b[0;34m(\u001b[0m\u001b[0mnp\u001b[0m\u001b[0;34m.\u001b[0m\u001b[0marray\u001b[0m\u001b[0;34m(\u001b[0m\u001b[0mtrain_data\u001b[0m\u001b[0;34m[\u001b[0m\u001b[0;34m:\u001b[0m\u001b[0;36m80000\u001b[0m\u001b[0;34m]\u001b[0m\u001b[0;34m)\u001b[0m\u001b[0;34m,\u001b[0m \u001b[0mnp\u001b[0m\u001b[0;34m.\u001b[0m\u001b[0marray\u001b[0m\u001b[0;34m(\u001b[0m\u001b[0mtrain_targets\u001b[0m\u001b[0;34m[\u001b[0m\u001b[0;34m:\u001b[0m\u001b[0;36m80000\u001b[0m\u001b[0;34m]\u001b[0m\u001b[0;34m)\u001b[0m\u001b[0;34m,\u001b[0m \u001b[0mnb_epoch\u001b[0m\u001b[0;34m=\u001b[0m\u001b[0;36m1\u001b[0m\u001b[0;34m,\u001b[0m \u001b[0mbatch_size\u001b[0m\u001b[0;34m=\u001b[0m\u001b[0;36m100\u001b[0m\u001b[0;34m,\u001b[0m \u001b[0mvalidation_data\u001b[0m\u001b[0;34m=\u001b[0m\u001b[0;34m(\u001b[0m\u001b[0mtrain_data\u001b[0m\u001b[0;34m[\u001b[0m\u001b[0;36m80000\u001b[0m\u001b[0;34m:\u001b[0m\u001b[0;34m]\u001b[0m\u001b[0;34m,\u001b[0m \u001b[0mtrain_targets\u001b[0m\u001b[0;34m[\u001b[0m\u001b[0;36m80000\u001b[0m\u001b[0;34m:\u001b[0m\u001b[0;34m]\u001b[0m\u001b[0;34m)\u001b[0m\u001b[0;34m)\u001b[0m\u001b[0;34m\u001b[0m\u001b[0m\n\u001b[0m\u001b[1;32m      8\u001b[0m     \u001b[0mcovnet\u001b[0m\u001b[0;34m.\u001b[0m\u001b[0msave_weights\u001b[0m\u001b[0;34m(\u001b[0m\u001b[0;34m\"convnet_2D.h5\"\u001b[0m\u001b[0;34m)\u001b[0m\u001b[0;34m\u001b[0m\u001b[0m\n",
      "\u001b[0;32m/home/carnd/anaconda3/envs/carnd-term1/lib/python3.5/site-packages/keras/models.py\u001b[0m in \u001b[0;36mfit\u001b[0;34m(self, x, y, batch_size, epochs, verbose, callbacks, validation_split, validation_data, shuffle, class_weight, sample_weight, initial_epoch, **kwargs)\u001b[0m\n\u001b[1;32m    868\u001b[0m                               \u001b[0mclass_weight\u001b[0m\u001b[0;34m=\u001b[0m\u001b[0mclass_weight\u001b[0m\u001b[0;34m,\u001b[0m\u001b[0;34m\u001b[0m\u001b[0m\n\u001b[1;32m    869\u001b[0m                               \u001b[0msample_weight\u001b[0m\u001b[0;34m=\u001b[0m\u001b[0msample_weight\u001b[0m\u001b[0;34m,\u001b[0m\u001b[0;34m\u001b[0m\u001b[0m\n\u001b[0;32m--> 870\u001b[0;31m                               initial_epoch=initial_epoch)\n\u001b[0m\u001b[1;32m    871\u001b[0m \u001b[0;34m\u001b[0m\u001b[0m\n\u001b[1;32m    872\u001b[0m     def evaluate(self, x, y, batch_size=32, verbose=1,\n",
      "\u001b[0;32m/home/carnd/anaconda3/envs/carnd-term1/lib/python3.5/site-packages/keras/engine/training.py\u001b[0m in \u001b[0;36mfit\u001b[0;34m(self, x, y, batch_size, epochs, verbose, callbacks, validation_split, validation_data, shuffle, class_weight, sample_weight, initial_epoch, **kwargs)\u001b[0m\n\u001b[1;32m   1505\u001b[0m                               \u001b[0mval_f\u001b[0m\u001b[0;34m=\u001b[0m\u001b[0mval_f\u001b[0m\u001b[0;34m,\u001b[0m \u001b[0mval_ins\u001b[0m\u001b[0;34m=\u001b[0m\u001b[0mval_ins\u001b[0m\u001b[0;34m,\u001b[0m \u001b[0mshuffle\u001b[0m\u001b[0;34m=\u001b[0m\u001b[0mshuffle\u001b[0m\u001b[0;34m,\u001b[0m\u001b[0;34m\u001b[0m\u001b[0m\n\u001b[1;32m   1506\u001b[0m                               \u001b[0mcallback_metrics\u001b[0m\u001b[0;34m=\u001b[0m\u001b[0mcallback_metrics\u001b[0m\u001b[0;34m,\u001b[0m\u001b[0;34m\u001b[0m\u001b[0m\n\u001b[0;32m-> 1507\u001b[0;31m                               initial_epoch=initial_epoch)\n\u001b[0m\u001b[1;32m   1508\u001b[0m \u001b[0;34m\u001b[0m\u001b[0m\n\u001b[1;32m   1509\u001b[0m     \u001b[0;32mdef\u001b[0m \u001b[0mevaluate\u001b[0m\u001b[0;34m(\u001b[0m\u001b[0mself\u001b[0m\u001b[0;34m,\u001b[0m \u001b[0mx\u001b[0m\u001b[0;34m,\u001b[0m \u001b[0my\u001b[0m\u001b[0;34m,\u001b[0m \u001b[0mbatch_size\u001b[0m\u001b[0;34m=\u001b[0m\u001b[0;36m32\u001b[0m\u001b[0;34m,\u001b[0m \u001b[0mverbose\u001b[0m\u001b[0;34m=\u001b[0m\u001b[0;36m1\u001b[0m\u001b[0;34m,\u001b[0m \u001b[0msample_weight\u001b[0m\u001b[0;34m=\u001b[0m\u001b[0;32mNone\u001b[0m\u001b[0;34m)\u001b[0m\u001b[0;34m:\u001b[0m\u001b[0;34m\u001b[0m\u001b[0m\n",
      "\u001b[0;32m/home/carnd/anaconda3/envs/carnd-term1/lib/python3.5/site-packages/keras/engine/training.py\u001b[0m in \u001b[0;36m_fit_loop\u001b[0;34m(self, f, ins, out_labels, batch_size, epochs, verbose, callbacks, val_f, val_ins, shuffle, callback_metrics, initial_epoch)\u001b[0m\n\u001b[1;32m   1154\u001b[0m                 \u001b[0mbatch_logs\u001b[0m\u001b[0;34m[\u001b[0m\u001b[0;34m'size'\u001b[0m\u001b[0;34m]\u001b[0m \u001b[0;34m=\u001b[0m \u001b[0mlen\u001b[0m\u001b[0;34m(\u001b[0m\u001b[0mbatch_ids\u001b[0m\u001b[0;34m)\u001b[0m\u001b[0;34m\u001b[0m\u001b[0m\n\u001b[1;32m   1155\u001b[0m                 \u001b[0mcallbacks\u001b[0m\u001b[0;34m.\u001b[0m\u001b[0mon_batch_begin\u001b[0m\u001b[0;34m(\u001b[0m\u001b[0mbatch_index\u001b[0m\u001b[0;34m,\u001b[0m \u001b[0mbatch_logs\u001b[0m\u001b[0;34m)\u001b[0m\u001b[0;34m\u001b[0m\u001b[0m\n\u001b[0;32m-> 1156\u001b[0;31m                 \u001b[0mouts\u001b[0m \u001b[0;34m=\u001b[0m \u001b[0mf\u001b[0m\u001b[0;34m(\u001b[0m\u001b[0mins_batch\u001b[0m\u001b[0;34m)\u001b[0m\u001b[0;34m\u001b[0m\u001b[0m\n\u001b[0m\u001b[1;32m   1157\u001b[0m                 \u001b[0;32mif\u001b[0m \u001b[0;32mnot\u001b[0m \u001b[0misinstance\u001b[0m\u001b[0;34m(\u001b[0m\u001b[0mouts\u001b[0m\u001b[0;34m,\u001b[0m \u001b[0mlist\u001b[0m\u001b[0;34m)\u001b[0m\u001b[0;34m:\u001b[0m\u001b[0;34m\u001b[0m\u001b[0m\n\u001b[1;32m   1158\u001b[0m                     \u001b[0mouts\u001b[0m \u001b[0;34m=\u001b[0m \u001b[0;34m[\u001b[0m\u001b[0mouts\u001b[0m\u001b[0;34m]\u001b[0m\u001b[0;34m\u001b[0m\u001b[0m\n",
      "\u001b[0;32m/home/carnd/anaconda3/envs/carnd-term1/lib/python3.5/site-packages/keras/backend/tensorflow_backend.py\u001b[0m in \u001b[0;36m__call__\u001b[0;34m(self, inputs)\u001b[0m\n\u001b[1;32m   2267\u001b[0m         updated = session.run(self.outputs + [self.updates_op],\n\u001b[1;32m   2268\u001b[0m                               \u001b[0mfeed_dict\u001b[0m\u001b[0;34m=\u001b[0m\u001b[0mfeed_dict\u001b[0m\u001b[0;34m,\u001b[0m\u001b[0;34m\u001b[0m\u001b[0m\n\u001b[0;32m-> 2269\u001b[0;31m                               **self.session_kwargs)\n\u001b[0m\u001b[1;32m   2270\u001b[0m         \u001b[0;32mreturn\u001b[0m \u001b[0mupdated\u001b[0m\u001b[0;34m[\u001b[0m\u001b[0;34m:\u001b[0m\u001b[0mlen\u001b[0m\u001b[0;34m(\u001b[0m\u001b[0mself\u001b[0m\u001b[0;34m.\u001b[0m\u001b[0moutputs\u001b[0m\u001b[0;34m)\u001b[0m\u001b[0;34m]\u001b[0m\u001b[0;34m\u001b[0m\u001b[0m\n\u001b[1;32m   2271\u001b[0m \u001b[0;34m\u001b[0m\u001b[0m\n",
      "\u001b[0;32m/home/carnd/anaconda3/envs/carnd-term1/lib/python3.5/site-packages/tensorflow/python/client/session.py\u001b[0m in \u001b[0;36mrun\u001b[0;34m(self, fetches, feed_dict, options, run_metadata)\u001b[0m\n\u001b[1;32m    764\u001b[0m     \u001b[0;32mtry\u001b[0m\u001b[0;34m:\u001b[0m\u001b[0;34m\u001b[0m\u001b[0m\n\u001b[1;32m    765\u001b[0m       result = self._run(None, fetches, feed_dict, options_ptr,\n\u001b[0;32m--> 766\u001b[0;31m                          run_metadata_ptr)\n\u001b[0m\u001b[1;32m    767\u001b[0m       \u001b[0;32mif\u001b[0m \u001b[0mrun_metadata\u001b[0m\u001b[0;34m:\u001b[0m\u001b[0;34m\u001b[0m\u001b[0m\n\u001b[1;32m    768\u001b[0m         \u001b[0mproto_data\u001b[0m \u001b[0;34m=\u001b[0m \u001b[0mtf_session\u001b[0m\u001b[0;34m.\u001b[0m\u001b[0mTF_GetBuffer\u001b[0m\u001b[0;34m(\u001b[0m\u001b[0mrun_metadata_ptr\u001b[0m\u001b[0;34m)\u001b[0m\u001b[0;34m\u001b[0m\u001b[0m\n",
      "\u001b[0;32m/home/carnd/anaconda3/envs/carnd-term1/lib/python3.5/site-packages/tensorflow/python/client/session.py\u001b[0m in \u001b[0;36m_run\u001b[0;34m(self, handle, fetches, feed_dict, options, run_metadata)\u001b[0m\n\u001b[1;32m    962\u001b[0m     \u001b[0;32mif\u001b[0m \u001b[0mfinal_fetches\u001b[0m \u001b[0;32mor\u001b[0m \u001b[0mfinal_targets\u001b[0m\u001b[0;34m:\u001b[0m\u001b[0;34m\u001b[0m\u001b[0m\n\u001b[1;32m    963\u001b[0m       results = self._do_run(handle, final_targets, final_fetches,\n\u001b[0;32m--> 964\u001b[0;31m                              feed_dict_string, options, run_metadata)\n\u001b[0m\u001b[1;32m    965\u001b[0m     \u001b[0;32melse\u001b[0m\u001b[0;34m:\u001b[0m\u001b[0;34m\u001b[0m\u001b[0m\n\u001b[1;32m    966\u001b[0m       \u001b[0mresults\u001b[0m \u001b[0;34m=\u001b[0m \u001b[0;34m[\u001b[0m\u001b[0;34m]\u001b[0m\u001b[0;34m\u001b[0m\u001b[0m\n",
      "\u001b[0;32m/home/carnd/anaconda3/envs/carnd-term1/lib/python3.5/site-packages/tensorflow/python/client/session.py\u001b[0m in \u001b[0;36m_do_run\u001b[0;34m(self, handle, target_list, fetch_list, feed_dict, options, run_metadata)\u001b[0m\n\u001b[1;32m   1012\u001b[0m     \u001b[0;32mif\u001b[0m \u001b[0mhandle\u001b[0m \u001b[0;32mis\u001b[0m \u001b[0;32mNone\u001b[0m\u001b[0;34m:\u001b[0m\u001b[0;34m\u001b[0m\u001b[0m\n\u001b[1;32m   1013\u001b[0m       return self._do_call(_run_fn, self._session, feed_dict, fetch_list,\n\u001b[0;32m-> 1014\u001b[0;31m                            target_list, options, run_metadata)\n\u001b[0m\u001b[1;32m   1015\u001b[0m     \u001b[0;32melse\u001b[0m\u001b[0;34m:\u001b[0m\u001b[0;34m\u001b[0m\u001b[0m\n\u001b[1;32m   1016\u001b[0m       return self._do_call(_prun_fn, self._session, handle, feed_dict,\n",
      "\u001b[0;32m/home/carnd/anaconda3/envs/carnd-term1/lib/python3.5/site-packages/tensorflow/python/client/session.py\u001b[0m in \u001b[0;36m_do_call\u001b[0;34m(self, fn, *args)\u001b[0m\n\u001b[1;32m   1019\u001b[0m   \u001b[0;32mdef\u001b[0m \u001b[0m_do_call\u001b[0m\u001b[0;34m(\u001b[0m\u001b[0mself\u001b[0m\u001b[0;34m,\u001b[0m \u001b[0mfn\u001b[0m\u001b[0;34m,\u001b[0m \u001b[0;34m*\u001b[0m\u001b[0margs\u001b[0m\u001b[0;34m)\u001b[0m\u001b[0;34m:\u001b[0m\u001b[0;34m\u001b[0m\u001b[0m\n\u001b[1;32m   1020\u001b[0m     \u001b[0;32mtry\u001b[0m\u001b[0;34m:\u001b[0m\u001b[0;34m\u001b[0m\u001b[0m\n\u001b[0;32m-> 1021\u001b[0;31m       \u001b[0;32mreturn\u001b[0m \u001b[0mfn\u001b[0m\u001b[0;34m(\u001b[0m\u001b[0;34m*\u001b[0m\u001b[0margs\u001b[0m\u001b[0;34m)\u001b[0m\u001b[0;34m\u001b[0m\u001b[0m\n\u001b[0m\u001b[1;32m   1022\u001b[0m     \u001b[0;32mexcept\u001b[0m \u001b[0merrors\u001b[0m\u001b[0;34m.\u001b[0m\u001b[0mOpError\u001b[0m \u001b[0;32mas\u001b[0m \u001b[0me\u001b[0m\u001b[0;34m:\u001b[0m\u001b[0;34m\u001b[0m\u001b[0m\n\u001b[1;32m   1023\u001b[0m       \u001b[0mmessage\u001b[0m \u001b[0;34m=\u001b[0m \u001b[0mcompat\u001b[0m\u001b[0;34m.\u001b[0m\u001b[0mas_text\u001b[0m\u001b[0;34m(\u001b[0m\u001b[0me\u001b[0m\u001b[0;34m.\u001b[0m\u001b[0mmessage\u001b[0m\u001b[0;34m)\u001b[0m\u001b[0;34m\u001b[0m\u001b[0m\n",
      "\u001b[0;32m/home/carnd/anaconda3/envs/carnd-term1/lib/python3.5/site-packages/tensorflow/python/client/session.py\u001b[0m in \u001b[0;36m_run_fn\u001b[0;34m(session, feed_dict, fetch_list, target_list, options, run_metadata)\u001b[0m\n\u001b[1;32m   1001\u001b[0m         return tf_session.TF_Run(session, options,\n\u001b[1;32m   1002\u001b[0m                                  \u001b[0mfeed_dict\u001b[0m\u001b[0;34m,\u001b[0m \u001b[0mfetch_list\u001b[0m\u001b[0;34m,\u001b[0m \u001b[0mtarget_list\u001b[0m\u001b[0;34m,\u001b[0m\u001b[0;34m\u001b[0m\u001b[0m\n\u001b[0;32m-> 1003\u001b[0;31m                                  status, run_metadata)\n\u001b[0m\u001b[1;32m   1004\u001b[0m \u001b[0;34m\u001b[0m\u001b[0m\n\u001b[1;32m   1005\u001b[0m     \u001b[0;32mdef\u001b[0m \u001b[0m_prun_fn\u001b[0m\u001b[0;34m(\u001b[0m\u001b[0msession\u001b[0m\u001b[0;34m,\u001b[0m \u001b[0mhandle\u001b[0m\u001b[0;34m,\u001b[0m \u001b[0mfeed_dict\u001b[0m\u001b[0;34m,\u001b[0m \u001b[0mfetch_list\u001b[0m\u001b[0;34m)\u001b[0m\u001b[0;34m:\u001b[0m\u001b[0;34m\u001b[0m\u001b[0m\n",
      "\u001b[0;31mKeyboardInterrupt\u001b[0m: "
     ]
    }
   ],
   "source": [
    "for i in range(150):\n",
    "    RETURNS_ = np.load(\"MertonReturns_2000_\"+str(7-i%8)+\".npy\")\n",
    "    PARAMS_ = np.load(\"ModelParameters_2000_\"+str(7-i%8)+\".npy\")\n",
    "    train_data = np.reshape(np.array(RETURNS_), (100000, 50, 40, 1))\n",
    "    train_targets = np.array([[mp.all_sigma, mp.gbm_mu, mp.jumps_sigma, mp.jumps_mu, mp.lamda] for mp in PARAMS_])\n",
    "\n",
    "    history = covnet.fit(np.array(train_data[:80000]), np.array(train_targets[:80000]), nb_epoch=1, batch_size=100, validation_data=(train_data[80000:], train_targets[80000:]))\n",
    "    covnet.save_weights(\"convnet_2D.h5\")"
   ]
  },
  {
   "cell_type": "code",
   "execution_count": 21,
   "metadata": {},
   "outputs": [
    {
     "name": "stdout",
     "output_type": "stream",
     "text": [
      "0\n",
      "100\n",
      "200\n",
      "300\n",
      "400\n",
      "500\n",
      "600\n",
      "700\n",
      "800\n",
      "900\n"
     ]
    }
   ],
   "source": [
    "#mp.all_sigma, mp.gbm_mu, mp.jumps_sigma, mp.jumps_mu, mp.lamda\n",
    "\n",
    "mp = random_model_params()\n",
    "mp.all_time = 2000\n",
    "\n",
    "mp.all_sigma = 0.1\n",
    "mp.gbm_mu = 0.05\n",
    "mp.jumps_sigma = 0.07\n",
    "mp.jumps_mu = 0.05\n",
    "mp.lamda = 0.025\n",
    "\n",
    "RETURNS_ = []\n",
    "for i in range(1000):\n",
    "    if i%100 == 0: \n",
    "        print(i)\n",
    "    RETURNS_.append(geometric_brownian_motion_jump_diffusion_log_returns(mp))"
   ]
  },
  {
   "cell_type": "code",
   "execution_count": 25,
   "metadata": {
    "collapsed": true
   },
   "outputs": [],
   "source": [
    "from scipy.stats import mode"
   ]
  },
  {
   "cell_type": "code",
   "execution_count": 30,
   "metadata": {},
   "outputs": [
    {
     "data": {
      "text/plain": [
       "array([[ 0.10440704],\n",
       "       [ 0.04934039],\n",
       "       [ 0.08674721],\n",
       "       [ 0.04794359],\n",
       "       [ 0.01883811]], dtype=float32)"
      ]
     },
     "execution_count": 30,
     "metadata": {},
     "output_type": "execute_result"
    }
   ],
   "source": [
    "dataset = np.reshape(np.array(RETURNS_), (1000, 40, 50, 1))\n",
    "predictions = covnet_mo.predict(dataset)\n",
    "np.median(predictions, axis = 1)"
   ]
  },
  {
   "cell_type": "code",
   "execution_count": 23,
   "metadata": {},
   "outputs": [
    {
     "data": {
      "text/plain": [
       "array([[ 0.11593547],\n",
       "       [ 0.14301211],\n",
       "       [ 0.11177112],\n",
       "       [ 0.07290544],\n",
       "       [ 0.02387154]], dtype=float32)"
      ]
     },
     "execution_count": 23,
     "metadata": {},
     "output_type": "execute_result"
    }
   ],
   "source": [
    "np.mean(predictions, axis = 1) + 1.96*np.std(predictions, axis = 1)"
   ]
  },
  {
   "cell_type": "code",
   "execution_count": null,
   "metadata": {
    "collapsed": true
   },
   "outputs": [],
   "source": [
    "covnet.summary()"
   ]
  },
  {
   "cell_type": "markdown",
   "metadata": {},
   "source": [
    "# Covnet 2"
   ]
  },
  {
   "cell_type": "code",
   "execution_count": null,
   "metadata": {
    "collapsed": true
   },
   "outputs": [],
   "source": [
    "cov2 = Sequential()\n",
    "cov2.add(Convolution2D(40, 3, 3, input_shape=(40, 50, 1), border_mode='same', activation='relu'))\n",
    "cov2.add(Convolution2D(40, 3, 3, activation='relu', border_mode='same'))\n",
    "cov2.add(MaxPooling2D(pool_size=(2,2)))\n",
    "\n",
    "cov2.add(Convolution2D(64, 3, 3, border_mode='same', activation='relu'))\n",
    "cov2.add(Convolution2D(64, 3, 3, activation='relu', border_mode='same'))\n",
    "cov2.add(MaxPooling2D(pool_size=(2,2)))\n",
    "\n",
    "cov2.add(Convolution2D(128, 3, 3, border_mode='same', activation='relu'))\n",
    "cov2.add(Convolution2D(128, 3, 3, activation='relu', border_mode='same'))\n",
    "cov2.add(MaxPooling2D(pool_size=(2,2)))\n",
    "\n",
    "cov2.add(Flatten())\n",
    "cov2.add(Dense(5))"
   ]
  },
  {
   "cell_type": "code",
   "execution_count": null,
   "metadata": {
    "collapsed": true
   },
   "outputs": [],
   "source": [
    "cov2.compile('adam', 'mse', metrics=[r2])\n",
    "cov2.summary()"
   ]
  },
  {
   "cell_type": "code",
   "execution_count": null,
   "metadata": {
    "collapsed": true
   },
   "outputs": [],
   "source": [
    "cov2 = load_model(\"cov2_y_running.h5\")"
   ]
  },
  {
   "cell_type": "code",
   "execution_count": null,
   "metadata": {
    "collapsed": true
   },
   "outputs": [],
   "source": [
    "for i in range(150):\n",
    "    RETURNS_ = np.load(\"MertonReturns_2000_\"+str(7-i%8)+\".npy\")\n",
    "    PARAMS_ = np.load(\"ModelParameters_2000_\"+str(7-i%8)+\".npy\")\n",
    "    train_data = np.reshape(np.array(RETURNS_), (100000, 40, 50, 1))\n",
    "    train_targets = np.array([[mp.all_sigma, mp.gbm_mu, mp.jumps_sigma, mp.jumps_mu, mp.lamda] for mp in PARAMS_])\n",
    "\n",
    "    history = cov2.fit(np.array(train_data[:80000]), np.array(train_targets[:80000]), nb_epoch=1, batch_size=100, validation_data=(train_data[80000:], train_targets[80000:]))\n",
    "    cov2.save(\"cov2_y_running.h5\")"
   ]
  },
  {
   "cell_type": "markdown",
   "metadata": {
    "collapsed": true
   },
   "source": [
    "# Covnet 3"
   ]
  },
  {
   "cell_type": "code",
   "execution_count": null,
   "metadata": {
    "collapsed": true
   },
   "outputs": [],
   "source": [
    "cov3 = Sequential()\n",
    "cov3.add(Convolution2D(128, 3, 3, input_shape=(40, 50, 1), border_mode='same', activation='relu'))\n",
    "cov3.add(Convolution2D(128, 3, 3, activation='relu', border_mode='same'))\n",
    "cov3.add(MaxPooling2D(pool_size=(2,2)))\n",
    "\n",
    "cov3.add(Convolution2D(64, 3, 3, border_mode='same', activation='relu'))\n",
    "cov3.add(Convolution2D(64, 3, 3, activation='relu', border_mode='same'))\n",
    "cov3.add(MaxPooling2D(pool_size=(2,2)))\n",
    "\n",
    "cov3.add(Convolution2D(32, 3, 3, border_mode='same', activation='relu'))\n",
    "cov3.add(Convolution2D(32, 3, 3, activation='relu', border_mode='same'))\n",
    "cov3.add(MaxPooling2D(pool_size=(2,2)))\n",
    "\n",
    "cov3.add(Flatten())\n",
    "cov3.add(Dense(5))"
   ]
  },
  {
   "cell_type": "code",
   "execution_count": null,
   "metadata": {
    "collapsed": true
   },
   "outputs": [],
   "source": [
    "cov3.compile('adam', 'mse', metrics=[r2])\n",
    "cov3.summary()"
   ]
  },
  {
   "cell_type": "code",
   "execution_count": null,
   "metadata": {
    "collapsed": true
   },
   "outputs": [],
   "source": [
    "for i in range(150):\n",
    "    RETURNS_ = np.load(\"MertonReturns_2000_\"+str(7-i%8)+\".npy\")\n",
    "    PARAMS_ = np.load(\"ModelParameters_2000_\"+str(7-i%8)+\".npy\")\n",
    "    train_data = np.reshape(np.array(RETURNS_), (100000, 40, 50, 1))\n",
    "    train_targets = np.array([[mp.all_sigma, mp.gbm_mu, mp.jumps_sigma, mp.jumps_mu, mp.lamda] for mp in PARAMS_])\n",
    "\n",
    "    history = cov3.fit(np.array(train_data[:80000]), np.array(train_targets[:80000]), nb_epoch=1, batch_size=100, validation_data=(train_data[80000:], train_targets[80000:]))\n",
    "    cov3.save(\"cov3_y_running.h5\")"
   ]
  },
  {
   "cell_type": "markdown",
   "metadata": {},
   "source": [
    "# Covnet 4"
   ]
  },
  {
   "cell_type": "code",
   "execution_count": null,
   "metadata": {
    "collapsed": true
   },
   "outputs": [],
   "source": [
    "cov4 = Sequential()\n",
    "cov4.add(Convolution2D(128, 3, 3, input_shape=(40, 50, 1), border_mode='same', activation='elu'))\n",
    "cov4.add(Convolution2D(128, 3, 3, activation='elu', border_mode='same'))\n",
    "cov4.add(MaxPooling2D(pool_size=(2,2)))\n",
    "\n",
    "cov4.add(Convolution2D(64, 3, 3, border_mode='same', activation='elu'))\n",
    "cov4.add(Convolution2D(64, 3, 3, activation='elu', border_mode='same'))\n",
    "cov4.add(MaxPooling2D(pool_size=(2,2)))\n",
    "\n",
    "cov4.add(Convolution2D(32, 3, 3, border_mode='same', activation='elu'))\n",
    "cov4.add(Convolution2D(32, 3, 3, activation='elu', border_mode='same'))\n",
    "cov4.add(MaxPooling2D(pool_size=(2,2)))\n",
    "\n",
    "cov4.add(Flatten())\n",
    "cov4.add(Dense(5))"
   ]
  },
  {
   "cell_type": "code",
   "execution_count": null,
   "metadata": {
    "collapsed": true
   },
   "outputs": [],
   "source": [
    "cov4.compile('adam', 'mse', metrics=[r2])\n",
    "cov4.summary()"
   ]
  },
  {
   "cell_type": "code",
   "execution_count": null,
   "metadata": {
    "collapsed": true
   },
   "outputs": [],
   "source": [
    "cov4 = load_model(\"cov4_y_running.h5\")\n",
    "cov4CallBack = keras.callbacks.TensorBoard(log_dir='./Cov4', histogram_freq=0, write_graph=True, write_images=True)"
   ]
  },
  {
   "cell_type": "code",
   "execution_count": null,
   "metadata": {
    "collapsed": true
   },
   "outputs": [],
   "source": [
    "for i in range(150):\n",
    "    RETURNS_ = np.load(\"MertonReturns_2000_\"+str(7-i%8)+\".npy\")\n",
    "    PARAMS_ = np.load(\"ModelParameters_2000_\"+str(7-i%8)+\".npy\")\n",
    "    train_data = np.reshape(np.array(RETURNS_), (100000, 40, 50, 1))\n",
    "    train_targets = np.array([[mp.all_sigma, mp.gbm_mu, mp.jumps_sigma, mp.jumps_mu, mp.lamda] for mp in PARAMS_])\n",
    "\n",
    "    \n",
    "    history = cov4.fit(np.array(train_data[:80000]), np.array(train_targets[:80000]), nb_epoch=1, batch_size=100, validation_data=(train_data[80000:], train_targets[80000:]), callbacks=[cov4CallBack])\n",
    "    cov4.save(\"cov4_y_running.h5\")"
   ]
  },
  {
   "cell_type": "markdown",
   "metadata": {},
   "source": [
    "# Covnet 5 "
   ]
  },
  {
   "cell_type": "code",
   "execution_count": null,
   "metadata": {
    "collapsed": true
   },
   "outputs": [],
   "source": [
    "cov5 = Sequential()\n",
    "cov5.add(Convolution2D(16, 3, 3, input_shape=(40, 50, 1), border_mode='same', activation='relu'))\n",
    "cov5.add(Convolution2D(32, 3, 3, activation='relu', border_mode='same'))\n",
    "cov5.add(MaxPooling2D(pool_size=(2,2)))\n",
    "\n",
    "cov5.add(Convolution2D(64, 3, 3, border_mode='same', activation='relu'))\n",
    "cov5.add(Convolution2D(128, 3, 3, activation='relu', border_mode='same'))\n",
    "cov5.add(MaxPooling2D(pool_size=(2,2)))\n",
    "\n",
    "cov5.add(Convolution2D(256, 3, 3, border_mode='same', activation='relu'))\n",
    "cov5.add(Convolution2D(512, 3, 3, activation='relu', border_mode='same'))\n",
    "cov5.add(MaxPooling2D(pool_size=(2,2)))\n",
    "\n",
    "cov5.add(Flatten())\n",
    "cov5.add(Dense(512))\n",
    "cov5.add(Dense(5))"
   ]
  },
  {
   "cell_type": "code",
   "execution_count": null,
   "metadata": {
    "collapsed": true
   },
   "outputs": [],
   "source": [
    "cov5.compile('adam', 'mse', metrics=[r2])\n",
    "cov5.summary()"
   ]
  },
  {
   "cell_type": "code",
   "execution_count": null,
   "metadata": {
    "collapsed": true
   },
   "outputs": [],
   "source": [
    "cov5 = load_model(\"cov5_y_running.h5\")\n",
    "cov5.summary()\n",
    "cov5CallBack = keras.callbacks.TensorBoard(log_dir='./Cov5', histogram_freq=0, write_graph=True, write_images=True)"
   ]
  },
  {
   "cell_type": "code",
   "execution_count": null,
   "metadata": {
    "collapsed": true
   },
   "outputs": [],
   "source": [
    "for i in range(150):\n",
    "    RETURNS_ = np.load(\"MertonReturns_2000_\"+str(7-i%8)+\".npy\")\n",
    "    PARAMS_ = np.load(\"ModelParameters_2000_\"+str(7-i%8)+\".npy\")\n",
    "    train_data = np.reshape(np.array(RETURNS_), (100000, 40, 50, 1))\n",
    "    train_targets = np.array([[mp.all_sigma, mp.gbm_mu, mp.jumps_sigma, mp.jumps_mu, mp.lamda] for mp in PARAMS_])\n",
    "\n",
    "    \n",
    "    history = cov5.fit(np.array(train_data[:80000]), np.array(train_targets[:80000]), nb_epoch=1, batch_size=100, validation_data=(train_data[80000:], train_targets[80000:]), callbacks=[cov5CallBack])\n",
    "    cov5.save(\"cov5_y_running.h5\")"
   ]
  },
  {
   "cell_type": "markdown",
   "metadata": {
    "collapsed": true
   },
   "source": [
    "# Covnet 6 - Add Dropout"
   ]
  },
  {
   "cell_type": "code",
   "execution_count": null,
   "metadata": {
    "collapsed": true
   },
   "outputs": [],
   "source": [
    "cov6 = Sequential()\n",
    "cov6.add(Convolution2D(16, 3, 3, input_shape=(40, 50, 1), border_mode='same', activation='relu'))\n",
    "cov6.add(Convolution2D(32, 3, 3, activation='relu', border_mode='same'))\n",
    "cov6.add(Dropout(0.2))\n",
    "cov6.add(MaxPooling2D(pool_size=(2,2)))\n",
    "\n",
    "cov6.add(Convolution2D(64, 3, 3, border_mode='same', activation='relu'))\n",
    "cov6.add(Convolution2D(128, 3, 3, activation='relu', border_mode='same'))\n",
    "cov6.add(Dropout(0.2))\n",
    "cov6.add(MaxPooling2D(pool_size=(2,2)))\n",
    "\n",
    "cov6.add(Convolution2D(256, 3, 3, border_mode='same', activation='relu'))\n",
    "cov6.add(Convolution2D(512, 3, 3, activation='relu', border_mode='same'))\n",
    "cov6.add(Dropout(0.2))\n",
    "cov6.add(MaxPooling2D(pool_size=(2,2)))\n",
    "\n",
    "cov6.add(Flatten())\n",
    "cov6.add(Dense(512))\n",
    "cov6.add(Dense(5))"
   ]
  },
  {
   "cell_type": "code",
   "execution_count": null,
   "metadata": {
    "collapsed": true
   },
   "outputs": [],
   "source": [
    "cov6.compile('adam', 'mse', metrics=['accuracy'])\n",
    "cov6.summary()\n",
    "cov6CallBack = keras.callbacks.TensorBoard(log_dir='./Cov6', histogram_freq=0, write_graph=True, write_images=True)"
   ]
  },
  {
   "cell_type": "code",
   "execution_count": null,
   "metadata": {
    "collapsed": true
   },
   "outputs": [],
   "source": [
    "for i in range(150):\n",
    "    RETURNS_ = np.load(\"MertonReturns_2000_\"+str(7-i%8)+\".npy\")\n",
    "    PARAMS_ = np.load(\"ModelParameters_2000_\"+str(7-i%8)+\".npy\")\n",
    "    train_data = np.reshape(np.array(RETURNS_), (100000, 40, 50, 1))\n",
    "    train_targets = np.array([[mp.all_sigma, mp.gbm_mu, mp.jumps_sigma, mp.jumps_mu, mp.lamda] for mp in PARAMS_])\n",
    "\n",
    "    \n",
    "    history = cov6.fit(np.array(train_data[:80000]), np.array(train_targets[:80000]), nb_epoch=1, batch_size=100, validation_data=(train_data[80000:], train_targets[80000:]), callbacks=[cov6CallBack])\n",
    "    #history = cov6.fit(np.array(train_data[:80]), np.array(train_targets[:80]), nb_epoch=150, batch_size=80)\n",
    "    cov6.save(\"cov6_y_running.h5\")"
   ]
  },
  {
   "cell_type": "markdown",
   "metadata": {
    "collapsed": true
   },
   "source": [
    "# Single Parameter Prediction Network"
   ]
  },
  {
   "cell_type": "code",
   "execution_count": 16,
   "metadata": {
    "collapsed": true
   },
   "outputs": [],
   "source": [
    "covnet_sp = Sequential()\n",
    "covnet_sp.add(Convolution2D(32, 3, 3, input_shape=(40, 50, 1), border_mode='same', activation='relu'))\n",
    "covnet_sp.add(Convolution2D(64, 3, 3, activation='relu', border_mode='same'))\n",
    "covnet_sp.add(MaxPooling2D(pool_size=(4,4)))\n",
    "\n",
    "covnet_sp.add(Flatten())\n",
    "covnet_sp.add(Reshape(target_shape = (7680, 1)))\n",
    "covnet_sp.add(Dense(32, activation='relu'))\n",
    "covnet_sp.add(LSTM(16, name=\"LSTM_10\"))\n",
    "covnet_sp.add(Dense(1))"
   ]
  },
  {
   "cell_type": "code",
   "execution_count": 17,
   "metadata": {
    "scrolled": true
   },
   "outputs": [
    {
     "name": "stdout",
     "output_type": "stream",
     "text": [
      "____________________________________________________________________________________________________\n",
      "Layer (type)                     Output Shape          Param #     Connected to                     \n",
      "====================================================================================================\n",
      "convolution2d_5 (Convolution2D)  (None, 40, 50, 32)    320         convolution2d_input_3[0][0]      \n",
      "____________________________________________________________________________________________________\n",
      "convolution2d_6 (Convolution2D)  (None, 40, 50, 64)    18496       convolution2d_5[0][0]            \n",
      "____________________________________________________________________________________________________\n",
      "maxpooling2d_3 (MaxPooling2D)    (None, 10, 12, 64)    0           convolution2d_6[0][0]            \n",
      "____________________________________________________________________________________________________\n",
      "flatten_3 (Flatten)              (None, 7680)          0           maxpooling2d_3[0][0]             \n",
      "____________________________________________________________________________________________________\n",
      "reshape_3 (Reshape)              (None, 7680, 1)       0           flatten_3[0][0]                  \n",
      "____________________________________________________________________________________________________\n",
      "dense_5 (Dense)                  (None, 7680, 32)      64          reshape_3[0][0]                  \n",
      "____________________________________________________________________________________________________\n",
      "LSTM_10 (LSTM)                   (None, 16)            3136        dense_5[0][0]                    \n",
      "____________________________________________________________________________________________________\n",
      "dense_6 (Dense)                  (None, 1)             17          LSTM_10[0][0]                    \n",
      "====================================================================================================\n",
      "Total params: 22,033\n",
      "Trainable params: 22,033\n",
      "Non-trainable params: 0\n",
      "____________________________________________________________________________________________________\n"
     ]
    }
   ],
   "source": [
    "covnet_sp.compile('adam', 'mse', metrics=[aape, r2])\n",
    "covnet_sp.summary()"
   ]
  },
  {
   "cell_type": "code",
   "execution_count": 18,
   "metadata": {},
   "outputs": [
    {
     "name": "stdout",
     "output_type": "stream",
     "text": [
      "Train on 80000 samples, validate on 20000 samples\n",
      "Epoch 1/1\n",
      "  890/80000 [..............................] - ETA: 137584s - loss: 0.0033 - aape: 131.1987 - r2: -0.2401"
     ]
    },
    {
     "ename": "KeyboardInterrupt",
     "evalue": "",
     "output_type": "error",
     "traceback": [
      "\u001b[0;31m---------------------------------------------------------------------------\u001b[0m",
      "\u001b[0;31mKeyboardInterrupt\u001b[0m                         Traceback (most recent call last)",
      "\u001b[0;32m<ipython-input-18-14d98028f865>\u001b[0m in \u001b[0;36m<module>\u001b[0;34m()\u001b[0m\n\u001b[1;32m      5\u001b[0m     \u001b[0mtrain_targets\u001b[0m \u001b[0;34m=\u001b[0m \u001b[0mnp\u001b[0m\u001b[0;34m.\u001b[0m\u001b[0marray\u001b[0m\u001b[0;34m(\u001b[0m\u001b[0;34m[\u001b[0m\u001b[0;34m[\u001b[0m\u001b[0mmp\u001b[0m\u001b[0;34m.\u001b[0m\u001b[0mjumps_mu\u001b[0m\u001b[0;34m]\u001b[0m \u001b[0;32mfor\u001b[0m \u001b[0mmp\u001b[0m \u001b[0;32min\u001b[0m \u001b[0mPARAMS_\u001b[0m\u001b[0;34m]\u001b[0m\u001b[0;34m)\u001b[0m\u001b[0;34m\u001b[0m\u001b[0m\n\u001b[1;32m      6\u001b[0m \u001b[0;34m\u001b[0m\u001b[0m\n\u001b[0;32m----> 7\u001b[0;31m     \u001b[0mhistory\u001b[0m \u001b[0;34m=\u001b[0m \u001b[0mcovnet_sp\u001b[0m\u001b[0;34m.\u001b[0m\u001b[0mfit\u001b[0m\u001b[0;34m(\u001b[0m\u001b[0mnp\u001b[0m\u001b[0;34m.\u001b[0m\u001b[0marray\u001b[0m\u001b[0;34m(\u001b[0m\u001b[0mtrain_data\u001b[0m\u001b[0;34m[\u001b[0m\u001b[0;34m:\u001b[0m\u001b[0;36m80000\u001b[0m\u001b[0;34m]\u001b[0m\u001b[0;34m)\u001b[0m\u001b[0;34m,\u001b[0m \u001b[0mnp\u001b[0m\u001b[0;34m.\u001b[0m\u001b[0marray\u001b[0m\u001b[0;34m(\u001b[0m\u001b[0mtrain_targets\u001b[0m\u001b[0;34m[\u001b[0m\u001b[0;34m:\u001b[0m\u001b[0;36m80000\u001b[0m\u001b[0;34m]\u001b[0m\u001b[0;34m)\u001b[0m\u001b[0;34m,\u001b[0m \u001b[0mnb_epoch\u001b[0m\u001b[0;34m=\u001b[0m\u001b[0;36m1\u001b[0m\u001b[0;34m,\u001b[0m \u001b[0mbatch_size\u001b[0m\u001b[0;34m=\u001b[0m\u001b[0;36m10\u001b[0m\u001b[0;34m,\u001b[0m \u001b[0mvalidation_data\u001b[0m\u001b[0;34m=\u001b[0m\u001b[0;34m(\u001b[0m\u001b[0mtrain_data\u001b[0m\u001b[0;34m[\u001b[0m\u001b[0;36m80000\u001b[0m\u001b[0;34m:\u001b[0m\u001b[0;34m]\u001b[0m\u001b[0;34m,\u001b[0m \u001b[0mtrain_targets\u001b[0m\u001b[0;34m[\u001b[0m\u001b[0;36m80000\u001b[0m\u001b[0;34m:\u001b[0m\u001b[0;34m]\u001b[0m\u001b[0;34m)\u001b[0m\u001b[0;34m)\u001b[0m\u001b[0;34m\u001b[0m\u001b[0m\n\u001b[0m\u001b[1;32m      8\u001b[0m     \u001b[0mcovnet_sp\u001b[0m\u001b[0;34m.\u001b[0m\u001b[0msave_weights\u001b[0m\u001b[0;34m(\u001b[0m\u001b[0;34m\"covnet_sp_running.h5\"\u001b[0m\u001b[0;34m)\u001b[0m\u001b[0;34m\u001b[0m\u001b[0m\n",
      "\u001b[0;32m/home/carnd/anaconda3/envs/carnd-term1/lib/python3.5/site-packages/keras/models.py\u001b[0m in \u001b[0;36mfit\u001b[0;34m(self, x, y, batch_size, nb_epoch, verbose, callbacks, validation_split, validation_data, shuffle, class_weight, sample_weight, initial_epoch, **kwargs)\u001b[0m\n\u001b[1;32m    670\u001b[0m                               \u001b[0mclass_weight\u001b[0m\u001b[0;34m=\u001b[0m\u001b[0mclass_weight\u001b[0m\u001b[0;34m,\u001b[0m\u001b[0;34m\u001b[0m\u001b[0m\n\u001b[1;32m    671\u001b[0m                               \u001b[0msample_weight\u001b[0m\u001b[0;34m=\u001b[0m\u001b[0msample_weight\u001b[0m\u001b[0;34m,\u001b[0m\u001b[0;34m\u001b[0m\u001b[0m\n\u001b[0;32m--> 672\u001b[0;31m                               initial_epoch=initial_epoch)\n\u001b[0m\u001b[1;32m    673\u001b[0m \u001b[0;34m\u001b[0m\u001b[0m\n\u001b[1;32m    674\u001b[0m     def evaluate(self, x, y, batch_size=32, verbose=1,\n",
      "\u001b[0;32m/home/carnd/anaconda3/envs/carnd-term1/lib/python3.5/site-packages/keras/engine/training.py\u001b[0m in \u001b[0;36mfit\u001b[0;34m(self, x, y, batch_size, nb_epoch, verbose, callbacks, validation_split, validation_data, shuffle, class_weight, sample_weight, initial_epoch)\u001b[0m\n\u001b[1;32m   1190\u001b[0m                               \u001b[0mval_f\u001b[0m\u001b[0;34m=\u001b[0m\u001b[0mval_f\u001b[0m\u001b[0;34m,\u001b[0m \u001b[0mval_ins\u001b[0m\u001b[0;34m=\u001b[0m\u001b[0mval_ins\u001b[0m\u001b[0;34m,\u001b[0m \u001b[0mshuffle\u001b[0m\u001b[0;34m=\u001b[0m\u001b[0mshuffle\u001b[0m\u001b[0;34m,\u001b[0m\u001b[0;34m\u001b[0m\u001b[0m\n\u001b[1;32m   1191\u001b[0m                               \u001b[0mcallback_metrics\u001b[0m\u001b[0;34m=\u001b[0m\u001b[0mcallback_metrics\u001b[0m\u001b[0;34m,\u001b[0m\u001b[0;34m\u001b[0m\u001b[0m\n\u001b[0;32m-> 1192\u001b[0;31m                               initial_epoch=initial_epoch)\n\u001b[0m\u001b[1;32m   1193\u001b[0m \u001b[0;34m\u001b[0m\u001b[0m\n\u001b[1;32m   1194\u001b[0m     \u001b[0;32mdef\u001b[0m \u001b[0mevaluate\u001b[0m\u001b[0;34m(\u001b[0m\u001b[0mself\u001b[0m\u001b[0;34m,\u001b[0m \u001b[0mx\u001b[0m\u001b[0;34m,\u001b[0m \u001b[0my\u001b[0m\u001b[0;34m,\u001b[0m \u001b[0mbatch_size\u001b[0m\u001b[0;34m=\u001b[0m\u001b[0;36m32\u001b[0m\u001b[0;34m,\u001b[0m \u001b[0mverbose\u001b[0m\u001b[0;34m=\u001b[0m\u001b[0;36m1\u001b[0m\u001b[0;34m,\u001b[0m \u001b[0msample_weight\u001b[0m\u001b[0;34m=\u001b[0m\u001b[0;32mNone\u001b[0m\u001b[0;34m)\u001b[0m\u001b[0;34m:\u001b[0m\u001b[0;34m\u001b[0m\u001b[0m\n",
      "\u001b[0;32m/home/carnd/anaconda3/envs/carnd-term1/lib/python3.5/site-packages/keras/engine/training.py\u001b[0m in \u001b[0;36m_fit_loop\u001b[0;34m(self, f, ins, out_labels, batch_size, nb_epoch, verbose, callbacks, val_f, val_ins, shuffle, callback_metrics, initial_epoch)\u001b[0m\n\u001b[1;32m    890\u001b[0m                 \u001b[0mbatch_logs\u001b[0m\u001b[0;34m[\u001b[0m\u001b[0;34m'size'\u001b[0m\u001b[0;34m]\u001b[0m \u001b[0;34m=\u001b[0m \u001b[0mlen\u001b[0m\u001b[0;34m(\u001b[0m\u001b[0mbatch_ids\u001b[0m\u001b[0;34m)\u001b[0m\u001b[0;34m\u001b[0m\u001b[0m\n\u001b[1;32m    891\u001b[0m                 \u001b[0mcallbacks\u001b[0m\u001b[0;34m.\u001b[0m\u001b[0mon_batch_begin\u001b[0m\u001b[0;34m(\u001b[0m\u001b[0mbatch_index\u001b[0m\u001b[0;34m,\u001b[0m \u001b[0mbatch_logs\u001b[0m\u001b[0;34m)\u001b[0m\u001b[0;34m\u001b[0m\u001b[0m\n\u001b[0;32m--> 892\u001b[0;31m                 \u001b[0mouts\u001b[0m \u001b[0;34m=\u001b[0m \u001b[0mf\u001b[0m\u001b[0;34m(\u001b[0m\u001b[0mins_batch\u001b[0m\u001b[0;34m)\u001b[0m\u001b[0;34m\u001b[0m\u001b[0m\n\u001b[0m\u001b[1;32m    893\u001b[0m                 \u001b[0;32mif\u001b[0m \u001b[0;32mnot\u001b[0m \u001b[0misinstance\u001b[0m\u001b[0;34m(\u001b[0m\u001b[0mouts\u001b[0m\u001b[0;34m,\u001b[0m \u001b[0mlist\u001b[0m\u001b[0;34m)\u001b[0m\u001b[0;34m:\u001b[0m\u001b[0;34m\u001b[0m\u001b[0m\n\u001b[1;32m    894\u001b[0m                     \u001b[0mouts\u001b[0m \u001b[0;34m=\u001b[0m \u001b[0;34m[\u001b[0m\u001b[0mouts\u001b[0m\u001b[0;34m]\u001b[0m\u001b[0;34m\u001b[0m\u001b[0m\n",
      "\u001b[0;32m/home/carnd/anaconda3/envs/carnd-term1/lib/python3.5/site-packages/keras/backend/tensorflow_backend.py\u001b[0m in \u001b[0;36m__call__\u001b[0;34m(self, inputs)\u001b[0m\n\u001b[1;32m   1898\u001b[0m         \u001b[0msession\u001b[0m \u001b[0;34m=\u001b[0m \u001b[0mget_session\u001b[0m\u001b[0;34m(\u001b[0m\u001b[0;34m)\u001b[0m\u001b[0;34m\u001b[0m\u001b[0m\n\u001b[1;32m   1899\u001b[0m         updated = session.run(self.outputs + [self.updates_op],\n\u001b[0;32m-> 1900\u001b[0;31m                               feed_dict=feed_dict)\n\u001b[0m\u001b[1;32m   1901\u001b[0m         \u001b[0;32mreturn\u001b[0m \u001b[0mupdated\u001b[0m\u001b[0;34m[\u001b[0m\u001b[0;34m:\u001b[0m\u001b[0mlen\u001b[0m\u001b[0;34m(\u001b[0m\u001b[0mself\u001b[0m\u001b[0;34m.\u001b[0m\u001b[0moutputs\u001b[0m\u001b[0;34m)\u001b[0m\u001b[0;34m]\u001b[0m\u001b[0;34m\u001b[0m\u001b[0m\n\u001b[1;32m   1902\u001b[0m \u001b[0;34m\u001b[0m\u001b[0m\n",
      "\u001b[0;32m/home/carnd/anaconda3/envs/carnd-term1/lib/python3.5/site-packages/tensorflow/python/client/session.py\u001b[0m in \u001b[0;36mrun\u001b[0;34m(self, fetches, feed_dict, options, run_metadata)\u001b[0m\n\u001b[1;32m    764\u001b[0m     \u001b[0;32mtry\u001b[0m\u001b[0;34m:\u001b[0m\u001b[0;34m\u001b[0m\u001b[0m\n\u001b[1;32m    765\u001b[0m       result = self._run(None, fetches, feed_dict, options_ptr,\n\u001b[0;32m--> 766\u001b[0;31m                          run_metadata_ptr)\n\u001b[0m\u001b[1;32m    767\u001b[0m       \u001b[0;32mif\u001b[0m \u001b[0mrun_metadata\u001b[0m\u001b[0;34m:\u001b[0m\u001b[0;34m\u001b[0m\u001b[0m\n\u001b[1;32m    768\u001b[0m         \u001b[0mproto_data\u001b[0m \u001b[0;34m=\u001b[0m \u001b[0mtf_session\u001b[0m\u001b[0;34m.\u001b[0m\u001b[0mTF_GetBuffer\u001b[0m\u001b[0;34m(\u001b[0m\u001b[0mrun_metadata_ptr\u001b[0m\u001b[0;34m)\u001b[0m\u001b[0;34m\u001b[0m\u001b[0m\n",
      "\u001b[0;32m/home/carnd/anaconda3/envs/carnd-term1/lib/python3.5/site-packages/tensorflow/python/client/session.py\u001b[0m in \u001b[0;36m_run\u001b[0;34m(self, handle, fetches, feed_dict, options, run_metadata)\u001b[0m\n\u001b[1;32m    962\u001b[0m     \u001b[0;32mif\u001b[0m \u001b[0mfinal_fetches\u001b[0m \u001b[0;32mor\u001b[0m \u001b[0mfinal_targets\u001b[0m\u001b[0;34m:\u001b[0m\u001b[0;34m\u001b[0m\u001b[0m\n\u001b[1;32m    963\u001b[0m       results = self._do_run(handle, final_targets, final_fetches,\n\u001b[0;32m--> 964\u001b[0;31m                              feed_dict_string, options, run_metadata)\n\u001b[0m\u001b[1;32m    965\u001b[0m     \u001b[0;32melse\u001b[0m\u001b[0;34m:\u001b[0m\u001b[0;34m\u001b[0m\u001b[0m\n\u001b[1;32m    966\u001b[0m       \u001b[0mresults\u001b[0m \u001b[0;34m=\u001b[0m \u001b[0;34m[\u001b[0m\u001b[0;34m]\u001b[0m\u001b[0;34m\u001b[0m\u001b[0m\n",
      "\u001b[0;32m/home/carnd/anaconda3/envs/carnd-term1/lib/python3.5/site-packages/tensorflow/python/client/session.py\u001b[0m in \u001b[0;36m_do_run\u001b[0;34m(self, handle, target_list, fetch_list, feed_dict, options, run_metadata)\u001b[0m\n\u001b[1;32m   1012\u001b[0m     \u001b[0;32mif\u001b[0m \u001b[0mhandle\u001b[0m \u001b[0;32mis\u001b[0m \u001b[0;32mNone\u001b[0m\u001b[0;34m:\u001b[0m\u001b[0;34m\u001b[0m\u001b[0m\n\u001b[1;32m   1013\u001b[0m       return self._do_call(_run_fn, self._session, feed_dict, fetch_list,\n\u001b[0;32m-> 1014\u001b[0;31m                            target_list, options, run_metadata)\n\u001b[0m\u001b[1;32m   1015\u001b[0m     \u001b[0;32melse\u001b[0m\u001b[0;34m:\u001b[0m\u001b[0;34m\u001b[0m\u001b[0m\n\u001b[1;32m   1016\u001b[0m       return self._do_call(_prun_fn, self._session, handle, feed_dict,\n",
      "\u001b[0;32m/home/carnd/anaconda3/envs/carnd-term1/lib/python3.5/site-packages/tensorflow/python/client/session.py\u001b[0m in \u001b[0;36m_do_call\u001b[0;34m(self, fn, *args)\u001b[0m\n\u001b[1;32m   1019\u001b[0m   \u001b[0;32mdef\u001b[0m \u001b[0m_do_call\u001b[0m\u001b[0;34m(\u001b[0m\u001b[0mself\u001b[0m\u001b[0;34m,\u001b[0m \u001b[0mfn\u001b[0m\u001b[0;34m,\u001b[0m \u001b[0;34m*\u001b[0m\u001b[0margs\u001b[0m\u001b[0;34m)\u001b[0m\u001b[0;34m:\u001b[0m\u001b[0;34m\u001b[0m\u001b[0m\n\u001b[1;32m   1020\u001b[0m     \u001b[0;32mtry\u001b[0m\u001b[0;34m:\u001b[0m\u001b[0;34m\u001b[0m\u001b[0m\n\u001b[0;32m-> 1021\u001b[0;31m       \u001b[0;32mreturn\u001b[0m \u001b[0mfn\u001b[0m\u001b[0;34m(\u001b[0m\u001b[0;34m*\u001b[0m\u001b[0margs\u001b[0m\u001b[0;34m)\u001b[0m\u001b[0;34m\u001b[0m\u001b[0m\n\u001b[0m\u001b[1;32m   1022\u001b[0m     \u001b[0;32mexcept\u001b[0m \u001b[0merrors\u001b[0m\u001b[0;34m.\u001b[0m\u001b[0mOpError\u001b[0m \u001b[0;32mas\u001b[0m \u001b[0me\u001b[0m\u001b[0;34m:\u001b[0m\u001b[0;34m\u001b[0m\u001b[0m\n\u001b[1;32m   1023\u001b[0m       \u001b[0mmessage\u001b[0m \u001b[0;34m=\u001b[0m \u001b[0mcompat\u001b[0m\u001b[0;34m.\u001b[0m\u001b[0mas_text\u001b[0m\u001b[0;34m(\u001b[0m\u001b[0me\u001b[0m\u001b[0;34m.\u001b[0m\u001b[0mmessage\u001b[0m\u001b[0;34m)\u001b[0m\u001b[0;34m\u001b[0m\u001b[0m\n",
      "\u001b[0;32m/home/carnd/anaconda3/envs/carnd-term1/lib/python3.5/site-packages/tensorflow/python/client/session.py\u001b[0m in \u001b[0;36m_run_fn\u001b[0;34m(session, feed_dict, fetch_list, target_list, options, run_metadata)\u001b[0m\n\u001b[1;32m   1001\u001b[0m         return tf_session.TF_Run(session, options,\n\u001b[1;32m   1002\u001b[0m                                  \u001b[0mfeed_dict\u001b[0m\u001b[0;34m,\u001b[0m \u001b[0mfetch_list\u001b[0m\u001b[0;34m,\u001b[0m \u001b[0mtarget_list\u001b[0m\u001b[0;34m,\u001b[0m\u001b[0;34m\u001b[0m\u001b[0m\n\u001b[0;32m-> 1003\u001b[0;31m                                  status, run_metadata)\n\u001b[0m\u001b[1;32m   1004\u001b[0m \u001b[0;34m\u001b[0m\u001b[0m\n\u001b[1;32m   1005\u001b[0m     \u001b[0;32mdef\u001b[0m \u001b[0m_prun_fn\u001b[0m\u001b[0;34m(\u001b[0m\u001b[0msession\u001b[0m\u001b[0;34m,\u001b[0m \u001b[0mhandle\u001b[0m\u001b[0;34m,\u001b[0m \u001b[0mfeed_dict\u001b[0m\u001b[0;34m,\u001b[0m \u001b[0mfetch_list\u001b[0m\u001b[0;34m)\u001b[0m\u001b[0;34m:\u001b[0m\u001b[0;34m\u001b[0m\u001b[0m\n",
      "\u001b[0;31mKeyboardInterrupt\u001b[0m: "
     ]
    }
   ],
   "source": [
    "for i in range(150):\n",
    "    RETURNS_ = np.load(\"MertonReturns_2000_\"+str(7-i%8)+\".npy\")\n",
    "    PARAMS_ = np.load(\"ModelParameters_2000_\"+str(7-i%8)+\".npy\")\n",
    "    train_data = np.reshape(np.array(RETURNS_), (100000, 40, 50, 1))\n",
    "    train_targets = np.array([[mp.jumps_mu] for mp in PARAMS_])\n",
    "\n",
    "    history = covnet_sp.fit(np.array(train_data[:80000]), np.array(train_targets[:80000]), nb_epoch=1, batch_size=10, validation_data=(train_data[80000:], train_targets[80000:]))\n",
    "    covnet_sp.save_weights(\"covnet_sp_running.h5\")"
   ]
  },
  {
   "cell_type": "markdown",
   "metadata": {},
   "source": [
    "# Covnet Lambda"
   ]
  },
  {
   "cell_type": "code",
   "execution_count": 24,
   "metadata": {
    "collapsed": true
   },
   "outputs": [],
   "source": [
    "covnet_lambda = Sequential()\n",
    "covnet_lambda.add(Convolution2D(40, 3, 3, input_shape=(40, 50, 1), border_mode='same', activation='relu'))\n",
    "covnet_lambda.add(Convolution2D(40, 3, 3, activation='relu', border_mode='same'))\n",
    "covnet_lambda.add(MaxPooling2D(pool_size=(2,2)))\n",
    "\n",
    "covnet_lambda.add(Convolution2D(64, 3, 3, border_mode='same', activation='relu'))\n",
    "covnet_lambda.add(Convolution2D(64, 3, 3, activation='relu', border_mode='same'))\n",
    "covnet_lambda.add(MaxPooling2D(pool_size=(2,2)))\n",
    "\n",
    "covnet_lambda.add(Convolution2D(128, 3, 3, border_mode='same', activation='relu'))\n",
    "covnet_lambda.add(Convolution2D(128, 3, 3, activation='relu', border_mode='same'))\n",
    "covnet_lambda.add(MaxPooling2D(pool_size=(2,2)))\n",
    "\n",
    "covnet_lambda.add(Flatten())\n",
    "covnet_lambda.add(Dense(1024, activation='relu'))\n",
    "covnet_lambda.add(Dense(512, activation='relu'))\n",
    "covnet_lambda.add(Dense(1))"
   ]
  },
  {
   "cell_type": "code",
   "execution_count": 25,
   "metadata": {},
   "outputs": [
    {
     "name": "stdout",
     "output_type": "stream",
     "text": [
      "____________________________________________________________________________________________________\n",
      "Layer (type)                     Output Shape          Param #     Connected to                     \n",
      "====================================================================================================\n",
      "convolution2d_7 (Convolution2D)  (None, 40, 50, 40)    400         convolution2d_input_2[0][0]      \n",
      "____________________________________________________________________________________________________\n",
      "convolution2d_8 (Convolution2D)  (None, 40, 50, 40)    14440       convolution2d_7[0][0]            \n",
      "____________________________________________________________________________________________________\n",
      "maxpooling2d_4 (MaxPooling2D)    (None, 20, 25, 40)    0           convolution2d_8[0][0]            \n",
      "____________________________________________________________________________________________________\n",
      "convolution2d_9 (Convolution2D)  (None, 20, 25, 64)    23104       maxpooling2d_4[0][0]             \n",
      "____________________________________________________________________________________________________\n",
      "convolution2d_10 (Convolution2D) (None, 20, 25, 64)    36928       convolution2d_9[0][0]            \n",
      "____________________________________________________________________________________________________\n",
      "maxpooling2d_5 (MaxPooling2D)    (None, 10, 12, 64)    0           convolution2d_10[0][0]           \n",
      "____________________________________________________________________________________________________\n",
      "convolution2d_11 (Convolution2D) (None, 10, 12, 128)   73856       maxpooling2d_5[0][0]             \n",
      "____________________________________________________________________________________________________\n",
      "convolution2d_12 (Convolution2D) (None, 10, 12, 128)   147584      convolution2d_11[0][0]           \n",
      "____________________________________________________________________________________________________\n",
      "maxpooling2d_6 (MaxPooling2D)    (None, 5, 6, 128)     0           convolution2d_12[0][0]           \n",
      "____________________________________________________________________________________________________\n",
      "flatten_2 (Flatten)              (None, 3840)          0           maxpooling2d_6[0][0]             \n",
      "____________________________________________________________________________________________________\n",
      "dense_4 (Dense)                  (None, 1024)          3933184     flatten_2[0][0]                  \n",
      "____________________________________________________________________________________________________\n",
      "dense_5 (Dense)                  (None, 512)           524800      dense_4[0][0]                    \n",
      "____________________________________________________________________________________________________\n",
      "dense_6 (Dense)                  (None, 1)             513         dense_5[0][0]                    \n",
      "====================================================================================================\n",
      "Total params: 4,754,809\n",
      "Trainable params: 4,754,809\n",
      "Non-trainable params: 0\n",
      "____________________________________________________________________________________________________\n"
     ]
    }
   ],
   "source": [
    "covnet_lambda.compile('adam', 'mse', metrics=['accuracy', aape, r2])\n",
    "covnet_lambda.summary()"
   ]
  },
  {
   "cell_type": "code",
   "execution_count": 27,
   "metadata": {
    "collapsed": true
   },
   "outputs": [],
   "source": [
    "covnet_lambda.load_weights(\"covnet_lambda_running.h5\")"
   ]
  },
  {
   "cell_type": "code",
   "execution_count": 28,
   "metadata": {},
   "outputs": [
    {
     "name": "stdout",
     "output_type": "stream",
     "text": [
      "Train on 80000 samples, validate on 20000 samples\n",
      "Epoch 1/1\n",
      " 4500/80000 [>.............................] - ETA: 125s - loss: 5.5797e-06 - acc: 0.0000e+00 - aape: 24.7398 - r2: 0.8867"
     ]
    },
    {
     "ename": "KeyboardInterrupt",
     "evalue": "",
     "output_type": "error",
     "traceback": [
      "\u001b[0;31m---------------------------------------------------------------------------\u001b[0m",
      "\u001b[0;31mKeyboardInterrupt\u001b[0m                         Traceback (most recent call last)",
      "\u001b[0;32m<ipython-input-28-ad63dff891e8>\u001b[0m in \u001b[0;36m<module>\u001b[0;34m()\u001b[0m\n\u001b[1;32m      5\u001b[0m     \u001b[0mtrain_targets\u001b[0m \u001b[0;34m=\u001b[0m \u001b[0mnp\u001b[0m\u001b[0;34m.\u001b[0m\u001b[0marray\u001b[0m\u001b[0;34m(\u001b[0m\u001b[0;34m[\u001b[0m\u001b[0;34m[\u001b[0m\u001b[0mmp\u001b[0m\u001b[0;34m.\u001b[0m\u001b[0mlamda\u001b[0m\u001b[0;34m]\u001b[0m \u001b[0;32mfor\u001b[0m \u001b[0mmp\u001b[0m \u001b[0;32min\u001b[0m \u001b[0mPARAMS_\u001b[0m\u001b[0;34m]\u001b[0m\u001b[0;34m)\u001b[0m\u001b[0;34m\u001b[0m\u001b[0m\n\u001b[1;32m      6\u001b[0m \u001b[0;34m\u001b[0m\u001b[0m\n\u001b[0;32m----> 7\u001b[0;31m     \u001b[0mhistory\u001b[0m \u001b[0;34m=\u001b[0m \u001b[0mcovnet_lambda\u001b[0m\u001b[0;34m.\u001b[0m\u001b[0mfit\u001b[0m\u001b[0;34m(\u001b[0m\u001b[0mnp\u001b[0m\u001b[0;34m.\u001b[0m\u001b[0marray\u001b[0m\u001b[0;34m(\u001b[0m\u001b[0mtrain_data\u001b[0m\u001b[0;34m[\u001b[0m\u001b[0;34m:\u001b[0m\u001b[0;36m80000\u001b[0m\u001b[0;34m]\u001b[0m\u001b[0;34m)\u001b[0m\u001b[0;34m,\u001b[0m \u001b[0mnp\u001b[0m\u001b[0;34m.\u001b[0m\u001b[0marray\u001b[0m\u001b[0;34m(\u001b[0m\u001b[0mtrain_targets\u001b[0m\u001b[0;34m[\u001b[0m\u001b[0;34m:\u001b[0m\u001b[0;36m80000\u001b[0m\u001b[0;34m]\u001b[0m\u001b[0;34m)\u001b[0m\u001b[0;34m,\u001b[0m \u001b[0mnb_epoch\u001b[0m\u001b[0;34m=\u001b[0m\u001b[0;36m1\u001b[0m\u001b[0;34m,\u001b[0m \u001b[0mbatch_size\u001b[0m\u001b[0;34m=\u001b[0m\u001b[0;36m100\u001b[0m\u001b[0;34m,\u001b[0m \u001b[0mvalidation_data\u001b[0m\u001b[0;34m=\u001b[0m\u001b[0;34m(\u001b[0m\u001b[0mtrain_data\u001b[0m\u001b[0;34m[\u001b[0m\u001b[0;36m80000\u001b[0m\u001b[0;34m:\u001b[0m\u001b[0;34m]\u001b[0m\u001b[0;34m,\u001b[0m \u001b[0mtrain_targets\u001b[0m\u001b[0;34m[\u001b[0m\u001b[0;36m80000\u001b[0m\u001b[0;34m:\u001b[0m\u001b[0;34m]\u001b[0m\u001b[0;34m)\u001b[0m\u001b[0;34m)\u001b[0m\u001b[0;34m\u001b[0m\u001b[0m\n\u001b[0m\u001b[1;32m      8\u001b[0m     \u001b[0mcovnet_lambda\u001b[0m\u001b[0;34m.\u001b[0m\u001b[0msave_weights\u001b[0m\u001b[0;34m(\u001b[0m\u001b[0;34m\"covnet_lambda_running.h5\"\u001b[0m\u001b[0;34m)\u001b[0m\u001b[0;34m\u001b[0m\u001b[0m\n",
      "\u001b[0;32m/home/carnd/anaconda3/envs/carnd-term1/lib/python3.5/site-packages/keras/models.py\u001b[0m in \u001b[0;36mfit\u001b[0;34m(self, x, y, batch_size, nb_epoch, verbose, callbacks, validation_split, validation_data, shuffle, class_weight, sample_weight, initial_epoch, **kwargs)\u001b[0m\n\u001b[1;32m    670\u001b[0m                               \u001b[0mclass_weight\u001b[0m\u001b[0;34m=\u001b[0m\u001b[0mclass_weight\u001b[0m\u001b[0;34m,\u001b[0m\u001b[0;34m\u001b[0m\u001b[0m\n\u001b[1;32m    671\u001b[0m                               \u001b[0msample_weight\u001b[0m\u001b[0;34m=\u001b[0m\u001b[0msample_weight\u001b[0m\u001b[0;34m,\u001b[0m\u001b[0;34m\u001b[0m\u001b[0m\n\u001b[0;32m--> 672\u001b[0;31m                               initial_epoch=initial_epoch)\n\u001b[0m\u001b[1;32m    673\u001b[0m \u001b[0;34m\u001b[0m\u001b[0m\n\u001b[1;32m    674\u001b[0m     def evaluate(self, x, y, batch_size=32, verbose=1,\n",
      "\u001b[0;32m/home/carnd/anaconda3/envs/carnd-term1/lib/python3.5/site-packages/keras/engine/training.py\u001b[0m in \u001b[0;36mfit\u001b[0;34m(self, x, y, batch_size, nb_epoch, verbose, callbacks, validation_split, validation_data, shuffle, class_weight, sample_weight, initial_epoch)\u001b[0m\n\u001b[1;32m   1190\u001b[0m                               \u001b[0mval_f\u001b[0m\u001b[0;34m=\u001b[0m\u001b[0mval_f\u001b[0m\u001b[0;34m,\u001b[0m \u001b[0mval_ins\u001b[0m\u001b[0;34m=\u001b[0m\u001b[0mval_ins\u001b[0m\u001b[0;34m,\u001b[0m \u001b[0mshuffle\u001b[0m\u001b[0;34m=\u001b[0m\u001b[0mshuffle\u001b[0m\u001b[0;34m,\u001b[0m\u001b[0;34m\u001b[0m\u001b[0m\n\u001b[1;32m   1191\u001b[0m                               \u001b[0mcallback_metrics\u001b[0m\u001b[0;34m=\u001b[0m\u001b[0mcallback_metrics\u001b[0m\u001b[0;34m,\u001b[0m\u001b[0;34m\u001b[0m\u001b[0m\n\u001b[0;32m-> 1192\u001b[0;31m                               initial_epoch=initial_epoch)\n\u001b[0m\u001b[1;32m   1193\u001b[0m \u001b[0;34m\u001b[0m\u001b[0m\n\u001b[1;32m   1194\u001b[0m     \u001b[0;32mdef\u001b[0m \u001b[0mevaluate\u001b[0m\u001b[0;34m(\u001b[0m\u001b[0mself\u001b[0m\u001b[0;34m,\u001b[0m \u001b[0mx\u001b[0m\u001b[0;34m,\u001b[0m \u001b[0my\u001b[0m\u001b[0;34m,\u001b[0m \u001b[0mbatch_size\u001b[0m\u001b[0;34m=\u001b[0m\u001b[0;36m32\u001b[0m\u001b[0;34m,\u001b[0m \u001b[0mverbose\u001b[0m\u001b[0;34m=\u001b[0m\u001b[0;36m1\u001b[0m\u001b[0;34m,\u001b[0m \u001b[0msample_weight\u001b[0m\u001b[0;34m=\u001b[0m\u001b[0;32mNone\u001b[0m\u001b[0;34m)\u001b[0m\u001b[0;34m:\u001b[0m\u001b[0;34m\u001b[0m\u001b[0m\n",
      "\u001b[0;32m/home/carnd/anaconda3/envs/carnd-term1/lib/python3.5/site-packages/keras/engine/training.py\u001b[0m in \u001b[0;36m_fit_loop\u001b[0;34m(self, f, ins, out_labels, batch_size, nb_epoch, verbose, callbacks, val_f, val_ins, shuffle, callback_metrics, initial_epoch)\u001b[0m\n\u001b[1;32m    890\u001b[0m                 \u001b[0mbatch_logs\u001b[0m\u001b[0;34m[\u001b[0m\u001b[0;34m'size'\u001b[0m\u001b[0;34m]\u001b[0m \u001b[0;34m=\u001b[0m \u001b[0mlen\u001b[0m\u001b[0;34m(\u001b[0m\u001b[0mbatch_ids\u001b[0m\u001b[0;34m)\u001b[0m\u001b[0;34m\u001b[0m\u001b[0m\n\u001b[1;32m    891\u001b[0m                 \u001b[0mcallbacks\u001b[0m\u001b[0;34m.\u001b[0m\u001b[0mon_batch_begin\u001b[0m\u001b[0;34m(\u001b[0m\u001b[0mbatch_index\u001b[0m\u001b[0;34m,\u001b[0m \u001b[0mbatch_logs\u001b[0m\u001b[0;34m)\u001b[0m\u001b[0;34m\u001b[0m\u001b[0m\n\u001b[0;32m--> 892\u001b[0;31m                 \u001b[0mouts\u001b[0m \u001b[0;34m=\u001b[0m \u001b[0mf\u001b[0m\u001b[0;34m(\u001b[0m\u001b[0mins_batch\u001b[0m\u001b[0;34m)\u001b[0m\u001b[0;34m\u001b[0m\u001b[0m\n\u001b[0m\u001b[1;32m    893\u001b[0m                 \u001b[0;32mif\u001b[0m \u001b[0;32mnot\u001b[0m \u001b[0misinstance\u001b[0m\u001b[0;34m(\u001b[0m\u001b[0mouts\u001b[0m\u001b[0;34m,\u001b[0m \u001b[0mlist\u001b[0m\u001b[0;34m)\u001b[0m\u001b[0;34m:\u001b[0m\u001b[0;34m\u001b[0m\u001b[0m\n\u001b[1;32m    894\u001b[0m                     \u001b[0mouts\u001b[0m \u001b[0;34m=\u001b[0m \u001b[0;34m[\u001b[0m\u001b[0mouts\u001b[0m\u001b[0;34m]\u001b[0m\u001b[0;34m\u001b[0m\u001b[0m\n",
      "\u001b[0;32m/home/carnd/anaconda3/envs/carnd-term1/lib/python3.5/site-packages/keras/backend/tensorflow_backend.py\u001b[0m in \u001b[0;36m__call__\u001b[0;34m(self, inputs)\u001b[0m\n\u001b[1;32m   1898\u001b[0m         \u001b[0msession\u001b[0m \u001b[0;34m=\u001b[0m \u001b[0mget_session\u001b[0m\u001b[0;34m(\u001b[0m\u001b[0;34m)\u001b[0m\u001b[0;34m\u001b[0m\u001b[0m\n\u001b[1;32m   1899\u001b[0m         updated = session.run(self.outputs + [self.updates_op],\n\u001b[0;32m-> 1900\u001b[0;31m                               feed_dict=feed_dict)\n\u001b[0m\u001b[1;32m   1901\u001b[0m         \u001b[0;32mreturn\u001b[0m \u001b[0mupdated\u001b[0m\u001b[0;34m[\u001b[0m\u001b[0;34m:\u001b[0m\u001b[0mlen\u001b[0m\u001b[0;34m(\u001b[0m\u001b[0mself\u001b[0m\u001b[0;34m.\u001b[0m\u001b[0moutputs\u001b[0m\u001b[0;34m)\u001b[0m\u001b[0;34m]\u001b[0m\u001b[0;34m\u001b[0m\u001b[0m\n\u001b[1;32m   1902\u001b[0m \u001b[0;34m\u001b[0m\u001b[0m\n",
      "\u001b[0;32m/home/carnd/anaconda3/envs/carnd-term1/lib/python3.5/site-packages/tensorflow/python/client/session.py\u001b[0m in \u001b[0;36mrun\u001b[0;34m(self, fetches, feed_dict, options, run_metadata)\u001b[0m\n\u001b[1;32m    764\u001b[0m     \u001b[0;32mtry\u001b[0m\u001b[0;34m:\u001b[0m\u001b[0;34m\u001b[0m\u001b[0m\n\u001b[1;32m    765\u001b[0m       result = self._run(None, fetches, feed_dict, options_ptr,\n\u001b[0;32m--> 766\u001b[0;31m                          run_metadata_ptr)\n\u001b[0m\u001b[1;32m    767\u001b[0m       \u001b[0;32mif\u001b[0m \u001b[0mrun_metadata\u001b[0m\u001b[0;34m:\u001b[0m\u001b[0;34m\u001b[0m\u001b[0m\n\u001b[1;32m    768\u001b[0m         \u001b[0mproto_data\u001b[0m \u001b[0;34m=\u001b[0m \u001b[0mtf_session\u001b[0m\u001b[0;34m.\u001b[0m\u001b[0mTF_GetBuffer\u001b[0m\u001b[0;34m(\u001b[0m\u001b[0mrun_metadata_ptr\u001b[0m\u001b[0;34m)\u001b[0m\u001b[0;34m\u001b[0m\u001b[0m\n",
      "\u001b[0;32m/home/carnd/anaconda3/envs/carnd-term1/lib/python3.5/site-packages/tensorflow/python/client/session.py\u001b[0m in \u001b[0;36m_run\u001b[0;34m(self, handle, fetches, feed_dict, options, run_metadata)\u001b[0m\n\u001b[1;32m    962\u001b[0m     \u001b[0;32mif\u001b[0m \u001b[0mfinal_fetches\u001b[0m \u001b[0;32mor\u001b[0m \u001b[0mfinal_targets\u001b[0m\u001b[0;34m:\u001b[0m\u001b[0;34m\u001b[0m\u001b[0m\n\u001b[1;32m    963\u001b[0m       results = self._do_run(handle, final_targets, final_fetches,\n\u001b[0;32m--> 964\u001b[0;31m                              feed_dict_string, options, run_metadata)\n\u001b[0m\u001b[1;32m    965\u001b[0m     \u001b[0;32melse\u001b[0m\u001b[0;34m:\u001b[0m\u001b[0;34m\u001b[0m\u001b[0m\n\u001b[1;32m    966\u001b[0m       \u001b[0mresults\u001b[0m \u001b[0;34m=\u001b[0m \u001b[0;34m[\u001b[0m\u001b[0;34m]\u001b[0m\u001b[0;34m\u001b[0m\u001b[0m\n",
      "\u001b[0;32m/home/carnd/anaconda3/envs/carnd-term1/lib/python3.5/site-packages/tensorflow/python/client/session.py\u001b[0m in \u001b[0;36m_do_run\u001b[0;34m(self, handle, target_list, fetch_list, feed_dict, options, run_metadata)\u001b[0m\n\u001b[1;32m   1012\u001b[0m     \u001b[0;32mif\u001b[0m \u001b[0mhandle\u001b[0m \u001b[0;32mis\u001b[0m \u001b[0;32mNone\u001b[0m\u001b[0;34m:\u001b[0m\u001b[0;34m\u001b[0m\u001b[0m\n\u001b[1;32m   1013\u001b[0m       return self._do_call(_run_fn, self._session, feed_dict, fetch_list,\n\u001b[0;32m-> 1014\u001b[0;31m                            target_list, options, run_metadata)\n\u001b[0m\u001b[1;32m   1015\u001b[0m     \u001b[0;32melse\u001b[0m\u001b[0;34m:\u001b[0m\u001b[0;34m\u001b[0m\u001b[0m\n\u001b[1;32m   1016\u001b[0m       return self._do_call(_prun_fn, self._session, handle, feed_dict,\n",
      "\u001b[0;32m/home/carnd/anaconda3/envs/carnd-term1/lib/python3.5/site-packages/tensorflow/python/client/session.py\u001b[0m in \u001b[0;36m_do_call\u001b[0;34m(self, fn, *args)\u001b[0m\n\u001b[1;32m   1019\u001b[0m   \u001b[0;32mdef\u001b[0m \u001b[0m_do_call\u001b[0m\u001b[0;34m(\u001b[0m\u001b[0mself\u001b[0m\u001b[0;34m,\u001b[0m \u001b[0mfn\u001b[0m\u001b[0;34m,\u001b[0m \u001b[0;34m*\u001b[0m\u001b[0margs\u001b[0m\u001b[0;34m)\u001b[0m\u001b[0;34m:\u001b[0m\u001b[0;34m\u001b[0m\u001b[0m\n\u001b[1;32m   1020\u001b[0m     \u001b[0;32mtry\u001b[0m\u001b[0;34m:\u001b[0m\u001b[0;34m\u001b[0m\u001b[0m\n\u001b[0;32m-> 1021\u001b[0;31m       \u001b[0;32mreturn\u001b[0m \u001b[0mfn\u001b[0m\u001b[0;34m(\u001b[0m\u001b[0;34m*\u001b[0m\u001b[0margs\u001b[0m\u001b[0;34m)\u001b[0m\u001b[0;34m\u001b[0m\u001b[0m\n\u001b[0m\u001b[1;32m   1022\u001b[0m     \u001b[0;32mexcept\u001b[0m \u001b[0merrors\u001b[0m\u001b[0;34m.\u001b[0m\u001b[0mOpError\u001b[0m \u001b[0;32mas\u001b[0m \u001b[0me\u001b[0m\u001b[0;34m:\u001b[0m\u001b[0;34m\u001b[0m\u001b[0m\n\u001b[1;32m   1023\u001b[0m       \u001b[0mmessage\u001b[0m \u001b[0;34m=\u001b[0m \u001b[0mcompat\u001b[0m\u001b[0;34m.\u001b[0m\u001b[0mas_text\u001b[0m\u001b[0;34m(\u001b[0m\u001b[0me\u001b[0m\u001b[0;34m.\u001b[0m\u001b[0mmessage\u001b[0m\u001b[0;34m)\u001b[0m\u001b[0;34m\u001b[0m\u001b[0m\n",
      "\u001b[0;32m/home/carnd/anaconda3/envs/carnd-term1/lib/python3.5/site-packages/tensorflow/python/client/session.py\u001b[0m in \u001b[0;36m_run_fn\u001b[0;34m(session, feed_dict, fetch_list, target_list, options, run_metadata)\u001b[0m\n\u001b[1;32m   1001\u001b[0m         return tf_session.TF_Run(session, options,\n\u001b[1;32m   1002\u001b[0m                                  \u001b[0mfeed_dict\u001b[0m\u001b[0;34m,\u001b[0m \u001b[0mfetch_list\u001b[0m\u001b[0;34m,\u001b[0m \u001b[0mtarget_list\u001b[0m\u001b[0;34m,\u001b[0m\u001b[0;34m\u001b[0m\u001b[0m\n\u001b[0;32m-> 1003\u001b[0;31m                                  status, run_metadata)\n\u001b[0m\u001b[1;32m   1004\u001b[0m \u001b[0;34m\u001b[0m\u001b[0m\n\u001b[1;32m   1005\u001b[0m     \u001b[0;32mdef\u001b[0m \u001b[0m_prun_fn\u001b[0m\u001b[0;34m(\u001b[0m\u001b[0msession\u001b[0m\u001b[0;34m,\u001b[0m \u001b[0mhandle\u001b[0m\u001b[0;34m,\u001b[0m \u001b[0mfeed_dict\u001b[0m\u001b[0;34m,\u001b[0m \u001b[0mfetch_list\u001b[0m\u001b[0;34m)\u001b[0m\u001b[0;34m:\u001b[0m\u001b[0;34m\u001b[0m\u001b[0m\n",
      "\u001b[0;31mKeyboardInterrupt\u001b[0m: "
     ]
    }
   ],
   "source": [
    "for i in range(150):\n",
    "    RETURNS_ = np.load(\"MertonReturns_2000_\"+str(7-i%8)+\".npy\")\n",
    "    PARAMS_ = np.load(\"ModelParameters_2000_\"+str(7-i%8)+\".npy\")\n",
    "    train_data = np.reshape(np.array(RETURNS_), (100000, 40, 50, 1))\n",
    "    train_targets = np.array([[mp.lamda] for mp in PARAMS_])\n",
    "\n",
    "    history = covnet_lambda.fit(np.array(train_data[:80000]), np.array(train_targets[:80000]), nb_epoch=1, batch_size=100, validation_data=(train_data[80000:], train_targets[80000:]))\n",
    "    covnet_lambda.save_weights(\"covnet_lambda_running.h5\")"
   ]
  },
  {
   "cell_type": "code",
   "execution_count": null,
   "metadata": {
    "collapsed": true,
    "scrolled": false
   },
   "outputs": [],
   "source": [
    "mp = random_model_params()\n",
    "mp.all_time = 2000\n",
    "\n",
    "mp.all_sigma = 0.2\n",
    "mp.gbm_mu = 0.05\n",
    "mp.jumps_sigma = 0.07\n",
    "mp.jumps_mu = 0.05\n",
    "mp.lamda = 0.3\n",
    "\n",
    "RETURNS_ = []\n",
    "for i in range(1000):\n",
    "    print(i)\n",
    "    RETURNS_.append(geometric_brownian_motion_jump_diffusion_log_returns(mp))"
   ]
  },
  {
   "cell_type": "code",
   "execution_count": 39,
   "metadata": {
    "collapsed": true
   },
   "outputs": [],
   "source": [
    "dataset = np.reshape(np.array(RETURNS_), (1000, 40, 50, 1))\n",
    "predictions = covnet_lambda.predict(dataset)"
   ]
  },
  {
   "cell_type": "code",
   "execution_count": 43,
   "metadata": {},
   "outputs": [
    {
     "data": {
      "text/plain": [
       "array([[ 0.02649423],\n",
       "       [ 0.02653137],\n",
       "       [ 0.02649072],\n",
       "       [ 0.02644984],\n",
       "       [ 0.02649215],\n",
       "       [ 0.02649746],\n",
       "       [ 0.0265044 ],\n",
       "       [ 0.02650806],\n",
       "       [ 0.02650491],\n",
       "       [ 0.02649347],\n",
       "       [ 0.02648301],\n",
       "       [ 0.02647288],\n",
       "       [ 0.02650069],\n",
       "       [ 0.02644904],\n",
       "       [ 0.02650492],\n",
       "       [ 0.02650107],\n",
       "       [ 0.02649723],\n",
       "       [ 0.02648891],\n",
       "       [ 0.02647518],\n",
       "       [ 0.02651585],\n",
       "       [ 0.0265164 ],\n",
       "       [ 0.02647761],\n",
       "       [ 0.02645419],\n",
       "       [ 0.02646027],\n",
       "       [ 0.02651257],\n",
       "       [ 0.02646467],\n",
       "       [ 0.0264781 ],\n",
       "       [ 0.02649371],\n",
       "       [ 0.02650379],\n",
       "       [ 0.0265217 ],\n",
       "       [ 0.02649411],\n",
       "       [ 0.02648376],\n",
       "       [ 0.02651576],\n",
       "       [ 0.02650808],\n",
       "       [ 0.02650662],\n",
       "       [ 0.02653857],\n",
       "       [ 0.02650573],\n",
       "       [ 0.02649415],\n",
       "       [ 0.02649566],\n",
       "       [ 0.02655024],\n",
       "       [ 0.02650999],\n",
       "       [ 0.02648973],\n",
       "       [ 0.02647644],\n",
       "       [ 0.02647836],\n",
       "       [ 0.02648228],\n",
       "       [ 0.02647463],\n",
       "       [ 0.0264787 ],\n",
       "       [ 0.02648176],\n",
       "       [ 0.02648692],\n",
       "       [ 0.02647343],\n",
       "       [ 0.02650164],\n",
       "       [ 0.02649235],\n",
       "       [ 0.02647052],\n",
       "       [ 0.02646019],\n",
       "       [ 0.02650283],\n",
       "       [ 0.02648217],\n",
       "       [ 0.02649182],\n",
       "       [ 0.02649617],\n",
       "       [ 0.02647639],\n",
       "       [ 0.02650295],\n",
       "       [ 0.02648765],\n",
       "       [ 0.02650167],\n",
       "       [ 0.0264885 ],\n",
       "       [ 0.02650668],\n",
       "       [ 0.026509  ],\n",
       "       [ 0.02654771],\n",
       "       [ 0.0265183 ],\n",
       "       [ 0.02645659],\n",
       "       [ 0.02647545],\n",
       "       [ 0.02644582],\n",
       "       [ 0.02648311],\n",
       "       [ 0.02649716],\n",
       "       [ 0.02649952],\n",
       "       [ 0.02647777],\n",
       "       [ 0.0264966 ],\n",
       "       [ 0.02645632],\n",
       "       [ 0.02645336],\n",
       "       [ 0.02649287],\n",
       "       [ 0.02647486],\n",
       "       [ 0.02652819],\n",
       "       [ 0.02647624],\n",
       "       [ 0.02653002],\n",
       "       [ 0.02648854],\n",
       "       [ 0.02651574],\n",
       "       [ 0.02649319],\n",
       "       [ 0.02651654],\n",
       "       [ 0.02651383],\n",
       "       [ 0.02648701],\n",
       "       [ 0.02645454],\n",
       "       [ 0.02650658],\n",
       "       [ 0.0265009 ],\n",
       "       [ 0.0265034 ],\n",
       "       [ 0.02647588],\n",
       "       [ 0.02648211],\n",
       "       [ 0.02652054],\n",
       "       [ 0.02650462],\n",
       "       [ 0.02648282],\n",
       "       [ 0.02648473],\n",
       "       [ 0.02647838],\n",
       "       [ 0.02647822],\n",
       "       [ 0.02650151],\n",
       "       [ 0.02648985],\n",
       "       [ 0.02651296],\n",
       "       [ 0.02650092],\n",
       "       [ 0.02647042],\n",
       "       [ 0.02649542],\n",
       "       [ 0.02650641],\n",
       "       [ 0.02647664],\n",
       "       [ 0.02647933],\n",
       "       [ 0.02645998],\n",
       "       [ 0.02654034],\n",
       "       [ 0.02644403],\n",
       "       [ 0.02652393],\n",
       "       [ 0.02645783],\n",
       "       [ 0.02651628],\n",
       "       [ 0.02647418],\n",
       "       [ 0.02646077],\n",
       "       [ 0.02649377],\n",
       "       [ 0.02647066],\n",
       "       [ 0.02647189],\n",
       "       [ 0.02649994],\n",
       "       [ 0.02647603],\n",
       "       [ 0.02650335],\n",
       "       [ 0.02650767],\n",
       "       [ 0.02650249],\n",
       "       [ 0.0264641 ],\n",
       "       [ 0.02652531],\n",
       "       [ 0.02652126],\n",
       "       [ 0.02649098],\n",
       "       [ 0.0265129 ],\n",
       "       [ 0.02651525],\n",
       "       [ 0.02649697],\n",
       "       [ 0.02650059],\n",
       "       [ 0.02649151],\n",
       "       [ 0.02648049],\n",
       "       [ 0.02646376],\n",
       "       [ 0.02650821],\n",
       "       [ 0.02652713],\n",
       "       [ 0.02653166],\n",
       "       [ 0.0265487 ],\n",
       "       [ 0.02650829],\n",
       "       [ 0.02648378],\n",
       "       [ 0.02654206],\n",
       "       [ 0.02646688],\n",
       "       [ 0.02648602],\n",
       "       [ 0.02651424],\n",
       "       [ 0.02645131],\n",
       "       [ 0.02653544],\n",
       "       [ 0.02648927],\n",
       "       [ 0.02649462],\n",
       "       [ 0.02646594],\n",
       "       [ 0.02651673],\n",
       "       [ 0.02654844],\n",
       "       [ 0.02648984],\n",
       "       [ 0.02646806],\n",
       "       [ 0.0264931 ],\n",
       "       [ 0.02650538],\n",
       "       [ 0.02647646],\n",
       "       [ 0.02647155],\n",
       "       [ 0.0264538 ],\n",
       "       [ 0.02650712],\n",
       "       [ 0.02648674],\n",
       "       [ 0.02646369],\n",
       "       [ 0.02647983],\n",
       "       [ 0.02650231],\n",
       "       [ 0.02650483],\n",
       "       [ 0.02649489],\n",
       "       [ 0.02651891],\n",
       "       [ 0.02650311],\n",
       "       [ 0.02647351],\n",
       "       [ 0.02652968],\n",
       "       [ 0.02649812],\n",
       "       [ 0.02646482],\n",
       "       [ 0.02649711],\n",
       "       [ 0.02647284],\n",
       "       [ 0.0264754 ],\n",
       "       [ 0.0264847 ],\n",
       "       [ 0.02647234],\n",
       "       [ 0.02648233],\n",
       "       [ 0.02647797],\n",
       "       [ 0.02650489],\n",
       "       [ 0.02648892],\n",
       "       [ 0.02651612],\n",
       "       [ 0.02649512],\n",
       "       [ 0.02651009],\n",
       "       [ 0.02650036],\n",
       "       [ 0.02648642],\n",
       "       [ 0.0265087 ],\n",
       "       [ 0.02650537],\n",
       "       [ 0.02651428],\n",
       "       [ 0.02648951],\n",
       "       [ 0.0264812 ],\n",
       "       [ 0.02650136],\n",
       "       [ 0.02649836],\n",
       "       [ 0.02648538],\n",
       "       [ 0.02650197],\n",
       "       [ 0.02650025],\n",
       "       [ 0.02648866],\n",
       "       [ 0.0265208 ],\n",
       "       [ 0.02649388],\n",
       "       [ 0.02647232],\n",
       "       [ 0.02646944],\n",
       "       [ 0.02647432],\n",
       "       [ 0.02653823],\n",
       "       [ 0.02647955],\n",
       "       [ 0.02651525],\n",
       "       [ 0.02655138],\n",
       "       [ 0.02653589],\n",
       "       [ 0.02646493],\n",
       "       [ 0.02649414],\n",
       "       [ 0.02649174],\n",
       "       [ 0.02652145],\n",
       "       [ 0.02650353],\n",
       "       [ 0.02650968],\n",
       "       [ 0.02648931],\n",
       "       [ 0.02649899],\n",
       "       [ 0.02648238],\n",
       "       [ 0.02653305],\n",
       "       [ 0.02645572],\n",
       "       [ 0.0264679 ],\n",
       "       [ 0.02646154],\n",
       "       [ 0.02647201],\n",
       "       [ 0.02651623],\n",
       "       [ 0.02648199],\n",
       "       [ 0.02653575],\n",
       "       [ 0.02651667],\n",
       "       [ 0.02650317],\n",
       "       [ 0.02648546],\n",
       "       [ 0.02649941],\n",
       "       [ 0.02649794],\n",
       "       [ 0.02649263],\n",
       "       [ 0.02647874],\n",
       "       [ 0.02644959],\n",
       "       [ 0.02649783],\n",
       "       [ 0.02649533],\n",
       "       [ 0.02648964],\n",
       "       [ 0.0265049 ],\n",
       "       [ 0.02653584],\n",
       "       [ 0.0265434 ],\n",
       "       [ 0.02645858],\n",
       "       [ 0.02648767],\n",
       "       [ 0.02645021],\n",
       "       [ 0.02651106],\n",
       "       [ 0.02650166],\n",
       "       [ 0.0264668 ],\n",
       "       [ 0.02646868],\n",
       "       [ 0.0265259 ],\n",
       "       [ 0.02653322],\n",
       "       [ 0.02649875],\n",
       "       [ 0.02651283],\n",
       "       [ 0.02649927],\n",
       "       [ 0.02652086],\n",
       "       [ 0.02649315],\n",
       "       [ 0.02647627],\n",
       "       [ 0.02648311],\n",
       "       [ 0.02648805],\n",
       "       [ 0.02648685],\n",
       "       [ 0.02649314],\n",
       "       [ 0.02645367],\n",
       "       [ 0.02647214],\n",
       "       [ 0.02648683],\n",
       "       [ 0.02644179],\n",
       "       [ 0.02648023],\n",
       "       [ 0.02646754],\n",
       "       [ 0.02650529],\n",
       "       [ 0.02650337],\n",
       "       [ 0.02648644],\n",
       "       [ 0.02650265],\n",
       "       [ 0.0265342 ],\n",
       "       [ 0.02652085],\n",
       "       [ 0.02646038],\n",
       "       [ 0.02654882],\n",
       "       [ 0.0264898 ],\n",
       "       [ 0.02649825],\n",
       "       [ 0.02646827],\n",
       "       [ 0.02649646],\n",
       "       [ 0.02649975],\n",
       "       [ 0.02644986],\n",
       "       [ 0.02645123],\n",
       "       [ 0.02648306],\n",
       "       [ 0.02649401],\n",
       "       [ 0.02651453],\n",
       "       [ 0.02647045],\n",
       "       [ 0.02650457],\n",
       "       [ 0.02650385],\n",
       "       [ 0.02650854],\n",
       "       [ 0.02646961],\n",
       "       [ 0.02652115],\n",
       "       [ 0.0264859 ],\n",
       "       [ 0.02646676],\n",
       "       [ 0.0264742 ],\n",
       "       [ 0.02647221],\n",
       "       [ 0.02649179],\n",
       "       [ 0.02646888],\n",
       "       [ 0.02650234],\n",
       "       [ 0.0264898 ],\n",
       "       [ 0.02649732],\n",
       "       [ 0.02650227],\n",
       "       [ 0.02651146],\n",
       "       [ 0.02646697],\n",
       "       [ 0.02646587],\n",
       "       [ 0.02649561],\n",
       "       [ 0.02648435],\n",
       "       [ 0.02654098],\n",
       "       [ 0.02652706],\n",
       "       [ 0.02648824],\n",
       "       [ 0.02648201],\n",
       "       [ 0.026502  ],\n",
       "       [ 0.02652078],\n",
       "       [ 0.02653127],\n",
       "       [ 0.0265049 ],\n",
       "       [ 0.02648561],\n",
       "       [ 0.02645264],\n",
       "       [ 0.02647998],\n",
       "       [ 0.02648509],\n",
       "       [ 0.02649891],\n",
       "       [ 0.02652707],\n",
       "       [ 0.02652696],\n",
       "       [ 0.02650473],\n",
       "       [ 0.02651189],\n",
       "       [ 0.02650779],\n",
       "       [ 0.02649736],\n",
       "       [ 0.02648471],\n",
       "       [ 0.02649502],\n",
       "       [ 0.026496  ],\n",
       "       [ 0.02651041],\n",
       "       [ 0.02649065],\n",
       "       [ 0.02650214],\n",
       "       [ 0.02650055],\n",
       "       [ 0.02649271],\n",
       "       [ 0.02649622],\n",
       "       [ 0.02647059],\n",
       "       [ 0.02654446],\n",
       "       [ 0.02648373],\n",
       "       [ 0.02649012],\n",
       "       [ 0.02649561],\n",
       "       [ 0.02649735],\n",
       "       [ 0.0265014 ],\n",
       "       [ 0.02649325],\n",
       "       [ 0.02648137],\n",
       "       [ 0.02646822],\n",
       "       [ 0.02645991],\n",
       "       [ 0.02652366],\n",
       "       [ 0.02651856],\n",
       "       [ 0.02649078],\n",
       "       [ 0.02646736],\n",
       "       [ 0.02645149],\n",
       "       [ 0.0264613 ],\n",
       "       [ 0.02648143],\n",
       "       [ 0.0264974 ],\n",
       "       [ 0.02648082],\n",
       "       [ 0.02646505],\n",
       "       [ 0.02648643],\n",
       "       [ 0.02650809],\n",
       "       [ 0.02652263],\n",
       "       [ 0.02647052],\n",
       "       [ 0.02646649],\n",
       "       [ 0.02652067],\n",
       "       [ 0.02652841],\n",
       "       [ 0.0264974 ],\n",
       "       [ 0.02651303],\n",
       "       [ 0.02649529],\n",
       "       [ 0.02648559],\n",
       "       [ 0.02652187],\n",
       "       [ 0.0264778 ],\n",
       "       [ 0.02647212],\n",
       "       [ 0.02657544],\n",
       "       [ 0.02651708],\n",
       "       [ 0.02651815],\n",
       "       [ 0.02648092],\n",
       "       [ 0.0264988 ],\n",
       "       [ 0.02650507],\n",
       "       [ 0.02648516],\n",
       "       [ 0.02648872],\n",
       "       [ 0.02646922],\n",
       "       [ 0.02649955],\n",
       "       [ 0.026463  ],\n",
       "       [ 0.02646573],\n",
       "       [ 0.02646583],\n",
       "       [ 0.02644554],\n",
       "       [ 0.02650246],\n",
       "       [ 0.02648835],\n",
       "       [ 0.02650732],\n",
       "       [ 0.02648428],\n",
       "       [ 0.02646852],\n",
       "       [ 0.02653846],\n",
       "       [ 0.02654563],\n",
       "       [ 0.0265079 ],\n",
       "       [ 0.02649848],\n",
       "       [ 0.02647898],\n",
       "       [ 0.02650329],\n",
       "       [ 0.02650569],\n",
       "       [ 0.02651658],\n",
       "       [ 0.02646813],\n",
       "       [ 0.02647903],\n",
       "       [ 0.02649558],\n",
       "       [ 0.02647242],\n",
       "       [ 0.02648886],\n",
       "       [ 0.02648162],\n",
       "       [ 0.02653029],\n",
       "       [ 0.02647091],\n",
       "       [ 0.02646326],\n",
       "       [ 0.0264998 ],\n",
       "       [ 0.02647098],\n",
       "       [ 0.02647882],\n",
       "       [ 0.0265005 ],\n",
       "       [ 0.02646644],\n",
       "       [ 0.0265097 ],\n",
       "       [ 0.02648277],\n",
       "       [ 0.02653563],\n",
       "       [ 0.0264727 ],\n",
       "       [ 0.02649738],\n",
       "       [ 0.02650577],\n",
       "       [ 0.02650486],\n",
       "       [ 0.02650511],\n",
       "       [ 0.02649256],\n",
       "       [ 0.0265133 ],\n",
       "       [ 0.02649871],\n",
       "       [ 0.02652184],\n",
       "       [ 0.02652477],\n",
       "       [ 0.02653438],\n",
       "       [ 0.02648254],\n",
       "       [ 0.02648669],\n",
       "       [ 0.02650779],\n",
       "       [ 0.02647855],\n",
       "       [ 0.02648401],\n",
       "       [ 0.02648326],\n",
       "       [ 0.02645998],\n",
       "       [ 0.02646958],\n",
       "       [ 0.02651546],\n",
       "       [ 0.02651919],\n",
       "       [ 0.02649662],\n",
       "       [ 0.02646315],\n",
       "       [ 0.02652872],\n",
       "       [ 0.0264614 ],\n",
       "       [ 0.02643758],\n",
       "       [ 0.02649342],\n",
       "       [ 0.02653247],\n",
       "       [ 0.02652195],\n",
       "       [ 0.02649029],\n",
       "       [ 0.02649655],\n",
       "       [ 0.02647063],\n",
       "       [ 0.02648315],\n",
       "       [ 0.02650957],\n",
       "       [ 0.02649176],\n",
       "       [ 0.02650498],\n",
       "       [ 0.02651244],\n",
       "       [ 0.02645444],\n",
       "       [ 0.02648817],\n",
       "       [ 0.02650627],\n",
       "       [ 0.02650354],\n",
       "       [ 0.02650584],\n",
       "       [ 0.02646603],\n",
       "       [ 0.02650943],\n",
       "       [ 0.02652305],\n",
       "       [ 0.02650699],\n",
       "       [ 0.02648015],\n",
       "       [ 0.02649017],\n",
       "       [ 0.02650907],\n",
       "       [ 0.0265019 ],\n",
       "       [ 0.02649776],\n",
       "       [ 0.02648459],\n",
       "       [ 0.02652148],\n",
       "       [ 0.02649102],\n",
       "       [ 0.02648497],\n",
       "       [ 0.02649982],\n",
       "       [ 0.02649973],\n",
       "       [ 0.02648356],\n",
       "       [ 0.0265074 ],\n",
       "       [ 0.02649429],\n",
       "       [ 0.02652229],\n",
       "       [ 0.02647491],\n",
       "       [ 0.0265105 ],\n",
       "       [ 0.02648933],\n",
       "       [ 0.02651215],\n",
       "       [ 0.02644549],\n",
       "       [ 0.02646556],\n",
       "       [ 0.02650467],\n",
       "       [ 0.02650971],\n",
       "       [ 0.02649299],\n",
       "       [ 0.02652058],\n",
       "       [ 0.02648445],\n",
       "       [ 0.02649024],\n",
       "       [ 0.02649095],\n",
       "       [ 0.02648094],\n",
       "       [ 0.0265114 ],\n",
       "       [ 0.02647078],\n",
       "       [ 0.02651389],\n",
       "       [ 0.02651989],\n",
       "       [ 0.02648989],\n",
       "       [ 0.02650402],\n",
       "       [ 0.02648046],\n",
       "       [ 0.02645963],\n",
       "       [ 0.0264977 ],\n",
       "       [ 0.02649953],\n",
       "       [ 0.02650784],\n",
       "       [ 0.02646268],\n",
       "       [ 0.02651188],\n",
       "       [ 0.02650613],\n",
       "       [ 0.02649587],\n",
       "       [ 0.02649761],\n",
       "       [ 0.02649114],\n",
       "       [ 0.02648134],\n",
       "       [ 0.02647377],\n",
       "       [ 0.02647774],\n",
       "       [ 0.02649501],\n",
       "       [ 0.02646762],\n",
       "       [ 0.02652051],\n",
       "       [ 0.02648483],\n",
       "       [ 0.02652786],\n",
       "       [ 0.02649878],\n",
       "       [ 0.0264918 ],\n",
       "       [ 0.02651369],\n",
       "       [ 0.02650362],\n",
       "       [ 0.02649231],\n",
       "       [ 0.02648726],\n",
       "       [ 0.02653144],\n",
       "       [ 0.02649155],\n",
       "       [ 0.02646878],\n",
       "       [ 0.02648938],\n",
       "       [ 0.02647129],\n",
       "       [ 0.02645312],\n",
       "       [ 0.02651794],\n",
       "       [ 0.02650291],\n",
       "       [ 0.02649421],\n",
       "       [ 0.02644215],\n",
       "       [ 0.0264971 ],\n",
       "       [ 0.02650891],\n",
       "       [ 0.02648391],\n",
       "       [ 0.02648578],\n",
       "       [ 0.02649795],\n",
       "       [ 0.02650275],\n",
       "       [ 0.0265123 ],\n",
       "       [ 0.02654285],\n",
       "       [ 0.02647895],\n",
       "       [ 0.02649781],\n",
       "       [ 0.02645981],\n",
       "       [ 0.02651104],\n",
       "       [ 0.02651959],\n",
       "       [ 0.0264541 ],\n",
       "       [ 0.02646575],\n",
       "       [ 0.02652667],\n",
       "       [ 0.02648123],\n",
       "       [ 0.02647344],\n",
       "       [ 0.02649317],\n",
       "       [ 0.02650408],\n",
       "       [ 0.02647954],\n",
       "       [ 0.02646984],\n",
       "       [ 0.02648966],\n",
       "       [ 0.02650146],\n",
       "       [ 0.02650737],\n",
       "       [ 0.02644794],\n",
       "       [ 0.02650382],\n",
       "       [ 0.0264885 ],\n",
       "       [ 0.02647263],\n",
       "       [ 0.0264757 ],\n",
       "       [ 0.02648911],\n",
       "       [ 0.02648558],\n",
       "       [ 0.02652231],\n",
       "       [ 0.02647216],\n",
       "       [ 0.0265025 ],\n",
       "       [ 0.02647284],\n",
       "       [ 0.02650352],\n",
       "       [ 0.02652076],\n",
       "       [ 0.02646184],\n",
       "       [ 0.02649747],\n",
       "       [ 0.02652333],\n",
       "       [ 0.02650652],\n",
       "       [ 0.02649114],\n",
       "       [ 0.02650997],\n",
       "       [ 0.02650155],\n",
       "       [ 0.02648748],\n",
       "       [ 0.02647458],\n",
       "       [ 0.02647773],\n",
       "       [ 0.02651177],\n",
       "       [ 0.02653166],\n",
       "       [ 0.02646747],\n",
       "       [ 0.02647747],\n",
       "       [ 0.02647391],\n",
       "       [ 0.02652449],\n",
       "       [ 0.02644077],\n",
       "       [ 0.02650377],\n",
       "       [ 0.02646527],\n",
       "       [ 0.02650308],\n",
       "       [ 0.02649947],\n",
       "       [ 0.02646634],\n",
       "       [ 0.02648056],\n",
       "       [ 0.02648377],\n",
       "       [ 0.02648815],\n",
       "       [ 0.0264946 ],\n",
       "       [ 0.02651322],\n",
       "       [ 0.02646378],\n",
       "       [ 0.02649505],\n",
       "       [ 0.02650036],\n",
       "       [ 0.02647948],\n",
       "       [ 0.02648863],\n",
       "       [ 0.02649449],\n",
       "       [ 0.02650499],\n",
       "       [ 0.02651648],\n",
       "       [ 0.02647888],\n",
       "       [ 0.02652758],\n",
       "       [ 0.02649067],\n",
       "       [ 0.02648728],\n",
       "       [ 0.0264854 ],\n",
       "       [ 0.02651144],\n",
       "       [ 0.02654494],\n",
       "       [ 0.02649749],\n",
       "       [ 0.02650289],\n",
       "       [ 0.02653044],\n",
       "       [ 0.0264806 ],\n",
       "       [ 0.0264718 ],\n",
       "       [ 0.02649027],\n",
       "       [ 0.02645714],\n",
       "       [ 0.02649352],\n",
       "       [ 0.0264558 ],\n",
       "       [ 0.02646947],\n",
       "       [ 0.02648408],\n",
       "       [ 0.02647678],\n",
       "       [ 0.02651163],\n",
       "       [ 0.02647875],\n",
       "       [ 0.02648523],\n",
       "       [ 0.0264963 ],\n",
       "       [ 0.02651113],\n",
       "       [ 0.02649242],\n",
       "       [ 0.02652068],\n",
       "       [ 0.02650985],\n",
       "       [ 0.02647363],\n",
       "       [ 0.02648248],\n",
       "       [ 0.02653488],\n",
       "       [ 0.02643405],\n",
       "       [ 0.0264947 ],\n",
       "       [ 0.02646017],\n",
       "       [ 0.02647676],\n",
       "       [ 0.02650208],\n",
       "       [ 0.02645642],\n",
       "       [ 0.02645412],\n",
       "       [ 0.02647316],\n",
       "       [ 0.02651581],\n",
       "       [ 0.02649008],\n",
       "       [ 0.02648543],\n",
       "       [ 0.02647084],\n",
       "       [ 0.02649432],\n",
       "       [ 0.02647363],\n",
       "       [ 0.0264951 ],\n",
       "       [ 0.02647808],\n",
       "       [ 0.02648119],\n",
       "       [ 0.02650768],\n",
       "       [ 0.02653152],\n",
       "       [ 0.02648546],\n",
       "       [ 0.02651983],\n",
       "       [ 0.02652444],\n",
       "       [ 0.02644864],\n",
       "       [ 0.02650303],\n",
       "       [ 0.02651301],\n",
       "       [ 0.02648635],\n",
       "       [ 0.02644725],\n",
       "       [ 0.02645239],\n",
       "       [ 0.02646787],\n",
       "       [ 0.0264795 ],\n",
       "       [ 0.02648113],\n",
       "       [ 0.02651581],\n",
       "       [ 0.02650227],\n",
       "       [ 0.02652778],\n",
       "       [ 0.02649384],\n",
       "       [ 0.02649093],\n",
       "       [ 0.0264651 ],\n",
       "       [ 0.02648102],\n",
       "       [ 0.02650246],\n",
       "       [ 0.02651944],\n",
       "       [ 0.0265094 ],\n",
       "       [ 0.02649155],\n",
       "       [ 0.02649956],\n",
       "       [ 0.02647123],\n",
       "       [ 0.02649833],\n",
       "       [ 0.02648041],\n",
       "       [ 0.02650275],\n",
       "       [ 0.02648252],\n",
       "       [ 0.02648846],\n",
       "       [ 0.0264896 ],\n",
       "       [ 0.02644741],\n",
       "       [ 0.02648905],\n",
       "       [ 0.02644921],\n",
       "       [ 0.02647259],\n",
       "       [ 0.02647145],\n",
       "       [ 0.02648066],\n",
       "       [ 0.02646245],\n",
       "       [ 0.02648362],\n",
       "       [ 0.02647324],\n",
       "       [ 0.02649818],\n",
       "       [ 0.0265058 ],\n",
       "       [ 0.02652293],\n",
       "       [ 0.02651676],\n",
       "       [ 0.02648147],\n",
       "       [ 0.02646957],\n",
       "       [ 0.02646875],\n",
       "       [ 0.02645983],\n",
       "       [ 0.02646506],\n",
       "       [ 0.02647044],\n",
       "       [ 0.02647423],\n",
       "       [ 0.02650028],\n",
       "       [ 0.02650456],\n",
       "       [ 0.02646972],\n",
       "       [ 0.0265    ],\n",
       "       [ 0.02650149],\n",
       "       [ 0.0264617 ],\n",
       "       [ 0.02648649],\n",
       "       [ 0.02652721],\n",
       "       [ 0.02648918],\n",
       "       [ 0.0264497 ],\n",
       "       [ 0.02646541],\n",
       "       [ 0.02650537],\n",
       "       [ 0.02647407],\n",
       "       [ 0.02650347],\n",
       "       [ 0.02646531],\n",
       "       [ 0.02648342],\n",
       "       [ 0.02650445],\n",
       "       [ 0.02647356],\n",
       "       [ 0.02648308],\n",
       "       [ 0.02647415],\n",
       "       [ 0.0264881 ],\n",
       "       [ 0.02646357],\n",
       "       [ 0.0264906 ],\n",
       "       [ 0.02651737],\n",
       "       [ 0.02647367],\n",
       "       [ 0.02649703],\n",
       "       [ 0.02646589],\n",
       "       [ 0.02651822],\n",
       "       [ 0.0264926 ],\n",
       "       [ 0.02646551],\n",
       "       [ 0.02646719],\n",
       "       [ 0.02647877],\n",
       "       [ 0.02648729],\n",
       "       [ 0.02650092],\n",
       "       [ 0.02645893],\n",
       "       [ 0.02650189],\n",
       "       [ 0.02647129],\n",
       "       [ 0.02646391],\n",
       "       [ 0.02648748],\n",
       "       [ 0.02650057],\n",
       "       [ 0.02651332],\n",
       "       [ 0.02647444],\n",
       "       [ 0.02650188],\n",
       "       [ 0.02647513],\n",
       "       [ 0.02649368],\n",
       "       [ 0.02651333],\n",
       "       [ 0.02648695],\n",
       "       [ 0.0264875 ],\n",
       "       [ 0.02647603],\n",
       "       [ 0.02650635],\n",
       "       [ 0.02643366],\n",
       "       [ 0.02649269],\n",
       "       [ 0.02647088],\n",
       "       [ 0.02644869],\n",
       "       [ 0.02647155],\n",
       "       [ 0.02648049],\n",
       "       [ 0.02647197],\n",
       "       [ 0.02646526],\n",
       "       [ 0.02651881],\n",
       "       [ 0.02649864],\n",
       "       [ 0.02649729],\n",
       "       [ 0.02648746],\n",
       "       [ 0.02650115],\n",
       "       [ 0.02653377],\n",
       "       [ 0.02650593],\n",
       "       [ 0.02649589],\n",
       "       [ 0.02649381],\n",
       "       [ 0.02646437],\n",
       "       [ 0.02645886],\n",
       "       [ 0.02650246],\n",
       "       [ 0.02647657],\n",
       "       [ 0.02646437],\n",
       "       [ 0.02649282],\n",
       "       [ 0.02649629],\n",
       "       [ 0.02646976],\n",
       "       [ 0.02648492],\n",
       "       [ 0.02643504],\n",
       "       [ 0.02652034],\n",
       "       [ 0.02647476],\n",
       "       [ 0.02649373],\n",
       "       [ 0.02649437],\n",
       "       [ 0.02650379],\n",
       "       [ 0.02645908],\n",
       "       [ 0.02649741],\n",
       "       [ 0.02648131],\n",
       "       [ 0.02652602],\n",
       "       [ 0.02649938],\n",
       "       [ 0.02649549],\n",
       "       [ 0.02648915],\n",
       "       [ 0.02648023],\n",
       "       [ 0.02649329],\n",
       "       [ 0.02649703],\n",
       "       [ 0.02649756],\n",
       "       [ 0.02646997],\n",
       "       [ 0.02648929],\n",
       "       [ 0.02647799],\n",
       "       [ 0.02650755],\n",
       "       [ 0.02644558],\n",
       "       [ 0.02646298],\n",
       "       [ 0.02652618],\n",
       "       [ 0.02648165],\n",
       "       [ 0.02650828],\n",
       "       [ 0.02650338],\n",
       "       [ 0.02649889],\n",
       "       [ 0.02649371],\n",
       "       [ 0.02648599],\n",
       "       [ 0.02647252],\n",
       "       [ 0.02646951],\n",
       "       [ 0.02650257],\n",
       "       [ 0.02653762],\n",
       "       [ 0.02650006],\n",
       "       [ 0.02650327],\n",
       "       [ 0.02649772],\n",
       "       [ 0.02652204],\n",
       "       [ 0.02645928],\n",
       "       [ 0.02650747],\n",
       "       [ 0.02647819],\n",
       "       [ 0.02649384],\n",
       "       [ 0.02648846],\n",
       "       [ 0.02651288],\n",
       "       [ 0.02646566],\n",
       "       [ 0.02650738],\n",
       "       [ 0.02650887],\n",
       "       [ 0.02648066],\n",
       "       [ 0.0264944 ],\n",
       "       [ 0.02648907],\n",
       "       [ 0.02646367],\n",
       "       [ 0.02649117],\n",
       "       [ 0.02650842],\n",
       "       [ 0.02649585],\n",
       "       [ 0.02650471],\n",
       "       [ 0.02651619],\n",
       "       [ 0.02648683],\n",
       "       [ 0.02646674],\n",
       "       [ 0.02649403],\n",
       "       [ 0.02646275],\n",
       "       [ 0.02647278],\n",
       "       [ 0.02653327],\n",
       "       [ 0.02651487],\n",
       "       [ 0.02647416],\n",
       "       [ 0.02650484],\n",
       "       [ 0.0264721 ],\n",
       "       [ 0.02652278],\n",
       "       [ 0.02650182],\n",
       "       [ 0.02648592],\n",
       "       [ 0.02645911],\n",
       "       [ 0.02651346],\n",
       "       [ 0.02648825],\n",
       "       [ 0.0265084 ],\n",
       "       [ 0.02649446],\n",
       "       [ 0.02648624],\n",
       "       [ 0.02646143],\n",
       "       [ 0.0264674 ],\n",
       "       [ 0.02648359],\n",
       "       [ 0.02648593],\n",
       "       [ 0.02646978],\n",
       "       [ 0.02648275],\n",
       "       [ 0.02647401],\n",
       "       [ 0.0265402 ],\n",
       "       [ 0.02651649],\n",
       "       [ 0.0264938 ],\n",
       "       [ 0.02648271],\n",
       "       [ 0.0264574 ],\n",
       "       [ 0.02649631],\n",
       "       [ 0.02648441],\n",
       "       [ 0.02649074],\n",
       "       [ 0.02651204],\n",
       "       [ 0.02650012],\n",
       "       [ 0.02650764],\n",
       "       [ 0.02650078],\n",
       "       [ 0.02646496],\n",
       "       [ 0.02646494],\n",
       "       [ 0.026487  ],\n",
       "       [ 0.02648771],\n",
       "       [ 0.02650101],\n",
       "       [ 0.02647176],\n",
       "       [ 0.02652316],\n",
       "       [ 0.02649521],\n",
       "       [ 0.02647888],\n",
       "       [ 0.0264501 ],\n",
       "       [ 0.02646876],\n",
       "       [ 0.02652036],\n",
       "       [ 0.02643826],\n",
       "       [ 0.02647019],\n",
       "       [ 0.02649401],\n",
       "       [ 0.02650043],\n",
       "       [ 0.02647026],\n",
       "       [ 0.02650816],\n",
       "       [ 0.02648899],\n",
       "       [ 0.02648627],\n",
       "       [ 0.02649519],\n",
       "       [ 0.02648214],\n",
       "       [ 0.02650525],\n",
       "       [ 0.02651717],\n",
       "       [ 0.02652959],\n",
       "       [ 0.02647229],\n",
       "       [ 0.02644925],\n",
       "       [ 0.02650139],\n",
       "       [ 0.02650024],\n",
       "       [ 0.0265073 ],\n",
       "       [ 0.02650085],\n",
       "       [ 0.02651416],\n",
       "       [ 0.02645992],\n",
       "       [ 0.02647389],\n",
       "       [ 0.02648184],\n",
       "       [ 0.02649038],\n",
       "       [ 0.02651698],\n",
       "       [ 0.02649653],\n",
       "       [ 0.02649723],\n",
       "       [ 0.02652224],\n",
       "       [ 0.02648496],\n",
       "       [ 0.02647069],\n",
       "       [ 0.02652559],\n",
       "       [ 0.02650142],\n",
       "       [ 0.02646758],\n",
       "       [ 0.02651763],\n",
       "       [ 0.02646256],\n",
       "       [ 0.02650197],\n",
       "       [ 0.02650333],\n",
       "       [ 0.02647935],\n",
       "       [ 0.02646308],\n",
       "       [ 0.02649658],\n",
       "       [ 0.02654182],\n",
       "       [ 0.02653024],\n",
       "       [ 0.0265252 ],\n",
       "       [ 0.02652752],\n",
       "       [ 0.02650527],\n",
       "       [ 0.02654113],\n",
       "       [ 0.02646394],\n",
       "       [ 0.02647731],\n",
       "       [ 0.02648467],\n",
       "       [ 0.02650762],\n",
       "       [ 0.02653819],\n",
       "       [ 0.02649979],\n",
       "       [ 0.02648095],\n",
       "       [ 0.026496  ],\n",
       "       [ 0.02650213],\n",
       "       [ 0.02648109],\n",
       "       [ 0.02651097],\n",
       "       [ 0.02650524],\n",
       "       [ 0.02646146],\n",
       "       [ 0.02650563],\n",
       "       [ 0.0265236 ],\n",
       "       [ 0.02650016],\n",
       "       [ 0.02648459],\n",
       "       [ 0.02647032],\n",
       "       [ 0.02648214],\n",
       "       [ 0.02650273],\n",
       "       [ 0.02652354],\n",
       "       [ 0.02653408],\n",
       "       [ 0.02651117],\n",
       "       [ 0.02647896],\n",
       "       [ 0.02646845],\n",
       "       [ 0.0264654 ],\n",
       "       [ 0.02650713],\n",
       "       [ 0.02647817],\n",
       "       [ 0.02652308],\n",
       "       [ 0.02648233],\n",
       "       [ 0.02651037],\n",
       "       [ 0.02649817],\n",
       "       [ 0.02649375],\n",
       "       [ 0.02649225],\n",
       "       [ 0.02646639],\n",
       "       [ 0.02646434],\n",
       "       [ 0.02649905],\n",
       "       [ 0.02649342],\n",
       "       [ 0.02650209],\n",
       "       [ 0.02649098],\n",
       "       [ 0.02650097],\n",
       "       [ 0.02649766],\n",
       "       [ 0.0264781 ],\n",
       "       [ 0.02648851],\n",
       "       [ 0.02647602],\n",
       "       [ 0.02650024],\n",
       "       [ 0.02648012],\n",
       "       [ 0.02649482],\n",
       "       [ 0.02647335],\n",
       "       [ 0.02650208],\n",
       "       [ 0.02648307],\n",
       "       [ 0.02650167],\n",
       "       [ 0.02649829],\n",
       "       [ 0.02649045],\n",
       "       [ 0.02647199],\n",
       "       [ 0.02651424],\n",
       "       [ 0.02650152],\n",
       "       [ 0.02647139],\n",
       "       [ 0.02649636],\n",
       "       [ 0.02648062],\n",
       "       [ 0.02646349],\n",
       "       [ 0.0264822 ],\n",
       "       [ 0.02652168],\n",
       "       [ 0.02650793],\n",
       "       [ 0.02645875],\n",
       "       [ 0.02646867],\n",
       "       [ 0.02652137],\n",
       "       [ 0.02647413],\n",
       "       [ 0.02649553],\n",
       "       [ 0.02647131],\n",
       "       [ 0.02648844],\n",
       "       [ 0.02645886],\n",
       "       [ 0.0264832 ]], dtype=float32)"
      ]
     },
     "execution_count": 43,
     "metadata": {},
     "output_type": "execute_result"
    }
   ],
   "source": [
    "predictions"
   ]
  },
  {
   "cell_type": "code",
   "execution_count": 40,
   "metadata": {},
   "outputs": [
    {
     "data": {
      "text/plain": [
       "array([ 0.02649204], dtype=float32)"
      ]
     },
     "execution_count": 40,
     "metadata": {},
     "output_type": "execute_result"
    }
   ],
   "source": [
    "np.mean(predictions, axis = 0)"
   ]
  },
  {
   "cell_type": "code",
   "execution_count": 41,
   "metadata": {},
   "outputs": [
    {
     "data": {
      "text/plain": [
       "array([ 0.02653436], dtype=float32)"
      ]
     },
     "execution_count": 41,
     "metadata": {},
     "output_type": "execute_result"
    }
   ],
   "source": [
    "np.mean(predictions, axis = 0)+1.96*np.std(predictions, axis=0)"
   ]
  },
  {
   "cell_type": "code",
   "execution_count": 42,
   "metadata": {},
   "outputs": [
    {
     "data": {
      "text/plain": [
       "array([ 0.02644972], dtype=float32)"
      ]
     },
     "execution_count": 42,
     "metadata": {},
     "output_type": "execute_result"
    }
   ],
   "source": [
    "np.mean(predictions, axis = 0)-1.96*np.std(predictions, axis=0)"
   ]
  },
  {
   "cell_type": "markdown",
   "metadata": {},
   "source": [
    "# Covnet Jumps Sigma"
   ]
  },
  {
   "cell_type": "code",
   "execution_count": 17,
   "metadata": {
    "collapsed": true
   },
   "outputs": [],
   "source": [
    "covnet_jumpsigma = Sequential()\n",
    "covnet_jumpsigma.add(Convolution2D(40, 3, 3, input_shape=(40, 50, 1), border_mode='same', activation='relu'))\n",
    "covnet_jumpsigma.add(Convolution2D(40, 3, 3, activation='relu', border_mode='same'))\n",
    "covnet_jumpsigma.add(MaxPooling2D(pool_size=(2,2)))\n",
    "\n",
    "covnet_jumpsigma.add(Convolution2D(64, 3, 3, border_mode='same', activation='relu'))\n",
    "covnet_jumpsigma.add(Convolution2D(64, 3, 3, activation='relu', border_mode='same'))\n",
    "covnet_jumpsigma.add(MaxPooling2D(pool_size=(2,2)))\n",
    "\n",
    "covnet_jumpsigma.add(Convolution2D(128, 3, 3, border_mode='same', activation='relu'))\n",
    "covnet_jumpsigma.add(Convolution2D(128, 3, 3, activation='relu', border_mode='same'))\n",
    "covnet_jumpsigma.add(MaxPooling2D(pool_size=(2,2)))\n",
    "\n",
    "covnet_jumpsigma.add(Flatten())\n",
    "covnet_jumpsigma.add(Dense(1024, activation='relu'))\n",
    "covnet_jumpsigma.add(Dense(512, activation='relu'))\n",
    "covnet_jumpsigma.add(Dense(1))"
   ]
  },
  {
   "cell_type": "code",
   "execution_count": 19,
   "metadata": {},
   "outputs": [
    {
     "name": "stdout",
     "output_type": "stream",
     "text": [
      "____________________________________________________________________________________________________\n",
      "Layer (type)                     Output Shape          Param #     Connected to                     \n",
      "====================================================================================================\n",
      "convolution2d_13 (Convolution2D) (None, 40, 50, 40)    400         convolution2d_input_1[0][0]      \n",
      "____________________________________________________________________________________________________\n",
      "convolution2d_14 (Convolution2D) (None, 40, 50, 40)    14440       convolution2d_13[0][0]           \n",
      "____________________________________________________________________________________________________\n",
      "maxpooling2d_7 (MaxPooling2D)    (None, 20, 25, 40)    0           convolution2d_14[0][0]           \n",
      "____________________________________________________________________________________________________\n",
      "convolution2d_15 (Convolution2D) (None, 20, 25, 64)    23104       maxpooling2d_7[0][0]             \n",
      "____________________________________________________________________________________________________\n",
      "convolution2d_16 (Convolution2D) (None, 20, 25, 64)    36928       convolution2d_15[0][0]           \n",
      "____________________________________________________________________________________________________\n",
      "maxpooling2d_8 (MaxPooling2D)    (None, 10, 12, 64)    0           convolution2d_16[0][0]           \n",
      "____________________________________________________________________________________________________\n",
      "convolution2d_17 (Convolution2D) (None, 10, 12, 128)   73856       maxpooling2d_8[0][0]             \n",
      "____________________________________________________________________________________________________\n",
      "convolution2d_18 (Convolution2D) (None, 10, 12, 128)   147584      convolution2d_17[0][0]           \n",
      "____________________________________________________________________________________________________\n",
      "maxpooling2d_9 (MaxPooling2D)    (None, 5, 6, 128)     0           convolution2d_18[0][0]           \n",
      "____________________________________________________________________________________________________\n",
      "flatten_3 (Flatten)              (None, 3840)          0           maxpooling2d_9[0][0]             \n",
      "____________________________________________________________________________________________________\n",
      "dense_3 (Dense)                  (None, 1024)          3933184     flatten_3[0][0]                  \n",
      "____________________________________________________________________________________________________\n",
      "dense_4 (Dense)                  (None, 512)           524800      dense_3[0][0]                    \n",
      "____________________________________________________________________________________________________\n",
      "dense_5 (Dense)                  (None, 1)             513         dense_4[0][0]                    \n",
      "====================================================================================================\n",
      "Total params: 4,754,809\n",
      "Trainable params: 4,754,809\n",
      "Non-trainable params: 0\n",
      "____________________________________________________________________________________________________\n"
     ]
    }
   ],
   "source": [
    "covnet_jumpsigma.compile('adam', 'mse', metrics=['accuracy', aape, r2])\n",
    "covnet_jumpsigma.summary()\n",
    "covnet_jumpsigma.load_weights(\"covnet_jumpsigma_running.h5\")"
   ]
  },
  {
   "cell_type": "code",
   "execution_count": null,
   "metadata": {},
   "outputs": [
    {
     "name": "stdout",
     "output_type": "stream",
     "text": [
      "Train on 80000 samples, validate on 20000 samples\n",
      "Epoch 1/1\n",
      "80000/80000 [==============================] - 142s - loss: 6.7568e-06 - acc: 0.0000e+00 - aape: 27.9108 - r2: 0.8640 - val_loss: 6.3336e-06 - val_acc: 0.0000e+00 - val_aape: 34.5190 - val_r2: 0.8658\n",
      "Train on 80000 samples, validate on 20000 samples\n",
      "Epoch 1/1\n",
      "80000/80000 [==============================] - 142s - loss: 6.8207e-06 - acc: 0.0000e+00 - aape: 28.1277 - r2: 0.8628 - val_loss: 8.3654e-06 - val_acc: 0.0000e+00 - val_aape: 26.8371 - val_r2: 0.8198\n",
      "Train on 80000 samples, validate on 20000 samples\n",
      "Epoch 1/1\n",
      "80000/80000 [==============================] - 141s - loss: 6.4960e-06 - acc: 0.0000e+00 - aape: 26.4506 - r2: 0.8697 - val_loss: 6.3848e-06 - val_acc: 0.0000e+00 - val_aape: 25.2847 - val_r2: 0.8581\n",
      "Train on 80000 samples, validate on 20000 samples\n",
      "Epoch 1/1\n",
      "80000/80000 [==============================] - 142s - loss: 6.5936e-06 - acc: 0.0000e+00 - aape: 26.9420 - r2: 0.8690 - val_loss: 6.1955e-06 - val_acc: 0.0000e+00 - val_aape: 31.7759 - val_r2: 0.8677\n",
      "Train on 80000 samples, validate on 20000 samples\n",
      "Epoch 1/1\n",
      "80000/80000 [==============================] - 142s - loss: 6.4832e-06 - acc: 0.0000e+00 - aape: 26.7797 - r2: 0.8692 - val_loss: 6.6659e-06 - val_acc: 0.0000e+00 - val_aape: 25.9012 - val_r2: 0.8540\n",
      "Train on 80000 samples, validate on 20000 samples\n",
      "Epoch 1/1\n",
      "80000/80000 [==============================] - 141s - loss: 6.3919e-06 - acc: 0.0000e+00 - aape: 26.7863 - r2: 0.8716 - val_loss: 6.6116e-06 - val_acc: 0.0000e+00 - val_aape: 23.1160 - val_r2: 0.8603\n",
      "Train on 80000 samples, validate on 20000 samples\n",
      "Epoch 1/1\n",
      "80000/80000 [==============================] - 142s - loss: 6.6736e-06 - acc: 0.0000e+00 - aape: 27.6828 - r2: 0.8661 - val_loss: 6.5081e-06 - val_acc: 0.0000e+00 - val_aape: 30.0208 - val_r2: 0.8594\n",
      "Train on 80000 samples, validate on 20000 samples\n",
      "Epoch 1/1\n",
      "80000/80000 [==============================] - 142s - loss: 6.2388e-06 - acc: 0.0000e+00 - aape: 25.7259 - r2: 0.8756 - val_loss: 6.6528e-06 - val_acc: 0.0000e+00 - val_aape: 31.5696 - val_r2: 0.8592\n",
      "Train on 80000 samples, validate on 20000 samples\n",
      "Epoch 1/1\n",
      "14800/80000 [====>.........................] - ETA: 108s - loss: 6.3685e-06 - acc: 0.0000e+00 - aape: 26.7784 - r2: 0.8713"
     ]
    }
   ],
   "source": [
    "for i in range(150):\n",
    "    RETURNS_ = np.load(\"MertonReturns_2000_\"+str(7-i%8)+\".npy\")\n",
    "    PARAMS_ = np.load(\"ModelParameters_2000_\"+str(7-i%8)+\".npy\")\n",
    "    train_data = np.reshape(np.array(RETURNS_), (100000, 40, 50, 1))\n",
    "    train_targets = np.array([[mp.lamda] for mp in PARAMS_])\n",
    "\n",
    "    history = covnet_jumpsigma.fit(np.array(train_data[:80000]), np.array(train_targets[:80000]), nb_epoch=1, batch_size=100, validation_data=(train_data[80000:], train_targets[80000:]))\n",
    "    covnet_jumpsigma.save_weights(\"covnet_jumpsigma_running.h5\")"
   ]
  },
  {
   "cell_type": "markdown",
   "metadata": {},
   "source": [
    "# Covnet for Mu"
   ]
  },
  {
   "cell_type": "code",
   "execution_count": 66,
   "metadata": {
    "collapsed": true
   },
   "outputs": [],
   "source": [
    "net_mu = Sequential()\n",
    "net_mu.add(Dense(32, input_dim=2000, activation='relu'))\n",
    "net_mu.add(Dense(16, activation='relu'))\n",
    "net_mu.add(Dense(8, activation='relu'))\n",
    "net_mu.add(Dense(1))"
   ]
  },
  {
   "cell_type": "code",
   "execution_count": 67,
   "metadata": {},
   "outputs": [
    {
     "name": "stdout",
     "output_type": "stream",
     "text": [
      "____________________________________________________________________________________________________\n",
      "Layer (type)                     Output Shape          Param #     Connected to                     \n",
      "====================================================================================================\n",
      "dense_52 (Dense)                 (None, 32)            64032       dense_input_9[0][0]              \n",
      "____________________________________________________________________________________________________\n",
      "dense_53 (Dense)                 (None, 16)            528         dense_52[0][0]                   \n",
      "____________________________________________________________________________________________________\n",
      "dense_54 (Dense)                 (None, 8)             136         dense_53[0][0]                   \n",
      "____________________________________________________________________________________________________\n",
      "dense_55 (Dense)                 (None, 1)             9           dense_54[0][0]                   \n",
      "====================================================================================================\n",
      "Total params: 64,705\n",
      "Trainable params: 64,705\n",
      "Non-trainable params: 0\n",
      "____________________________________________________________________________________________________\n"
     ]
    }
   ],
   "source": [
    "net_mu.compile('adam', 'mse', metrics=['accuracy', aape, r2])\n",
    "net_mu.summary()"
   ]
  },
  {
   "cell_type": "code",
   "execution_count": 68,
   "metadata": {},
   "outputs": [
    {
     "ename": "MemoryError",
     "evalue": "",
     "output_type": "error",
     "traceback": [
      "\u001b[0;31m----------------------------------------------------------------\u001b[0m",
      "\u001b[0;31mMemoryError\u001b[0m                    Traceback (most recent call last)",
      "\u001b[0;32m<ipython-input-68-36f8c3304ea2>\u001b[0m in \u001b[0;36m<module>\u001b[0;34m()\u001b[0m\n\u001b[1;32m      5\u001b[0m     \u001b[0mtrain_targets\u001b[0m \u001b[0;34m=\u001b[0m \u001b[0mnp\u001b[0m\u001b[0;34m.\u001b[0m\u001b[0marray\u001b[0m\u001b[0;34m(\u001b[0m\u001b[0;34m[\u001b[0m\u001b[0;34m[\u001b[0m\u001b[0mmp\u001b[0m\u001b[0;34m.\u001b[0m\u001b[0mgbm_mu\u001b[0m\u001b[0;34m]\u001b[0m \u001b[0;32mfor\u001b[0m \u001b[0mmp\u001b[0m \u001b[0;32min\u001b[0m \u001b[0mPARAMS_\u001b[0m\u001b[0;34m]\u001b[0m\u001b[0;34m)\u001b[0m\u001b[0;34m\u001b[0m\u001b[0m\n\u001b[1;32m      6\u001b[0m \u001b[0;34m\u001b[0m\u001b[0m\n\u001b[0;32m----> 7\u001b[0;31m     \u001b[0mhistory\u001b[0m \u001b[0;34m=\u001b[0m \u001b[0mnet_mu\u001b[0m\u001b[0;34m.\u001b[0m\u001b[0mfit\u001b[0m\u001b[0;34m(\u001b[0m\u001b[0mnp\u001b[0m\u001b[0;34m.\u001b[0m\u001b[0marray\u001b[0m\u001b[0;34m(\u001b[0m\u001b[0mtrain_data\u001b[0m\u001b[0;34m[\u001b[0m\u001b[0;34m:\u001b[0m\u001b[0;36m80000\u001b[0m\u001b[0;34m]\u001b[0m\u001b[0;34m)\u001b[0m\u001b[0;34m,\u001b[0m \u001b[0mnp\u001b[0m\u001b[0;34m.\u001b[0m\u001b[0marray\u001b[0m\u001b[0;34m(\u001b[0m\u001b[0mtrain_targets\u001b[0m\u001b[0;34m[\u001b[0m\u001b[0;34m:\u001b[0m\u001b[0;36m80000\u001b[0m\u001b[0;34m]\u001b[0m\u001b[0;34m)\u001b[0m\u001b[0;34m,\u001b[0m \u001b[0mnb_epoch\u001b[0m\u001b[0;34m=\u001b[0m\u001b[0;36m1\u001b[0m\u001b[0;34m,\u001b[0m \u001b[0mbatch_size\u001b[0m\u001b[0;34m=\u001b[0m\u001b[0;36m100\u001b[0m\u001b[0;34m,\u001b[0m \u001b[0mvalidation_data\u001b[0m\u001b[0;34m=\u001b[0m\u001b[0;34m(\u001b[0m\u001b[0mtrain_data\u001b[0m\u001b[0;34m[\u001b[0m\u001b[0;36m80000\u001b[0m\u001b[0;34m:\u001b[0m\u001b[0;34m]\u001b[0m\u001b[0;34m,\u001b[0m \u001b[0mtrain_targets\u001b[0m\u001b[0;34m[\u001b[0m\u001b[0;36m80000\u001b[0m\u001b[0;34m:\u001b[0m\u001b[0;34m]\u001b[0m\u001b[0;34m)\u001b[0m\u001b[0;34m)\u001b[0m\u001b[0;34m\u001b[0m\u001b[0m\n\u001b[0m\u001b[1;32m      8\u001b[0m     \u001b[0mnet_mu\u001b[0m\u001b[0;34m.\u001b[0m\u001b[0msave_weights\u001b[0m\u001b[0;34m(\u001b[0m\u001b[0;34m\"net_mu_running.h5\"\u001b[0m\u001b[0;34m)\u001b[0m\u001b[0;34m\u001b[0m\u001b[0m\n",
      "\u001b[0;31mMemoryError\u001b[0m: "
     ]
    }
   ],
   "source": [
    "for i in range(150):\n",
    "    RETURNS_ = np.load(\"MertonReturns_2000_\"+str(7-i%8)+\".npy\")\n",
    "    PARAMS_ = np.load(\"ModelParameters_2000_\"+str(7-i%8)+\".npy\")\n",
    "    train_data = np.reshape(np.array(RETURNS_), (100000, 2000))\n",
    "    train_targets = np.array([[mp.gbm_mu] for mp in PARAMS_])\n",
    "\n",
    "    history = net_mu.fit(np.array(train_data[:80000]), np.array(train_targets[:80000]), nb_epoch=1, batch_size=100, validation_data=(train_data[80000:], train_targets[80000:]))\n",
    "    net_mu.save_weights(\"net_mu_running.h5\")"
   ]
  },
  {
   "cell_type": "markdown",
   "metadata": {},
   "source": [
    "# Network Sigma"
   ]
  },
  {
   "cell_type": "code",
   "execution_count": null,
   "metadata": {
    "collapsed": true
   },
   "outputs": [],
   "source": [
    "net_sigma = Sequential()\n",
    "net_sigma.add(Dense(1024, input_dim=2000, activation='relu'))\n",
    "net_sigma.add(Dense(512, activation='relu'))\n",
    "net_sigma.add(Dense(1))"
   ]
  },
  {
   "cell_type": "code",
   "execution_count": null,
   "metadata": {
    "collapsed": true
   },
   "outputs": [],
   "source": [
    "net_sigma.compile('adam', 'mse', metrics=['accuracy', aape, r2])\n",
    "net_sigma.summary()"
   ]
  },
  {
   "cell_type": "markdown",
   "metadata": {
    "collapsed": true
   },
   "source": [
    "# Covnet Multiple Output prediction"
   ]
  },
  {
   "cell_type": "code",
   "execution_count": 8,
   "metadata": {
    "collapsed": true
   },
   "outputs": [],
   "source": [
    "from keras.layers import Input\n",
    "from keras.models import Model"
   ]
  },
  {
   "cell_type": "code",
   "execution_count": 9,
   "metadata": {},
   "outputs": [
    {
     "name": "stderr",
     "output_type": "stream",
     "text": [
      "/home/carnd/anaconda3/envs/carnd-term1/lib/python3.5/site-packages/ipykernel_launcher.py:3: UserWarning: Update your `Conv2D` call to the Keras 2 API: `Conv2D(32, (12, 12), activation=\"relu\", padding=\"same\")`\n",
      "  This is separate from the ipykernel package so we can avoid doing imports until\n",
      "/home/carnd/anaconda3/envs/carnd-term1/lib/python3.5/site-packages/ipykernel_launcher.py:4: UserWarning: Update your `Conv2D` call to the Keras 2 API: `Conv2D(32, (12, 12), activation=\"relu\", padding=\"same\")`\n",
      "  after removing the cwd from sys.path.\n",
      "/home/carnd/anaconda3/envs/carnd-term1/lib/python3.5/site-packages/ipykernel_launcher.py:7: UserWarning: Update your `Conv2D` call to the Keras 2 API: `Conv2D(64, (6, 6), activation=\"relu\", padding=\"same\")`\n",
      "  import sys\n",
      "/home/carnd/anaconda3/envs/carnd-term1/lib/python3.5/site-packages/ipykernel_launcher.py:8: UserWarning: Update your `Conv2D` call to the Keras 2 API: `Conv2D(64, (6, 6), activation=\"relu\", padding=\"same\")`\n",
      "  \n",
      "/home/carnd/anaconda3/envs/carnd-term1/lib/python3.5/site-packages/ipykernel_launcher.py:11: UserWarning: Update your `Conv2D` call to the Keras 2 API: `Conv2D(128, (3, 3), activation=\"relu\", padding=\"same\")`\n",
      "  # This is added back by InteractiveShellApp.init_path()\n",
      "/home/carnd/anaconda3/envs/carnd-term1/lib/python3.5/site-packages/ipykernel_launcher.py:12: UserWarning: Update your `Conv2D` call to the Keras 2 API: `Conv2D(128, (3, 3), activation=\"relu\", padding=\"same\")`\n",
      "  if sys.path[0] == '':\n"
     ]
    }
   ],
   "source": [
    "input_1 = Input(shape = (40, 50, 1))\n",
    "\n",
    "layer1 = Convolution2D(32, 12, 12, border_mode='same', activation='relu')(input_1)\n",
    "layer2 = Convolution2D(32, 12, 12, activation='relu', border_mode='same')(layer1)\n",
    "layer3 = MaxPooling2D(pool_size=(2,2))(layer2)\n",
    "\n",
    "layer4 = Convolution2D(64, 6, 6, border_mode='same', activation='relu')(layer3)\n",
    "layer5 = Convolution2D(64, 6, 6, activation='relu', border_mode='same')(layer4)\n",
    "layer6 = MaxPooling2D(pool_size=(2,2))(layer5)\n",
    "\n",
    "layer7 = Convolution2D(128, 3, 3, border_mode='same', activation='relu')(layer6)\n",
    "layer8 = Convolution2D(128, 3, 3, activation='relu', border_mode='same')(layer7)\n",
    "layer9 = MaxPooling2D(pool_size=(2,2))(layer8)\n",
    "\n",
    "flatten = Flatten()(layer9)\n",
    "last_layer = Dense(256, activation='relu')(flatten)\n",
    "output1 = Dense(1, name=\"sigma\")(last_layer)\n",
    "output2 = Dense(1, name=\"mu\")(last_layer)\n",
    "output3 = Dense(1, name=\"jump_sigma\")(last_layer)\n",
    "output4 = Dense(1, name=\"jump_mu\")(last_layer)\n",
    "output5 = Dense(1, name=\"lambda\")(last_layer)"
   ]
  },
  {
   "cell_type": "code",
   "execution_count": 10,
   "metadata": {},
   "outputs": [
    {
     "name": "stderr",
     "output_type": "stream",
     "text": [
      "/home/carnd/anaconda3/envs/carnd-term1/lib/python3.5/site-packages/ipykernel_launcher.py:1: UserWarning: Update your `Model` call to the Keras 2 API: `Model(outputs=[<tf.Tenso..., inputs=Tensor(\"in...)`\n",
      "  \"\"\"Entry point for launching an IPython kernel.\n"
     ]
    }
   ],
   "source": [
    "covnet_mo = Model(input = input_1, output=[output1, output2, output3, output4, output5])"
   ]
  },
  {
   "cell_type": "code",
   "execution_count": 15,
   "metadata": {},
   "outputs": [
    {
     "name": "stdout",
     "output_type": "stream",
     "text": [
      "____________________________________________________________________________________________________\n",
      "Layer (type)                     Output Shape          Param #     Connected to                     \n",
      "====================================================================================================\n",
      "input_1 (InputLayer)             (None, 40, 50, 1)     0                                            \n",
      "____________________________________________________________________________________________________\n",
      "conv2d_1 (Conv2D)                (None, 40, 50, 32)    4640        input_1[0][0]                    \n",
      "____________________________________________________________________________________________________\n",
      "conv2d_2 (Conv2D)                (None, 40, 50, 32)    147488      conv2d_1[0][0]                   \n",
      "____________________________________________________________________________________________________\n",
      "max_pooling2d_1 (MaxPooling2D)   (None, 20, 25, 32)    0           conv2d_2[0][0]                   \n",
      "____________________________________________________________________________________________________\n",
      "conv2d_3 (Conv2D)                (None, 20, 25, 64)    73792       max_pooling2d_1[0][0]            \n",
      "____________________________________________________________________________________________________\n",
      "conv2d_4 (Conv2D)                (None, 20, 25, 64)    147520      conv2d_3[0][0]                   \n",
      "____________________________________________________________________________________________________\n",
      "max_pooling2d_2 (MaxPooling2D)   (None, 10, 12, 64)    0           conv2d_4[0][0]                   \n",
      "____________________________________________________________________________________________________\n",
      "conv2d_5 (Conv2D)                (None, 10, 12, 128)   73856       max_pooling2d_2[0][0]            \n",
      "____________________________________________________________________________________________________\n",
      "conv2d_6 (Conv2D)                (None, 10, 12, 128)   147584      conv2d_5[0][0]                   \n",
      "____________________________________________________________________________________________________\n",
      "max_pooling2d_3 (MaxPooling2D)   (None, 5, 6, 128)     0           conv2d_6[0][0]                   \n",
      "____________________________________________________________________________________________________\n",
      "flatten_1 (Flatten)              (None, 3840)          0           max_pooling2d_3[0][0]            \n",
      "____________________________________________________________________________________________________\n",
      "dense_1 (Dense)                  (None, 256)           983296      flatten_1[0][0]                  \n",
      "____________________________________________________________________________________________________\n",
      "sigma (Dense)                    (None, 1)             257         dense_1[0][0]                    \n",
      "____________________________________________________________________________________________________\n",
      "mu (Dense)                       (None, 1)             257         dense_1[0][0]                    \n",
      "____________________________________________________________________________________________________\n",
      "jump_sigma (Dense)               (None, 1)             257         dense_1[0][0]                    \n",
      "____________________________________________________________________________________________________\n",
      "jump_mu (Dense)                  (None, 1)             257         dense_1[0][0]                    \n",
      "____________________________________________________________________________________________________\n",
      "lambda (Dense)                   (None, 1)             257         dense_1[0][0]                    \n",
      "====================================================================================================\n",
      "Total params: 1,579,461\n",
      "Trainable params: 1,579,461\n",
      "Non-trainable params: 0\n",
      "____________________________________________________________________________________________________\n"
     ]
    }
   ],
   "source": [
    "covnet_mo.compile('adam', 'mean_squared_error', metrics=['mean_absolute_percentage_error', r2])\n",
    "covnet_mo.summary()\n",
    "covnet_mo.load_weights(\"covnet_multiple_running.h5\")"
   ]
  },
  {
   "cell_type": "code",
   "execution_count": 16,
   "metadata": {
    "collapsed": true
   },
   "outputs": [],
   "source": [
    "covnet_mo_CallBack = keras.callbacks.TensorBoard(log_dir='./Cov_MO', histogram_freq=0, write_graph=True, write_images=True)\n",
    "histories = []"
   ]
  },
  {
   "cell_type": "code",
   "execution_count": 17,
   "metadata": {
    "collapsed": true
   },
   "outputs": [],
   "source": [
    "def batch_generator(all_time = 2000, paramset_size = 32, paths_p_paramset = 5):\n",
    "    while True:\n",
    "        RETURNS_ = []\n",
    "        PARAMS_ = []\n",
    "        \n",
    "        for i in range(paramset_size):\n",
    "            mp = random_model_params()\n",
    "            mp.all_time = all_time\n",
    "            \n",
    "            for j in range(paths_p_paramset):\n",
    "                PARAMS_.append(mp)\n",
    "                RETURNS_.append(geometric_brownian_motion_jump_diffusion_log_returns(mp))\n",
    "        \n",
    "        train_data = np.reshape(np.array(RETURNS_), (paramset_size*paths_p_paramset, 40, 50, 1))\n",
    "        sigmas = np.array([[mp.all_sigma] for mp in PARAMS_])\n",
    "        mus = np.array([[mp.gbm_mu] for mp in PARAMS_])\n",
    "        jump_sigmas = np.array([[mp.jumps_sigma] for mp in PARAMS_])\n",
    "        jump_mus = np.array([[mp.jumps_mu] for mp in PARAMS_])\n",
    "        lambdas = np.array([[mp.lamda] for mp in PARAMS_])\n",
    "            \n",
    "        #train_targets = np.array([[mp.all_sigma, mp.gbm_mu, mp.jumps_sigma, mp.jumps_mu, mp.lamda] for mp in PARAMS_])\n",
    "\n",
    "        yield train_data, [sigmas, mus, jump_sigmas, jump_mus, lambdas]\n",
    "\n",
    "train_gen = batch_generator(paramset_size=10, paths_p_paramset=5)"
   ]
  },
  {
   "cell_type": "code",
   "execution_count": 19,
   "metadata": {},
   "outputs": [
    {
     "name": "stdout",
     "output_type": "stream",
     "text": [
      "Epoch 1/1\n",
      " 11/300 [>.............................] - ETA: 156s - loss: 0.0057 - sigma_loss: 1.6972e-04 - mu_loss: 0.0033 - jump_sigma_loss: 0.0010 - jump_mu_loss: 0.0011 - lambda_loss: 3.3838e-05 - sigma_mean_absolute_percentage_error: 42.8718 - sigma_r2: 0.9142 - mu_mean_absolute_percentage_error: 23.6807 - mu_r2: 0.9885 - jump_sigma_mean_absolute_percentage_error: 48.0838 - jump_sigma_r2: 0.6065 - jump_mu_mean_absolute_percentage_error: 131.6244 - jump_mu_r2: 0.5514 - lambda_mean_absolute_percentage_error: 164.3606 - lambda_r2: 0.1974"
     ]
    },
    {
     "ename": "KeyboardInterrupt",
     "evalue": "",
     "output_type": "error",
     "traceback": [
      "\u001b[0;31m---------------------------------------------------------------------------\u001b[0m",
      "\u001b[0;31mKeyboardInterrupt\u001b[0m                         Traceback (most recent call last)",
      "\u001b[0;32m<ipython-input-19-21e329b7e199>\u001b[0m in \u001b[0;36m<module>\u001b[0;34m()\u001b[0m\n\u001b[1;32m      6\u001b[0m     \u001b[0;31m#train_data = np.reshape(np.array(RETURNS_), (100000, 40, 50, 1))\u001b[0m\u001b[0;34m\u001b[0m\u001b[0;34m\u001b[0m\u001b[0m\n\u001b[1;32m      7\u001b[0m \u001b[0;34m\u001b[0m\u001b[0m\n\u001b[0;32m----> 8\u001b[0;31m     \u001b[0mcovnet_mo\u001b[0m\u001b[0;34m.\u001b[0m\u001b[0mfit_generator\u001b[0m\u001b[0;34m(\u001b[0m\u001b[0mtrain_gen\u001b[0m\u001b[0;34m,\u001b[0m \u001b[0msteps_per_epoch\u001b[0m \u001b[0;34m=\u001b[0m \u001b[0;36m300\u001b[0m\u001b[0;34m,\u001b[0m \u001b[0mepochs\u001b[0m \u001b[0;34m=\u001b[0m \u001b[0;36m1\u001b[0m\u001b[0;34m)\u001b[0m\u001b[0;34m\u001b[0m\u001b[0m\n\u001b[0m\u001b[1;32m      9\u001b[0m \u001b[0;34m\u001b[0m\u001b[0m\n\u001b[1;32m     10\u001b[0m     \u001b[0;31m#history = covnet_mo.fit(np.array(train_data), [sigmas, mus, jump_sigmas, jump_mus, lambdas], nb_epoch=1, batch_size=100, callbacks=[covnet_mo_CallBack])\u001b[0m\u001b[0;34m\u001b[0m\u001b[0;34m\u001b[0m\u001b[0m\n",
      "\u001b[0;32m/home/carnd/anaconda3/envs/carnd-term1/lib/python3.5/site-packages/keras/legacy/interfaces.py\u001b[0m in \u001b[0;36mwrapper\u001b[0;34m(*args, **kwargs)\u001b[0m\n\u001b[1;32m     86\u001b[0m                 warnings.warn('Update your `' + object_name +\n\u001b[1;32m     87\u001b[0m                               '` call to the Keras 2 API: ' + signature, stacklevel=2)\n\u001b[0;32m---> 88\u001b[0;31m             \u001b[0;32mreturn\u001b[0m \u001b[0mfunc\u001b[0m\u001b[0;34m(\u001b[0m\u001b[0;34m*\u001b[0m\u001b[0margs\u001b[0m\u001b[0;34m,\u001b[0m \u001b[0;34m**\u001b[0m\u001b[0mkwargs\u001b[0m\u001b[0;34m)\u001b[0m\u001b[0;34m\u001b[0m\u001b[0m\n\u001b[0m\u001b[1;32m     89\u001b[0m         \u001b[0mwrapper\u001b[0m\u001b[0;34m.\u001b[0m\u001b[0m_legacy_support_signature\u001b[0m \u001b[0;34m=\u001b[0m \u001b[0minspect\u001b[0m\u001b[0;34m.\u001b[0m\u001b[0mgetargspec\u001b[0m\u001b[0;34m(\u001b[0m\u001b[0mfunc\u001b[0m\u001b[0;34m)\u001b[0m\u001b[0;34m\u001b[0m\u001b[0m\n\u001b[1;32m     90\u001b[0m         \u001b[0;32mreturn\u001b[0m \u001b[0mwrapper\u001b[0m\u001b[0;34m\u001b[0m\u001b[0m\n",
      "\u001b[0;32m/home/carnd/anaconda3/envs/carnd-term1/lib/python3.5/site-packages/keras/engine/training.py\u001b[0m in \u001b[0;36mfit_generator\u001b[0;34m(self, generator, steps_per_epoch, epochs, verbose, callbacks, validation_data, validation_steps, class_weight, max_q_size, workers, pickle_safe, initial_epoch)\u001b[0m\n\u001b[1;32m   1900\u001b[0m                     outs = self.train_on_batch(x, y,\n\u001b[1;32m   1901\u001b[0m                                                \u001b[0msample_weight\u001b[0m\u001b[0;34m=\u001b[0m\u001b[0msample_weight\u001b[0m\u001b[0;34m,\u001b[0m\u001b[0;34m\u001b[0m\u001b[0m\n\u001b[0;32m-> 1902\u001b[0;31m                                                class_weight=class_weight)\n\u001b[0m\u001b[1;32m   1903\u001b[0m \u001b[0;34m\u001b[0m\u001b[0m\n\u001b[1;32m   1904\u001b[0m                     \u001b[0;32mif\u001b[0m \u001b[0;32mnot\u001b[0m \u001b[0misinstance\u001b[0m\u001b[0;34m(\u001b[0m\u001b[0mouts\u001b[0m\u001b[0;34m,\u001b[0m \u001b[0mlist\u001b[0m\u001b[0;34m)\u001b[0m\u001b[0;34m:\u001b[0m\u001b[0;34m\u001b[0m\u001b[0m\n",
      "\u001b[0;32m/home/carnd/anaconda3/envs/carnd-term1/lib/python3.5/site-packages/keras/engine/training.py\u001b[0m in \u001b[0;36mtrain_on_batch\u001b[0;34m(self, x, y, sample_weight, class_weight)\u001b[0m\n\u001b[1;32m   1640\u001b[0m             \u001b[0mins\u001b[0m \u001b[0;34m=\u001b[0m \u001b[0mx\u001b[0m \u001b[0;34m+\u001b[0m \u001b[0my\u001b[0m \u001b[0;34m+\u001b[0m \u001b[0msample_weights\u001b[0m\u001b[0;34m\u001b[0m\u001b[0m\n\u001b[1;32m   1641\u001b[0m         \u001b[0mself\u001b[0m\u001b[0;34m.\u001b[0m\u001b[0m_make_train_function\u001b[0m\u001b[0;34m(\u001b[0m\u001b[0;34m)\u001b[0m\u001b[0;34m\u001b[0m\u001b[0m\n\u001b[0;32m-> 1642\u001b[0;31m         \u001b[0moutputs\u001b[0m \u001b[0;34m=\u001b[0m \u001b[0mself\u001b[0m\u001b[0;34m.\u001b[0m\u001b[0mtrain_function\u001b[0m\u001b[0;34m(\u001b[0m\u001b[0mins\u001b[0m\u001b[0;34m)\u001b[0m\u001b[0;34m\u001b[0m\u001b[0m\n\u001b[0m\u001b[1;32m   1643\u001b[0m         \u001b[0;32mif\u001b[0m \u001b[0mlen\u001b[0m\u001b[0;34m(\u001b[0m\u001b[0moutputs\u001b[0m\u001b[0;34m)\u001b[0m \u001b[0;34m==\u001b[0m \u001b[0;36m1\u001b[0m\u001b[0;34m:\u001b[0m\u001b[0;34m\u001b[0m\u001b[0m\n\u001b[1;32m   1644\u001b[0m             \u001b[0;32mreturn\u001b[0m \u001b[0moutputs\u001b[0m\u001b[0;34m[\u001b[0m\u001b[0;36m0\u001b[0m\u001b[0;34m]\u001b[0m\u001b[0;34m\u001b[0m\u001b[0m\n",
      "\u001b[0;32m/home/carnd/anaconda3/envs/carnd-term1/lib/python3.5/site-packages/keras/backend/tensorflow_backend.py\u001b[0m in \u001b[0;36m__call__\u001b[0;34m(self, inputs)\u001b[0m\n\u001b[1;32m   2267\u001b[0m         updated = session.run(self.outputs + [self.updates_op],\n\u001b[1;32m   2268\u001b[0m                               \u001b[0mfeed_dict\u001b[0m\u001b[0;34m=\u001b[0m\u001b[0mfeed_dict\u001b[0m\u001b[0;34m,\u001b[0m\u001b[0;34m\u001b[0m\u001b[0m\n\u001b[0;32m-> 2269\u001b[0;31m                               **self.session_kwargs)\n\u001b[0m\u001b[1;32m   2270\u001b[0m         \u001b[0;32mreturn\u001b[0m \u001b[0mupdated\u001b[0m\u001b[0;34m[\u001b[0m\u001b[0;34m:\u001b[0m\u001b[0mlen\u001b[0m\u001b[0;34m(\u001b[0m\u001b[0mself\u001b[0m\u001b[0;34m.\u001b[0m\u001b[0moutputs\u001b[0m\u001b[0;34m)\u001b[0m\u001b[0;34m]\u001b[0m\u001b[0;34m\u001b[0m\u001b[0m\n\u001b[1;32m   2271\u001b[0m \u001b[0;34m\u001b[0m\u001b[0m\n",
      "\u001b[0;32m/home/carnd/anaconda3/envs/carnd-term1/lib/python3.5/site-packages/tensorflow/python/client/session.py\u001b[0m in \u001b[0;36mrun\u001b[0;34m(self, fetches, feed_dict, options, run_metadata)\u001b[0m\n\u001b[1;32m    764\u001b[0m     \u001b[0;32mtry\u001b[0m\u001b[0;34m:\u001b[0m\u001b[0;34m\u001b[0m\u001b[0m\n\u001b[1;32m    765\u001b[0m       result = self._run(None, fetches, feed_dict, options_ptr,\n\u001b[0;32m--> 766\u001b[0;31m                          run_metadata_ptr)\n\u001b[0m\u001b[1;32m    767\u001b[0m       \u001b[0;32mif\u001b[0m \u001b[0mrun_metadata\u001b[0m\u001b[0;34m:\u001b[0m\u001b[0;34m\u001b[0m\u001b[0m\n\u001b[1;32m    768\u001b[0m         \u001b[0mproto_data\u001b[0m \u001b[0;34m=\u001b[0m \u001b[0mtf_session\u001b[0m\u001b[0;34m.\u001b[0m\u001b[0mTF_GetBuffer\u001b[0m\u001b[0;34m(\u001b[0m\u001b[0mrun_metadata_ptr\u001b[0m\u001b[0;34m)\u001b[0m\u001b[0;34m\u001b[0m\u001b[0m\n",
      "\u001b[0;32m/home/carnd/anaconda3/envs/carnd-term1/lib/python3.5/site-packages/tensorflow/python/client/session.py\u001b[0m in \u001b[0;36m_run\u001b[0;34m(self, handle, fetches, feed_dict, options, run_metadata)\u001b[0m\n\u001b[1;32m    962\u001b[0m     \u001b[0;32mif\u001b[0m \u001b[0mfinal_fetches\u001b[0m \u001b[0;32mor\u001b[0m \u001b[0mfinal_targets\u001b[0m\u001b[0;34m:\u001b[0m\u001b[0;34m\u001b[0m\u001b[0m\n\u001b[1;32m    963\u001b[0m       results = self._do_run(handle, final_targets, final_fetches,\n\u001b[0;32m--> 964\u001b[0;31m                              feed_dict_string, options, run_metadata)\n\u001b[0m\u001b[1;32m    965\u001b[0m     \u001b[0;32melse\u001b[0m\u001b[0;34m:\u001b[0m\u001b[0;34m\u001b[0m\u001b[0m\n\u001b[1;32m    966\u001b[0m       \u001b[0mresults\u001b[0m \u001b[0;34m=\u001b[0m \u001b[0;34m[\u001b[0m\u001b[0;34m]\u001b[0m\u001b[0;34m\u001b[0m\u001b[0m\n",
      "\u001b[0;32m/home/carnd/anaconda3/envs/carnd-term1/lib/python3.5/site-packages/tensorflow/python/client/session.py\u001b[0m in \u001b[0;36m_do_run\u001b[0;34m(self, handle, target_list, fetch_list, feed_dict, options, run_metadata)\u001b[0m\n\u001b[1;32m   1012\u001b[0m     \u001b[0;32mif\u001b[0m \u001b[0mhandle\u001b[0m \u001b[0;32mis\u001b[0m \u001b[0;32mNone\u001b[0m\u001b[0;34m:\u001b[0m\u001b[0;34m\u001b[0m\u001b[0m\n\u001b[1;32m   1013\u001b[0m       return self._do_call(_run_fn, self._session, feed_dict, fetch_list,\n\u001b[0;32m-> 1014\u001b[0;31m                            target_list, options, run_metadata)\n\u001b[0m\u001b[1;32m   1015\u001b[0m     \u001b[0;32melse\u001b[0m\u001b[0;34m:\u001b[0m\u001b[0;34m\u001b[0m\u001b[0m\n\u001b[1;32m   1016\u001b[0m       return self._do_call(_prun_fn, self._session, handle, feed_dict,\n",
      "\u001b[0;32m/home/carnd/anaconda3/envs/carnd-term1/lib/python3.5/site-packages/tensorflow/python/client/session.py\u001b[0m in \u001b[0;36m_do_call\u001b[0;34m(self, fn, *args)\u001b[0m\n\u001b[1;32m   1019\u001b[0m   \u001b[0;32mdef\u001b[0m \u001b[0m_do_call\u001b[0m\u001b[0;34m(\u001b[0m\u001b[0mself\u001b[0m\u001b[0;34m,\u001b[0m \u001b[0mfn\u001b[0m\u001b[0;34m,\u001b[0m \u001b[0;34m*\u001b[0m\u001b[0margs\u001b[0m\u001b[0;34m)\u001b[0m\u001b[0;34m:\u001b[0m\u001b[0;34m\u001b[0m\u001b[0m\n\u001b[1;32m   1020\u001b[0m     \u001b[0;32mtry\u001b[0m\u001b[0;34m:\u001b[0m\u001b[0;34m\u001b[0m\u001b[0m\n\u001b[0;32m-> 1021\u001b[0;31m       \u001b[0;32mreturn\u001b[0m \u001b[0mfn\u001b[0m\u001b[0;34m(\u001b[0m\u001b[0;34m*\u001b[0m\u001b[0margs\u001b[0m\u001b[0;34m)\u001b[0m\u001b[0;34m\u001b[0m\u001b[0m\n\u001b[0m\u001b[1;32m   1022\u001b[0m     \u001b[0;32mexcept\u001b[0m \u001b[0merrors\u001b[0m\u001b[0;34m.\u001b[0m\u001b[0mOpError\u001b[0m \u001b[0;32mas\u001b[0m \u001b[0me\u001b[0m\u001b[0;34m:\u001b[0m\u001b[0;34m\u001b[0m\u001b[0m\n\u001b[1;32m   1023\u001b[0m       \u001b[0mmessage\u001b[0m \u001b[0;34m=\u001b[0m \u001b[0mcompat\u001b[0m\u001b[0;34m.\u001b[0m\u001b[0mas_text\u001b[0m\u001b[0;34m(\u001b[0m\u001b[0me\u001b[0m\u001b[0;34m.\u001b[0m\u001b[0mmessage\u001b[0m\u001b[0;34m)\u001b[0m\u001b[0;34m\u001b[0m\u001b[0m\n",
      "\u001b[0;32m/home/carnd/anaconda3/envs/carnd-term1/lib/python3.5/site-packages/tensorflow/python/client/session.py\u001b[0m in \u001b[0;36m_run_fn\u001b[0;34m(session, feed_dict, fetch_list, target_list, options, run_metadata)\u001b[0m\n\u001b[1;32m   1001\u001b[0m         return tf_session.TF_Run(session, options,\n\u001b[1;32m   1002\u001b[0m                                  \u001b[0mfeed_dict\u001b[0m\u001b[0;34m,\u001b[0m \u001b[0mfetch_list\u001b[0m\u001b[0;34m,\u001b[0m \u001b[0mtarget_list\u001b[0m\u001b[0;34m,\u001b[0m\u001b[0;34m\u001b[0m\u001b[0m\n\u001b[0;32m-> 1003\u001b[0;31m                                  status, run_metadata)\n\u001b[0m\u001b[1;32m   1004\u001b[0m \u001b[0;34m\u001b[0m\u001b[0m\n\u001b[1;32m   1005\u001b[0m     \u001b[0;32mdef\u001b[0m \u001b[0m_prun_fn\u001b[0m\u001b[0;34m(\u001b[0m\u001b[0msession\u001b[0m\u001b[0;34m,\u001b[0m \u001b[0mhandle\u001b[0m\u001b[0;34m,\u001b[0m \u001b[0mfeed_dict\u001b[0m\u001b[0;34m,\u001b[0m \u001b[0mfetch_list\u001b[0m\u001b[0;34m)\u001b[0m\u001b[0;34m:\u001b[0m\u001b[0;34m\u001b[0m\u001b[0m\n",
      "\u001b[0;31mKeyboardInterrupt\u001b[0m: "
     ]
    }
   ],
   "source": [
    "# HERE HERE HERE HERE HERE\n",
    "\n",
    "for i in range(150):\n",
    "    #RETURNS_ = np.load(\"MertonReturns_2000_\"+str(7-i%8)+\".npy\")\n",
    "    #PARAMS_ = np.load(\"ModelParameters_2000_\"+str(7-i%8)+\".npy\")\n",
    "    #train_data = np.reshape(np.array(RETURNS_), (100000, 40, 50, 1))\n",
    "    \n",
    "    covnet_mo.fit_generator(train_gen, steps_per_epoch = 300, epochs = 1)\n",
    "\n",
    "    #history = covnet_mo.fit(np.array(train_data), [sigmas, mus, jump_sigmas, jump_mus, lambdas], nb_epoch=1, batch_size=100, callbacks=[covnet_mo_CallBack])\n",
    "    #histories.append(history)\n",
    "    covnet_mo.save_weights(\"covnet_multiple_running.h5\")"
   ]
  },
  {
   "cell_type": "markdown",
   "metadata": {
    "collapsed": true
   },
   "source": [
    "# Covnet Multiple Output 2"
   ]
  },
  {
   "cell_type": "code",
   "execution_count": 9,
   "metadata": {
    "collapsed": true
   },
   "outputs": [],
   "source": [
    "input_1 = Input(shape = (40, 50, 1))\n",
    "\n",
    "layer1 = Convolution2D(40, 3, 3, border_mode='same', activation='relu')(input_1)\n",
    "layer2 = Convolution2D(40, 3, 3, activation='relu', border_mode='same')(layer1)\n",
    "layer3 = MaxPooling2D(pool_size=(2,2))(layer2)\n",
    "\n",
    "layer4 = Convolution2D(64, 3, 3, border_mode='same', activation='relu')(layer3)\n",
    "layer5 = Convolution2D(64, 3, 3, activation='relu', border_mode='same')(layer4)\n",
    "layer6 = MaxPooling2D(pool_size=(2,2))(layer5)\n",
    "\n",
    "layer7 = Convolution2D(128, 3, 3, border_mode='same', activation='relu')(layer6)\n",
    "layer8 = Convolution2D(128, 3, 3, activation='relu', border_mode='same')(layer7)\n",
    "layer9 = MaxPooling2D(pool_size=(2,2))(layer8)\n",
    "\n",
    "flatten = Flatten()(layer9)\n",
    "last_layer = Dense(256, activation='relu')(flatten)\n",
    "output1 = Dense(1, name=\"sigma\")(last_layer)\n",
    "output2 = Dense(1, name=\"mu\")(last_layer)\n",
    "output3 = Dense(1, name=\"jump_sigma\")(last_layer)\n",
    "output4 = Dense(1, name=\"jump_mu\")(last_layer)\n",
    "output5 = Dense(1, name=\"lambda\")(last_layer)"
   ]
  },
  {
   "cell_type": "code",
   "execution_count": 10,
   "metadata": {
    "collapsed": true
   },
   "outputs": [],
   "source": [
    "covnet_mo = Model(input = input_1, output=[output1, output2, output3, output4, output5])"
   ]
  },
  {
   "cell_type": "code",
   "execution_count": 11,
   "metadata": {},
   "outputs": [
    {
     "name": "stdout",
     "output_type": "stream",
     "text": [
      "____________________________________________________________________________________________________\n",
      "Layer (type)                     Output Shape          Param #     Connected to                     \n",
      "====================================================================================================\n",
      "input_1 (InputLayer)             (None, 40, 50, 1)     0                                            \n",
      "____________________________________________________________________________________________________\n",
      "convolution2d_1 (Convolution2D)  (None, 40, 50, 40)    400         input_1[0][0]                    \n",
      "____________________________________________________________________________________________________\n",
      "convolution2d_2 (Convolution2D)  (None, 40, 50, 40)    14440       convolution2d_1[0][0]            \n",
      "____________________________________________________________________________________________________\n",
      "maxpooling2d_1 (MaxPooling2D)    (None, 20, 25, 40)    0           convolution2d_2[0][0]            \n",
      "____________________________________________________________________________________________________\n",
      "convolution2d_3 (Convolution2D)  (None, 20, 25, 64)    23104       maxpooling2d_1[0][0]             \n",
      "____________________________________________________________________________________________________\n",
      "convolution2d_4 (Convolution2D)  (None, 20, 25, 64)    36928       convolution2d_3[0][0]            \n",
      "____________________________________________________________________________________________________\n",
      "maxpooling2d_2 (MaxPooling2D)    (None, 10, 12, 64)    0           convolution2d_4[0][0]            \n",
      "____________________________________________________________________________________________________\n",
      "convolution2d_5 (Convolution2D)  (None, 10, 12, 128)   73856       maxpooling2d_2[0][0]             \n",
      "____________________________________________________________________________________________________\n",
      "convolution2d_6 (Convolution2D)  (None, 10, 12, 128)   147584      convolution2d_5[0][0]            \n",
      "____________________________________________________________________________________________________\n",
      "maxpooling2d_3 (MaxPooling2D)    (None, 5, 6, 128)     0           convolution2d_6[0][0]            \n",
      "____________________________________________________________________________________________________\n",
      "flatten_1 (Flatten)              (None, 3840)          0           maxpooling2d_3[0][0]             \n",
      "____________________________________________________________________________________________________\n",
      "dense_1 (Dense)                  (None, 256)           983296      flatten_1[0][0]                  \n",
      "____________________________________________________________________________________________________\n",
      "sigma (Dense)                    (None, 1)             257         dense_1[0][0]                    \n",
      "____________________________________________________________________________________________________\n",
      "mu (Dense)                       (None, 1)             257         dense_1[0][0]                    \n",
      "____________________________________________________________________________________________________\n",
      "jump_sigma (Dense)               (None, 1)             257         dense_1[0][0]                    \n",
      "____________________________________________________________________________________________________\n",
      "jump_mu (Dense)                  (None, 1)             257         dense_1[0][0]                    \n",
      "____________________________________________________________________________________________________\n",
      "lambda (Dense)                   (None, 1)             257         dense_1[0][0]                    \n",
      "====================================================================================================\n",
      "Total params: 1,280,893\n",
      "Trainable params: 1,280,893\n",
      "Non-trainable params: 0\n",
      "____________________________________________________________________________________________________\n"
     ]
    }
   ],
   "source": [
    "covnet_mo.compile('adam', 'mse', metrics=['accuracy', aape, r2])\n",
    "covnet_mo.summary()\n",
    "covnet_mo.load_weights(\"covnet_mo_running.h5\")"
   ]
  },
  {
   "cell_type": "code",
   "execution_count": 12,
   "metadata": {
    "collapsed": true
   },
   "outputs": [],
   "source": [
    "covnet_mo2_CallBack = keras.callbacks.TensorBoard(log_dir='./Cov_MO2', histogram_freq=0, write_graph=True, write_images=True)\n",
    "histories = []"
   ]
  },
  {
   "cell_type": "code",
   "execution_count": 13,
   "metadata": {},
   "outputs": [
    {
     "name": "stdout",
     "output_type": "stream",
     "text": [
      "WARNING:tensorflow:From /home/carnd/anaconda3/envs/carnd-term1/lib/python3.5/site-packages/keras/callbacks.py:618 in set_model.: merge_all_summaries (from tensorflow.python.ops.logging_ops) is deprecated and will be removed after 2016-11-30.\n",
      "Instructions for updating:\n",
      "Please switch to tf.summary.merge_all.\n",
      "Epoch 1/1\n",
      "100000/100000 [==============================] - 169s - loss: 0.0147 - sigma_loss: 1.1843e-04 - mu_loss: 0.0016 - jump_sigma_loss: 0.0106 - jump_mu_loss: 0.0023 - lambda_loss: 1.0873e-05 - sigma_acc: 0.0000e+00 - sigma_aape: 33.7381 - sigma_r2: 0.9352 - mu_acc: 0.0000e+00 - mu_aape: 42.4293 - mu_r2: 0.9951 - jump_sigma_acc: 0.0000e+00 - jump_sigma_aape: 45.9385 - jump_sigma_r2: 0.8714 - jump_mu_acc: 0.0000e+00 - jump_mu_aape: 256.8968 - jump_mu_r2: 0.2886 - lambda_acc: 0.0000e+00 - lambda_aape: 38.3348 - lambda_r2: 0.7821   \n",
      "WARNING:tensorflow:From /home/carnd/anaconda3/envs/carnd-term1/lib/python3.5/site-packages/keras/callbacks.py:618 in set_model.: merge_all_summaries (from tensorflow.python.ops.logging_ops) is deprecated and will be removed after 2016-11-30.\n",
      "Instructions for updating:\n",
      "Please switch to tf.summary.merge_all.\n",
      "Epoch 1/1\n",
      "100000/100000 [==============================] - 166s - loss: 0.0146 - sigma_loss: 1.0336e-04 - mu_loss: 0.0016 - jump_sigma_loss: 0.0106 - jump_mu_loss: 0.0023 - lambda_loss: 1.1053e-05 - sigma_acc: 0.0000e+00 - sigma_aape: 32.4706 - sigma_r2: 0.9430 - mu_acc: 0.0000e+00 - mu_aape: 64.6537 - mu_r2: 0.9953 - jump_sigma_acc: 0.0000e+00 - jump_sigma_aape: 53.0831 - jump_sigma_r2: 0.8695 - jump_mu_acc: 0.0000e+00 - jump_mu_aape: 202.1229 - jump_mu_r2: 0.2939 - lambda_acc: 0.0000e+00 - lambda_aape: 38.2176 - lambda_r2: 0.7773   \n",
      "WARNING:tensorflow:From /home/carnd/anaconda3/envs/carnd-term1/lib/python3.5/site-packages/keras/callbacks.py:618 in set_model.: merge_all_summaries (from tensorflow.python.ops.logging_ops) is deprecated and will be removed after 2016-11-30.\n",
      "Instructions for updating:\n",
      "Please switch to tf.summary.merge_all.\n",
      "Epoch 1/1\n",
      "100000/100000 [==============================] - 166s - loss: 0.0145 - sigma_loss: 9.9405e-05 - mu_loss: 0.0016 - jump_sigma_loss: 0.0105 - jump_mu_loss: 0.0023 - lambda_loss: 1.0891e-05 - sigma_acc: 0.0000e+00 - sigma_aape: 30.7260 - sigma_r2: 0.9458 - mu_acc: 0.0000e+00 - mu_aape: 28.6611 - mu_r2: 0.9952 - jump_sigma_acc: 0.0000e+00 - jump_sigma_aape: 49.7682 - jump_sigma_r2: 0.8708 - jump_mu_acc: 0.0000e+00 - jump_mu_aape: 497.4879 - jump_mu_r2: 0.2955 - lambda_acc: 0.0000e+00 - lambda_aape: 37.8094 - lambda_r2: 0.7817   \n",
      "WARNING:tensorflow:From /home/carnd/anaconda3/envs/carnd-term1/lib/python3.5/site-packages/keras/callbacks.py:618 in set_model.: merge_all_summaries (from tensorflow.python.ops.logging_ops) is deprecated and will be removed after 2016-11-30.\n",
      "Instructions for updating:\n",
      "Please switch to tf.summary.merge_all.\n",
      "Epoch 1/1\n",
      "100000/100000 [==============================] - 166s - loss: 0.0145 - sigma_loss: 1.0648e-04 - mu_loss: 0.0015 - jump_sigma_loss: 0.0106 - jump_mu_loss: 0.0023 - lambda_loss: 1.1049e-05 - sigma_acc: 0.0000e+00 - sigma_aape: 32.7798 - sigma_r2: 0.9419 - mu_acc: 0.0000e+00 - mu_aape: 33.0990 - mu_r2: 0.9954 - jump_sigma_acc: 0.0000e+00 - jump_sigma_aape: 40.7022 - jump_sigma_r2: 0.8702 - jump_mu_acc: 0.0000e+00 - jump_mu_aape: 210.3260 - jump_mu_r2: 0.2916 - lambda_acc: 0.0000e+00 - lambda_aape: 38.3263 - lambda_r2: 0.7814   \n",
      "WARNING:tensorflow:From /home/carnd/anaconda3/envs/carnd-term1/lib/python3.5/site-packages/keras/callbacks.py:618 in set_model.: merge_all_summaries (from tensorflow.python.ops.logging_ops) is deprecated and will be removed after 2016-11-30.\n",
      "Instructions for updating:\n",
      "Please switch to tf.summary.merge_all.\n",
      "Epoch 1/1\n",
      "  3400/100000 [>.............................] - ETA: 160s - loss: 0.0147 - sigma_loss: 7.3771e-05 - mu_loss: 0.0014 - jump_sigma_loss: 0.0109 - jump_mu_loss: 0.0023 - lambda_loss: 1.0691e-05 - sigma_acc: 0.0000e+00 - sigma_aape: 26.5558 - sigma_r2: 0.9597 - mu_acc: 0.0000e+00 - mu_aape: 21.3327 - mu_r2: 0.9957 - jump_sigma_acc: 0.0000e+00 - jump_sigma_aape: 40.0701 - jump_sigma_r2: 0.8608 - jump_mu_acc: 0.0000e+00 - jump_mu_aape: 176.8229 - jump_mu_r2: 0.2937 - lambda_acc: 0.0000e+00 - lambda_aape: 36.6630 - lambda_r2: 0.7842"
     ]
    },
    {
     "ename": "KeyboardInterrupt",
     "evalue": "",
     "output_type": "error",
     "traceback": [
      "\u001b[0;31m---------------------------------------------------------------------------\u001b[0m",
      "\u001b[0;31mKeyboardInterrupt\u001b[0m                         Traceback (most recent call last)",
      "\u001b[0;32m<ipython-input-13-dbc63555b59b>\u001b[0m in \u001b[0;36m<module>\u001b[0;34m()\u001b[0m\n\u001b[1;32m     10\u001b[0m     \u001b[0mlambdas\u001b[0m \u001b[0;34m=\u001b[0m \u001b[0mnp\u001b[0m\u001b[0;34m.\u001b[0m\u001b[0marray\u001b[0m\u001b[0;34m(\u001b[0m\u001b[0;34m[\u001b[0m\u001b[0;34m[\u001b[0m\u001b[0mmp\u001b[0m\u001b[0;34m.\u001b[0m\u001b[0mlamda\u001b[0m\u001b[0;34m]\u001b[0m \u001b[0;32mfor\u001b[0m \u001b[0mmp\u001b[0m \u001b[0;32min\u001b[0m \u001b[0mPARAMS_\u001b[0m\u001b[0;34m]\u001b[0m\u001b[0;34m)\u001b[0m\u001b[0;34m\u001b[0m\u001b[0m\n\u001b[1;32m     11\u001b[0m \u001b[0;34m\u001b[0m\u001b[0m\n\u001b[0;32m---> 12\u001b[0;31m     \u001b[0mhistory\u001b[0m \u001b[0;34m=\u001b[0m \u001b[0mcovnet_mo\u001b[0m\u001b[0;34m.\u001b[0m\u001b[0mfit\u001b[0m\u001b[0;34m(\u001b[0m\u001b[0mnp\u001b[0m\u001b[0;34m.\u001b[0m\u001b[0marray\u001b[0m\u001b[0;34m(\u001b[0m\u001b[0mtrain_data\u001b[0m\u001b[0;34m)\u001b[0m\u001b[0;34m,\u001b[0m \u001b[0;34m[\u001b[0m\u001b[0msigmas\u001b[0m\u001b[0;34m,\u001b[0m \u001b[0mmus\u001b[0m\u001b[0;34m,\u001b[0m \u001b[0mjump_sigmas\u001b[0m\u001b[0;34m,\u001b[0m \u001b[0mjump_mus\u001b[0m\u001b[0;34m,\u001b[0m \u001b[0mlambdas\u001b[0m\u001b[0;34m]\u001b[0m\u001b[0;34m,\u001b[0m \u001b[0mnb_epoch\u001b[0m\u001b[0;34m=\u001b[0m\u001b[0;36m1\u001b[0m\u001b[0;34m,\u001b[0m \u001b[0mbatch_size\u001b[0m\u001b[0;34m=\u001b[0m\u001b[0;36m100\u001b[0m\u001b[0;34m,\u001b[0m \u001b[0mcallbacks\u001b[0m\u001b[0;34m=\u001b[0m\u001b[0;34m[\u001b[0m\u001b[0mcovnet_mo2_CallBack\u001b[0m\u001b[0;34m]\u001b[0m\u001b[0;34m)\u001b[0m\u001b[0;34m\u001b[0m\u001b[0m\n\u001b[0m\u001b[1;32m     13\u001b[0m     \u001b[0mhistories\u001b[0m\u001b[0;34m.\u001b[0m\u001b[0mappend\u001b[0m\u001b[0;34m(\u001b[0m\u001b[0mhistory\u001b[0m\u001b[0;34m)\u001b[0m\u001b[0;34m\u001b[0m\u001b[0m\n\u001b[1;32m     14\u001b[0m     \u001b[0mcovnet_mo\u001b[0m\u001b[0;34m.\u001b[0m\u001b[0msave_weights\u001b[0m\u001b[0;34m(\u001b[0m\u001b[0;34m\"covnet_mo_running.h5\"\u001b[0m\u001b[0;34m)\u001b[0m\u001b[0;34m\u001b[0m\u001b[0m\n",
      "\u001b[0;32m/home/carnd/anaconda3/envs/carnd-term1/lib/python3.5/site-packages/keras/engine/training.py\u001b[0m in \u001b[0;36mfit\u001b[0;34m(self, x, y, batch_size, nb_epoch, verbose, callbacks, validation_split, validation_data, shuffle, class_weight, sample_weight, initial_epoch)\u001b[0m\n\u001b[1;32m   1190\u001b[0m                               \u001b[0mval_f\u001b[0m\u001b[0;34m=\u001b[0m\u001b[0mval_f\u001b[0m\u001b[0;34m,\u001b[0m \u001b[0mval_ins\u001b[0m\u001b[0;34m=\u001b[0m\u001b[0mval_ins\u001b[0m\u001b[0;34m,\u001b[0m \u001b[0mshuffle\u001b[0m\u001b[0;34m=\u001b[0m\u001b[0mshuffle\u001b[0m\u001b[0;34m,\u001b[0m\u001b[0;34m\u001b[0m\u001b[0m\n\u001b[1;32m   1191\u001b[0m                               \u001b[0mcallback_metrics\u001b[0m\u001b[0;34m=\u001b[0m\u001b[0mcallback_metrics\u001b[0m\u001b[0;34m,\u001b[0m\u001b[0;34m\u001b[0m\u001b[0m\n\u001b[0;32m-> 1192\u001b[0;31m                               initial_epoch=initial_epoch)\n\u001b[0m\u001b[1;32m   1193\u001b[0m \u001b[0;34m\u001b[0m\u001b[0m\n\u001b[1;32m   1194\u001b[0m     \u001b[0;32mdef\u001b[0m \u001b[0mevaluate\u001b[0m\u001b[0;34m(\u001b[0m\u001b[0mself\u001b[0m\u001b[0;34m,\u001b[0m \u001b[0mx\u001b[0m\u001b[0;34m,\u001b[0m \u001b[0my\u001b[0m\u001b[0;34m,\u001b[0m \u001b[0mbatch_size\u001b[0m\u001b[0;34m=\u001b[0m\u001b[0;36m32\u001b[0m\u001b[0;34m,\u001b[0m \u001b[0mverbose\u001b[0m\u001b[0;34m=\u001b[0m\u001b[0;36m1\u001b[0m\u001b[0;34m,\u001b[0m \u001b[0msample_weight\u001b[0m\u001b[0;34m=\u001b[0m\u001b[0;32mNone\u001b[0m\u001b[0;34m)\u001b[0m\u001b[0;34m:\u001b[0m\u001b[0;34m\u001b[0m\u001b[0m\n",
      "\u001b[0;32m/home/carnd/anaconda3/envs/carnd-term1/lib/python3.5/site-packages/keras/engine/training.py\u001b[0m in \u001b[0;36m_fit_loop\u001b[0;34m(self, f, ins, out_labels, batch_size, nb_epoch, verbose, callbacks, val_f, val_ins, shuffle, callback_metrics, initial_epoch)\u001b[0m\n\u001b[1;32m    890\u001b[0m                 \u001b[0mbatch_logs\u001b[0m\u001b[0;34m[\u001b[0m\u001b[0;34m'size'\u001b[0m\u001b[0;34m]\u001b[0m \u001b[0;34m=\u001b[0m \u001b[0mlen\u001b[0m\u001b[0;34m(\u001b[0m\u001b[0mbatch_ids\u001b[0m\u001b[0;34m)\u001b[0m\u001b[0;34m\u001b[0m\u001b[0m\n\u001b[1;32m    891\u001b[0m                 \u001b[0mcallbacks\u001b[0m\u001b[0;34m.\u001b[0m\u001b[0mon_batch_begin\u001b[0m\u001b[0;34m(\u001b[0m\u001b[0mbatch_index\u001b[0m\u001b[0;34m,\u001b[0m \u001b[0mbatch_logs\u001b[0m\u001b[0;34m)\u001b[0m\u001b[0;34m\u001b[0m\u001b[0m\n\u001b[0;32m--> 892\u001b[0;31m                 \u001b[0mouts\u001b[0m \u001b[0;34m=\u001b[0m \u001b[0mf\u001b[0m\u001b[0;34m(\u001b[0m\u001b[0mins_batch\u001b[0m\u001b[0;34m)\u001b[0m\u001b[0;34m\u001b[0m\u001b[0m\n\u001b[0m\u001b[1;32m    893\u001b[0m                 \u001b[0;32mif\u001b[0m \u001b[0;32mnot\u001b[0m \u001b[0misinstance\u001b[0m\u001b[0;34m(\u001b[0m\u001b[0mouts\u001b[0m\u001b[0;34m,\u001b[0m \u001b[0mlist\u001b[0m\u001b[0;34m)\u001b[0m\u001b[0;34m:\u001b[0m\u001b[0;34m\u001b[0m\u001b[0m\n\u001b[1;32m    894\u001b[0m                     \u001b[0mouts\u001b[0m \u001b[0;34m=\u001b[0m \u001b[0;34m[\u001b[0m\u001b[0mouts\u001b[0m\u001b[0;34m]\u001b[0m\u001b[0;34m\u001b[0m\u001b[0m\n",
      "\u001b[0;32m/home/carnd/anaconda3/envs/carnd-term1/lib/python3.5/site-packages/keras/backend/tensorflow_backend.py\u001b[0m in \u001b[0;36m__call__\u001b[0;34m(self, inputs)\u001b[0m\n\u001b[1;32m   1898\u001b[0m         \u001b[0msession\u001b[0m \u001b[0;34m=\u001b[0m \u001b[0mget_session\u001b[0m\u001b[0;34m(\u001b[0m\u001b[0;34m)\u001b[0m\u001b[0;34m\u001b[0m\u001b[0m\n\u001b[1;32m   1899\u001b[0m         updated = session.run(self.outputs + [self.updates_op],\n\u001b[0;32m-> 1900\u001b[0;31m                               feed_dict=feed_dict)\n\u001b[0m\u001b[1;32m   1901\u001b[0m         \u001b[0;32mreturn\u001b[0m \u001b[0mupdated\u001b[0m\u001b[0;34m[\u001b[0m\u001b[0;34m:\u001b[0m\u001b[0mlen\u001b[0m\u001b[0;34m(\u001b[0m\u001b[0mself\u001b[0m\u001b[0;34m.\u001b[0m\u001b[0moutputs\u001b[0m\u001b[0;34m)\u001b[0m\u001b[0;34m]\u001b[0m\u001b[0;34m\u001b[0m\u001b[0m\n\u001b[1;32m   1902\u001b[0m \u001b[0;34m\u001b[0m\u001b[0m\n",
      "\u001b[0;32m/home/carnd/anaconda3/envs/carnd-term1/lib/python3.5/site-packages/tensorflow/python/client/session.py\u001b[0m in \u001b[0;36mrun\u001b[0;34m(self, fetches, feed_dict, options, run_metadata)\u001b[0m\n\u001b[1;32m    764\u001b[0m     \u001b[0;32mtry\u001b[0m\u001b[0;34m:\u001b[0m\u001b[0;34m\u001b[0m\u001b[0m\n\u001b[1;32m    765\u001b[0m       result = self._run(None, fetches, feed_dict, options_ptr,\n\u001b[0;32m--> 766\u001b[0;31m                          run_metadata_ptr)\n\u001b[0m\u001b[1;32m    767\u001b[0m       \u001b[0;32mif\u001b[0m \u001b[0mrun_metadata\u001b[0m\u001b[0;34m:\u001b[0m\u001b[0;34m\u001b[0m\u001b[0m\n\u001b[1;32m    768\u001b[0m         \u001b[0mproto_data\u001b[0m \u001b[0;34m=\u001b[0m \u001b[0mtf_session\u001b[0m\u001b[0;34m.\u001b[0m\u001b[0mTF_GetBuffer\u001b[0m\u001b[0;34m(\u001b[0m\u001b[0mrun_metadata_ptr\u001b[0m\u001b[0;34m)\u001b[0m\u001b[0;34m\u001b[0m\u001b[0m\n",
      "\u001b[0;32m/home/carnd/anaconda3/envs/carnd-term1/lib/python3.5/site-packages/tensorflow/python/client/session.py\u001b[0m in \u001b[0;36m_run\u001b[0;34m(self, handle, fetches, feed_dict, options, run_metadata)\u001b[0m\n\u001b[1;32m    962\u001b[0m     \u001b[0;32mif\u001b[0m \u001b[0mfinal_fetches\u001b[0m \u001b[0;32mor\u001b[0m \u001b[0mfinal_targets\u001b[0m\u001b[0;34m:\u001b[0m\u001b[0;34m\u001b[0m\u001b[0m\n\u001b[1;32m    963\u001b[0m       results = self._do_run(handle, final_targets, final_fetches,\n\u001b[0;32m--> 964\u001b[0;31m                              feed_dict_string, options, run_metadata)\n\u001b[0m\u001b[1;32m    965\u001b[0m     \u001b[0;32melse\u001b[0m\u001b[0;34m:\u001b[0m\u001b[0;34m\u001b[0m\u001b[0m\n\u001b[1;32m    966\u001b[0m       \u001b[0mresults\u001b[0m \u001b[0;34m=\u001b[0m \u001b[0;34m[\u001b[0m\u001b[0;34m]\u001b[0m\u001b[0;34m\u001b[0m\u001b[0m\n",
      "\u001b[0;32m/home/carnd/anaconda3/envs/carnd-term1/lib/python3.5/site-packages/tensorflow/python/client/session.py\u001b[0m in \u001b[0;36m_do_run\u001b[0;34m(self, handle, target_list, fetch_list, feed_dict, options, run_metadata)\u001b[0m\n\u001b[1;32m   1012\u001b[0m     \u001b[0;32mif\u001b[0m \u001b[0mhandle\u001b[0m \u001b[0;32mis\u001b[0m \u001b[0;32mNone\u001b[0m\u001b[0;34m:\u001b[0m\u001b[0;34m\u001b[0m\u001b[0m\n\u001b[1;32m   1013\u001b[0m       return self._do_call(_run_fn, self._session, feed_dict, fetch_list,\n\u001b[0;32m-> 1014\u001b[0;31m                            target_list, options, run_metadata)\n\u001b[0m\u001b[1;32m   1015\u001b[0m     \u001b[0;32melse\u001b[0m\u001b[0;34m:\u001b[0m\u001b[0;34m\u001b[0m\u001b[0m\n\u001b[1;32m   1016\u001b[0m       return self._do_call(_prun_fn, self._session, handle, feed_dict,\n",
      "\u001b[0;32m/home/carnd/anaconda3/envs/carnd-term1/lib/python3.5/site-packages/tensorflow/python/client/session.py\u001b[0m in \u001b[0;36m_do_call\u001b[0;34m(self, fn, *args)\u001b[0m\n\u001b[1;32m   1019\u001b[0m   \u001b[0;32mdef\u001b[0m \u001b[0m_do_call\u001b[0m\u001b[0;34m(\u001b[0m\u001b[0mself\u001b[0m\u001b[0;34m,\u001b[0m \u001b[0mfn\u001b[0m\u001b[0;34m,\u001b[0m \u001b[0;34m*\u001b[0m\u001b[0margs\u001b[0m\u001b[0;34m)\u001b[0m\u001b[0;34m:\u001b[0m\u001b[0;34m\u001b[0m\u001b[0m\n\u001b[1;32m   1020\u001b[0m     \u001b[0;32mtry\u001b[0m\u001b[0;34m:\u001b[0m\u001b[0;34m\u001b[0m\u001b[0m\n\u001b[0;32m-> 1021\u001b[0;31m       \u001b[0;32mreturn\u001b[0m \u001b[0mfn\u001b[0m\u001b[0;34m(\u001b[0m\u001b[0;34m*\u001b[0m\u001b[0margs\u001b[0m\u001b[0;34m)\u001b[0m\u001b[0;34m\u001b[0m\u001b[0m\n\u001b[0m\u001b[1;32m   1022\u001b[0m     \u001b[0;32mexcept\u001b[0m \u001b[0merrors\u001b[0m\u001b[0;34m.\u001b[0m\u001b[0mOpError\u001b[0m \u001b[0;32mas\u001b[0m \u001b[0me\u001b[0m\u001b[0;34m:\u001b[0m\u001b[0;34m\u001b[0m\u001b[0m\n\u001b[1;32m   1023\u001b[0m       \u001b[0mmessage\u001b[0m \u001b[0;34m=\u001b[0m \u001b[0mcompat\u001b[0m\u001b[0;34m.\u001b[0m\u001b[0mas_text\u001b[0m\u001b[0;34m(\u001b[0m\u001b[0me\u001b[0m\u001b[0;34m.\u001b[0m\u001b[0mmessage\u001b[0m\u001b[0;34m)\u001b[0m\u001b[0;34m\u001b[0m\u001b[0m\n",
      "\u001b[0;32m/home/carnd/anaconda3/envs/carnd-term1/lib/python3.5/site-packages/tensorflow/python/client/session.py\u001b[0m in \u001b[0;36m_run_fn\u001b[0;34m(session, feed_dict, fetch_list, target_list, options, run_metadata)\u001b[0m\n\u001b[1;32m   1001\u001b[0m         return tf_session.TF_Run(session, options,\n\u001b[1;32m   1002\u001b[0m                                  \u001b[0mfeed_dict\u001b[0m\u001b[0;34m,\u001b[0m \u001b[0mfetch_list\u001b[0m\u001b[0;34m,\u001b[0m \u001b[0mtarget_list\u001b[0m\u001b[0;34m,\u001b[0m\u001b[0;34m\u001b[0m\u001b[0m\n\u001b[0;32m-> 1003\u001b[0;31m                                  status, run_metadata)\n\u001b[0m\u001b[1;32m   1004\u001b[0m \u001b[0;34m\u001b[0m\u001b[0m\n\u001b[1;32m   1005\u001b[0m     \u001b[0;32mdef\u001b[0m \u001b[0m_prun_fn\u001b[0m\u001b[0;34m(\u001b[0m\u001b[0msession\u001b[0m\u001b[0;34m,\u001b[0m \u001b[0mhandle\u001b[0m\u001b[0;34m,\u001b[0m \u001b[0mfeed_dict\u001b[0m\u001b[0;34m,\u001b[0m \u001b[0mfetch_list\u001b[0m\u001b[0;34m)\u001b[0m\u001b[0;34m:\u001b[0m\u001b[0;34m\u001b[0m\u001b[0m\n",
      "\u001b[0;31mKeyboardInterrupt\u001b[0m: "
     ]
    }
   ],
   "source": [
    "for i in range(150):\n",
    "    RETURNS_ = np.load(\"MertonReturns_2000_\"+str(7-i%8)+\".npy\")\n",
    "    PARAMS_ = np.load(\"ModelParameters_2000_\"+str(7-i%8)+\".npy\")\n",
    "    train_data = np.reshape(np.array(RETURNS_), (100000, 40, 50, 1))\n",
    "    \n",
    "    sigmas = np.array([[mp.all_sigma] for mp in PARAMS_])\n",
    "    mus = np.array([[mp.gbm_mu] for mp in PARAMS_])\n",
    "    jump_sigmas = np.array([[mp.jumps_sigma] for mp in PARAMS_])\n",
    "    jump_mus = np.array([[mp.jumps_mu] for mp in PARAMS_])\n",
    "    lambdas = np.array([[mp.lamda] for mp in PARAMS_])\n",
    "\n",
    "    history = covnet_mo.fit(np.array(train_data), [sigmas, mus, jump_sigmas, jump_mus, lambdas], nb_epoch=1, batch_size=100, callbacks=[covnet_mo2_CallBack])\n",
    "    histories.append(history)\n",
    "    covnet_mo.save_weights(\"covnet_mo_running.h5\")"
   ]
  },
  {
   "cell_type": "markdown",
   "metadata": {},
   "source": [
    "# Covnet Multiple Output 3"
   ]
  },
  {
   "cell_type": "code",
   "execution_count": 11,
   "metadata": {
    "collapsed": true
   },
   "outputs": [],
   "source": [
    "\n",
    "from keras.layers import Input\n",
    "from keras.models import Model"
   ]
  },
  {
   "cell_type": "code",
   "execution_count": 17,
   "metadata": {
    "collapsed": true
   },
   "outputs": [],
   "source": [
    "input_1 = Input(shape = (40, 50, 1))\n",
    "\n",
    "layer1 = Convolution2D(40, 3, 3, border_mode='same', activation='relu', name=\"conv_1\")(input_1)\n",
    "layer2 = Convolution2D(40, 3, 3, activation='relu', border_mode='same', name=\"conv_2\")(layer1)\n",
    "layer3 = MaxPooling2D(pool_size=(2,2), name=\"pool_3\")(layer2)\n",
    "\n",
    "layer4 = Convolution2D(64, 3, 3, border_mode='same', activation='relu', name=\"conv_4\")(layer3)\n",
    "layer5 = Convolution2D(64, 3, 3, activation='relu', border_mode='same', name=\"conv_5\")(layer4)\n",
    "layer6 = MaxPooling2D(pool_size=(2,2), name=\"pool_6\")(layer5)\n",
    "\n",
    "layer7 = Convolution2D(128, 3, 3, border_mode='same', activation='relu', name=\"conv_7\")(layer6)\n",
    "layer8 = Convolution2D(128, 3, 3, activation='relu', border_mode='same', name=\"conv_8\")(layer7)\n",
    "layer9 = MaxPooling2D(pool_size=(2,2), name=\"pool_9\")(layer8)\n",
    "\n",
    "flatten = Flatten()(layer9)\n",
    "reshaped = Reshape(target_shape = (3840, 1))(flatten)\n",
    "lstm = LSTM(64, name=\"LSTM_10\")(reshaped)\n",
    "last_layer = Dense(256, activation='relu', name=\"Dense_11\")(lstm)\n",
    "output1 = Dense(1, name=\"sigma\")(last_layer)\n",
    "output2 = Dense(1, name=\"mu\")(last_layer)\n",
    "output3 = Dense(1, name=\"jump_sigma\")(last_layer)\n",
    "output4 = Dense(1, name=\"jump_mu\")(last_layer)\n",
    "output5 = Dense(1, name=\"lambda\")(last_layer)"
   ]
  },
  {
   "cell_type": "code",
   "execution_count": 18,
   "metadata": {
    "collapsed": true
   },
   "outputs": [],
   "source": [
    "covnet_mo = Model(input = input_1, output=[output1, output2, output3, output4, output5])"
   ]
  },
  {
   "cell_type": "code",
   "execution_count": 19,
   "metadata": {},
   "outputs": [
    {
     "name": "stdout",
     "output_type": "stream",
     "text": [
      "____________________________________________________________________________________________________\n",
      "Layer (type)                     Output Shape          Param #     Connected to                     \n",
      "====================================================================================================\n",
      "input_3 (InputLayer)             (None, 40, 50, 1)     0                                            \n",
      "____________________________________________________________________________________________________\n",
      "conv_1 (Convolution2D)           (None, 40, 50, 40)    400         input_3[0][0]                    \n",
      "____________________________________________________________________________________________________\n",
      "conv_2 (Convolution2D)           (None, 40, 50, 40)    14440       conv_1[0][0]                     \n",
      "____________________________________________________________________________________________________\n",
      "pool_3 (MaxPooling2D)            (None, 20, 25, 40)    0           conv_2[0][0]                     \n",
      "____________________________________________________________________________________________________\n",
      "conv_4 (Convolution2D)           (None, 20, 25, 64)    23104       pool_3[0][0]                     \n",
      "____________________________________________________________________________________________________\n",
      "conv_5 (Convolution2D)           (None, 20, 25, 64)    36928       conv_4[0][0]                     \n",
      "____________________________________________________________________________________________________\n",
      "pool_6 (MaxPooling2D)            (None, 10, 12, 64)    0           conv_5[0][0]                     \n",
      "____________________________________________________________________________________________________\n",
      "conv_7 (Convolution2D)           (None, 10, 12, 128)   73856       pool_6[0][0]                     \n",
      "____________________________________________________________________________________________________\n",
      "conv_8 (Convolution2D)           (None, 10, 12, 128)   147584      conv_7[0][0]                     \n",
      "____________________________________________________________________________________________________\n",
      "pool_9 (MaxPooling2D)            (None, 5, 6, 128)     0           conv_8[0][0]                     \n",
      "____________________________________________________________________________________________________\n",
      "flatten_3 (Flatten)              (None, 3840)          0           pool_9[0][0]                     \n",
      "____________________________________________________________________________________________________\n",
      "reshape_3 (Reshape)              (None, 3840, 1)       0           flatten_3[0][0]                  \n",
      "____________________________________________________________________________________________________\n",
      "LSTM_10 (LSTM)                   (None, 64)            16896       reshape_3[0][0]                  \n",
      "____________________________________________________________________________________________________\n",
      "Dense_11 (Dense)                 (None, 256)           16640       LSTM_10[0][0]                    \n",
      "____________________________________________________________________________________________________\n",
      "sigma (Dense)                    (None, 1)             257         Dense_11[0][0]                   \n",
      "____________________________________________________________________________________________________\n",
      "mu (Dense)                       (None, 1)             257         Dense_11[0][0]                   \n",
      "____________________________________________________________________________________________________\n",
      "jump_sigma (Dense)               (None, 1)             257         Dense_11[0][0]                   \n",
      "____________________________________________________________________________________________________\n",
      "jump_mu (Dense)                  (None, 1)             257         Dense_11[0][0]                   \n",
      "____________________________________________________________________________________________________\n",
      "lambda (Dense)                   (None, 1)             257         Dense_11[0][0]                   \n",
      "====================================================================================================\n",
      "Total params: 331,133\n",
      "Trainable params: 331,133\n",
      "Non-trainable params: 0\n",
      "____________________________________________________________________________________________________\n"
     ]
    }
   ],
   "source": [
    "covnet_mo.compile('adam', 'mse', metrics=['accuracy', aape, r2])\n",
    "covnet_mo.summary()\n",
    "#covnet_mo.load_weights(\"covnet_mo_running.h5\")"
   ]
  },
  {
   "cell_type": "code",
   "execution_count": 20,
   "metadata": {
    "collapsed": true
   },
   "outputs": [],
   "source": [
    "covnet_mo3_CallBack = keras.callbacks.TensorBoard(log_dir='./Cov_MO3', histogram_freq=0, write_graph=True, write_images=True)\n",
    "histories = []"
   ]
  },
  {
   "cell_type": "code",
   "execution_count": 21,
   "metadata": {},
   "outputs": [
    {
     "name": "stdout",
     "output_type": "stream",
     "text": [
      "WARNING:tensorflow:From /home/carnd/anaconda3/envs/carnd-term1/lib/python3.5/site-packages/keras/callbacks.py:618 in set_model.: merge_all_summaries (from tensorflow.python.ops.logging_ops) is deprecated and will be removed after 2016-11-30.\n",
      "Instructions for updating:\n",
      "Please switch to tf.summary.merge_all.\n",
      "Epoch 1/1\n",
      "   200/100000 [..............................] - ETA: 8778s - loss: 0.6732 - sigma_loss: 0.0068 - mu_loss: 0.3415 - jump_sigma_loss: 0.3211 - jump_mu_loss: 0.0037 - lambda_loss: 2.1094e-04 - sigma_acc: 0.0000e+00 - sigma_aape: 94.3559 - sigma_r2: -2.2501 - mu_acc: 0.0000e+00 - mu_aape: 103.1396 - mu_r2: -0.0133 - jump_sigma_acc: 0.0000e+00 - jump_sigma_aape: 96.0866 - jump_sigma_r2: -2.3604 - jump_mu_acc: 0.0000e+00 - jump_mu_aape: 100.2587 - jump_mu_r2: -0.0079 - lambda_acc: 0.0000e+00 - lambda_aape: 101.4137 - lambda_r2: -3.8259"
     ]
    },
    {
     "ename": "KeyboardInterrupt",
     "evalue": "",
     "output_type": "error",
     "traceback": [
      "\u001b[0;31m---------------------------------------------------------------------------\u001b[0m",
      "\u001b[0;31mKeyboardInterrupt\u001b[0m                         Traceback (most recent call last)",
      "\u001b[0;32m<ipython-input-21-24376158c8f0>\u001b[0m in \u001b[0;36m<module>\u001b[0;34m()\u001b[0m\n\u001b[1;32m     10\u001b[0m     \u001b[0mlambdas\u001b[0m \u001b[0;34m=\u001b[0m \u001b[0mnp\u001b[0m\u001b[0;34m.\u001b[0m\u001b[0marray\u001b[0m\u001b[0;34m(\u001b[0m\u001b[0;34m[\u001b[0m\u001b[0;34m[\u001b[0m\u001b[0mmp\u001b[0m\u001b[0;34m.\u001b[0m\u001b[0mlamda\u001b[0m\u001b[0;34m]\u001b[0m \u001b[0;32mfor\u001b[0m \u001b[0mmp\u001b[0m \u001b[0;32min\u001b[0m \u001b[0mPARAMS_\u001b[0m\u001b[0;34m]\u001b[0m\u001b[0;34m)\u001b[0m\u001b[0;34m\u001b[0m\u001b[0m\n\u001b[1;32m     11\u001b[0m \u001b[0;34m\u001b[0m\u001b[0m\n\u001b[0;32m---> 12\u001b[0;31m     \u001b[0mhistory\u001b[0m \u001b[0;34m=\u001b[0m \u001b[0mcovnet_mo\u001b[0m\u001b[0;34m.\u001b[0m\u001b[0mfit\u001b[0m\u001b[0;34m(\u001b[0m\u001b[0mnp\u001b[0m\u001b[0;34m.\u001b[0m\u001b[0marray\u001b[0m\u001b[0;34m(\u001b[0m\u001b[0mtrain_data\u001b[0m\u001b[0;34m)\u001b[0m\u001b[0;34m,\u001b[0m \u001b[0;34m[\u001b[0m\u001b[0msigmas\u001b[0m\u001b[0;34m,\u001b[0m \u001b[0mmus\u001b[0m\u001b[0;34m,\u001b[0m \u001b[0mjump_sigmas\u001b[0m\u001b[0;34m,\u001b[0m \u001b[0mjump_mus\u001b[0m\u001b[0;34m,\u001b[0m \u001b[0mlambdas\u001b[0m\u001b[0;34m]\u001b[0m\u001b[0;34m,\u001b[0m \u001b[0mnb_epoch\u001b[0m\u001b[0;34m=\u001b[0m\u001b[0;36m1\u001b[0m\u001b[0;34m,\u001b[0m \u001b[0mbatch_size\u001b[0m\u001b[0;34m=\u001b[0m\u001b[0;36m100\u001b[0m\u001b[0;34m,\u001b[0m \u001b[0mcallbacks\u001b[0m\u001b[0;34m=\u001b[0m\u001b[0;34m[\u001b[0m\u001b[0mcovnet_mo3_CallBack\u001b[0m\u001b[0;34m]\u001b[0m\u001b[0;34m)\u001b[0m\u001b[0;34m\u001b[0m\u001b[0m\n\u001b[0m\u001b[1;32m     13\u001b[0m     \u001b[0mhistories\u001b[0m\u001b[0;34m.\u001b[0m\u001b[0mappend\u001b[0m\u001b[0;34m(\u001b[0m\u001b[0mhistory\u001b[0m\u001b[0;34m)\u001b[0m\u001b[0;34m\u001b[0m\u001b[0m\n\u001b[1;32m     14\u001b[0m     \u001b[0mcovnet_mo\u001b[0m\u001b[0;34m.\u001b[0m\u001b[0msave_weights\u001b[0m\u001b[0;34m(\u001b[0m\u001b[0;34m\"covnet_mo3_running.h5\"\u001b[0m\u001b[0;34m)\u001b[0m\u001b[0;34m\u001b[0m\u001b[0m\n",
      "\u001b[0;32m/home/carnd/anaconda3/envs/carnd-term1/lib/python3.5/site-packages/keras/engine/training.py\u001b[0m in \u001b[0;36mfit\u001b[0;34m(self, x, y, batch_size, nb_epoch, verbose, callbacks, validation_split, validation_data, shuffle, class_weight, sample_weight, initial_epoch)\u001b[0m\n\u001b[1;32m   1190\u001b[0m                               \u001b[0mval_f\u001b[0m\u001b[0;34m=\u001b[0m\u001b[0mval_f\u001b[0m\u001b[0;34m,\u001b[0m \u001b[0mval_ins\u001b[0m\u001b[0;34m=\u001b[0m\u001b[0mval_ins\u001b[0m\u001b[0;34m,\u001b[0m \u001b[0mshuffle\u001b[0m\u001b[0;34m=\u001b[0m\u001b[0mshuffle\u001b[0m\u001b[0;34m,\u001b[0m\u001b[0;34m\u001b[0m\u001b[0m\n\u001b[1;32m   1191\u001b[0m                               \u001b[0mcallback_metrics\u001b[0m\u001b[0;34m=\u001b[0m\u001b[0mcallback_metrics\u001b[0m\u001b[0;34m,\u001b[0m\u001b[0;34m\u001b[0m\u001b[0m\n\u001b[0;32m-> 1192\u001b[0;31m                               initial_epoch=initial_epoch)\n\u001b[0m\u001b[1;32m   1193\u001b[0m \u001b[0;34m\u001b[0m\u001b[0m\n\u001b[1;32m   1194\u001b[0m     \u001b[0;32mdef\u001b[0m \u001b[0mevaluate\u001b[0m\u001b[0;34m(\u001b[0m\u001b[0mself\u001b[0m\u001b[0;34m,\u001b[0m \u001b[0mx\u001b[0m\u001b[0;34m,\u001b[0m \u001b[0my\u001b[0m\u001b[0;34m,\u001b[0m \u001b[0mbatch_size\u001b[0m\u001b[0;34m=\u001b[0m\u001b[0;36m32\u001b[0m\u001b[0;34m,\u001b[0m \u001b[0mverbose\u001b[0m\u001b[0;34m=\u001b[0m\u001b[0;36m1\u001b[0m\u001b[0;34m,\u001b[0m \u001b[0msample_weight\u001b[0m\u001b[0;34m=\u001b[0m\u001b[0;32mNone\u001b[0m\u001b[0;34m)\u001b[0m\u001b[0;34m:\u001b[0m\u001b[0;34m\u001b[0m\u001b[0m\n",
      "\u001b[0;32m/home/carnd/anaconda3/envs/carnd-term1/lib/python3.5/site-packages/keras/engine/training.py\u001b[0m in \u001b[0;36m_fit_loop\u001b[0;34m(self, f, ins, out_labels, batch_size, nb_epoch, verbose, callbacks, val_f, val_ins, shuffle, callback_metrics, initial_epoch)\u001b[0m\n\u001b[1;32m    890\u001b[0m                 \u001b[0mbatch_logs\u001b[0m\u001b[0;34m[\u001b[0m\u001b[0;34m'size'\u001b[0m\u001b[0;34m]\u001b[0m \u001b[0;34m=\u001b[0m \u001b[0mlen\u001b[0m\u001b[0;34m(\u001b[0m\u001b[0mbatch_ids\u001b[0m\u001b[0;34m)\u001b[0m\u001b[0;34m\u001b[0m\u001b[0m\n\u001b[1;32m    891\u001b[0m                 \u001b[0mcallbacks\u001b[0m\u001b[0;34m.\u001b[0m\u001b[0mon_batch_begin\u001b[0m\u001b[0;34m(\u001b[0m\u001b[0mbatch_index\u001b[0m\u001b[0;34m,\u001b[0m \u001b[0mbatch_logs\u001b[0m\u001b[0;34m)\u001b[0m\u001b[0;34m\u001b[0m\u001b[0m\n\u001b[0;32m--> 892\u001b[0;31m                 \u001b[0mouts\u001b[0m \u001b[0;34m=\u001b[0m \u001b[0mf\u001b[0m\u001b[0;34m(\u001b[0m\u001b[0mins_batch\u001b[0m\u001b[0;34m)\u001b[0m\u001b[0;34m\u001b[0m\u001b[0m\n\u001b[0m\u001b[1;32m    893\u001b[0m                 \u001b[0;32mif\u001b[0m \u001b[0;32mnot\u001b[0m \u001b[0misinstance\u001b[0m\u001b[0;34m(\u001b[0m\u001b[0mouts\u001b[0m\u001b[0;34m,\u001b[0m \u001b[0mlist\u001b[0m\u001b[0;34m)\u001b[0m\u001b[0;34m:\u001b[0m\u001b[0;34m\u001b[0m\u001b[0m\n\u001b[1;32m    894\u001b[0m                     \u001b[0mouts\u001b[0m \u001b[0;34m=\u001b[0m \u001b[0;34m[\u001b[0m\u001b[0mouts\u001b[0m\u001b[0;34m]\u001b[0m\u001b[0;34m\u001b[0m\u001b[0m\n",
      "\u001b[0;32m/home/carnd/anaconda3/envs/carnd-term1/lib/python3.5/site-packages/keras/backend/tensorflow_backend.py\u001b[0m in \u001b[0;36m__call__\u001b[0;34m(self, inputs)\u001b[0m\n\u001b[1;32m   1898\u001b[0m         \u001b[0msession\u001b[0m \u001b[0;34m=\u001b[0m \u001b[0mget_session\u001b[0m\u001b[0;34m(\u001b[0m\u001b[0;34m)\u001b[0m\u001b[0;34m\u001b[0m\u001b[0m\n\u001b[1;32m   1899\u001b[0m         updated = session.run(self.outputs + [self.updates_op],\n\u001b[0;32m-> 1900\u001b[0;31m                               feed_dict=feed_dict)\n\u001b[0m\u001b[1;32m   1901\u001b[0m         \u001b[0;32mreturn\u001b[0m \u001b[0mupdated\u001b[0m\u001b[0;34m[\u001b[0m\u001b[0;34m:\u001b[0m\u001b[0mlen\u001b[0m\u001b[0;34m(\u001b[0m\u001b[0mself\u001b[0m\u001b[0;34m.\u001b[0m\u001b[0moutputs\u001b[0m\u001b[0;34m)\u001b[0m\u001b[0;34m]\u001b[0m\u001b[0;34m\u001b[0m\u001b[0m\n\u001b[1;32m   1902\u001b[0m \u001b[0;34m\u001b[0m\u001b[0m\n",
      "\u001b[0;32m/home/carnd/anaconda3/envs/carnd-term1/lib/python3.5/site-packages/tensorflow/python/client/session.py\u001b[0m in \u001b[0;36mrun\u001b[0;34m(self, fetches, feed_dict, options, run_metadata)\u001b[0m\n\u001b[1;32m    764\u001b[0m     \u001b[0;32mtry\u001b[0m\u001b[0;34m:\u001b[0m\u001b[0;34m\u001b[0m\u001b[0m\n\u001b[1;32m    765\u001b[0m       result = self._run(None, fetches, feed_dict, options_ptr,\n\u001b[0;32m--> 766\u001b[0;31m                          run_metadata_ptr)\n\u001b[0m\u001b[1;32m    767\u001b[0m       \u001b[0;32mif\u001b[0m \u001b[0mrun_metadata\u001b[0m\u001b[0;34m:\u001b[0m\u001b[0;34m\u001b[0m\u001b[0m\n\u001b[1;32m    768\u001b[0m         \u001b[0mproto_data\u001b[0m \u001b[0;34m=\u001b[0m \u001b[0mtf_session\u001b[0m\u001b[0;34m.\u001b[0m\u001b[0mTF_GetBuffer\u001b[0m\u001b[0;34m(\u001b[0m\u001b[0mrun_metadata_ptr\u001b[0m\u001b[0;34m)\u001b[0m\u001b[0;34m\u001b[0m\u001b[0m\n",
      "\u001b[0;32m/home/carnd/anaconda3/envs/carnd-term1/lib/python3.5/site-packages/tensorflow/python/client/session.py\u001b[0m in \u001b[0;36m_run\u001b[0;34m(self, handle, fetches, feed_dict, options, run_metadata)\u001b[0m\n\u001b[1;32m    962\u001b[0m     \u001b[0;32mif\u001b[0m \u001b[0mfinal_fetches\u001b[0m \u001b[0;32mor\u001b[0m \u001b[0mfinal_targets\u001b[0m\u001b[0;34m:\u001b[0m\u001b[0;34m\u001b[0m\u001b[0m\n\u001b[1;32m    963\u001b[0m       results = self._do_run(handle, final_targets, final_fetches,\n\u001b[0;32m--> 964\u001b[0;31m                              feed_dict_string, options, run_metadata)\n\u001b[0m\u001b[1;32m    965\u001b[0m     \u001b[0;32melse\u001b[0m\u001b[0;34m:\u001b[0m\u001b[0;34m\u001b[0m\u001b[0m\n\u001b[1;32m    966\u001b[0m       \u001b[0mresults\u001b[0m \u001b[0;34m=\u001b[0m \u001b[0;34m[\u001b[0m\u001b[0;34m]\u001b[0m\u001b[0;34m\u001b[0m\u001b[0m\n",
      "\u001b[0;32m/home/carnd/anaconda3/envs/carnd-term1/lib/python3.5/site-packages/tensorflow/python/client/session.py\u001b[0m in \u001b[0;36m_do_run\u001b[0;34m(self, handle, target_list, fetch_list, feed_dict, options, run_metadata)\u001b[0m\n\u001b[1;32m   1012\u001b[0m     \u001b[0;32mif\u001b[0m \u001b[0mhandle\u001b[0m \u001b[0;32mis\u001b[0m \u001b[0;32mNone\u001b[0m\u001b[0;34m:\u001b[0m\u001b[0;34m\u001b[0m\u001b[0m\n\u001b[1;32m   1013\u001b[0m       return self._do_call(_run_fn, self._session, feed_dict, fetch_list,\n\u001b[0;32m-> 1014\u001b[0;31m                            target_list, options, run_metadata)\n\u001b[0m\u001b[1;32m   1015\u001b[0m     \u001b[0;32melse\u001b[0m\u001b[0;34m:\u001b[0m\u001b[0;34m\u001b[0m\u001b[0m\n\u001b[1;32m   1016\u001b[0m       return self._do_call(_prun_fn, self._session, handle, feed_dict,\n",
      "\u001b[0;32m/home/carnd/anaconda3/envs/carnd-term1/lib/python3.5/site-packages/tensorflow/python/client/session.py\u001b[0m in \u001b[0;36m_do_call\u001b[0;34m(self, fn, *args)\u001b[0m\n\u001b[1;32m   1019\u001b[0m   \u001b[0;32mdef\u001b[0m \u001b[0m_do_call\u001b[0m\u001b[0;34m(\u001b[0m\u001b[0mself\u001b[0m\u001b[0;34m,\u001b[0m \u001b[0mfn\u001b[0m\u001b[0;34m,\u001b[0m \u001b[0;34m*\u001b[0m\u001b[0margs\u001b[0m\u001b[0;34m)\u001b[0m\u001b[0;34m:\u001b[0m\u001b[0;34m\u001b[0m\u001b[0m\n\u001b[1;32m   1020\u001b[0m     \u001b[0;32mtry\u001b[0m\u001b[0;34m:\u001b[0m\u001b[0;34m\u001b[0m\u001b[0m\n\u001b[0;32m-> 1021\u001b[0;31m       \u001b[0;32mreturn\u001b[0m \u001b[0mfn\u001b[0m\u001b[0;34m(\u001b[0m\u001b[0;34m*\u001b[0m\u001b[0margs\u001b[0m\u001b[0;34m)\u001b[0m\u001b[0;34m\u001b[0m\u001b[0m\n\u001b[0m\u001b[1;32m   1022\u001b[0m     \u001b[0;32mexcept\u001b[0m \u001b[0merrors\u001b[0m\u001b[0;34m.\u001b[0m\u001b[0mOpError\u001b[0m \u001b[0;32mas\u001b[0m \u001b[0me\u001b[0m\u001b[0;34m:\u001b[0m\u001b[0;34m\u001b[0m\u001b[0m\n\u001b[1;32m   1023\u001b[0m       \u001b[0mmessage\u001b[0m \u001b[0;34m=\u001b[0m \u001b[0mcompat\u001b[0m\u001b[0;34m.\u001b[0m\u001b[0mas_text\u001b[0m\u001b[0;34m(\u001b[0m\u001b[0me\u001b[0m\u001b[0;34m.\u001b[0m\u001b[0mmessage\u001b[0m\u001b[0;34m)\u001b[0m\u001b[0;34m\u001b[0m\u001b[0m\n",
      "\u001b[0;32m/home/carnd/anaconda3/envs/carnd-term1/lib/python3.5/site-packages/tensorflow/python/client/session.py\u001b[0m in \u001b[0;36m_run_fn\u001b[0;34m(session, feed_dict, fetch_list, target_list, options, run_metadata)\u001b[0m\n\u001b[1;32m   1001\u001b[0m         return tf_session.TF_Run(session, options,\n\u001b[1;32m   1002\u001b[0m                                  \u001b[0mfeed_dict\u001b[0m\u001b[0;34m,\u001b[0m \u001b[0mfetch_list\u001b[0m\u001b[0;34m,\u001b[0m \u001b[0mtarget_list\u001b[0m\u001b[0;34m,\u001b[0m\u001b[0;34m\u001b[0m\u001b[0m\n\u001b[0;32m-> 1003\u001b[0;31m                                  status, run_metadata)\n\u001b[0m\u001b[1;32m   1004\u001b[0m \u001b[0;34m\u001b[0m\u001b[0m\n\u001b[1;32m   1005\u001b[0m     \u001b[0;32mdef\u001b[0m \u001b[0m_prun_fn\u001b[0m\u001b[0;34m(\u001b[0m\u001b[0msession\u001b[0m\u001b[0;34m,\u001b[0m \u001b[0mhandle\u001b[0m\u001b[0;34m,\u001b[0m \u001b[0mfeed_dict\u001b[0m\u001b[0;34m,\u001b[0m \u001b[0mfetch_list\u001b[0m\u001b[0;34m)\u001b[0m\u001b[0;34m:\u001b[0m\u001b[0;34m\u001b[0m\u001b[0m\n",
      "\u001b[0;31mKeyboardInterrupt\u001b[0m: "
     ]
    }
   ],
   "source": [
    "for i in range(150):\n",
    "    RETURNS_ = np.load(\"MertonReturns_2000_\"+str(7-i%8)+\".npy\")\n",
    "    PARAMS_ = np.load(\"ModelParameters_2000_\"+str(7-i%8)+\".npy\")\n",
    "    train_data = np.reshape(np.array(RETURNS_), (100000, 40, 50, 1))\n",
    "    \n",
    "    sigmas = np.array([[mp.all_sigma] for mp in PARAMS_])\n",
    "    mus = np.array([[mp.gbm_mu] for mp in PARAMS_])\n",
    "    jump_sigmas = np.array([[mp.jumps_sigma] for mp in PARAMS_])\n",
    "    jump_mus = np.array([[mp.jumps_mu] for mp in PARAMS_])\n",
    "    lambdas = np.array([[mp.lamda] for mp in PARAMS_])\n",
    "\n",
    "    history = covnet_mo.fit(np.array(train_data), [sigmas, mus, jump_sigmas, jump_mus, lambdas], nb_epoch=1, batch_size=100, callbacks=[covnet_mo3_CallBack])\n",
    "    histories.append(history)\n",
    "    covnet_mo.save_weights(\"covnet_mo3_running.h5\")"
   ]
  },
  {
   "cell_type": "code",
   "execution_count": null,
   "metadata": {
    "collapsed": true
   },
   "outputs": [],
   "source": []
  }
 ],
 "metadata": {
  "anaconda-cloud": {},
  "kernelspec": {
   "display_name": "Python 3",
   "language": "python",
   "name": "python3"
  },
  "language_info": {
   "codemirror_mode": {
    "name": "ipython",
    "version": 3
   },
   "file_extension": ".py",
   "mimetype": "text/x-python",
   "name": "python",
   "nbconvert_exporter": "python",
   "pygments_lexer": "ipython3",
   "version": "3.5.3"
  },
  "nbpresent": {
   "slides": {
    "9df90948-6817-4be2-9c21-0f8c1bd3f925": {
     "id": "9df90948-6817-4be2-9c21-0f8c1bd3f925",
     "layout": "grid",
     "prev": null,
     "regions": {
      "6ed85853-99d7-4f9d-a56e-06a7bd54a954": {
       "attrs": {
        "height": 0.3333333333333333,
        "pad": 0.01,
        "treemap:weight": 1,
        "width": 1,
        "x": 0,
        "y": 0.6666666666666666
       },
       "content": {
        "cell": "af8000f3-742a-4a82-ba61-f46e4ca45edc",
        "part": "source"
       },
       "id": "6ed85853-99d7-4f9d-a56e-06a7bd54a954"
      },
      "fe19646f-ac4b-45b8-98f8-534ca6297f01": {
       "attrs": {
        "height": 0.6666666666666666,
        "pad": 0.01,
        "treemap:weight": 1,
        "width": 1,
        "x": 0,
        "y": 0
       },
       "content": {
        "cell": "3ff38326-7cf8-4796-a6fd-f05827ad612d",
        "part": "source"
       },
       "id": "fe19646f-ac4b-45b8-98f8-534ca6297f01"
      }
     },
     "theme": null
    }
   },
   "themes": {}
  }
 },
 "nbformat": 4,
 "nbformat_minor": 1
}
