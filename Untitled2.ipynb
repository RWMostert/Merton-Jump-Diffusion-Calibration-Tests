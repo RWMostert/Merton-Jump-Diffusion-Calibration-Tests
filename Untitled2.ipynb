{
 "cells": [
  {
   "cell_type": "code",
   "execution_count": 1,
   "metadata": {},
   "outputs": [
    {
     "name": "stdout",
     "output_type": "stream",
     "text": [
      "Initialized empty Git repository in /output/.git/\n",
      "Fetching origin\n",
      "remote: Counting objects: 2023, done.\u001b[K\n",
      "remote: Compressing objects: 100% (9/9), done.\u001b[K\n",
      "remote: Total 2023 (delta 2), reused 1 (delta 0), pack-reused 2014\u001b[K\n",
      "Receiving objects: 100% (2023/2023), 2.44 GiB | 42.92 MiB/s, done.\n",
      "Resolving deltas: 100% (1389/1389), done.\n",
      "From https://github.com/RWMostert/Merton-Jump-Diffusion-Calibration-Tests\n",
      " * [new branch]      master     -> origin/master\n",
      "error: The following untracked working tree files would be overwritten by checkout:\n",
      "\t.ipynb_checkpoints/Untitled-checkpoint.ipynb\n",
      "Please move or remove them before you can switch branches.\n",
      "Aborting\n"
     ]
    }
   ],
   "source": [
    "!git init\n",
    "!git remote add origin https://RWMostert:N0ne\\ of\\ that.@github.com/RWMostert/Merton-Jump-Diffusion-Calibration-Tests.git\n",
    "!git fetch --all --prune\n",
    "!git checkout master\n",
    "!git config --global user.email \"rwmmostert@gmail.com\"\n",
    "!git config --global user.name \"RWMostert\"\n",
    "!git config --global user.password \"N0ne of that.\""
   ]
  },
  {
   "cell_type": "code",
   "execution_count": null,
   "metadata": {
    "collapsed": true
   },
   "outputs": [],
   "source": []
  }
 ],
 "metadata": {
  "kernelspec": {
   "display_name": "Python 3",
   "language": "python",
   "name": "python3"
  },
  "language_info": {
   "codemirror_mode": {
    "name": "ipython",
    "version": 3
   },
   "file_extension": ".py",
   "mimetype": "text/x-python",
   "name": "python",
   "nbconvert_exporter": "python",
   "pygments_lexer": "ipython3",
   "version": "3.5.3"
  }
 },
 "nbformat": 4,
 "nbformat_minor": 2
}
